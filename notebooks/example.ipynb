{
 "cells": [
  {
   "cell_type": "code",
   "execution_count": 1,
   "metadata": {
    "tags": [
     "parameters"
    ]
   },
   "outputs": [],
   "source": [
    "project_id = 'elife-data-pipeline'\n",
    "source_dataset = 'prod'\n",
    "output_dataset = 'de_dev'\n",
    "output_table_prefix = 'data_science_'"
   ]
  },
  {
   "cell_type": "code",
   "execution_count": 2,
   "metadata": {},
   "outputs": [],
   "source": [
    "import pandas as pd\n",
    "\n",
    "from IPython.display import display, Markdown\n",
    "\n",
    "import data_science_pipeline.configure_warnings"
   ]
  },
  {
   "cell_type": "code",
   "execution_count": 3,
   "metadata": {},
   "outputs": [
    {
     "name": "stdout",
     "output_type": "stream",
     "text": [
      "source_dataset: prod\n",
      "output_dataset: de_dev\n",
      "output_table_prefix: data_science_\n"
     ]
    }
   ],
   "source": [
    "print('source_dataset:', source_dataset)\n",
    "print('output_dataset:', output_dataset)\n",
    "print('output_table_prefix:', output_table_prefix)"
   ]
  },
  {
   "cell_type": "code",
   "execution_count": 4,
   "metadata": {},
   "outputs": [],
   "source": [
    "default_query_props = dict(project=project_id, source_dataset=source_dataset)"
   ]
  },
  {
   "cell_type": "code",
   "execution_count": 5,
   "metadata": {},
   "outputs": [],
   "source": [
    "def printmd(text: str):\n",
    "    display(Markdown(text))\n",
    "\n",
    "\n",
    "def read_big_query(query, show_query=True):\n",
    "    if show_query:\n",
    "        printmd('> ```sql\\n%s\\n```' % query.strip())\n",
    "    return pd.read_gbq(\n",
    "        query,\n",
    "        project_id=project_id,\n",
    "        dialect='standard'\n",
    "    )"
   ]
  },
  {
   "cell_type": "code",
   "execution_count": 6,
   "metadata": {},
   "outputs": [
    {
     "data": {
      "text/markdown": [
       "> ```sql\n",
       "SELECT COUNT(*) AS count\n",
       "    FROM `elife-data-pipeline.prod.mv_Editorial_Person`\n",
       "```"
      ],
      "text/plain": [
       "<IPython.core.display.Markdown object>"
      ]
     },
     "metadata": {},
     "output_type": "display_data"
    },
    {
     "name": "stderr",
     "output_type": "stream",
     "text": [
      "Downloading: 100%|██████████| 1/1 [00:00<00:00,  1.09rows/s]\n"
     ]
    },
    {
     "data": {
      "text/html": [
       "<div>\n",
       "<style scoped>\n",
       "    .dataframe tbody tr th:only-of-type {\n",
       "        vertical-align: middle;\n",
       "    }\n",
       "\n",
       "    .dataframe tbody tr th {\n",
       "        vertical-align: top;\n",
       "    }\n",
       "\n",
       "    .dataframe thead th {\n",
       "        text-align: right;\n",
       "    }\n",
       "</style>\n",
       "<table border=\"1\" class=\"dataframe\">\n",
       "  <thead>\n",
       "    <tr style=\"text-align: right;\">\n",
       "      <th></th>\n",
       "      <th>count</th>\n",
       "    </tr>\n",
       "  </thead>\n",
       "  <tbody>\n",
       "    <tr>\n",
       "      <th>0</th>\n",
       "      <td>277516</td>\n",
       "    </tr>\n",
       "  </tbody>\n",
       "</table>\n",
       "</div>"
      ],
      "text/plain": [
       "    count\n",
       "0  277516"
      ]
     },
     "execution_count": 6,
     "metadata": {},
     "output_type": "execute_result"
    }
   ],
   "source": [
    "sample_df = read_big_query(\n",
    "    '''\n",
    "    SELECT COUNT(*) AS count\n",
    "    FROM `{project}.{source_dataset}.mv_Editorial_Person`\n",
    "    '''.format(\n",
    "        **default_query_props\n",
    "    )\n",
    ")\n",
    "sample_df.head()"
   ]
  },
  {
   "cell_type": "code",
   "execution_count": 7,
   "metadata": {},
   "outputs": [
    {
     "name": "stdout",
     "output_type": "stream",
     "text": [
      "writing to: de_dev.data_science_sample_table\n"
     ]
    },
    {
     "name": "stderr",
     "output_type": "stream",
     "text": [
      "1it [00:04,  4.79s/it]\n"
     ]
    }
   ],
   "source": [
    "destination_table = '{dataset}.{table_prefix}sample_table'.format(\n",
    "    dataset=output_dataset,\n",
    "    table_prefix=output_table_prefix\n",
    ")\n",
    "print('writing to: %s' % destination_table)\n",
    "sample_df.to_gbq(\n",
    "    destination_table=destination_table,\n",
    "    project_id=project_id,\n",
    "    if_exists='replace'\n",
    ")"
   ]
  }
 ],
 "metadata": {
  "kernelspec": {
   "display_name": "Python 3",
   "language": "python",
   "name": "python3"
  },
  "language_info": {
   "codemirror_mode": {
    "name": "ipython",
    "version": 3
   },
   "file_extension": ".py",
   "mimetype": "text/x-python",
   "name": "python",
   "nbconvert_exporter": "python",
   "pygments_lexer": "ipython3",
   "version": "3.7.6"
  }
 },
 "nbformat": 4,
 "nbformat_minor": 2
}
