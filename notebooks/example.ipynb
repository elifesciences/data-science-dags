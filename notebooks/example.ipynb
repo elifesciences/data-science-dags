{
 "cells": [
  {
   "cell_type": "code",
   "execution_count": null,
   "metadata": {
    "tags": [
     "parameters"
    ]
   },
   "outputs": [],
   "source": [
    "# example notebook\n",
    "# Note: the first cell is expected to have a \"parameters\" tag to allow parameter injection\n",
    "project_id = 'elife-data-pipeline'\n",
    "source_dataset = 'prod'\n",
    "output_dataset = 'de_dev'\n",
    "output_table_prefix = 'data_science_'"
   ]
  },
  {
   "cell_type": "code",
   "execution_count": null,
   "metadata": {},
   "outputs": [],
   "source": [
    "import logging\n",
    "import sys\n",
    "\n",
    "import pandas as pd\n",
    "\n",
    "from IPython.display import display, Markdown\n",
    "\n",
    "import data_science_pipeline.configure_warnings  # pylint: disable=unused-import\n",
    "import data_science_pipeline.configure_notebook_logging  # pylint: disable=unused-import\n",
    "\n",
    "from data_science_pipeline.utils.bq import to_gbq"
   ]
  },
  {
   "cell_type": "code",
   "execution_count": null,
   "metadata": {},
   "outputs": [],
   "source": [
    "print('source_dataset:', source_dataset)\n",
    "print('output_dataset:', output_dataset)\n",
    "print('output_table_prefix:', output_table_prefix)"
   ]
  },
  {
   "cell_type": "code",
   "execution_count": null,
   "metadata": {},
   "outputs": [],
   "source": [
    "def do_test_logging():\n",
    "    logging.getLogger().debug('test debug logging')\n",
    "    logging.getLogger().info('test info logging')\n",
    "    logging.getLogger().warning('test warning logging')\n",
    "    logging.getLogger().error('test error logging')\n",
    "\n",
    "print('testing logging..')\n",
    "do_test_logging()\n",
    "# print('initialising logging (if not already initialised)')\n",
    "# logging.basicConfig(level='INFO', stream=sys.stdout)\n",
    "# do_test_logging()"
   ]
  },
  {
   "cell_type": "code",
   "execution_count": null,
   "metadata": {},
   "outputs": [],
   "source": [
    "default_query_props = dict(project=project_id, source_dataset=source_dataset)"
   ]
  },
  {
   "cell_type": "code",
   "execution_count": null,
   "metadata": {},
   "outputs": [],
   "source": [
    "def printmd(text: str):\n",
    "    display(Markdown(text))\n",
    "\n",
    "\n",
    "def read_big_query(query, show_query=True):\n",
    "    if show_query:\n",
    "        printmd('> ```sql\\n%s\\n```' % query.strip())\n",
    "    return pd.read_gbq(\n",
    "        query,\n",
    "        project_id=project_id,\n",
    "        dialect='standard'\n",
    "    )"
   ]
  },
  {
   "cell_type": "code",
   "execution_count": null,
   "metadata": {},
   "outputs": [],
   "source": [
    "sample_df = read_big_query(\n",
    "    '''\n",
    "    SELECT COUNT(*) AS count\n",
    "    FROM `{project}.{source_dataset}.mv_Editorial_Person`\n",
    "    '''.format(\n",
    "        **default_query_props\n",
    "    )\n",
    ")\n",
    "sample_df.head()"
   ]
  },
  {
   "cell_type": "code",
   "execution_count": null,
   "metadata": {},
   "outputs": [],
   "source": [
    "destination_table = '{dataset}.{table_prefix}sample_table'.format(\n",
    "    dataset=output_dataset,\n",
    "    table_prefix=output_table_prefix\n",
    ")\n",
    "print('writing to: %s' % destination_table)\n",
    "to_gbq(\n",
    "    sample_df,\n",
    "    destination_table=destination_table,\n",
    "    project_id=project_id,\n",
    "    if_exists='replace'\n",
    ")"
   ]
  }
 ],
 "metadata": {
  "kernelspec": {
   "display_name": "Python 3",
   "language": "python",
   "name": "python3"
  },
  "language_info": {
   "codemirror_mode": {
    "name": "ipython",
    "version": 3
   },
   "file_extension": ".py",
   "mimetype": "text/x-python",
   "name": "python",
   "nbconvert_exporter": "python",
   "pygments_lexer": "ipython3",
   "version": "3.7.6"
  }
 },
 "nbformat": 4,
 "nbformat_minor": 2
}
