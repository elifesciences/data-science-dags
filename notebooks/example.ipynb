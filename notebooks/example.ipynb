{
 "cells": [
  {
   "cell_type": "code",
   "execution_count": null,
   "metadata": {
    "tags": [
     "parameters"
    ]
   },
   "outputs": [],
   "source": [
    "project_id = 'elife-data-pipeline'\n",
    "source_dataset = 'prod'\n",
    "output_dataset = 'de_proto'"
   ]
  },
  {
   "cell_type": "code",
   "execution_count": null,
   "metadata": {},
   "outputs": [],
   "source": [
    "import pandas as pd\n",
    "\n",
    "from IPython.display import display, Markdown\n",
    "\n",
    "import data_science_pipeline.configure_warnings"
   ]
  },
  {
   "cell_type": "code",
   "execution_count": null,
   "metadata": {},
   "outputs": [],
   "source": [
    "default_query_props = dict(project=project_id, source_dataset=source_dataset)"
   ]
  },
  {
   "cell_type": "code",
   "execution_count": null,
   "metadata": {},
   "outputs": [],
   "source": [
    "def printmd(text: str):\n",
    "    display(Markdown(text))\n",
    "\n",
    "\n",
    "def read_big_query(query, show_query=True):\n",
    "    if show_query:\n",
    "        printmd('> ```sql\\n%s\\n```' % query.strip())\n",
    "    return pd.read_gbq(\n",
    "        query,\n",
    "        project_id=project_id,\n",
    "        dialect='standard',\n",
    "        progress_bar_type='tqdm_notebook'\n",
    "    )"
   ]
  },
  {
   "cell_type": "code",
   "execution_count": null,
   "metadata": {},
   "outputs": [],
   "source": [
    "sample_df = read_big_query(\n",
    "    '''\n",
    "    SELECT COUNT(*) AS count\n",
    "    FROM `{project}.{source_dataset}.mv_Editorial_Person`\n",
    "    '''.format(\n",
    "        **default_query_props\n",
    "    )\n",
    ")\n",
    "sample_df.head()"
   ]
  },
  {
   "cell_type": "code",
   "execution_count": null,
   "metadata": {},
   "outputs": [],
   "source": [
    "destination_table = '%s.sample_table' % output_dataset\n",
    "print('writing to: %s' % destination_table)\n",
    "sample_df.to_gbq(\n",
    "    destination_table=destination_table,\n",
    "    project_id=project_id,\n",
    "    if_exists='replace',\n",
    "    progress_bar=False\n",
    ")"
   ]
  }
 ],
 "metadata": {
  "kernelspec": {
   "display_name": "Python 3",
   "language": "python",
   "name": "python3"
  },
  "language_info": {
   "codemirror_mode": {
    "name": "ipython",
    "version": 3
   },
   "file_extension": ".py",
   "mimetype": "text/x-python",
   "name": "python",
   "nbconvert_exporter": "python",
   "pygments_lexer": "ipython3",
   "version": "3.7.6"
  }
 },
 "nbformat": 4,
 "nbformat_minor": 2
}
