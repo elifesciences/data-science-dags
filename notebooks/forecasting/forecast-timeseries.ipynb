{
 "cells": [
  {
   "cell_type": "code",
   "execution_count": null,
   "metadata": {
    "tags": [
     "parameters"
    ]
   },
   "outputs": [],
   "source": [
    "project_id = 'elife-data-pipeline'\n",
    "source_dataset = 'de_dev'\n",
    "output_dataset = 'de_dev'\n",
    "output_table_prefix = 'data_science_'\n",
    "output_table_name = 'Forecast_Initial_Submission'\n",
    "sql_filename = 'initial_submission_count_by_date.sql'"
   ]
  },
  {
   "cell_type": "code",
   "execution_count": null,
   "metadata": {},
   "outputs": [],
   "source": [
    "from functools import partial\n",
    "\n",
    "import pandas as pd\n",
    "\n",
    "import data_science_pipeline.configure_warnings  # pylint: disable=unused-import, wrong-import-order\n",
    "\n",
    "from fbprophet import Prophet\n",
    "\n",
    "from IPython.display import display\n",
    "\n",
    "from data_science_pipeline.sql import get_sql\n",
    "from data_science_pipeline.utils.bq import to_gbq\n",
    "from data_science_pipeline.utils.jupyter import (\n",
    "    read_big_query as _read_big_query,\n",
    ")\n",
    "from data_science_pipeline.utils.timeseries import (\n",
    "    to_date_isoformat,\n",
    "    to_timestamp_isoformat,\n",
    "    get_month_start_date,\n",
    "    get_quarter_start_date,\n",
    "    get_year_start_date,\n",
    "    get_quarter_week_date,\n",
    "    filter_by_month,\n",
    "    filter_by_quarter,\n",
    "    filter_by_year\n",
    ")\n",
    "\n",
    "import data_science_pipeline.configure_notebook_logging  # pylint: disable=unused-import, ungrouped-imports"
   ]
  },
  {
   "cell_type": "code",
   "execution_count": null,
   "metadata": {},
   "outputs": [],
   "source": [
    "forecast_output_table_name = '{output_dataset}.{prefix}{suffix}'.format(\n",
    "    output_dataset=output_dataset,\n",
    "    prefix=output_table_prefix,\n",
    "    suffix=output_table_name\n",
    ")"
   ]
  },
  {
   "cell_type": "code",
   "execution_count": null,
   "metadata": {},
   "outputs": [],
   "source": [
    "read_big_query = partial(_read_big_query, project_id=project_id)"
   ]
  },
  {
   "cell_type": "code",
   "execution_count": null,
   "metadata": {},
   "outputs": [],
   "source": [
    "default_query_props = dict(project=project_id, dataset=source_dataset)"
   ]
  },
  {
   "cell_type": "code",
   "execution_count": null,
   "metadata": {},
   "outputs": [],
   "source": [
    "raw_timeseries_df = read_big_query(\n",
    "    get_sql(sql_filename).format(\n",
    "        **default_query_props\n",
    "    )\n",
    ")\n",
    "raw_timeseries_df.head()"
   ]
  },
  {
   "cell_type": "code",
   "execution_count": null,
   "metadata": {},
   "outputs": [],
   "source": [
    "raw_timeseries_df.dtypes"
   ]
  },
  {
   "cell_type": "code",
   "execution_count": null,
   "metadata": {},
   "outputs": [],
   "source": [
    "assert len(raw_timeseries_df.columns) == 2"
   ]
  },
  {
   "cell_type": "code",
   "execution_count": null,
   "metadata": {},
   "outputs": [],
   "source": [
    "assert pd.api.types.is_datetime64_dtype(raw_timeseries_df.dtypes[0])"
   ]
  },
  {
   "cell_type": "code",
   "execution_count": null,
   "metadata": {},
   "outputs": [],
   "source": [
    "assert pd.api.types.is_integer_dtype(raw_timeseries_df.dtypes[1])"
   ]
  },
  {
   "cell_type": "code",
   "execution_count": null,
   "metadata": {},
   "outputs": [],
   "source": [
    "timeseries_df = raw_timeseries_df.copy()\n",
    "timeseries_df.columns = ['ds', 'y']\n",
    "timeseries_df.head()"
   ]
  },
  {
   "cell_type": "code",
   "execution_count": null,
   "metadata": {},
   "outputs": [],
   "source": [
    "model = Prophet(daily_seasonality=True)\n",
    "model.fit(timeseries_df)\n",
    "None"
   ]
  },
  {
   "cell_type": "code",
   "execution_count": null,
   "metadata": {},
   "outputs": [],
   "source": [
    "forecast_df = model.predict(\n",
    "    model.make_future_dataframe(periods=365 + 31, include_history=False)\n",
    ")"
   ]
  },
  {
   "cell_type": "code",
   "execution_count": null,
   "metadata": {},
   "outputs": [],
   "source": [
    "forecast_df[['ds', 'yhat_lower', 'yhat', 'yhat_upper']].head(30)"
   ]
  },
  {
   "cell_type": "code",
   "execution_count": null,
   "metadata": {},
   "outputs": [],
   "source": [
    "prediction_start_date = forecast_df['ds'][0] + pd.offsets.DateOffset(days=0)\n",
    "print('prediction_start_date:', prediction_start_date)\n",
    "prediction_month_start_date = get_month_start_date(prediction_start_date)\n",
    "print('prediction_month_start_date:', prediction_month_start_date)\n",
    "prediction_quarter_start_date = get_quarter_start_date(prediction_start_date)\n",
    "print('prediction_quarter_start_date:', prediction_quarter_start_date)\n",
    "prediction_year_start_date = get_year_start_date(prediction_start_date)\n",
    "print('prediction_year_start_date:', prediction_year_start_date)"
   ]
  },
  {
   "cell_type": "code",
   "execution_count": null,
   "metadata": {},
   "outputs": [],
   "source": [
    "_df = filter_by_month(forecast_df, prediction_month_start_date)\n",
    "print(len(_df))\n",
    "display(_df['ds'].head())\n",
    "display(_df['ds'].tail())"
   ]
  },
  {
   "cell_type": "code",
   "execution_count": null,
   "metadata": {},
   "outputs": [],
   "source": [
    "_df = filter_by_quarter(forecast_df, prediction_quarter_start_date)\n",
    "print(len(_df))\n",
    "display(_df['ds'].head())\n",
    "display(_df['ds'].tail())"
   ]
  },
  {
   "cell_type": "code",
   "execution_count": null,
   "metadata": {},
   "outputs": [],
   "source": [
    "_df = filter_by_year(forecast_df, prediction_year_start_date)\n",
    "print(len(_df))\n",
    "display(_df['ds'].head())\n",
    "display(_df['ds'].tail())"
   ]
  },
  {
   "cell_type": "code",
   "execution_count": null,
   "metadata": {},
   "outputs": [],
   "source": [
    "_month_dates = [\n",
    "    prediction_month_start_date + pd.offsets.MonthBegin(month_offset)\n",
    "    for month_offset in range(-12, 13)\n",
    "]\n",
    "predicted_month_count_incl_history_df = pd.DataFrame([\n",
    "    {\n",
    "        'ds': month_date,\n",
    "        'y_actual': filter_by_month(timeseries_df, month_date)['y'].sum(),\n",
    "        'y_forecast': filter_by_month(forecast_df, month_date)['yhat'].sum()\n",
    "    }\n",
    "    for month_date in _month_dates\n",
    "])\n",
    "predicted_month_count_incl_history_df['y'] = (\n",
    "    predicted_month_count_incl_history_df['y_actual']\n",
    "    + predicted_month_count_incl_history_df['y_forecast']\n",
    ")\n",
    "predicted_month_count_incl_history_df.head(25)"
   ]
  },
  {
   "cell_type": "code",
   "execution_count": null,
   "metadata": {},
   "outputs": [],
   "source": [
    "def add_initial(ser, initial_value):\n",
    "    _values = ser.values.copy()\n",
    "    _values[0] += initial_value\n",
    "    return _values\n",
    "\n",
    "\n",
    "forecast_result_df = (\n",
    "    forecast_df[['ds', 'yhat_lower', 'yhat', 'yhat_upper']]\n",
    "    .rename(columns={\n",
    "        'ds': 'Forecast_Date',\n",
    "        'yhat': 'Forecast_Value',\n",
    "        'yhat_lower': 'Forecast_Lower_Bound_Value',\n",
    "        'yhat_upper': 'Forecast_Upper_Bound_Value'\n",
    "    })\n",
    "    .copy()\n",
    ")\n",
    "\n",
    "for c in ['Forecast_Value', 'Forecast_Lower_Bound_Value', 'Forecast_Upper_Bound_Value']:\n",
    "    forecast_result_df[c] = forecast_result_df[c].round().astype(int)\n",
    "\n",
    "forecast_result_df['Forecast_Month_Offset_Value'] = add_initial(\n",
    "    forecast_result_df['Forecast_Value'],\n",
    "    filter_by_month(timeseries_df, prediction_month_start_date)['y'].sum()\n",
    ")\n",
    "forecast_result_df['Forecast_Month_Offset_Value'] = add_initial(\n",
    "    forecast_result_df['Forecast_Value'],\n",
    "    filter_by_quarter(timeseries_df, prediction_month_start_date)['y'].sum()\n",
    ")\n",
    "forecast_result_df['Forecast_Quarter_Offset_Value'] = add_initial(\n",
    "    forecast_result_df['Forecast_Value'],\n",
    "    filter_by_quarter(timeseries_df, prediction_quarter_start_date)['y'].sum()\n",
    ")\n",
    "forecast_result_df['Forecast_Year_Offset_Value'] = add_initial(\n",
    "    forecast_result_df['Forecast_Value'],\n",
    "    filter_by_year(timeseries_df, prediction_year_start_date)['y'].sum()\n",
    ")\n",
    "forecast_result_df['Forecast_Date'] = forecast_result_df['Forecast_Date'].apply(to_date_isoformat)\n",
    "forecast_result_df['Date'] = forecast_result_df['Forecast_Date']\n",
    "forecast_result_df['Model'] = 'fbprophet'\n",
    "print(len(forecast_result_df))\n",
    "forecast_result_df.head()"
   ]
  },
  {
   "cell_type": "code",
   "execution_count": null,
   "metadata": {},
   "outputs": [],
   "source": [
    "actual_result_df = timeseries_df.rename(columns={'ds': 'Date', 'y': 'Actual_Value'}).copy()\n",
    "actual_result_df['Date'] = actual_result_df['Date'].apply(to_date_isoformat)\n",
    "\n",
    "forecast_result_with_actual_df = forecast_result_df.merge(\n",
    "    actual_result_df,\n",
    "    on='Date',\n",
    "    how='outer'\n",
    ").sort_values('Date')\n",
    "\n",
    "forecast_result_with_actual_df['Actual_Or_Forecast_Value'] = (\n",
    "    forecast_result_with_actual_df['Actual_Value'].combine_first(\n",
    "        forecast_result_with_actual_df['Forecast_Value']\n",
    "    )\n",
    ")\n",
    "\n",
    "forecast_result_with_actual_df['Date_Timestamp'] = (\n",
    "    pd.to_datetime(forecast_result_with_actual_df['Date'])\n",
    "    .apply(to_timestamp_isoformat)\n",
    ")\n",
    "forecast_result_with_actual_df['Month_Start_Date'] = (\n",
    "    pd.to_datetime(forecast_result_with_actual_df['Date']).apply(get_month_start_date)\n",
    "    .apply(to_date_isoformat)\n",
    ")\n",
    "forecast_result_with_actual_df['Quarter_Start_Date'] = (\n",
    "    pd.to_datetime(forecast_result_with_actual_df['Date']).apply(get_quarter_start_date)\n",
    "    .apply(to_date_isoformat)\n",
    ")\n",
    "forecast_result_with_actual_df['Year_Start_Date'] = (\n",
    "    pd.to_datetime(forecast_result_with_actual_df['Date']).apply(get_year_start_date)\n",
    "    .apply(to_date_isoformat)\n",
    ")\n",
    "forecast_result_with_actual_df['Quarter_Week_Date'] = (\n",
    "    pd.to_datetime(forecast_result_with_actual_df['Date']).apply(get_quarter_week_date)\n",
    "    .apply(to_date_isoformat)\n",
    ")\n",
    "forecast_result_with_actual_df['Is_Current_Quarter'] = (\n",
    "    pd.to_datetime(forecast_result_with_actual_df['Date']).apply(get_quarter_start_date)\n",
    "    == prediction_quarter_start_date\n",
    ")\n",
    "print(len(forecast_result_with_actual_df))\n",
    "forecast_result_with_actual_df.sort_values('Date').head()"
   ]
  },
  {
   "cell_type": "code",
   "execution_count": null,
   "metadata": {},
   "outputs": [],
   "source": [
    "forecast_result_with_actual_df['Actual_Month_Cumsum_Value'] = (\n",
    "    forecast_result_with_actual_df.groupby('Month_Start_Date')['Actual_Value'].cumsum()\n",
    ")\n",
    "forecast_result_with_actual_df['Actual_Quarter_Cumsum_Value'] = (\n",
    "    forecast_result_with_actual_df.groupby('Quarter_Start_Date')['Actual_Value'].cumsum()\n",
    ")\n",
    "forecast_result_with_actual_df['Actual_Year_Cumsum_Value'] = (\n",
    "    forecast_result_with_actual_df.groupby('Year_Start_Date')['Actual_Value'].cumsum()\n",
    ")\n",
    "forecast_result_with_actual_df.head()"
   ]
  },
  {
   "cell_type": "code",
   "execution_count": null,
   "metadata": {},
   "outputs": [],
   "source": [
    "print('writing to:', forecast_output_table_name)\n",
    "to_gbq(\n",
    "    forecast_result_with_actual_df,\n",
    "    forecast_output_table_name,\n",
    "    project_id=project_id,\n",
    "    if_exists='replace'\n",
    ")\n",
    "print('done')"
   ]
  }
 ],
 "metadata": {
  "kernelspec": {
   "display_name": "Python 3",
   "language": "python",
   "name": "python3"
  },
  "language_info": {
   "codemirror_mode": {
    "name": "ipython",
    "version": 3
   },
   "file_extension": ".py",
   "mimetype": "text/x-python",
   "name": "python",
   "nbconvert_exporter": "python",
   "pygments_lexer": "ipython3",
   "version": "3.7.6"
  }
 },
 "nbformat": 4,
 "nbformat_minor": 4
}
