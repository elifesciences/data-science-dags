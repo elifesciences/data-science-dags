{
 "cells": [
  {
   "cell_type": "code",
   "execution_count": null,
   "metadata": {
    "tags": [
     "parameters"
    ]
   },
   "outputs": [],
   "source": [
    "project_id = 'elife-data-pipeline'\n",
    "source_dataset = 'de_dev'\n",
    "output_dataset = 'de_dev'\n",
    "output_table_prefix = 'data_science_'\n",
    "manuscript_min_tf = 10\n",
    "manuscript_max_tf = 0.9\n",
    "state_path = 's3://ci-elife-data-pipeline/airflow-config/data-science/state-dev'"
   ]
  },
  {
   "cell_type": "code",
   "execution_count": null,
   "metadata": {},
   "outputs": [],
   "source": [
    "from functools import partial\n",
    "\n",
    "import re\n",
    "import os\n",
    "\n",
    "import pandas as pd\n",
    "\n",
    "from sklearn.feature_extraction.text import TfidfVectorizer\n",
    "from sklearn.metrics.pairwise import cosine_similarity\n",
    "\n",
    "import data_science_pipeline.configure_warnings  # pylint: disable=unused-import\n",
    "import data_science_pipeline.configure_notebook_logging  # pylint: disable=unused-import\n",
    "\n",
    "from data_science_pipeline.sql import get_sql\n",
    "from data_science_pipeline.utils.io import serialize_object_to\n",
    "from data_science_pipeline.utils.misc import identity_fn\n",
    "from data_science_pipeline.utils.jupyter import (\n",
    "    read_big_query as _read_big_query,\n",
    ")"
   ]
  },
  {
   "cell_type": "code",
   "execution_count": null,
   "metadata": {},
   "outputs": [],
   "source": [
    "model_output_path = os.path.join(state_path, 'reviewing_editor_model.joblib')"
   ]
  },
  {
   "cell_type": "code",
   "execution_count": null,
   "metadata": {},
   "outputs": [],
   "source": [
    "read_big_query = partial(_read_big_query, project_id=project_id)"
   ]
  },
  {
   "cell_type": "code",
   "execution_count": null,
   "metadata": {},
   "outputs": [],
   "source": [
    "default_query_props = dict(project=project_id, dataset=source_dataset)"
   ]
  },
  {
   "cell_type": "code",
   "execution_count": null,
   "metadata": {},
   "outputs": [],
   "source": [
    "manuscript_editor_assignment_df = read_big_query(\n",
    "    get_sql('reviewing-editor-assignments.sql').format(\n",
    "        **default_query_props\n",
    "    )\n",
    ")\n",
    "manuscript_editor_assignment_df.head()"
   ]
  },
  {
   "cell_type": "code",
   "execution_count": null,
   "metadata": {},
   "outputs": [],
   "source": [
    "manuscript_version_extracted_keywords_df = read_big_query(\n",
    "    get_sql('manuscript-version-extracted-keywords.sql').format(\n",
    "        **default_query_props\n",
    "    )\n",
    ")\n",
    "print(len(manuscript_version_extracted_keywords_df))\n",
    "manuscript_version_extracted_keywords_df.head()"
   ]
  },
  {
   "cell_type": "code",
   "execution_count": null,
   "metadata": {},
   "outputs": [],
   "source": [
    "publications_extracted_keywords_df = read_big_query(\n",
    "    get_sql('publications_extracted_keywords.sql').format(\n",
    "        **default_query_props\n",
    "    )\n",
    ").rename(columns={'abstract_keywords': 'extracted_keywords'})\n",
    "print(len(publications_extracted_keywords_df))\n",
    "publications_extracted_keywords_df.head()"
   ]
  },
  {
   "cell_type": "code",
   "execution_count": null,
   "metadata": {},
   "outputs": [],
   "source": [
    "editor_publication_ids_df = read_big_query(\n",
    "    get_sql('editor_publication_ids.sql').format(\n",
    "        **default_query_props\n",
    "    )\n",
    ")\n",
    "print(len(editor_publication_ids_df))\n",
    "editor_publication_ids_df.head()"
   ]
  },
  {
   "cell_type": "code",
   "execution_count": null,
   "metadata": {},
   "outputs": [],
   "source": [
    "reviewing_editors_df = read_big_query(\n",
    "    get_sql('reviewing-editors.sql').format(\n",
    "        **default_query_props\n",
    "    )\n",
    ")\n",
    "print(len(reviewing_editors_df))\n",
    "reviewing_editors_df.head()"
   ]
  },
  {
   "cell_type": "code",
   "execution_count": null,
   "metadata": {},
   "outputs": [],
   "source": [
    "keyword_exclusion_df = read_big_query(\n",
    "    get_sql('keyword-exclusion.sql').format(\n",
    "        **default_query_props\n",
    "    )\n",
    ")\n",
    "print(len(keyword_exclusion_df))\n",
    "keyword_exclusion_df.head()"
   ]
  },
  {
   "cell_type": "code",
   "execution_count": null,
   "metadata": {},
   "outputs": [],
   "source": [
    "reviewing_editor_names = set(reviewing_editors_df['name'])\n",
    "len(reviewing_editor_names)"
   ]
  },
  {
   "cell_type": "code",
   "execution_count": null,
   "metadata": {},
   "outputs": [],
   "source": [
    "sorted(reviewing_editor_names)"
   ]
  },
  {
   "cell_type": "code",
   "execution_count": null,
   "metadata": {},
   "outputs": [],
   "source": [
    "manuscript_editor_assignment_with_extracted_keywords_df = (\n",
    "    manuscript_editor_assignment_df\n",
    "    .merge(\n",
    "        manuscript_version_extracted_keywords_df,\n",
    "        on='version_id',\n",
    "        suffixes=('', '_extracted')\n",
    "    )\n",
    ")\n",
    "print(manuscript_editor_assignment_with_extracted_keywords_df.columns)\n",
    "manuscript_editor_assignment_with_extracted_keywords_df.head()"
   ]
  },
  {
   "cell_type": "code",
   "execution_count": null,
   "metadata": {},
   "outputs": [],
   "source": [
    "full_submission_reviewing_editor_assignment_df = manuscript_editor_assignment_with_extracted_keywords_df[\n",
    "    (manuscript_editor_assignment_with_extracted_keywords_df['overall_stage'] == 'Full Submission')\n",
    "    & (manuscript_editor_assignment_with_extracted_keywords_df['position_in_overall_stage'] == 1)\n",
    "    & (manuscript_editor_assignment_with_extracted_keywords_df['relationship_type'] == 'Reviewing Editor')\n",
    "    & (\n",
    "        manuscript_editor_assignment_with_extracted_keywords_df['name']\n",
    "        .fillna('').isin(reviewing_editor_names)\n",
    "    )\n",
    "]\n",
    "print(len(full_submission_reviewing_editor_assignment_df))\n",
    "full_submission_reviewing_editor_assignment_df.head()"
   ]
  },
  {
   "cell_type": "code",
   "execution_count": null,
   "metadata": {},
   "outputs": [],
   "source": [
    "print('unique manuscript ids:', full_submission_reviewing_editor_assignment_df['manuscript_id'].nunique())\n",
    "print('duplicate manuscript ids (if any):')\n",
    "full_submission_reviewing_editor_assignment_df[\n",
    "    full_submission_reviewing_editor_assignment_df['manuscript_id'].isin(\n",
    "        full_submission_reviewing_editor_assignment_df\n",
    "        .groupby('manuscript_id')\n",
    "        .size()\n",
    "        .pipe(lambda s: s[s > 1])\n",
    "        .index\n",
    "    )\n",
    "]"
   ]
  },
  {
   "cell_type": "code",
   "execution_count": null,
   "metadata": {},
   "outputs": [],
   "source": [
    "editor_publications_with_extracted_keywords_df = (\n",
    "    reviewing_editors_df[['person_id', 'name']]\n",
    "    .merge(\n",
    "        editor_publication_ids_df\n",
    "        [['person_id', 'publication_id', 'is_relevant_pubmed_id', 'is_search_pubmed_id']],\n",
    "        on='person_id'\n",
    "    )\n",
    "    .merge(\n",
    "        publications_extracted_keywords_df,\n",
    "        on='publication_id',\n",
    "        suffixes=('', '_extracted')\n",
    "    )\n",
    ").sort_values(['publication_id', 'person_id']).copy()\n",
    "print(len(editor_publications_with_extracted_keywords_df))\n",
    "editor_publications_with_extracted_keywords_df.head(3)"
   ]
  },
  {
   "cell_type": "code",
   "execution_count": null,
   "metadata": {},
   "outputs": [],
   "source": [
    "full_submission_reviewing_editor_assignment_full_df = pd.concat([\n",
    "    full_submission_reviewing_editor_assignment_df,\n",
    "    editor_publications_with_extracted_keywords_df[\n",
    "        editor_publications_with_extracted_keywords_df['name'].isin(\n",
    "            full_submission_reviewing_editor_assignment_df['name']\n",
    "        )\n",
    "    ]\n",
    "])\n",
    "print(len(full_submission_reviewing_editor_assignment_full_df))\n",
    "full_submission_reviewing_editor_assignment_full_df.head(3)"
   ]
  },
  {
   "cell_type": "code",
   "execution_count": null,
   "metadata": {},
   "outputs": [],
   "source": [
    "tf_idf_vectorizer = TfidfVectorizer(\n",
    "    tokenizer=identity_fn,\n",
    "    token_pattern=None,\n",
    "    lowercase=False,\n",
    "    min_df=manuscript_min_tf,\n",
    "    max_df=manuscript_max_tf\n",
    ")\n",
    "print(tf_idf_vectorizer)\n",
    "tf_idf_vectorizer.fit(\n",
    "    full_submission_reviewing_editor_assignment_full_df['extracted_keywords']\n",
    ")\n",
    "all_keywords_set = set(tf_idf_vectorizer.get_feature_names())\n",
    "len(all_keywords_set)"
   ]
  },
  {
   "cell_type": "code",
   "execution_count": null,
   "metadata": {},
   "outputs": [],
   "source": [
    "print(sorted(all_keywords_set)[:10])"
   ]
  },
  {
   "cell_type": "code",
   "execution_count": null,
   "metadata": {},
   "outputs": [],
   "source": [
    "all_keywords_set = {\n",
    "    keyword\n",
    "    for keyword in all_keywords_set\n",
    "    if re.match(r'^[a-zA-Z]', keyword)\n",
    "    and not keyword.startswith('a ')\n",
    "}\n",
    "print('all_keywords_set len (after filter):', len(all_keywords_set))\n",
    "print(sorted(all_keywords_set)[:10])"
   ]
  },
  {
   "cell_type": "code",
   "execution_count": null,
   "metadata": {},
   "outputs": [],
   "source": [
    "all_keywords_set = all_keywords_set - set(keyword_exclusion_df['excluded_keyword'])\n",
    "print('all_keywords_set len (after exclusion):', len(all_keywords_set))"
   ]
  },
  {
   "cell_type": "code",
   "execution_count": null,
   "metadata": {},
   "outputs": [],
   "source": [
    "editor_extracted_keywords_df = (\n",
    "    full_submission_reviewing_editor_assignment_full_df\n",
    "    [['name', 'extracted_keywords']]\n",
    "    .groupby('name')\n",
    "    .agg(\n",
    "        lambda keywords_list: [\n",
    "            keyword\n",
    "            for keywords in keywords_list\n",
    "            for keyword in keywords\n",
    "            if keyword in all_keywords_set\n",
    "        ]\n",
    "    )\n",
    "    .reset_index()\n",
    "    .sort_values('name')\n",
    ")\n",
    "editor_extracted_keywords_df.head()"
   ]
  },
  {
   "cell_type": "code",
   "execution_count": null,
   "metadata": {},
   "outputs": [],
   "source": [
    "editor_person_id_df = (\n",
    "    full_submission_reviewing_editor_assignment_df\n",
    "    [['name', 'person_id']]\n",
    "    .dropna()\n",
    "    .groupby('name')\n",
    "    .last()\n",
    "    .loc[editor_extracted_keywords_df['name']]\n",
    "    .reset_index()\n",
    ")\n",
    "editor_person_id_df.head()"
   ]
  },
  {
   "cell_type": "code",
   "execution_count": null,
   "metadata": {},
   "outputs": [],
   "source": [
    "editor_tf_idf_vectorizer = TfidfVectorizer(\n",
    "    tokenizer=identity_fn,\n",
    "    token_pattern=None,\n",
    "    lowercase=False,\n",
    "    norm='l2',\n",
    "    smooth_idf=False,\n",
    "    sublinear_tf=False,\n",
    "    min_df=1,\n",
    "    max_df=1.0\n",
    ")\n",
    "print(editor_tf_idf_vectorizer)\n",
    "editor_tf_idf = editor_tf_idf_vectorizer.fit_transform(\n",
    "    editor_extracted_keywords_df['extracted_keywords']\n",
    ")\n",
    "editor_tf_idf"
   ]
  },
  {
   "cell_type": "code",
   "execution_count": null,
   "metadata": {},
   "outputs": [],
   "source": [
    "cosine_similarity(\n",
    "    editor_tf_idf_vectorizer.transform(\n",
    "        editor_extracted_keywords_df\n",
    "        ['extracted_keywords'][:1]\n",
    "    ),\n",
    "    editor_tf_idf\n",
    ")"
   ]
  },
  {
   "cell_type": "code",
   "execution_count": null,
   "metadata": {},
   "outputs": [],
   "source": [
    "print('saving to:', model_output_path)\n",
    "serialize_object_to({\n",
    "    'editor_tf_idf_vectorizer': editor_tf_idf_vectorizer,\n",
    "    'editor_tf_idf': editor_tf_idf,\n",
    "    'editor_names': editor_extracted_keywords_df['name'],\n",
    "    'editor_person_ids': editor_person_id_df['person_id']\n",
    "}, model_output_path)\n",
    "print('done')"
   ]
  }
 ],
 "metadata": {
  "kernelspec": {
   "display_name": "venv",
   "language": "python",
   "name": "python3"
  },
  "language_info": {
   "codemirror_mode": {
    "name": "ipython",
    "version": 3
   },
   "file_extension": ".py",
   "mimetype": "text/x-python",
   "name": "python",
   "nbconvert_exporter": "python",
   "pygments_lexer": "ipython3",
   "version": "3.8.7"
  }
 },
 "nbformat": 4,
 "nbformat_minor": 4
}
