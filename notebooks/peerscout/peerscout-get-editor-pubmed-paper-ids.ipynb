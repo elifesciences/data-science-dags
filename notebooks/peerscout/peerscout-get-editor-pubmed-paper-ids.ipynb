{
 "cells": [
  {
   "cell_type": "code",
   "execution_count": 116,
   "source": [
    "project_id = 'elife-data-pipeline'\n",
    "source_dataset = 'de_dev'\n",
    "output_dataset = 'de_dev'\n",
    "output_table_prefix = 'data_science_'\n",
    "\n",
    "max_workers = 10\n",
    "max_editors = 100\n",
    "email = 'd.ecer@elifesciences.org'"
   ],
   "outputs": [],
   "metadata": {
    "tags": [
     "parameters"
    ]
   }
  },
  {
   "cell_type": "code",
   "execution_count": 117,
   "source": [
    "import logging\n",
    "from datetime import datetime\n",
    "from functools import partial\n",
    "from concurrent.futures import ThreadPoolExecutor\n",
    "from typing import List\n",
    "\n",
    "import pandas as pd\n",
    "from tqdm.auto import tqdm\n",
    "\n",
    "import data_science_pipeline.configure_warnings  # pylint: disable=unused-import\n",
    "import data_science_pipeline.configure_notebook_logging  # pylint: disable=unused-import\n",
    "\n",
    "from data_science_pipeline.utils.europepmc import (\n",
    "    EuropePMCApi,\n",
    "    europepmc_requests_retry_session\n",
    ")\n",
    "from data_science_pipeline.utils.bq import to_gbq, is_bq_not_found_exception\n",
    "from data_science_pipeline.utils.jupyter import (\n",
    "    read_big_query as _read_big_query,\n",
    ")"
   ],
   "outputs": [],
   "metadata": {}
  },
  {
   "cell_type": "code",
   "execution_count": 118,
   "source": [
    "LOGGER = logging.getLogger(__name__)\n",
    "\n",
    "logging.basicConfig(level='INFO')\n",
    "logging.getLogger('data_science_pipeline').setLevel(logging.INFO)"
   ],
   "outputs": [],
   "metadata": {}
  },
  {
   "cell_type": "code",
   "execution_count": 119,
   "source": [
    "editor_parsed_pubmed_links_table_name = '{output_dataset}.{prefix}{suffix}'.format(\n",
    "    output_dataset=output_dataset,\n",
    "    prefix=output_table_prefix,\n",
    "    suffix='editor_pubmed_links'\n",
    ")\n",
    "\n",
    "editor_parsed_pubmed_ids_table_name = '{output_dataset}.{prefix}{suffix}'.format(\n",
    "    output_dataset=output_dataset,\n",
    "    prefix=output_table_prefix,\n",
    "    suffix='editor_pubmed_ids'\n",
    ")"
   ],
   "outputs": [],
   "metadata": {}
  },
  {
   "cell_type": "code",
   "execution_count": 120,
   "source": [
    "read_big_query = partial(_read_big_query, project_id=project_id)"
   ],
   "outputs": [],
   "metadata": {}
  },
  {
   "cell_type": "code",
   "execution_count": 121,
   "source": [
    "default_query_props = dict(project=project_id, dataset=source_dataset)"
   ],
   "outputs": [],
   "metadata": {}
  },
  {
   "cell_type": "code",
   "execution_count": 134,
   "source": [
    "_sql = (\n",
    "    '''\n",
    "    SELECT \n",
    "        person_id,\n",
    "        pubmed_url,\n",
    "        provenance.imported_timestamp as imported_timestamp\n",
    "    FROM `{table}`\n",
    "    ''').format(table=editor_parsed_pubmed_ids_table_name)\n",
    "\n",
    "try:\n",
    "    existing_editor_ids_and_pubmed_url_df = read_big_query(_sql)\n",
    "except Exception as e:  # pylint: disable=broad-except\n",
    "    if not is_bq_not_found_exception(e):\n",
    "        raise\n",
    "    print('table not found: %s' % editor_parsed_pubmed_ids_table_name)\n",
    "    existing_editor_ids_and_pubmed_url_df = pd.DataFrame(columns=['person_id','pubmed_url', 'imported_timestamp'])\n",
    "print(len(existing_editor_ids_and_pubmed_url_df))\n",
    "existing_editor_ids_and_pubmed_url_df.head(3)"
   ],
   "outputs": [
    {
     "output_type": "display_data",
     "data": {
      "text/plain": [
       "<IPython.core.display.Markdown object>"
      ],
      "text/markdown": [
       "> ```sql\n",
       "> \n",
       ">     SELECT \n",
       ">         person_id,\n",
       ">         pubmed_url,\n",
       ">         provenance.imported_timestamp as imported_timestamp\n",
       ">     FROM `de_dev.data_science_editor_pubmed_ids`\n",
       ">     where name in (\"Eduardo Franco\", \"Andrew King\", \"Lu Chen\")\n",
       ">     \n",
       "> ```"
      ]
     },
     "metadata": {}
    },
    {
     "output_type": "stream",
     "name": "stdout",
     "text": [
      "6\n"
     ]
    },
    {
     "output_type": "stream",
     "name": "stderr",
     "text": [
      "/Users/hazal/elife_repo/data-science-dags/venv/lib/python3.7/site-packages/google/cloud/bigquery/table.py:1952: FutureWarning: Using .astype to convert from timezone-aware dtype to timezone-naive dtype is deprecated and will raise in a future version.  Use obj.tz_localize(None) or obj.tz_convert('UTC').tz_localize(None) instead\n",
      "  df[column] = pandas.Series(df[column], dtype=dtypes[column])\n"
     ]
    },
    {
     "output_type": "execute_result",
     "data": {
      "text/plain": [
       "  person_id                                         pubmed_url  \\\n",
       "0     14601  http://www.ncbi.nlm.nih.gov/pubmed?term=King%2...   \n",
       "1      1086         https://tinyurl.com/PubMedEduardoFrancoooo   \n",
       "2     90633  https://www.ncbi.nlm.nih.gov/pubmed/?term=Chen...   \n",
       "\n",
       "                imported_timestamp  \n",
       "0 2021-08-20 15:25:00.233909+00:00  \n",
       "1 2021-08-20 15:25:00.233909+00:00  \n",
       "2 2021-09-14 13:58:03.799614+00:00  "
      ],
      "text/html": [
       "<div>\n",
       "<style scoped>\n",
       "    .dataframe tbody tr th:only-of-type {\n",
       "        vertical-align: middle;\n",
       "    }\n",
       "\n",
       "    .dataframe tbody tr th {\n",
       "        vertical-align: top;\n",
       "    }\n",
       "\n",
       "    .dataframe thead th {\n",
       "        text-align: right;\n",
       "    }\n",
       "</style>\n",
       "<table border=\"1\" class=\"dataframe\">\n",
       "  <thead>\n",
       "    <tr style=\"text-align: right;\">\n",
       "      <th></th>\n",
       "      <th>person_id</th>\n",
       "      <th>pubmed_url</th>\n",
       "      <th>imported_timestamp</th>\n",
       "    </tr>\n",
       "  </thead>\n",
       "  <tbody>\n",
       "    <tr>\n",
       "      <th>0</th>\n",
       "      <td>14601</td>\n",
       "      <td>http://www.ncbi.nlm.nih.gov/pubmed?term=King%2...</td>\n",
       "      <td>2021-08-20 15:25:00.233909+00:00</td>\n",
       "    </tr>\n",
       "    <tr>\n",
       "      <th>1</th>\n",
       "      <td>1086</td>\n",
       "      <td>https://tinyurl.com/PubMedEduardoFrancoooo</td>\n",
       "      <td>2021-08-20 15:25:00.233909+00:00</td>\n",
       "    </tr>\n",
       "    <tr>\n",
       "      <th>2</th>\n",
       "      <td>90633</td>\n",
       "      <td>https://www.ncbi.nlm.nih.gov/pubmed/?term=Chen...</td>\n",
       "      <td>2021-09-14 13:58:03.799614+00:00</td>\n",
       "    </tr>\n",
       "  </tbody>\n",
       "</table>\n",
       "</div>"
      ]
     },
     "metadata": {},
     "execution_count": 134
    }
   ],
   "metadata": {}
  },
  {
   "cell_type": "code",
   "execution_count": 123,
   "source": [
    "existing_editor_ids_set = set(existing_editor_ids_and_pubmed_url_df['person_id'])\n",
    "len(existing_editor_ids_set)"
   ],
   "outputs": [
    {
     "output_type": "execute_result",
     "data": {
      "text/plain": [
       "773"
      ]
     },
     "metadata": {},
     "execution_count": 123
    }
   ],
   "metadata": {}
  },
  {
   "cell_type": "code",
   "execution_count": 124,
   "source": [
    "existing_editor_pubmed_url_set = set(existing_editor_ids_and_pubmed_url_df['pubmed_url'])\n",
    "len(existing_editor_pubmed_url_set)"
   ],
   "outputs": [
    {
     "output_type": "execute_result",
     "data": {
      "text/plain": [
       "781"
      ]
     },
     "metadata": {},
     "execution_count": 124
    }
   ],
   "metadata": {}
  },
  {
   "cell_type": "code",
   "execution_count": 125,
   "source": [
    "editor_parsed_pubmed_links_df = read_big_query(\n",
    "    'SELECT * FROM `{table_name}`\\nWHERE parsed_search_term IS NOT NULL'.format(\n",
    "        table_name=editor_parsed_pubmed_links_table_name\n",
    "    )\n",
    ")\n",
    "print(len(editor_parsed_pubmed_links_df))\n",
    "editor_parsed_pubmed_links_df.head(3)"
   ],
   "outputs": [
    {
     "output_type": "display_data",
     "data": {
      "text/plain": [
       "<IPython.core.display.Markdown object>"
      ],
      "text/markdown": [
       "> ```sql\n",
       "> SELECT * FROM `de_dev.data_science_editor_pubmed_links`\n",
       "> WHERE parsed_search_term IS NOT NULL\n",
       "> ```"
      ]
     },
     "metadata": {}
    },
    {
     "output_type": "stream",
     "name": "stdout",
     "text": [
      "763\n"
     ]
    },
    {
     "output_type": "execute_result",
     "data": {
      "text/plain": [
       "   is_ncbi_bibliography_url            name  \\\n",
       "0                     False   Barnabas Daru   \n",
       "1                     False  Yuuki Watanabe   \n",
       "2                     False     Safi Darden   \n",
       "\n",
       "                                  parsed_search_term person_id  \\\n",
       "0  {'exclude': None, 'include': {'author': ['Daru...    187442   \n",
       "1  {'exclude': None, 'include': {'author': ['Wata...    126873   \n",
       "2  {'exclude': None, 'include': {'author': ['Dard...     43038   \n",
       "\n",
       "                                          pubmed_url  \\\n",
       "0  https://pubmed.ncbi.nlm.nih.gov/?term=Daru+BH&...   \n",
       "1  https://www.ncbi.nlm.nih.gov/pubmed/?term=Wata...   \n",
       "2  https://pubmed.ncbi.nlm.nih.gov/?size=200&term...   \n",
       "\n",
       "                        relevant_pubmed_ids  \\\n",
       "0  [32355257, 29083043, 30455213, 28919204]   \n",
       "1            [25902489, 23341596, 20946384]   \n",
       "2  [32900316, 32531279, 31748621, 30800389]   \n",
       "\n",
       "                                relevant_pubmed_urls  \\\n",
       "0  [https://www.ncbi.nlm.nih.gov/pubmed/32355257,...   \n",
       "1  [https://www.ncbi.nlm.nih.gov/pubmed/25902489,...   \n",
       "2  [https://www.ncbi.nlm.nih.gov/pubmed/32900316,...   \n",
       "\n",
       "                                 resolved_pubmed_url          search_term  \n",
       "0  https://pubmed.ncbi.nlm.nih.gov/?term=Daru+BH&...              Daru BH  \n",
       "1  https://www.ncbi.nlm.nih.gov/pubmed/?term=Wata...  Watanabe YY[Author]  \n",
       "2  https://pubmed.ncbi.nlm.nih.gov/?size=200&term...            Darden SK  "
      ],
      "text/html": [
       "<div>\n",
       "<style scoped>\n",
       "    .dataframe tbody tr th:only-of-type {\n",
       "        vertical-align: middle;\n",
       "    }\n",
       "\n",
       "    .dataframe tbody tr th {\n",
       "        vertical-align: top;\n",
       "    }\n",
       "\n",
       "    .dataframe thead th {\n",
       "        text-align: right;\n",
       "    }\n",
       "</style>\n",
       "<table border=\"1\" class=\"dataframe\">\n",
       "  <thead>\n",
       "    <tr style=\"text-align: right;\">\n",
       "      <th></th>\n",
       "      <th>is_ncbi_bibliography_url</th>\n",
       "      <th>name</th>\n",
       "      <th>parsed_search_term</th>\n",
       "      <th>person_id</th>\n",
       "      <th>pubmed_url</th>\n",
       "      <th>relevant_pubmed_ids</th>\n",
       "      <th>relevant_pubmed_urls</th>\n",
       "      <th>resolved_pubmed_url</th>\n",
       "      <th>search_term</th>\n",
       "    </tr>\n",
       "  </thead>\n",
       "  <tbody>\n",
       "    <tr>\n",
       "      <th>0</th>\n",
       "      <td>False</td>\n",
       "      <td>Barnabas Daru</td>\n",
       "      <td>{'exclude': None, 'include': {'author': ['Daru...</td>\n",
       "      <td>187442</td>\n",
       "      <td>https://pubmed.ncbi.nlm.nih.gov/?term=Daru+BH&amp;...</td>\n",
       "      <td>[32355257, 29083043, 30455213, 28919204]</td>\n",
       "      <td>[https://www.ncbi.nlm.nih.gov/pubmed/32355257,...</td>\n",
       "      <td>https://pubmed.ncbi.nlm.nih.gov/?term=Daru+BH&amp;...</td>\n",
       "      <td>Daru BH</td>\n",
       "    </tr>\n",
       "    <tr>\n",
       "      <th>1</th>\n",
       "      <td>False</td>\n",
       "      <td>Yuuki Watanabe</td>\n",
       "      <td>{'exclude': None, 'include': {'author': ['Wata...</td>\n",
       "      <td>126873</td>\n",
       "      <td>https://www.ncbi.nlm.nih.gov/pubmed/?term=Wata...</td>\n",
       "      <td>[25902489, 23341596, 20946384]</td>\n",
       "      <td>[https://www.ncbi.nlm.nih.gov/pubmed/25902489,...</td>\n",
       "      <td>https://www.ncbi.nlm.nih.gov/pubmed/?term=Wata...</td>\n",
       "      <td>Watanabe YY[Author]</td>\n",
       "    </tr>\n",
       "    <tr>\n",
       "      <th>2</th>\n",
       "      <td>False</td>\n",
       "      <td>Safi Darden</td>\n",
       "      <td>{'exclude': None, 'include': {'author': ['Dard...</td>\n",
       "      <td>43038</td>\n",
       "      <td>https://pubmed.ncbi.nlm.nih.gov/?size=200&amp;term...</td>\n",
       "      <td>[32900316, 32531279, 31748621, 30800389]</td>\n",
       "      <td>[https://www.ncbi.nlm.nih.gov/pubmed/32900316,...</td>\n",
       "      <td>https://pubmed.ncbi.nlm.nih.gov/?size=200&amp;term...</td>\n",
       "      <td>Darden SK</td>\n",
       "    </tr>\n",
       "  </tbody>\n",
       "</table>\n",
       "</div>"
      ]
     },
     "metadata": {},
     "execution_count": 125
    }
   ],
   "metadata": {}
  },
  {
   "cell_type": "code",
   "execution_count": 126,
   "source": [
    "remaining_editor_parsed_pubmed_links_df = editor_parsed_pubmed_links_df[\n",
    "    ~editor_parsed_pubmed_links_df['person_id'].isin(existing_editor_ids_set)\n",
    "]\n",
    "\n",
    "remaining_editor_parsed_pubmed_links_df = remaining_editor_parsed_pubmed_links_df.append(\n",
    "    editor_parsed_pubmed_links_df[\n",
    "        ~editor_parsed_pubmed_links_df['pubmed_url'].isin(existing_editor_pubmed_url_set)\n",
    "    ], ignore_index=True\n",
    ")\n",
    "\n",
    "print(len(remaining_editor_parsed_pubmed_links_df))\n",
    "remaining_editor_parsed_pubmed_links_df.head(3)"
   ],
   "outputs": [
    {
     "output_type": "stream",
     "name": "stdout",
     "text": [
      "4\n"
     ]
    },
    {
     "output_type": "execute_result",
     "data": {
      "text/plain": [
       "   is_ncbi_bibliography_url         name  \\\n",
       "0                     False      Lu Chen   \n",
       "1                     False  Andrew King   \n",
       "2                     False      Lu Chen   \n",
       "\n",
       "                                  parsed_search_term person_id  \\\n",
       "0  {'exclude': None, 'include': {'author': ['Chen...     90633   \n",
       "1  {'exclude': None, 'include': {'author': ['King...     14601   \n",
       "2  {'exclude': None, 'include': {'author': ['Chen...     90633   \n",
       "\n",
       "                                          pubmed_url  \\\n",
       "0  https://www.ncbi.nlm.nih.gov/pubmed/?term=Chen...   \n",
       "1  http://www.ncbi.nlm.nih.gov/pubmed?term=King%2...   \n",
       "2  https://www.ncbi.nlm.nih.gov/pubmed/?term=Chen...   \n",
       "\n",
       "                                 relevant_pubmed_ids  \\\n",
       "0  [30782829, 30355624, 30068571, 29760176, 25843...   \n",
       "1  [31949136, 31300665, 29136122, 31802997, 28891...   \n",
       "2  [30782829, 30355624, 30068571, 29760176, 25843...   \n",
       "\n",
       "                                relevant_pubmed_urls  \\\n",
       "0  [https://pubmed.ncbi.nlm.nih.gov/30782829, htt...   \n",
       "1  [https://www.ncbi.nlm.nih.gov/pubmed/31949136,...   \n",
       "2  [https://pubmed.ncbi.nlm.nih.gov/30782829, htt...   \n",
       "\n",
       "                                 resolved_pubmed_url     search_term  \n",
       "0  https://www.ncbi.nlm.nih.gov/pubmed/?term=Chen...  Chen L[Author]  \n",
       "1  https://www.ncbi.nlm.nih.gov/pubmed?term=King%...    King A J[au]  \n",
       "2  https://www.ncbi.nlm.nih.gov/pubmed/?term=Chen...  Chen L[Author]  "
      ],
      "text/html": [
       "<div>\n",
       "<style scoped>\n",
       "    .dataframe tbody tr th:only-of-type {\n",
       "        vertical-align: middle;\n",
       "    }\n",
       "\n",
       "    .dataframe tbody tr th {\n",
       "        vertical-align: top;\n",
       "    }\n",
       "\n",
       "    .dataframe thead th {\n",
       "        text-align: right;\n",
       "    }\n",
       "</style>\n",
       "<table border=\"1\" class=\"dataframe\">\n",
       "  <thead>\n",
       "    <tr style=\"text-align: right;\">\n",
       "      <th></th>\n",
       "      <th>is_ncbi_bibliography_url</th>\n",
       "      <th>name</th>\n",
       "      <th>parsed_search_term</th>\n",
       "      <th>person_id</th>\n",
       "      <th>pubmed_url</th>\n",
       "      <th>relevant_pubmed_ids</th>\n",
       "      <th>relevant_pubmed_urls</th>\n",
       "      <th>resolved_pubmed_url</th>\n",
       "      <th>search_term</th>\n",
       "    </tr>\n",
       "  </thead>\n",
       "  <tbody>\n",
       "    <tr>\n",
       "      <th>0</th>\n",
       "      <td>False</td>\n",
       "      <td>Lu Chen</td>\n",
       "      <td>{'exclude': None, 'include': {'author': ['Chen...</td>\n",
       "      <td>90633</td>\n",
       "      <td>https://www.ncbi.nlm.nih.gov/pubmed/?term=Chen...</td>\n",
       "      <td>[30782829, 30355624, 30068571, 29760176, 25843...</td>\n",
       "      <td>[https://pubmed.ncbi.nlm.nih.gov/30782829, htt...</td>\n",
       "      <td>https://www.ncbi.nlm.nih.gov/pubmed/?term=Chen...</td>\n",
       "      <td>Chen L[Author]</td>\n",
       "    </tr>\n",
       "    <tr>\n",
       "      <th>1</th>\n",
       "      <td>False</td>\n",
       "      <td>Andrew King</td>\n",
       "      <td>{'exclude': None, 'include': {'author': ['King...</td>\n",
       "      <td>14601</td>\n",
       "      <td>http://www.ncbi.nlm.nih.gov/pubmed?term=King%2...</td>\n",
       "      <td>[31949136, 31300665, 29136122, 31802997, 28891...</td>\n",
       "      <td>[https://www.ncbi.nlm.nih.gov/pubmed/31949136,...</td>\n",
       "      <td>https://www.ncbi.nlm.nih.gov/pubmed?term=King%...</td>\n",
       "      <td>King A J[au]</td>\n",
       "    </tr>\n",
       "    <tr>\n",
       "      <th>2</th>\n",
       "      <td>False</td>\n",
       "      <td>Lu Chen</td>\n",
       "      <td>{'exclude': None, 'include': {'author': ['Chen...</td>\n",
       "      <td>90633</td>\n",
       "      <td>https://www.ncbi.nlm.nih.gov/pubmed/?term=Chen...</td>\n",
       "      <td>[30782829, 30355624, 30068571, 29760176, 25843...</td>\n",
       "      <td>[https://pubmed.ncbi.nlm.nih.gov/30782829, htt...</td>\n",
       "      <td>https://www.ncbi.nlm.nih.gov/pubmed/?term=Chen...</td>\n",
       "      <td>Chen L[Author]</td>\n",
       "    </tr>\n",
       "  </tbody>\n",
       "</table>\n",
       "</div>"
      ]
     },
     "metadata": {},
     "execution_count": 126
    }
   ],
   "metadata": {}
  },
  {
   "cell_type": "code",
   "execution_count": 127,
   "source": [
    "processing_editor_parsed_pubmed_links_df = remaining_editor_parsed_pubmed_links_df\n",
    "if max_editors:\n",
    "    processing_editor_parsed_pubmed_links_df = processing_editor_parsed_pubmed_links_df[:max_editors]\n",
    "len(processing_editor_parsed_pubmed_links_df)"
   ],
   "outputs": [
    {
     "output_type": "execute_result",
     "data": {
      "text/plain": [
       "4"
      ]
     },
     "metadata": {},
     "execution_count": 127
    }
   ],
   "metadata": {}
  },
  {
   "cell_type": "code",
   "execution_count": 128,
   "source": [
    "def get_editor_pubmed_paper_ids(europepmc_api: EuropePMCApi, row) -> List[str]:\n",
    "    parsed_search_term = row.parsed_search_term\n",
    "    if not parsed_search_term:\n",
    "        return None\n",
    "    author_names = parsed_search_term.get('include', {}).get('author')\n",
    "    try:\n",
    "        author_names = parsed_search_term.get('include', {}).get('author')\n",
    "        return europepmc_api.get_author_pmids(author_names)\n",
    "    except:  # pylint: disable=bare-except\n",
    "        LOGGER.error('failed to retrieve pubmed ids for author names: %s', author_names, exc_info=1)\n",
    "        return None\n",
    "\n",
    "\n",
    "editor_pubmed_links_result_df = processing_editor_parsed_pubmed_links_df[:max_editors].copy()\n",
    "\n",
    "with europepmc_requests_retry_session() as session:\n",
    "    europepmc_api = EuropePMCApi(\n",
    "        session,\n",
    "        params={'email': email}\n",
    "    )\n",
    "    with ThreadPoolExecutor(max_workers=max_workers) as executor:\n",
    "        editor_pubmed_links_result_df['pubmed_ids'] = list(tqdm(\n",
    "            executor.map(\n",
    "                lambda row: get_editor_pubmed_paper_ids(europepmc_api, row),\n",
    "                editor_pubmed_links_result_df.itertuples()\n",
    "            ),\n",
    "            total=len(editor_pubmed_links_result_df),\n",
    "            leave=False\n",
    "        ))"
   ],
   "outputs": [
    {
     "output_type": "stream",
     "name": "stderr",
     "text": []
    }
   ],
   "metadata": {}
  },
  {
   "cell_type": "code",
   "execution_count": 131,
   "source": [
    "non_empty_editor_pubmed_links_result_df = editor_pubmed_links_result_df[\n",
    "    ~pd.isnull(editor_pubmed_links_result_df['pubmed_ids'])\n",
    "].copy()\n",
    "len(non_empty_editor_pubmed_links_result_df)\n",
    "non_empty_editor_pubmed_links_result_df.head(3)"
   ],
   "outputs": [
    {
     "output_type": "execute_result",
     "data": {
      "text/plain": [
       "   is_ncbi_bibliography_url         name  \\\n",
       "0                     False      Lu Chen   \n",
       "1                     False  Andrew King   \n",
       "2                     False      Lu Chen   \n",
       "\n",
       "                                  parsed_search_term person_id  \\\n",
       "0  {'exclude': None, 'include': {'author': ['Chen...     90633   \n",
       "1  {'exclude': None, 'include': {'author': ['King...     14601   \n",
       "2  {'exclude': None, 'include': {'author': ['Chen...     90633   \n",
       "\n",
       "                                          pubmed_url  \\\n",
       "0  https://www.ncbi.nlm.nih.gov/pubmed/?term=Chen...   \n",
       "1  http://www.ncbi.nlm.nih.gov/pubmed?term=King%2...   \n",
       "2  https://www.ncbi.nlm.nih.gov/pubmed/?term=Chen...   \n",
       "\n",
       "                                 relevant_pubmed_ids  \\\n",
       "0  [30782829, 30355624, 30068571, 29760176, 25843...   \n",
       "1  [31949136, 31300665, 29136122, 31802997, 28891...   \n",
       "2  [30782829, 30355624, 30068571, 29760176, 25843...   \n",
       "\n",
       "                                relevant_pubmed_urls  \\\n",
       "0  [https://pubmed.ncbi.nlm.nih.gov/30782829, htt...   \n",
       "1  [https://www.ncbi.nlm.nih.gov/pubmed/31949136,...   \n",
       "2  [https://pubmed.ncbi.nlm.nih.gov/30782829, htt...   \n",
       "\n",
       "                                 resolved_pubmed_url     search_term  \\\n",
       "0  https://www.ncbi.nlm.nih.gov/pubmed/?term=Chen...  Chen L[Author]   \n",
       "1  https://www.ncbi.nlm.nih.gov/pubmed?term=King%...    King A J[au]   \n",
       "2  https://www.ncbi.nlm.nih.gov/pubmed/?term=Chen...  Chen L[Author]   \n",
       "\n",
       "                                          pubmed_ids  \n",
       "0  [34378575, 34374399, 34342306, 34323898, 34328...  \n",
       "1  [34334720, 34351722, 34345801, 34290235, 34351...  \n",
       "2  [34378575, 34374399, 34342306, 34323898, 34328...  "
      ],
      "text/html": [
       "<div>\n",
       "<style scoped>\n",
       "    .dataframe tbody tr th:only-of-type {\n",
       "        vertical-align: middle;\n",
       "    }\n",
       "\n",
       "    .dataframe tbody tr th {\n",
       "        vertical-align: top;\n",
       "    }\n",
       "\n",
       "    .dataframe thead th {\n",
       "        text-align: right;\n",
       "    }\n",
       "</style>\n",
       "<table border=\"1\" class=\"dataframe\">\n",
       "  <thead>\n",
       "    <tr style=\"text-align: right;\">\n",
       "      <th></th>\n",
       "      <th>is_ncbi_bibliography_url</th>\n",
       "      <th>name</th>\n",
       "      <th>parsed_search_term</th>\n",
       "      <th>person_id</th>\n",
       "      <th>pubmed_url</th>\n",
       "      <th>relevant_pubmed_ids</th>\n",
       "      <th>relevant_pubmed_urls</th>\n",
       "      <th>resolved_pubmed_url</th>\n",
       "      <th>search_term</th>\n",
       "      <th>pubmed_ids</th>\n",
       "    </tr>\n",
       "  </thead>\n",
       "  <tbody>\n",
       "    <tr>\n",
       "      <th>0</th>\n",
       "      <td>False</td>\n",
       "      <td>Lu Chen</td>\n",
       "      <td>{'exclude': None, 'include': {'author': ['Chen...</td>\n",
       "      <td>90633</td>\n",
       "      <td>https://www.ncbi.nlm.nih.gov/pubmed/?term=Chen...</td>\n",
       "      <td>[30782829, 30355624, 30068571, 29760176, 25843...</td>\n",
       "      <td>[https://pubmed.ncbi.nlm.nih.gov/30782829, htt...</td>\n",
       "      <td>https://www.ncbi.nlm.nih.gov/pubmed/?term=Chen...</td>\n",
       "      <td>Chen L[Author]</td>\n",
       "      <td>[34378575, 34374399, 34342306, 34323898, 34328...</td>\n",
       "    </tr>\n",
       "    <tr>\n",
       "      <th>1</th>\n",
       "      <td>False</td>\n",
       "      <td>Andrew King</td>\n",
       "      <td>{'exclude': None, 'include': {'author': ['King...</td>\n",
       "      <td>14601</td>\n",
       "      <td>http://www.ncbi.nlm.nih.gov/pubmed?term=King%2...</td>\n",
       "      <td>[31949136, 31300665, 29136122, 31802997, 28891...</td>\n",
       "      <td>[https://www.ncbi.nlm.nih.gov/pubmed/31949136,...</td>\n",
       "      <td>https://www.ncbi.nlm.nih.gov/pubmed?term=King%...</td>\n",
       "      <td>King A J[au]</td>\n",
       "      <td>[34334720, 34351722, 34345801, 34290235, 34351...</td>\n",
       "    </tr>\n",
       "    <tr>\n",
       "      <th>2</th>\n",
       "      <td>False</td>\n",
       "      <td>Lu Chen</td>\n",
       "      <td>{'exclude': None, 'include': {'author': ['Chen...</td>\n",
       "      <td>90633</td>\n",
       "      <td>https://www.ncbi.nlm.nih.gov/pubmed/?term=Chen...</td>\n",
       "      <td>[30782829, 30355624, 30068571, 29760176, 25843...</td>\n",
       "      <td>[https://pubmed.ncbi.nlm.nih.gov/30782829, htt...</td>\n",
       "      <td>https://www.ncbi.nlm.nih.gov/pubmed/?term=Chen...</td>\n",
       "      <td>Chen L[Author]</td>\n",
       "      <td>[34378575, 34374399, 34342306, 34323898, 34328...</td>\n",
       "    </tr>\n",
       "  </tbody>\n",
       "</table>\n",
       "</div>"
      ]
     },
     "metadata": {},
     "execution_count": 131
    }
   ],
   "metadata": {}
  },
  {
   "cell_type": "code",
   "execution_count": 132,
   "source": [
    "non_empty_editor_pubmed_links_result_df['provenance'] = [{\n",
    "    'source': 'europepmc',\n",
    "    'imported_timestamp': datetime.utcnow().isoformat()\n",
    "}] * len(non_empty_editor_pubmed_links_result_df)"
   ],
   "outputs": [],
   "metadata": {}
  },
  {
   "cell_type": "code",
   "execution_count": 133,
   "source": [
    "if len(non_empty_editor_pubmed_links_result_df) == 0:\n",
    "    print('no data to upload')\n",
    "else:\n",
    "    print('writing to:', editor_parsed_pubmed_ids_table_name)\n",
    "    to_gbq(\n",
    "        non_empty_editor_pubmed_links_result_df,\n",
    "        project_id=project_id,\n",
    "        destination_table=editor_parsed_pubmed_ids_table_name,\n",
    "        if_exists='append'\n",
    "    )\n",
    "    print('done')"
   ],
   "outputs": [
    {
     "output_type": "stream",
     "name": "stdout",
     "text": [
      "writing to: de_dev.data_science_editor_pubmed_ids\n"
     ]
    },
    {
     "output_type": "stream",
     "name": "stderr",
     "text": [
      "INFO:root:Processed 4 lines\n",
      "INFO:data_science_pipeline.utils.bq:loading from /var/folders/gz/3b4st4q56pd1983txrbt2yyw0000gn/T/tmp410cpcr0/data.jsonl.gz\n",
      "INFO:data_science_pipeline.utils.bq:File size is : 447932\n",
      "INFO:data_science_pipeline.utils.bq:Loaded 4 rows into de_dev:data_science_editor_pubmed_ids.\n"
     ]
    },
    {
     "output_type": "stream",
     "name": "stdout",
     "text": [
      "done\n"
     ]
    }
   ],
   "metadata": {}
  }
 ],
 "metadata": {
  "celltoolbar": "Tags",
  "kernelspec": {
   "name": "python3",
   "display_name": "Python 3.7.9 64-bit ('venv': venv)"
  },
  "language_info": {
   "codemirror_mode": {
    "name": "ipython",
    "version": 3
   },
   "file_extension": ".py",
   "mimetype": "text/x-python",
   "name": "python",
   "nbconvert_exporter": "python",
   "pygments_lexer": "ipython3",
   "version": "3.7.9"
  },
  "interpreter": {
   "hash": "fa0e558d19a230636e19ac4c9ade870c2c276d3dbc1e90e338dc45db7288d529"
  }
 },
 "nbformat": 4,
 "nbformat_minor": 4
}