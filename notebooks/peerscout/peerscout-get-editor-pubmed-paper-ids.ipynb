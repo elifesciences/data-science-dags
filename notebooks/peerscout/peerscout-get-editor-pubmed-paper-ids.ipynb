{
 "cells": [
  {
   "cell_type": "code",
   "execution_count": 1,
   "metadata": {},
   "outputs": [],
   "source": [
    "project_id = 'elife-data-pipeline'\n",
    "source_dataset = 'de_dev'\n",
    "output_dataset = 'de_dev'\n",
    "output_table_prefix = 'data_science_'\n",
    "state_path = 's3://ci-elife-data-pipeline/airflow-config/data-science/state-dev'\n",
    "max_workers = 10\n",
    "max_editors = 1000"
   ]
  },
  {
   "cell_type": "code",
   "execution_count": 2,
   "metadata": {},
   "outputs": [],
   "source": [
    "import os\n",
    "import logging\n",
    "from functools import partial\n",
    "from concurrent.futures import ThreadPoolExecutor \n",
    "from typing import List\n",
    "\n",
    "import numpy as np\n",
    "import pandas as pd\n",
    "import requests\n",
    "from tqdm.auto import tqdm\n",
    "\n",
    "import data_science_pipeline.configure_warnings\n",
    "\n",
    "from data_science_pipeline.sql import get_sql\n",
    "from data_science_pipeline.utils.europepmc import (\n",
    "    EuropePMCApi,\n",
    "    europepmc_requests_retry_session\n",
    ")\n",
    "from data_science_pipeline.utils.bq import load_file_and_replace_bq_table_with_auto_schema\n",
    "from data_science_pipeline.utils.pandas import to_csv\n",
    "from data_science_pipeline.utils.jupyter import (\n",
    "    read_big_query as _read_big_query,\n",
    ")"
   ]
  },
  {
   "cell_type": "code",
   "execution_count": 3,
   "metadata": {},
   "outputs": [],
   "source": [
    "LOGGER = logging.getLogger(__name__)"
   ]
  },
  {
   "cell_type": "code",
   "execution_count": 4,
   "metadata": {},
   "outputs": [],
   "source": [
    "editor_parsed_pubmed_links_table_name = '{output_dataset}.{prefix}{suffix}'.format(\n",
    "    output_dataset=output_dataset,\n",
    "    prefix=output_table_prefix,\n",
    "    suffix='editor_pubmed_links'\n",
    ")\n",
    "\n",
    "editor_pubmed_ids_path = os.path.join(state_path, 'editor_pubmed_ids.tsv.gz')"
   ]
  },
  {
   "cell_type": "code",
   "execution_count": 5,
   "metadata": {},
   "outputs": [],
   "source": [
    "read_big_query = partial(_read_big_query, project_id=project_id)"
   ]
  },
  {
   "cell_type": "code",
   "execution_count": 6,
   "metadata": {},
   "outputs": [],
   "source": [
    "default_query_props = dict(project=project_id, dataset=source_dataset)"
   ]
  },
  {
   "cell_type": "code",
   "execution_count": 7,
   "metadata": {},
   "outputs": [
    {
     "data": {
      "text/markdown": [
       "> ```sql\n",
       "> SELECT * FROM `de_dev.data_science_editor_pubmed_links`\n",
       "> ```"
      ],
      "text/plain": [
       "<IPython.core.display.Markdown object>"
      ]
     },
     "metadata": {},
     "output_type": "display_data"
    },
    {
     "name": "stderr",
     "output_type": "stream",
     "text": [
      "Downloading: 100%|██████████| 616/616 [00:00<00:00, 641.66rows/s]"
     ]
    },
    {
     "name": "stdout",
     "output_type": "stream",
     "text": [
      "616\n"
     ]
    },
    {
     "name": "stderr",
     "output_type": "stream",
     "text": [
      "\n"
     ]
    },
    {
     "data": {
      "text/html": [
       "<div>\n",
       "<style scoped>\n",
       "    .dataframe tbody tr th:only-of-type {\n",
       "        vertical-align: middle;\n",
       "    }\n",
       "\n",
       "    .dataframe tbody tr th {\n",
       "        vertical-align: top;\n",
       "    }\n",
       "\n",
       "    .dataframe thead th {\n",
       "        text-align: right;\n",
       "    }\n",
       "</style>\n",
       "<table border=\"1\" class=\"dataframe\">\n",
       "  <thead>\n",
       "    <tr style=\"text-align: right;\">\n",
       "      <th></th>\n",
       "      <th>name</th>\n",
       "      <th>parsed_search_term</th>\n",
       "      <th>person_id</th>\n",
       "      <th>pubmed_url</th>\n",
       "      <th>resolved_pubmed_url</th>\n",
       "      <th>search_term</th>\n",
       "    </tr>\n",
       "  </thead>\n",
       "  <tbody>\n",
       "    <tr>\n",
       "      <th>0</th>\n",
       "      <td>Rebecca Seal</td>\n",
       "      <td>None</td>\n",
       "      <td>12445</td>\n",
       "      <td>http://seallab.neurobio.pitt.edu/https://www.n...</td>\n",
       "      <td>https://seallab.neurobio.pitt.edu/https://www....</td>\n",
       "      <td>None</td>\n",
       "    </tr>\n",
       "    <tr>\n",
       "      <th>1</th>\n",
       "      <td>Phillip Newmark</td>\n",
       "      <td>None</td>\n",
       "      <td>4633</td>\n",
       "      <td>https://www.ncbi.nlm.nih.gov/myncbi/browse/col...</td>\n",
       "      <td>https://www.ncbi.nlm.nih.gov/myncbi/browse/col...</td>\n",
       "      <td>None</td>\n",
       "    </tr>\n",
       "    <tr>\n",
       "      <th>2</th>\n",
       "      <td>Ashish Lal</td>\n",
       "      <td>None</td>\n",
       "      <td>73888</td>\n",
       "      <td>https://www.ncbi.nlm.nih.gov/sites/myncbi/1lgr...</td>\n",
       "      <td>https://www.ncbi.nlm.nih.gov/sites/myncbi/1lgr...</td>\n",
       "      <td>None</td>\n",
       "    </tr>\n",
       "    <tr>\n",
       "      <th>3</th>\n",
       "      <td>Cynthia Wolberger</td>\n",
       "      <td>None</td>\n",
       "      <td>5005</td>\n",
       "      <td>https://www.ncbi.nlm.nih.gov/myncbi/cynthia.wo...</td>\n",
       "      <td>https://www.ncbi.nlm.nih.gov/myncbi/cynthia.wo...</td>\n",
       "      <td>None</td>\n",
       "    </tr>\n",
       "    <tr>\n",
       "      <th>4</th>\n",
       "      <td>Anna Diehl</td>\n",
       "      <td>None</td>\n",
       "      <td>143521</td>\n",
       "      <td>https://www.google.com/search?safe=vss&amp;sa=Goog...</td>\n",
       "      <td>https://www.google.com/search?safe=vss&amp;sa=Goog...</td>\n",
       "      <td>None</td>\n",
       "    </tr>\n",
       "  </tbody>\n",
       "</table>\n",
       "</div>"
      ],
      "text/plain": [
       "                name parsed_search_term person_id  \\\n",
       "0       Rebecca Seal               None     12445   \n",
       "1    Phillip Newmark               None      4633   \n",
       "2         Ashish Lal               None     73888   \n",
       "3  Cynthia Wolberger               None      5005   \n",
       "4         Anna Diehl               None    143521   \n",
       "\n",
       "                                          pubmed_url  \\\n",
       "0  http://seallab.neurobio.pitt.edu/https://www.n...   \n",
       "1  https://www.ncbi.nlm.nih.gov/myncbi/browse/col...   \n",
       "2  https://www.ncbi.nlm.nih.gov/sites/myncbi/1lgr...   \n",
       "3  https://www.ncbi.nlm.nih.gov/myncbi/cynthia.wo...   \n",
       "4  https://www.google.com/search?safe=vss&sa=Goog...   \n",
       "\n",
       "                                 resolved_pubmed_url search_term  \n",
       "0  https://seallab.neurobio.pitt.edu/https://www....        None  \n",
       "1  https://www.ncbi.nlm.nih.gov/myncbi/browse/col...        None  \n",
       "2  https://www.ncbi.nlm.nih.gov/sites/myncbi/1lgr...        None  \n",
       "3  https://www.ncbi.nlm.nih.gov/myncbi/cynthia.wo...        None  \n",
       "4  https://www.google.com/search?safe=vss&sa=Goog...        None  "
      ]
     },
     "execution_count": 7,
     "metadata": {},
     "output_type": "execute_result"
    }
   ],
   "source": [
    "editor_parsed_pubmed_links_df = read_big_query(\n",
    "    'SELECT * FROM `{table_name}`'.format(\n",
    "        table_name=editor_parsed_pubmed_links_table_name\n",
    "    )\n",
    ")\n",
    "print(len(editor_parsed_pubmed_links_df))\n",
    "editor_parsed_pubmed_links_df.head()"
   ]
  },
  {
   "cell_type": "code",
   "execution_count": 8,
   "metadata": {},
   "outputs": [
    {
     "data": {
      "text/plain": [
       "[Pandas(Index=0, name='Rebecca Seal', parsed_search_term=None, person_id='12445', pubmed_url='http://seallab.neurobio.pitt.edu/https://www.ncbi.nlm.nih.gov/pubmed/?term=Seal%20RP%5BAuthor%5D&cauthor=true&cauthor_uid=30359601', resolved_pubmed_url='https://seallab.neurobio.pitt.edu/https://www.ncbi.nlm.nih.gov/pubmed/?term=Seal%20RP%5BAuthor%5D&cauthor=true&cauthor_uid=30359601', search_term=None),\n",
       " Pandas(Index=1, name='Phillip Newmark', parsed_search_term=None, person_id='4633', pubmed_url='https://www.ncbi.nlm.nih.gov/myncbi/browse/collection/40388473/?sort=date&direction=descending', resolved_pubmed_url='https://www.ncbi.nlm.nih.gov/myncbi/browse/collection/40388473/?sort=date&direction=descending', search_term=None),\n",
       " Pandas(Index=2, name='Ashish Lal', parsed_search_term=None, person_id='73888', pubmed_url='https://www.ncbi.nlm.nih.gov/sites/myncbi/1lgrv1iQ78gk8/bibliography/48627287/public/?sort=date&direction=descending', resolved_pubmed_url='https://www.ncbi.nlm.nih.gov/sites/myncbi/1lgrv1iQ78gk8/bibliography/48627287/public/?sort=date&direction=descending', search_term=None)]"
      ]
     },
     "execution_count": 8,
     "metadata": {},
     "output_type": "execute_result"
    }
   ],
   "source": [
    "list(editor_parsed_pubmed_links_df[:3].itertuples())"
   ]
  },
  {
   "cell_type": "code",
   "execution_count": 9,
   "metadata": {},
   "outputs": [],
   "source": [
    "list(editor_parsed_pubmed_links_df[:1].itertuples())[0].parsed_search_term"
   ]
  },
  {
   "cell_type": "code",
   "execution_count": 10,
   "metadata": {},
   "outputs": [
    {
     "data": {
      "application/vnd.jupyter.widget-view+json": {
       "model_id": "",
       "version_major": 2,
       "version_minor": 0
      },
      "text/plain": [
       "HBox(children=(FloatProgress(value=0.0, max=10.0), HTML(value='')))"
      ]
     },
     "metadata": {},
     "output_type": "display_data"
    }
   ],
   "source": [
    "def get_editor_pubmed_paper_ids(europepmc_api: EuropePMCApi, row) -> List[str]:\n",
    "    parsed_search_term = row.parsed_search_term\n",
    "    if not parsed_search_term:\n",
    "        return None\n",
    "    try:\n",
    "        author_names = parsed_search_term.get('include', {}).get('author')\n",
    "        return europepmc_api.get_author_pmids(author_names)\n",
    "    except:\n",
    "        LOGGER.error('failed to convert pubmed_url: %s', pubmed_url, exc_info=1)\n",
    "        return None\n",
    "\n",
    "\n",
    "if max_editors:\n",
    "    editor_pubmed_links_result_df = editor_parsed_pubmed_links_df[:max_editors].copy()\n",
    "else:\n",
    "    editor_pubmed_links_result_df = editor_parsed_pubmed_links_df\n",
    "\n",
    "with europepmc_requests_retry_session() as session:\n",
    "    europepmc_api = EuropePMCApi(session)\n",
    "    with ThreadPoolExecutor(max_workers=max_workers) as executor:\n",
    "        editor_pubmed_links_result_df['pubmed_ids'] = list(tqdm(\n",
    "            executor.map(\n",
    "                lambda row: get_editor_pubmed_paper_ids(europepmc_api, row),\n",
    "                editor_pubmed_links_result_df.itertuples()\n",
    "            ),\n",
    "            total=len(editor_pubmed_links_result_df),\n",
    "            leave=False\n",
    "        ))"
   ]
  },
  {
   "cell_type": "code",
   "execution_count": 11,
   "metadata": {},
   "outputs": [
    {
     "name": "stdout",
     "output_type": "stream",
     "text": [
      "10\n"
     ]
    },
    {
     "data": {
      "text/html": [
       "<div>\n",
       "<style scoped>\n",
       "    .dataframe tbody tr th:only-of-type {\n",
       "        vertical-align: middle;\n",
       "    }\n",
       "\n",
       "    .dataframe tbody tr th {\n",
       "        vertical-align: top;\n",
       "    }\n",
       "\n",
       "    .dataframe thead th {\n",
       "        text-align: right;\n",
       "    }\n",
       "</style>\n",
       "<table border=\"1\" class=\"dataframe\">\n",
       "  <thead>\n",
       "    <tr style=\"text-align: right;\">\n",
       "      <th></th>\n",
       "      <th>name</th>\n",
       "      <th>parsed_search_term</th>\n",
       "      <th>person_id</th>\n",
       "      <th>pubmed_url</th>\n",
       "      <th>resolved_pubmed_url</th>\n",
       "      <th>search_term</th>\n",
       "      <th>pubmed_ids</th>\n",
       "    </tr>\n",
       "  </thead>\n",
       "  <tbody>\n",
       "    <tr>\n",
       "      <th>0</th>\n",
       "      <td>Rebecca Seal</td>\n",
       "      <td>None</td>\n",
       "      <td>12445</td>\n",
       "      <td>http://seallab.neurobio.pitt.edu/https://www.n...</td>\n",
       "      <td>https://seallab.neurobio.pitt.edu/https://www....</td>\n",
       "      <td>None</td>\n",
       "      <td>None</td>\n",
       "    </tr>\n",
       "    <tr>\n",
       "      <th>1</th>\n",
       "      <td>Phillip Newmark</td>\n",
       "      <td>None</td>\n",
       "      <td>4633</td>\n",
       "      <td>https://www.ncbi.nlm.nih.gov/myncbi/browse/col...</td>\n",
       "      <td>https://www.ncbi.nlm.nih.gov/myncbi/browse/col...</td>\n",
       "      <td>None</td>\n",
       "      <td>None</td>\n",
       "    </tr>\n",
       "    <tr>\n",
       "      <th>2</th>\n",
       "      <td>Ashish Lal</td>\n",
       "      <td>None</td>\n",
       "      <td>73888</td>\n",
       "      <td>https://www.ncbi.nlm.nih.gov/sites/myncbi/1lgr...</td>\n",
       "      <td>https://www.ncbi.nlm.nih.gov/sites/myncbi/1lgr...</td>\n",
       "      <td>None</td>\n",
       "      <td>None</td>\n",
       "    </tr>\n",
       "    <tr>\n",
       "      <th>3</th>\n",
       "      <td>Cynthia Wolberger</td>\n",
       "      <td>None</td>\n",
       "      <td>5005</td>\n",
       "      <td>https://www.ncbi.nlm.nih.gov/myncbi/cynthia.wo...</td>\n",
       "      <td>https://www.ncbi.nlm.nih.gov/myncbi/cynthia.wo...</td>\n",
       "      <td>None</td>\n",
       "      <td>None</td>\n",
       "    </tr>\n",
       "    <tr>\n",
       "      <th>4</th>\n",
       "      <td>Anna Diehl</td>\n",
       "      <td>None</td>\n",
       "      <td>143521</td>\n",
       "      <td>https://www.google.com/search?safe=vss&amp;sa=Goog...</td>\n",
       "      <td>https://www.google.com/search?safe=vss&amp;sa=Goog...</td>\n",
       "      <td>None</td>\n",
       "      <td>None</td>\n",
       "    </tr>\n",
       "  </tbody>\n",
       "</table>\n",
       "</div>"
      ],
      "text/plain": [
       "                name parsed_search_term person_id  \\\n",
       "0       Rebecca Seal               None     12445   \n",
       "1    Phillip Newmark               None      4633   \n",
       "2         Ashish Lal               None     73888   \n",
       "3  Cynthia Wolberger               None      5005   \n",
       "4         Anna Diehl               None    143521   \n",
       "\n",
       "                                          pubmed_url  \\\n",
       "0  http://seallab.neurobio.pitt.edu/https://www.n...   \n",
       "1  https://www.ncbi.nlm.nih.gov/myncbi/browse/col...   \n",
       "2  https://www.ncbi.nlm.nih.gov/sites/myncbi/1lgr...   \n",
       "3  https://www.ncbi.nlm.nih.gov/myncbi/cynthia.wo...   \n",
       "4  https://www.google.com/search?safe=vss&sa=Goog...   \n",
       "\n",
       "                                 resolved_pubmed_url search_term pubmed_ids  \n",
       "0  https://seallab.neurobio.pitt.edu/https://www....        None       None  \n",
       "1  https://www.ncbi.nlm.nih.gov/myncbi/browse/col...        None       None  \n",
       "2  https://www.ncbi.nlm.nih.gov/sites/myncbi/1lgr...        None       None  \n",
       "3  https://www.ncbi.nlm.nih.gov/myncbi/cynthia.wo...        None       None  \n",
       "4  https://www.google.com/search?safe=vss&sa=Goog...        None       None  "
      ]
     },
     "execution_count": 11,
     "metadata": {},
     "output_type": "execute_result"
    }
   ],
   "source": [
    "editor_pubmed_links_formatted_df = editor_pubmed_links_result_df.copy()\n",
    "editor_pubmed_links_formatted_df['pubmed_ids'] = editor_pubmed_links_formatted_df['pubmed_ids'].str.join('|')\n",
    "print(len(editor_pubmed_links_formatted_df))\n",
    "editor_pubmed_links_formatted_df.head()"
   ]
  },
  {
   "cell_type": "code",
   "execution_count": 12,
   "metadata": {},
   "outputs": [
    {
     "name": "stdout",
     "output_type": "stream",
     "text": [
      "saving to: s3://ci-elife-data-pipeline/airflow-config/data-science/state-dev/editor_pubmed_ids.tsv.gz\n",
      "done\n"
     ]
    }
   ],
   "source": [
    "print('saving to: %s' % editor_pubmed_ids_path)\n",
    "to_csv(editor_pubmed_links_formatted_df, editor_pubmed_ids_path)\n",
    "print('done')"
   ]
  }
 ],
 "metadata": {
  "kernelspec": {
   "display_name": "Python 3",
   "language": "python",
   "name": "python3"
  },
  "language_info": {
   "codemirror_mode": {
    "name": "ipython",
    "version": 3
   },
   "file_extension": ".py",
   "mimetype": "text/x-python",
   "name": "python",
   "nbconvert_exporter": "python",
   "pygments_lexer": "ipython3",
   "version": "3.7.6"
  }
 },
 "nbformat": 4,
 "nbformat_minor": 4
}
