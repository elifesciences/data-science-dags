{
 "cells": [
  {
   "cell_type": "code",
   "execution_count": null,
   "source": [
    "project_id = 'elife-data-pipeline'\n",
    "source_dataset = 'de_dev'\n",
    "output_dataset = 'de_dev'\n",
    "output_table_prefix = 'data_science_'\n",
    "\n",
    "max_workers = 10\n",
    "max_editors = 100\n",
    "email = 'd.ecer@elifesciences.org'"
   ],
   "outputs": [],
   "metadata": {
    "tags": [
     "parameters"
    ]
   }
  },
  {
   "cell_type": "code",
   "execution_count": null,
   "source": [
    "import logging\n",
    "from datetime import datetime\n",
    "from functools import partial\n",
    "from concurrent.futures import ThreadPoolExecutor\n",
    "from typing import List\n",
    "\n",
    "import pandas as pd\n",
    "from tqdm.auto import tqdm\n",
    "\n",
    "import data_science_pipeline.configure_warnings  # pylint: disable=unused-import\n",
    "import data_science_pipeline.configure_notebook_logging  # pylint: disable=unused-import\n",
    "\n",
    "from data_science_pipeline.utils.europepmc import (\n",
    "    EuropePMCApi,\n",
    "    europepmc_requests_retry_session\n",
    ")\n",
    "from data_science_pipeline.utils.bq import to_gbq, is_bq_not_found_exception\n",
    "from data_science_pipeline.utils.jupyter import (\n",
    "    read_big_query as _read_big_query,\n",
    ")"
   ],
   "outputs": [],
   "metadata": {}
  },
  {
   "cell_type": "code",
   "execution_count": null,
   "source": [
    "LOGGER = logging.getLogger(__name__)\n",
    "\n",
    "logging.basicConfig(level='INFO')\n",
    "logging.getLogger('data_science_pipeline').setLevel(logging.INFO)"
   ],
   "outputs": [],
   "metadata": {}
  },
  {
   "cell_type": "code",
   "execution_count": null,
   "source": [
    "editor_parsed_pubmed_links_table_name = '{output_dataset}.{prefix}{suffix}'.format(\n",
    "    output_dataset=output_dataset,\n",
    "    prefix=output_table_prefix,\n",
    "    suffix='editor_pubmed_links'\n",
    ")\n",
    "\n",
    "editor_parsed_pubmed_ids_table_name = '{output_dataset}.{prefix}{suffix}'.format(\n",
    "    output_dataset=output_dataset,\n",
    "    prefix=output_table_prefix,\n",
    "    suffix='editor_pubmed_ids'\n",
    ")"
   ],
   "outputs": [],
   "metadata": {}
  },
  {
   "cell_type": "code",
   "execution_count": null,
   "source": [
    "read_big_query = partial(_read_big_query, project_id=project_id)"
   ],
   "outputs": [],
   "metadata": {}
  },
  {
   "cell_type": "code",
   "execution_count": null,
   "source": [
    "default_query_props = dict(project=project_id, dataset=source_dataset)"
   ],
   "outputs": [],
   "metadata": {}
  },
  {
   "cell_type": "code",
   "execution_count": null,
   "source": [
    "_sql = (\n",
    "    '''\n",
    "    SELECT\n",
    "        person_id,\n",
    "        pubmed_url,\n",
    "        imported_timestamp\n",
    "    FROM (\n",
    "        SELECT\n",
    "            person_id,\n",
    "            pubmed_url,\n",
    "            provenance.imported_timestamp as imported_timestamp,\n",
    "            ROW_NUMBER() OVER (PARTITION BY person_id ORDER BY provenance.imported_timestamp DESC) as rn\n",
    "        FROM `{table}`\n",
    "    ) WHERE rn = 1\n",
    "    ''').format(table=editor_parsed_pubmed_ids_table_name)\n",
    "\n",
    "try:\n",
    "    existing_editor_ids_and_pubmed_url_df = read_big_query(_sql)\n",
    "except Exception as e:  # pylint: disable=broad-except\n",
    "    if not is_bq_not_found_exception(e):\n",
    "        raise\n",
    "    print('table not found: %s' % editor_parsed_pubmed_ids_table_name)\n",
    "    existing_editor_ids_and_pubmed_url_df = pd.DataFrame(columns=['person_id', 'pubmed_url', 'imported_timestamp'])\n",
    "print(\"existing_editor_ids_and_pubmed_url_df length: \", len(existing_editor_ids_and_pubmed_url_df))\n",
    "existing_editor_ids_and_pubmed_url_df.head(3)"
   ],
   "outputs": [],
   "metadata": {}
  },
  {
   "cell_type": "code",
   "execution_count": null,
   "source": [
    "existing_editor_ids_set = set(existing_editor_ids_and_pubmed_url_df['person_id'])\n",
    "print(\"existing_editor_ids_set length :\", len(existing_editor_ids_set))"
   ],
   "outputs": [],
   "metadata": {}
  },
  {
   "cell_type": "code",
   "execution_count": null,
   "source": [
    "editor_parsed_pubmed_links_df = read_big_query(\n",
    "    'SELECT * FROM `{table_name}`\\nWHERE parsed_search_term IS NOT NULL'.format(\n",
    "        table_name=editor_parsed_pubmed_links_table_name\n",
    "    )\n",
    ")\n",
    "print(\"editor_parsed_pubmed_links_df length: \", len(editor_parsed_pubmed_links_df))\n",
    "editor_parsed_pubmed_links_df.head(3)"
   ],
   "outputs": [],
   "metadata": {}
  },
  {
   "cell_type": "code",
   "execution_count": null,
   "source": [
    "merged_editor_parsed_pubmed_links_df = editor_parsed_pubmed_links_df.merge(\n",
    "    existing_editor_ids_and_pubmed_url_df,\n",
    "    how='left',\n",
    "    on='person_id',\n",
    "    suffixes=('', '_existing')\n",
    ")\n",
    "\n",
    "print(\"merged_editor_parsed_pubmed_links_df length: \", len(merged_editor_parsed_pubmed_links_df))\n",
    "merged_editor_parsed_pubmed_links_df.head(3)"
   ],
   "outputs": [],
   "metadata": {}
  },
  {
   "cell_type": "code",
   "execution_count": null,
   "source": [
    "editors_with_changed_pubmed_url_df = merged_editor_parsed_pubmed_links_df[\n",
    "    (merged_editor_parsed_pubmed_links_df['pubmed_url_existing'].notnull())\n",
    "    &\n",
    "    (\n",
    "        merged_editor_parsed_pubmed_links_df['pubmed_url']\n",
    "        !=\n",
    "        merged_editor_parsed_pubmed_links_df['pubmed_url_existing']\n",
    "    )\n",
    "].drop(columns=['pubmed_url_existing', 'imported_timestamp'])\n",
    "\n",
    "print(\"editors_with_changed_pubmed_url_df length: \", len(editors_with_changed_pubmed_url_df))\n",
    "editors_with_changed_pubmed_url_df.head(3)"
   ],
   "outputs": [],
   "metadata": {}
  },
  {
   "cell_type": "code",
   "execution_count": null,
   "source": [
    "editors_with_not_currently_updated_info = pd.DataFrame()\n",
    "temp_df = pd.DataFrame()\n",
    "for index, row in merged_editor_parsed_pubmed_links_df.iterrows():\n",
    "    day_diff = abs(\n",
    "        datetime.date(row['imported_timestamp'])-datetime.date(datetime.today())\n",
    "    ).days\n",
    "    if day_diff > 15:\n",
    "        temp_df = row\n",
    "    editors_with_not_currently_updated_info = editors_with_not_currently_updated_info.append(temp_df)\n",
    "\n",
    "print(\"editors_with_not_currently_updated_info length: \", len(editors_with_not_currently_updated_info))\n",
    "editors_with_not_currently_updated_info.head(3)"
   ],
   "outputs": [],
   "metadata": {}
  },
  {
   "cell_type": "code",
   "execution_count": null,
   "source": [
    "new_added_editors_df = editor_parsed_pubmed_links_df[\n",
    "    ~editor_parsed_pubmed_links_df['person_id'].isin(existing_editor_ids_set)\n",
    "]\n",
    "\n",
    "print(\"new_added_editors_df length: \", len(new_added_editors_df))\n",
    "new_added_editors_df.head(3)"
   ],
   "outputs": [],
   "metadata": {}
  },
  {
   "cell_type": "code",
   "execution_count": null,
   "source": [
    "remaining_editor_parsed_pubmed_links_df = pd.concat([\n",
    "    new_added_editors_df,\n",
    "    editors_with_changed_pubmed_url_df,\n",
    "    editors_with_not_currently_updated_info\n",
    "])\n",
    "\n",
    "print(\"remaining_editor_parsed_pubmed_links_df length: \", len(remaining_editor_parsed_pubmed_links_df))\n",
    "remaining_editor_parsed_pubmed_links_df.head(3)"
   ],
   "outputs": [],
   "metadata": {}
  },
  {
   "cell_type": "code",
   "execution_count": null,
   "source": [
    "processing_editor_parsed_pubmed_links_df = remaining_editor_parsed_pubmed_links_df\n",
    "if max_editors:\n",
    "    processing_editor_parsed_pubmed_links_df = processing_editor_parsed_pubmed_links_df[:max_editors]\n",
    "len(processing_editor_parsed_pubmed_links_df)"
   ],
   "outputs": [],
   "metadata": {}
  },
  {
   "cell_type": "code",
   "execution_count": null,
   "source": [
    "def get_editor_pubmed_paper_ids(europepmc_api: EuropePMCApi, row) -> List[str]:\n",
    "    parsed_search_term = row.parsed_search_term\n",
    "    if not parsed_search_term:\n",
    "        return None\n",
    "    author_names = parsed_search_term.get('include', {}).get('author')\n",
    "    try:\n",
    "        author_names = parsed_search_term.get('include', {}).get('author')\n",
    "        return europepmc_api.get_author_pmids(author_names)\n",
    "    except:  # pylint: disable=bare-except\n",
    "        LOGGER.error('failed to retrieve pubmed ids for author names: %s', author_names, exc_info=1)\n",
    "        return None\n",
    "\n",
    "\n",
    "editor_pubmed_links_result_df = processing_editor_parsed_pubmed_links_df[:max_editors].copy()\n",
    "\n",
    "with europepmc_requests_retry_session() as session:\n",
    "    europepmc_api = EuropePMCApi(\n",
    "        session,\n",
    "        params={'email': email}\n",
    "    )\n",
    "    with ThreadPoolExecutor(max_workers=max_workers) as executor:\n",
    "        editor_pubmed_links_result_df['pubmed_ids'] = list(tqdm(\n",
    "            executor.map(\n",
    "                lambda row: get_editor_pubmed_paper_ids(europepmc_api, row),\n",
    "                editor_pubmed_links_result_df.itertuples()\n",
    "            ),\n",
    "            total=len(editor_pubmed_links_result_df),\n",
    "            leave=False\n",
    "        ))"
   ],
   "outputs": [],
   "metadata": {}
  },
  {
   "cell_type": "code",
   "execution_count": null,
   "source": [
    "non_empty_editor_pubmed_links_result_df = editor_pubmed_links_result_df[\n",
    "    ~pd.isnull(editor_pubmed_links_result_df['pubmed_ids'])\n",
    "].copy()\n",
    "len(non_empty_editor_pubmed_links_result_df)\n",
    "non_empty_editor_pubmed_links_result_df.head(3)"
   ],
   "outputs": [],
   "metadata": {}
  },
  {
   "cell_type": "code",
   "execution_count": null,
   "source": [
    "non_empty_editor_pubmed_links_result_df['provenance'] = [{\n",
    "    'source': 'europepmc',\n",
    "    'imported_timestamp': datetime.utcnow().isoformat()\n",
    "}] * len(non_empty_editor_pubmed_links_result_df)"
   ],
   "outputs": [],
   "metadata": {}
  },
  {
   "cell_type": "code",
   "execution_count": null,
   "source": [
    "if len(non_empty_editor_pubmed_links_result_df) == 0:\n",
    "    print('no data to upload')\n",
    "else:\n",
    "    print('writing to:', editor_parsed_pubmed_ids_table_name)\n",
    "    to_gbq(\n",
    "        non_empty_editor_pubmed_links_result_df,\n",
    "        project_id=project_id,\n",
    "        destination_table=editor_parsed_pubmed_ids_table_name,\n",
    "        if_exists='append'\n",
    "    )\n",
    "    print('done')"
   ],
   "outputs": [],
   "metadata": {}
  }
 ],
 "metadata": {
  "celltoolbar": "Tags",
  "kernelspec": {
   "name": "python3",
   "display_name": "Python 3.7.9 64-bit ('venv': venv)"
  },
  "language_info": {
   "codemirror_mode": {
    "name": "ipython",
    "version": 3
   },
   "file_extension": ".py",
   "mimetype": "text/x-python",
   "name": "python",
   "nbconvert_exporter": "python",
   "pygments_lexer": "ipython3",
   "version": "3.7.9"
  },
  "interpreter": {
   "hash": "fa0e558d19a230636e19ac4c9ade870c2c276d3dbc1e90e338dc45db7288d529"
  }
 },
 "nbformat": 4,
 "nbformat_minor": 4
}