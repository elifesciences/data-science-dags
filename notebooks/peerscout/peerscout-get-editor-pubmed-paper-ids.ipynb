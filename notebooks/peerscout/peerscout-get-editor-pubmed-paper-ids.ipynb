{
 "cells": [
  {
   "cell_type": "code",
   "execution_count": null,
   "metadata": {
    "tags": [
     "parameters"
    ]
   },
   "outputs": [],
   "source": [
    "project_id = 'elife-data-pipeline'\n",
    "source_dataset = 'de_dev'\n",
    "output_dataset = 'de_dev'\n",
    "output_table_prefix = 'data_science_'\n",
    "\n",
    "max_workers = 10\n",
    "max_editors = 100\n",
    "email = 'd.ecer@elifesciences.org'"
   ]
  },
  {
   "cell_type": "code",
   "execution_count": null,
   "metadata": {},
   "outputs": [],
   "source": [
    "import logging\n",
    "from datetime import datetime\n",
    "from functools import partial\n",
    "from concurrent.futures import ThreadPoolExecutor\n",
    "from typing import List\n",
    "\n",
    "import pandas as pd\n",
    "from tqdm.auto import tqdm\n",
    "\n",
    "import data_science_pipeline.configure_warnings  # pylint: disable=unused-import\n",
    "\n",
    "from data_science_pipeline.utils.europepmc import (\n",
    "    EuropePMCApi,\n",
    "    europepmc_requests_retry_session\n",
    ")\n",
    "from data_science_pipeline.utils.bq import to_gbq, is_bq_not_found_exception\n",
    "from data_science_pipeline.utils.jupyter import (\n",
    "    read_big_query as _read_big_query,\n",
    ")"
   ]
  },
  {
   "cell_type": "code",
   "execution_count": null,
   "metadata": {},
   "outputs": [],
   "source": [
    "LOGGER = logging.getLogger(__name__)\n",
    "\n",
    "logging.basicConfig(level='INFO')\n",
    "logging.getLogger('data_science_pipeline').setLevel(logging.INFO)"
   ]
  },
  {
   "cell_type": "code",
   "execution_count": null,
   "metadata": {},
   "outputs": [],
   "source": [
    "editor_parsed_pubmed_links_table_name = '{output_dataset}.{prefix}{suffix}'.format(\n",
    "    output_dataset=output_dataset,\n",
    "    prefix=output_table_prefix,\n",
    "    suffix='editor_pubmed_links'\n",
    ")\n",
    "\n",
    "editor_parsed_pubmed_ids_table_name = '{output_dataset}.{prefix}{suffix}'.format(\n",
    "    output_dataset=output_dataset,\n",
    "    prefix=output_table_prefix,\n",
    "    suffix='editor_pubmed_ids'\n",
    ")"
   ]
  },
  {
   "cell_type": "code",
   "execution_count": null,
   "metadata": {},
   "outputs": [],
   "source": [
    "read_big_query = partial(_read_big_query, project_id=project_id)"
   ]
  },
  {
   "cell_type": "code",
   "execution_count": null,
   "metadata": {},
   "outputs": [],
   "source": [
    "default_query_props = dict(project=project_id, dataset=source_dataset)"
   ]
  },
  {
   "cell_type": "code",
   "execution_count": null,
   "metadata": {},
   "outputs": [],
   "source": [
    "_sql = (\n",
    "    'SELECT person_id FROM `{table}`'\n",
    ").format(table=editor_parsed_pubmed_ids_table_name)\n",
    "\n",
    "try:\n",
    "    existing_editor_ids_df = read_big_query(_sql)\n",
    "except Exception as e:  # pylint: disable=broad-except\n",
    "    if not is_bq_not_found_exception(e):\n",
    "        raise\n",
    "    print('table not found: %s' % editor_parsed_pubmed_ids_table_name)\n",
    "    existing_editor_ids_df = pd.DataFrame(columns=['person_id'])\n",
    "print(len(existing_editor_ids_df))\n",
    "existing_editor_ids_df.head()"
   ]
  },
  {
   "cell_type": "code",
   "execution_count": null,
   "metadata": {},
   "outputs": [],
   "source": [
    "existing_editor_ids_set = set(existing_editor_ids_df['person_id'])\n",
    "len(existing_editor_ids_set)"
   ]
  },
  {
   "cell_type": "code",
   "execution_count": null,
   "metadata": {},
   "outputs": [],
   "source": [
    "editor_parsed_pubmed_links_df = read_big_query(\n",
    "    'SELECT * FROM `{table_name}`\\nWHERE parsed_search_term IS NOT NULL'.format(\n",
    "        table_name=editor_parsed_pubmed_links_table_name\n",
    "    )\n",
    ")\n",
    "print(len(editor_parsed_pubmed_links_df))\n",
    "editor_parsed_pubmed_links_df.head()"
   ]
  },
  {
   "cell_type": "code",
   "execution_count": null,
   "metadata": {},
   "outputs": [],
   "source": [
    "remaining_editor_parsed_pubmed_links_df = editor_parsed_pubmed_links_df[\n",
    "    ~editor_parsed_pubmed_links_df['person_id'].isin(existing_editor_ids_set)\n",
    "]\n",
    "print(len(remaining_editor_parsed_pubmed_links_df))\n",
    "remaining_editor_parsed_pubmed_links_df.head(3)"
   ]
  },
  {
   "cell_type": "code",
   "execution_count": null,
   "metadata": {},
   "outputs": [],
   "source": [
    "processing_editor_parsed_pubmed_links_df = remaining_editor_parsed_pubmed_links_df\n",
    "if max_editors:\n",
    "    processing_editor_parsed_pubmed_links_df = processing_editor_parsed_pubmed_links_df[:max_editors]\n",
    "len(processing_editor_parsed_pubmed_links_df)"
   ]
  },
  {
   "cell_type": "code",
   "execution_count": null,
   "metadata": {},
   "outputs": [],
   "source": [
    "def get_editor_pubmed_paper_ids(europepmc_api: EuropePMCApi, row) -> List[str]:\n",
    "    parsed_search_term = row.parsed_search_term\n",
    "    if not parsed_search_term:\n",
    "        return None\n",
    "    author_names = parsed_search_term.get('include', {}).get('author')\n",
    "    try:\n",
    "        author_names = parsed_search_term.get('include', {}).get('author')\n",
    "        return europepmc_api.get_author_pmids(author_names)\n",
    "    except:  # pylint: disable=bare-except\n",
    "        LOGGER.error('failed to retrieve pubmed ids for author names: %s', author_names, exc_info=1)\n",
    "        return None\n",
    "\n",
    "\n",
    "editor_pubmed_links_result_df = processing_editor_parsed_pubmed_links_df[:max_editors].copy()\n",
    "\n",
    "with europepmc_requests_retry_session() as session:\n",
    "    europepmc_api = EuropePMCApi(\n",
    "        session,\n",
    "        params={'email': email}\n",
    "    )\n",
    "    with ThreadPoolExecutor(max_workers=max_workers) as executor:\n",
    "        editor_pubmed_links_result_df['pubmed_ids'] = list(tqdm(\n",
    "            executor.map(\n",
    "                lambda row: get_editor_pubmed_paper_ids(europepmc_api, row),\n",
    "                editor_pubmed_links_result_df.itertuples()\n",
    "            ),\n",
    "            total=len(editor_pubmed_links_result_df),\n",
    "            leave=False\n",
    "        ))"
   ]
  },
  {
   "cell_type": "code",
   "execution_count": null,
   "metadata": {},
   "outputs": [],
   "source": [
    "non_empty_editor_pubmed_links_result_df = editor_pubmed_links_result_df[\n",
    "    ~pd.isnull(editor_pubmed_links_result_df['pubmed_ids'])\n",
    "].copy()\n",
    "len(non_empty_editor_pubmed_links_result_df)"
   ]
  },
  {
   "cell_type": "code",
   "execution_count": null,
   "metadata": {},
   "outputs": [],
   "source": [
    "non_empty_editor_pubmed_links_result_df['provenance'] = [{\n",
    "    'source': 'europepmc',\n",
    "    'imported_timestamp': datetime.utcnow().isoformat()\n",
    "}] * len(non_empty_editor_pubmed_links_result_df)"
   ]
  },
  {
   "cell_type": "code",
   "execution_count": null,
   "metadata": {},
   "outputs": [],
   "source": [
    "if len(non_empty_editor_pubmed_links_result_df) == 0:\n",
    "    print('no data to upload')\n",
    "else:\n",
    "    print('writing to:', editor_parsed_pubmed_ids_table_name)\n",
    "    to_gbq(\n",
    "        non_empty_editor_pubmed_links_result_df,\n",
    "        project_id=project_id,\n",
    "        destination_table=editor_parsed_pubmed_ids_table_name,\n",
    "        if_exists='append'\n",
    "    )\n",
    "    print('done')"
   ]
  }
 ],
 "metadata": {
  "celltoolbar": "Tags",
  "kernelspec": {
   "display_name": "Python 3",
   "language": "python",
   "name": "python3"
  },
  "language_info": {
   "codemirror_mode": {
    "name": "ipython",
    "version": 3
   },
   "file_extension": ".py",
   "mimetype": "text/x-python",
   "name": "python",
   "nbconvert_exporter": "python",
   "pygments_lexer": "ipython3",
   "version": "3.7.6"
  }
 },
 "nbformat": 4,
 "nbformat_minor": 4
}
