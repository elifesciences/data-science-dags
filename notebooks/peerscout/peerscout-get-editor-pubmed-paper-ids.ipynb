{
 "cells": [
  {
   "cell_type": "code",
   "execution_count": 1,
   "source": [
    "project_id = 'elife-data-pipeline'\n",
    "source_dataset = 'de_dev'\n",
    "output_dataset = 'de_dev'\n",
    "output_table_prefix = 'data_science_'\n",
    "\n",
    "max_workers = 10\n",
    "max_editors = 100\n",
    "email = 'd.ecer@elifesciences.org'"
   ],
   "outputs": [],
   "metadata": {
    "tags": [
     "parameters"
    ]
   }
  },
  {
   "cell_type": "code",
   "execution_count": 2,
   "source": [
    "import logging\n",
    "from datetime import datetime, timedelta\n",
    "from functools import partial\n",
    "from concurrent.futures import ThreadPoolExecutor\n",
    "from typing import List\n",
    "\n",
    "import pandas as pd\n",
    "from tqdm.auto import tqdm\n",
    "\n",
    "import data_science_pipeline.configure_warnings  # pylint: disable=unused-import\n",
    "import data_science_pipeline.configure_notebook_logging  # pylint: disable=unused-import\n",
    "\n",
    "from data_science_pipeline.utils.europepmc import (\n",
    "    EuropePMCApi,\n",
    "    europepmc_requests_retry_session\n",
    ")\n",
    "from data_science_pipeline.utils.bq import to_gbq, is_bq_not_found_exception\n",
    "from data_science_pipeline.utils.jupyter import (\n",
    "    read_big_query as _read_big_query,\n",
    ")"
   ],
   "outputs": [
    {
     "output_type": "stream",
     "name": "stderr",
     "text": [
      "INFO:botocore.credentials:Found credentials in shared credentials file: ~/.aws/credentials\n"
     ]
    }
   ],
   "metadata": {}
  },
  {
   "cell_type": "code",
   "execution_count": 3,
   "source": [
    "LOGGER = logging.getLogger(__name__)\n",
    "\n",
    "logging.basicConfig(level='INFO')\n",
    "logging.getLogger('data_science_pipeline').setLevel(logging.INFO)"
   ],
   "outputs": [],
   "metadata": {}
  },
  {
   "cell_type": "code",
   "execution_count": 4,
   "source": [
    "editor_parsed_pubmed_links_table_name = '{output_dataset}.{prefix}{suffix}'.format(\n",
    "    output_dataset=output_dataset,\n",
    "    prefix=output_table_prefix,\n",
    "    suffix='editor_pubmed_links'\n",
    ")\n",
    "\n",
    "editor_parsed_pubmed_ids_table_name = '{output_dataset}.{prefix}{suffix}'.format(\n",
    "    output_dataset=output_dataset,\n",
    "    prefix=output_table_prefix,\n",
    "    suffix='editor_pubmed_ids'\n",
    ")"
   ],
   "outputs": [],
   "metadata": {}
  },
  {
   "cell_type": "code",
   "execution_count": 5,
   "source": [
    "read_big_query = partial(_read_big_query, project_id=project_id)"
   ],
   "outputs": [],
   "metadata": {}
  },
  {
   "cell_type": "code",
   "execution_count": 6,
   "source": [
    "default_query_props = dict(project=project_id, dataset=source_dataset)"
   ],
   "outputs": [],
   "metadata": {}
  },
  {
   "cell_type": "code",
   "execution_count": 7,
   "source": [
    "_sql = (\n",
    "    '''\n",
    "    SELECT\n",
    "        person_id,\n",
    "        pubmed_url,\n",
    "        provenance.imported_timestamp as imported_timestamp\n",
    "    FROM `{table}`\n",
    "    ''').format(table=editor_parsed_pubmed_ids_table_name)\n",
    "\n",
    "try:\n",
    "    existing_editor_ids_and_pubmed_url_df = read_big_query(_sql)\n",
    "except Exception as e:  # pylint: disable=broad-except\n",
    "    if not is_bq_not_found_exception(e):\n",
    "        raise\n",
    "    print('table not found: %s' % editor_parsed_pubmed_ids_table_name)\n",
    "    existing_editor_ids_and_pubmed_url_df = pd.DataFrame(columns=['person_id','pubmed_url', 'imported_timestamp'])\n",
    "print(\"existing_editor_ids_and_pubmed_url_df length: \",len(existing_editor_ids_and_pubmed_url_df))\n",
    "existing_editor_ids_and_pubmed_url_df.head(3)"
   ],
   "outputs": [
    {
     "output_type": "display_data",
     "data": {
      "text/plain": [
       "<IPython.core.display.Markdown object>"
      ],
      "text/markdown": [
       "> ```sql\n",
       "> \n",
       ">     SELECT\n",
       ">         person_id,\n",
       ">         pubmed_url,\n",
       ">         provenance.imported_timestamp as imported_timestamp\n",
       ">     FROM `de_dev.data_science_editor_pubmed_ids`\n",
       ">     \n",
       "> ```"
      ]
     },
     "metadata": {}
    },
    {
     "output_type": "stream",
     "name": "stdout",
     "text": [
      "existing_editor_ids_and_pubmed_url_df length:  6506\n"
     ]
    },
    {
     "output_type": "stream",
     "name": "stderr",
     "text": [
      "/Users/hazal/elife_repo/data-science-dags/venv/lib/python3.7/site-packages/google/cloud/bigquery/table.py:1952: FutureWarning: Using .astype to convert from timezone-aware dtype to timezone-naive dtype is deprecated and will raise in a future version.  Use obj.tz_localize(None) or obj.tz_convert('UTC').tz_localize(None) instead\n",
      "  df[column] = pandas.Series(df[column], dtype=dtypes[column])\n"
     ]
    },
    {
     "output_type": "execute_result",
     "data": {
      "text/plain": [
       "  person_id                                         pubmed_url  \\\n",
       "0     15332  http://www.ncbi.nlm.nih.gov/pubmed/?term=Rutz%...   \n",
       "1    178962  https://www.ncbi.nlm.nih.gov/pubmed/?term=Nwao...   \n",
       "2    125237  https://pubmed.ncbi.nlm.nih.gov/?sort=date&siz...   \n",
       "\n",
       "                imported_timestamp  \n",
       "0 2021-09-14 20:12:26.199992+00:00  \n",
       "1 2021-09-14 20:12:26.199992+00:00  \n",
       "2 2021-09-14 20:12:26.199992+00:00  "
      ],
      "text/html": [
       "<div>\n",
       "<style scoped>\n",
       "    .dataframe tbody tr th:only-of-type {\n",
       "        vertical-align: middle;\n",
       "    }\n",
       "\n",
       "    .dataframe tbody tr th {\n",
       "        vertical-align: top;\n",
       "    }\n",
       "\n",
       "    .dataframe thead th {\n",
       "        text-align: right;\n",
       "    }\n",
       "</style>\n",
       "<table border=\"1\" class=\"dataframe\">\n",
       "  <thead>\n",
       "    <tr style=\"text-align: right;\">\n",
       "      <th></th>\n",
       "      <th>person_id</th>\n",
       "      <th>pubmed_url</th>\n",
       "      <th>imported_timestamp</th>\n",
       "    </tr>\n",
       "  </thead>\n",
       "  <tbody>\n",
       "    <tr>\n",
       "      <th>0</th>\n",
       "      <td>15332</td>\n",
       "      <td>http://www.ncbi.nlm.nih.gov/pubmed/?term=Rutz%...</td>\n",
       "      <td>2021-09-14 20:12:26.199992+00:00</td>\n",
       "    </tr>\n",
       "    <tr>\n",
       "      <th>1</th>\n",
       "      <td>178962</td>\n",
       "      <td>https://www.ncbi.nlm.nih.gov/pubmed/?term=Nwao...</td>\n",
       "      <td>2021-09-14 20:12:26.199992+00:00</td>\n",
       "    </tr>\n",
       "    <tr>\n",
       "      <th>2</th>\n",
       "      <td>125237</td>\n",
       "      <td>https://pubmed.ncbi.nlm.nih.gov/?sort=date&amp;siz...</td>\n",
       "      <td>2021-09-14 20:12:26.199992+00:00</td>\n",
       "    </tr>\n",
       "  </tbody>\n",
       "</table>\n",
       "</div>"
      ]
     },
     "metadata": {},
     "execution_count": 7
    }
   ],
   "metadata": {}
  },
  {
   "cell_type": "code",
   "execution_count": 10,
   "source": [
    "existing_editor_ids_set = set(existing_editor_ids_and_pubmed_url_df['person_id'])\n",
    "print(\"existing_editor_ids_set length :\",len(existing_editor_ids_set))"
   ],
   "outputs": [
    {
     "output_type": "stream",
     "name": "stdout",
     "text": [
      "existing_editor_ids_set length : 773\n"
     ]
    }
   ],
   "metadata": {}
  },
  {
   "cell_type": "code",
   "execution_count": 11,
   "source": [
    "editor_parsed_pubmed_links_df = read_big_query(\n",
    "    'SELECT * FROM `{table_name}`\\nWHERE parsed_search_term IS NOT NULL'.format(\n",
    "        table_name=editor_parsed_pubmed_links_table_name\n",
    "    )\n",
    ")\n",
    "print(\"editor_parsed_pubmed_links_df length: \",len(editor_parsed_pubmed_links_df))\n",
    "editor_parsed_pubmed_links_df.head(3)"
   ],
   "outputs": [
    {
     "output_type": "display_data",
     "data": {
      "text/plain": [
       "<IPython.core.display.Markdown object>"
      ],
      "text/markdown": [
       "> ```sql\n",
       "> SELECT * FROM `de_dev.data_science_editor_pubmed_links`\n",
       "> WHERE parsed_search_term IS NOT NULL\n",
       "> ```"
      ]
     },
     "metadata": {}
    },
    {
     "output_type": "stream",
     "name": "stdout",
     "text": [
      "editor_parsed_pubmed_links_df length:  763\n"
     ]
    },
    {
     "output_type": "execute_result",
     "data": {
      "text/plain": [
       "   is_ncbi_bibliography_url            name  \\\n",
       "0                     False   Barnabas Daru   \n",
       "1                     False  Yuuki Watanabe   \n",
       "2                     False     Safi Darden   \n",
       "\n",
       "                                  parsed_search_term person_id  \\\n",
       "0  {'exclude': None, 'include': {'author': ['Daru...    187442   \n",
       "1  {'exclude': None, 'include': {'author': ['Wata...    126873   \n",
       "2  {'exclude': None, 'include': {'author': ['Dard...     43038   \n",
       "\n",
       "                                          pubmed_url  \\\n",
       "0  https://pubmed.ncbi.nlm.nih.gov/?term=Daru+BH&...   \n",
       "1  https://www.ncbi.nlm.nih.gov/pubmed/?term=Wata...   \n",
       "2  https://pubmed.ncbi.nlm.nih.gov/?size=200&term...   \n",
       "\n",
       "                        relevant_pubmed_ids  \\\n",
       "0  [32355257, 29083043, 30455213, 28919204]   \n",
       "1            [25902489, 23341596, 20946384]   \n",
       "2  [32900316, 32531279, 31748621, 30800389]   \n",
       "\n",
       "                                relevant_pubmed_urls  \\\n",
       "0  [https://www.ncbi.nlm.nih.gov/pubmed/32355257,...   \n",
       "1  [https://www.ncbi.nlm.nih.gov/pubmed/25902489,...   \n",
       "2  [https://www.ncbi.nlm.nih.gov/pubmed/32900316,...   \n",
       "\n",
       "                                 resolved_pubmed_url          search_term  \n",
       "0  https://pubmed.ncbi.nlm.nih.gov/?term=Daru+BH&...              Daru BH  \n",
       "1  https://www.ncbi.nlm.nih.gov/pubmed/?term=Wata...  Watanabe YY[Author]  \n",
       "2  https://pubmed.ncbi.nlm.nih.gov/?size=200&term...            Darden SK  "
      ],
      "text/html": [
       "<div>\n",
       "<style scoped>\n",
       "    .dataframe tbody tr th:only-of-type {\n",
       "        vertical-align: middle;\n",
       "    }\n",
       "\n",
       "    .dataframe tbody tr th {\n",
       "        vertical-align: top;\n",
       "    }\n",
       "\n",
       "    .dataframe thead th {\n",
       "        text-align: right;\n",
       "    }\n",
       "</style>\n",
       "<table border=\"1\" class=\"dataframe\">\n",
       "  <thead>\n",
       "    <tr style=\"text-align: right;\">\n",
       "      <th></th>\n",
       "      <th>is_ncbi_bibliography_url</th>\n",
       "      <th>name</th>\n",
       "      <th>parsed_search_term</th>\n",
       "      <th>person_id</th>\n",
       "      <th>pubmed_url</th>\n",
       "      <th>relevant_pubmed_ids</th>\n",
       "      <th>relevant_pubmed_urls</th>\n",
       "      <th>resolved_pubmed_url</th>\n",
       "      <th>search_term</th>\n",
       "    </tr>\n",
       "  </thead>\n",
       "  <tbody>\n",
       "    <tr>\n",
       "      <th>0</th>\n",
       "      <td>False</td>\n",
       "      <td>Barnabas Daru</td>\n",
       "      <td>{'exclude': None, 'include': {'author': ['Daru...</td>\n",
       "      <td>187442</td>\n",
       "      <td>https://pubmed.ncbi.nlm.nih.gov/?term=Daru+BH&amp;...</td>\n",
       "      <td>[32355257, 29083043, 30455213, 28919204]</td>\n",
       "      <td>[https://www.ncbi.nlm.nih.gov/pubmed/32355257,...</td>\n",
       "      <td>https://pubmed.ncbi.nlm.nih.gov/?term=Daru+BH&amp;...</td>\n",
       "      <td>Daru BH</td>\n",
       "    </tr>\n",
       "    <tr>\n",
       "      <th>1</th>\n",
       "      <td>False</td>\n",
       "      <td>Yuuki Watanabe</td>\n",
       "      <td>{'exclude': None, 'include': {'author': ['Wata...</td>\n",
       "      <td>126873</td>\n",
       "      <td>https://www.ncbi.nlm.nih.gov/pubmed/?term=Wata...</td>\n",
       "      <td>[25902489, 23341596, 20946384]</td>\n",
       "      <td>[https://www.ncbi.nlm.nih.gov/pubmed/25902489,...</td>\n",
       "      <td>https://www.ncbi.nlm.nih.gov/pubmed/?term=Wata...</td>\n",
       "      <td>Watanabe YY[Author]</td>\n",
       "    </tr>\n",
       "    <tr>\n",
       "      <th>2</th>\n",
       "      <td>False</td>\n",
       "      <td>Safi Darden</td>\n",
       "      <td>{'exclude': None, 'include': {'author': ['Dard...</td>\n",
       "      <td>43038</td>\n",
       "      <td>https://pubmed.ncbi.nlm.nih.gov/?size=200&amp;term...</td>\n",
       "      <td>[32900316, 32531279, 31748621, 30800389]</td>\n",
       "      <td>[https://www.ncbi.nlm.nih.gov/pubmed/32900316,...</td>\n",
       "      <td>https://pubmed.ncbi.nlm.nih.gov/?size=200&amp;term...</td>\n",
       "      <td>Darden SK</td>\n",
       "    </tr>\n",
       "  </tbody>\n",
       "</table>\n",
       "</div>"
      ]
     },
     "metadata": {},
     "execution_count": 11
    }
   ],
   "metadata": {}
  },
  {
   "cell_type": "code",
   "execution_count": 12,
   "source": [
    "merged_editor_parsed_pubmed_links_df = editor_parsed_pubmed_links_df.merge(\n",
    "    existing_editor_ids_and_pubmed_url_df,\n",
    "    how='left',\n",
    "    on='person_id',\n",
    "    suffixes=('', '_existing')\n",
    ")\n",
    "print(\"merged_editor_parsed_pubmed_links_df length: \",len(merged_editor_parsed_pubmed_links_df))\n",
    "merged_editor_parsed_pubmed_links_df.head(3)"
   ],
   "outputs": [
    {
     "output_type": "stream",
     "name": "stdout",
     "text": [
      "merged_editor_parsed_pubmed_links_df length:  6769\n"
     ]
    },
    {
     "output_type": "execute_result",
     "data": {
      "text/plain": [
       "   is_ncbi_bibliography_url           name  \\\n",
       "0                     False  Barnabas Daru   \n",
       "1                     False  Barnabas Daru   \n",
       "2                     False  Barnabas Daru   \n",
       "\n",
       "                                  parsed_search_term person_id  \\\n",
       "0  {'exclude': None, 'include': {'author': ['Daru...    187442   \n",
       "1  {'exclude': None, 'include': {'author': ['Daru...    187442   \n",
       "2  {'exclude': None, 'include': {'author': ['Daru...    187442   \n",
       "\n",
       "                                          pubmed_url  \\\n",
       "0  https://pubmed.ncbi.nlm.nih.gov/?term=Daru+BH&...   \n",
       "1  https://pubmed.ncbi.nlm.nih.gov/?term=Daru+BH&...   \n",
       "2  https://pubmed.ncbi.nlm.nih.gov/?term=Daru+BH&...   \n",
       "\n",
       "                        relevant_pubmed_ids  \\\n",
       "0  [32355257, 29083043, 30455213, 28919204]   \n",
       "1  [32355257, 29083043, 30455213, 28919204]   \n",
       "2  [32355257, 29083043, 30455213, 28919204]   \n",
       "\n",
       "                                relevant_pubmed_urls  \\\n",
       "0  [https://www.ncbi.nlm.nih.gov/pubmed/32355257,...   \n",
       "1  [https://www.ncbi.nlm.nih.gov/pubmed/32355257,...   \n",
       "2  [https://www.ncbi.nlm.nih.gov/pubmed/32355257,...   \n",
       "\n",
       "                                 resolved_pubmed_url search_term  \\\n",
       "0  https://pubmed.ncbi.nlm.nih.gov/?term=Daru+BH&...     Daru BH   \n",
       "1  https://pubmed.ncbi.nlm.nih.gov/?term=Daru+BH&...     Daru BH   \n",
       "2  https://pubmed.ncbi.nlm.nih.gov/?term=Daru+BH&...     Daru BH   \n",
       "\n",
       "                                 pubmed_url_existing  \\\n",
       "0  https://pubmed.ncbi.nlm.nih.gov/?term=Daru+BH&...   \n",
       "1  https://pubmed.ncbi.nlm.nih.gov/?term=Daru+BH&...   \n",
       "2  https://pubmed.ncbi.nlm.nih.gov/?term=Daru+BH&...   \n",
       "\n",
       "                imported_timestamp  \n",
       "0 2021-09-14 20:12:26.199992+00:00  \n",
       "1 2021-09-14 20:12:26.199992+00:00  \n",
       "2 2021-09-15 07:29:43.577105+00:00  "
      ],
      "text/html": [
       "<div>\n",
       "<style scoped>\n",
       "    .dataframe tbody tr th:only-of-type {\n",
       "        vertical-align: middle;\n",
       "    }\n",
       "\n",
       "    .dataframe tbody tr th {\n",
       "        vertical-align: top;\n",
       "    }\n",
       "\n",
       "    .dataframe thead th {\n",
       "        text-align: right;\n",
       "    }\n",
       "</style>\n",
       "<table border=\"1\" class=\"dataframe\">\n",
       "  <thead>\n",
       "    <tr style=\"text-align: right;\">\n",
       "      <th></th>\n",
       "      <th>is_ncbi_bibliography_url</th>\n",
       "      <th>name</th>\n",
       "      <th>parsed_search_term</th>\n",
       "      <th>person_id</th>\n",
       "      <th>pubmed_url</th>\n",
       "      <th>relevant_pubmed_ids</th>\n",
       "      <th>relevant_pubmed_urls</th>\n",
       "      <th>resolved_pubmed_url</th>\n",
       "      <th>search_term</th>\n",
       "      <th>pubmed_url_existing</th>\n",
       "      <th>imported_timestamp</th>\n",
       "    </tr>\n",
       "  </thead>\n",
       "  <tbody>\n",
       "    <tr>\n",
       "      <th>0</th>\n",
       "      <td>False</td>\n",
       "      <td>Barnabas Daru</td>\n",
       "      <td>{'exclude': None, 'include': {'author': ['Daru...</td>\n",
       "      <td>187442</td>\n",
       "      <td>https://pubmed.ncbi.nlm.nih.gov/?term=Daru+BH&amp;...</td>\n",
       "      <td>[32355257, 29083043, 30455213, 28919204]</td>\n",
       "      <td>[https://www.ncbi.nlm.nih.gov/pubmed/32355257,...</td>\n",
       "      <td>https://pubmed.ncbi.nlm.nih.gov/?term=Daru+BH&amp;...</td>\n",
       "      <td>Daru BH</td>\n",
       "      <td>https://pubmed.ncbi.nlm.nih.gov/?term=Daru+BH&amp;...</td>\n",
       "      <td>2021-09-14 20:12:26.199992+00:00</td>\n",
       "    </tr>\n",
       "    <tr>\n",
       "      <th>1</th>\n",
       "      <td>False</td>\n",
       "      <td>Barnabas Daru</td>\n",
       "      <td>{'exclude': None, 'include': {'author': ['Daru...</td>\n",
       "      <td>187442</td>\n",
       "      <td>https://pubmed.ncbi.nlm.nih.gov/?term=Daru+BH&amp;...</td>\n",
       "      <td>[32355257, 29083043, 30455213, 28919204]</td>\n",
       "      <td>[https://www.ncbi.nlm.nih.gov/pubmed/32355257,...</td>\n",
       "      <td>https://pubmed.ncbi.nlm.nih.gov/?term=Daru+BH&amp;...</td>\n",
       "      <td>Daru BH</td>\n",
       "      <td>https://pubmed.ncbi.nlm.nih.gov/?term=Daru+BH&amp;...</td>\n",
       "      <td>2021-09-14 20:12:26.199992+00:00</td>\n",
       "    </tr>\n",
       "    <tr>\n",
       "      <th>2</th>\n",
       "      <td>False</td>\n",
       "      <td>Barnabas Daru</td>\n",
       "      <td>{'exclude': None, 'include': {'author': ['Daru...</td>\n",
       "      <td>187442</td>\n",
       "      <td>https://pubmed.ncbi.nlm.nih.gov/?term=Daru+BH&amp;...</td>\n",
       "      <td>[32355257, 29083043, 30455213, 28919204]</td>\n",
       "      <td>[https://www.ncbi.nlm.nih.gov/pubmed/32355257,...</td>\n",
       "      <td>https://pubmed.ncbi.nlm.nih.gov/?term=Daru+BH&amp;...</td>\n",
       "      <td>Daru BH</td>\n",
       "      <td>https://pubmed.ncbi.nlm.nih.gov/?term=Daru+BH&amp;...</td>\n",
       "      <td>2021-09-15 07:29:43.577105+00:00</td>\n",
       "    </tr>\n",
       "  </tbody>\n",
       "</table>\n",
       "</div>"
      ]
     },
     "metadata": {},
     "execution_count": 12
    }
   ],
   "metadata": {}
  },
  {
   "cell_type": "code",
   "execution_count": 13,
   "source": [
    "editors_with_changed_pubmed_url_df = merged_editor_parsed_pubmed_links_df[\n",
    "    (merged_editor_parsed_pubmed_links_df['pubmed_url_existing'].notnull())\n",
    "    &\n",
    "    (merged_editor_parsed_pubmed_links_df['pubmed_url'] != merged_editor_parsed_pubmed_links_df['pubmed_url_existing'])\n",
    "].drop(columns=['pubmed_url_existing','imported_timestamp'])\n",
    "\n",
    "print(\"editors_with_changed_pubmed_url_df length: \",len(editors_with_changed_pubmed_url_df))\n",
    "editors_with_changed_pubmed_url_df.head(3)"
   ],
   "outputs": [
    {
     "output_type": "stream",
     "name": "stdout",
     "text": [
      "editors_with_changed_pubmed_url_df length:  284\n"
     ]
    },
    {
     "output_type": "execute_result",
     "data": {
      "text/plain": [
       "      is_ncbi_bibliography_url            name  \\\n",
       "1681                     False     Andrew King   \n",
       "4702                     False     Yibing Shan   \n",
       "6448                     False  Eduardo Franco   \n",
       "\n",
       "                                     parsed_search_term person_id  \\\n",
       "1681  {'exclude': None, 'include': {'author': ['King...     14601   \n",
       "4702  {'exclude': None, 'include': {'author': ['Shan...      4398   \n",
       "6448  {'exclude': {'pmid': ['22208813', '24331745', ...      1086   \n",
       "\n",
       "                                             pubmed_url  \\\n",
       "1681  http://www.ncbi.nlm.nih.gov/pubmed?term=King%2...   \n",
       "4702  http://www.ncbi.nlm.nih.gov/pubmed?term=Shan%2...   \n",
       "6448            https://tinyurl.com/PubMedEduardoFranco   \n",
       "\n",
       "                                    relevant_pubmed_ids  \\\n",
       "1681  [31949136, 31300665, 29136122, 31802997, 28891...   \n",
       "4702           [24918548, 23374350, 21545110, 20947758]   \n",
       "6448                                                 []   \n",
       "\n",
       "                                   relevant_pubmed_urls  \\\n",
       "1681  [https://www.ncbi.nlm.nih.gov/pubmed/31949136,...   \n",
       "4702  [https://www.ncbi.nlm.nih.gov/pubmed/24918548,...   \n",
       "6448                                                 []   \n",
       "\n",
       "                                    resolved_pubmed_url  \\\n",
       "1681  https://www.ncbi.nlm.nih.gov/pubmed?term=King%...   \n",
       "4702  https://www.ncbi.nlm.nih.gov/pubmed?term=Shan%...   \n",
       "6448  https://pubmed.ncbi.nlm.nih.gov/?term=franco+e...   \n",
       "\n",
       "                                            search_term  \n",
       "1681                                       King A J[au]  \n",
       "4702                                         Shan Y[au]  \n",
       "6448  franco el[Author] OR 30907564[pmid] OR 2644535...  "
      ],
      "text/html": [
       "<div>\n",
       "<style scoped>\n",
       "    .dataframe tbody tr th:only-of-type {\n",
       "        vertical-align: middle;\n",
       "    }\n",
       "\n",
       "    .dataframe tbody tr th {\n",
       "        vertical-align: top;\n",
       "    }\n",
       "\n",
       "    .dataframe thead th {\n",
       "        text-align: right;\n",
       "    }\n",
       "</style>\n",
       "<table border=\"1\" class=\"dataframe\">\n",
       "  <thead>\n",
       "    <tr style=\"text-align: right;\">\n",
       "      <th></th>\n",
       "      <th>is_ncbi_bibliography_url</th>\n",
       "      <th>name</th>\n",
       "      <th>parsed_search_term</th>\n",
       "      <th>person_id</th>\n",
       "      <th>pubmed_url</th>\n",
       "      <th>relevant_pubmed_ids</th>\n",
       "      <th>relevant_pubmed_urls</th>\n",
       "      <th>resolved_pubmed_url</th>\n",
       "      <th>search_term</th>\n",
       "    </tr>\n",
       "  </thead>\n",
       "  <tbody>\n",
       "    <tr>\n",
       "      <th>1681</th>\n",
       "      <td>False</td>\n",
       "      <td>Andrew King</td>\n",
       "      <td>{'exclude': None, 'include': {'author': ['King...</td>\n",
       "      <td>14601</td>\n",
       "      <td>http://www.ncbi.nlm.nih.gov/pubmed?term=King%2...</td>\n",
       "      <td>[31949136, 31300665, 29136122, 31802997, 28891...</td>\n",
       "      <td>[https://www.ncbi.nlm.nih.gov/pubmed/31949136,...</td>\n",
       "      <td>https://www.ncbi.nlm.nih.gov/pubmed?term=King%...</td>\n",
       "      <td>King A J[au]</td>\n",
       "    </tr>\n",
       "    <tr>\n",
       "      <th>4702</th>\n",
       "      <td>False</td>\n",
       "      <td>Yibing Shan</td>\n",
       "      <td>{'exclude': None, 'include': {'author': ['Shan...</td>\n",
       "      <td>4398</td>\n",
       "      <td>http://www.ncbi.nlm.nih.gov/pubmed?term=Shan%2...</td>\n",
       "      <td>[24918548, 23374350, 21545110, 20947758]</td>\n",
       "      <td>[https://www.ncbi.nlm.nih.gov/pubmed/24918548,...</td>\n",
       "      <td>https://www.ncbi.nlm.nih.gov/pubmed?term=Shan%...</td>\n",
       "      <td>Shan Y[au]</td>\n",
       "    </tr>\n",
       "    <tr>\n",
       "      <th>6448</th>\n",
       "      <td>False</td>\n",
       "      <td>Eduardo Franco</td>\n",
       "      <td>{'exclude': {'pmid': ['22208813', '24331745', ...</td>\n",
       "      <td>1086</td>\n",
       "      <td>https://tinyurl.com/PubMedEduardoFranco</td>\n",
       "      <td>[]</td>\n",
       "      <td>[]</td>\n",
       "      <td>https://pubmed.ncbi.nlm.nih.gov/?term=franco+e...</td>\n",
       "      <td>franco el[Author] OR 30907564[pmid] OR 2644535...</td>\n",
       "    </tr>\n",
       "  </tbody>\n",
       "</table>\n",
       "</div>"
      ]
     },
     "metadata": {},
     "execution_count": 13
    }
   ],
   "metadata": {}
  },
  {
   "cell_type": "code",
   "execution_count": 14,
   "source": [
    "new_added_editors_df = editor_parsed_pubmed_links_df[\n",
    "    ~editor_parsed_pubmed_links_df['person_id'].isin(existing_editor_ids_set)\n",
    "]\n",
    "\n",
    "print(\"new_added_editors_df length: \",len(new_added_editors_df))\n",
    "new_added_editors_df.head(3)"
   ],
   "outputs": [
    {
     "output_type": "stream",
     "name": "stdout",
     "text": [
      "new_added_editors_df length:  1\n"
     ]
    },
    {
     "output_type": "execute_result",
     "data": {
      "text/plain": [
       "     is_ncbi_bibliography_url     name  \\\n",
       "168                     False  Lu Chen   \n",
       "\n",
       "                                    parsed_search_term person_id  \\\n",
       "168  {'exclude': None, 'include': {'author': ['Chen...     90633   \n",
       "\n",
       "                                            pubmed_url  \\\n",
       "168  https://www.ncbi.nlm.nih.gov/pubmed/?term=Chen...   \n",
       "\n",
       "                                   relevant_pubmed_ids  \\\n",
       "168  [30782829, 30355624, 30068571, 29760176, 25843...   \n",
       "\n",
       "                                  relevant_pubmed_urls  \\\n",
       "168  [https://pubmed.ncbi.nlm.nih.gov/30782829, htt...   \n",
       "\n",
       "                                   resolved_pubmed_url     search_term  \n",
       "168  https://www.ncbi.nlm.nih.gov/pubmed/?term=Chen...  Chen L[Author]  "
      ],
      "text/html": [
       "<div>\n",
       "<style scoped>\n",
       "    .dataframe tbody tr th:only-of-type {\n",
       "        vertical-align: middle;\n",
       "    }\n",
       "\n",
       "    .dataframe tbody tr th {\n",
       "        vertical-align: top;\n",
       "    }\n",
       "\n",
       "    .dataframe thead th {\n",
       "        text-align: right;\n",
       "    }\n",
       "</style>\n",
       "<table border=\"1\" class=\"dataframe\">\n",
       "  <thead>\n",
       "    <tr style=\"text-align: right;\">\n",
       "      <th></th>\n",
       "      <th>is_ncbi_bibliography_url</th>\n",
       "      <th>name</th>\n",
       "      <th>parsed_search_term</th>\n",
       "      <th>person_id</th>\n",
       "      <th>pubmed_url</th>\n",
       "      <th>relevant_pubmed_ids</th>\n",
       "      <th>relevant_pubmed_urls</th>\n",
       "      <th>resolved_pubmed_url</th>\n",
       "      <th>search_term</th>\n",
       "    </tr>\n",
       "  </thead>\n",
       "  <tbody>\n",
       "    <tr>\n",
       "      <th>168</th>\n",
       "      <td>False</td>\n",
       "      <td>Lu Chen</td>\n",
       "      <td>{'exclude': None, 'include': {'author': ['Chen...</td>\n",
       "      <td>90633</td>\n",
       "      <td>https://www.ncbi.nlm.nih.gov/pubmed/?term=Chen...</td>\n",
       "      <td>[30782829, 30355624, 30068571, 29760176, 25843...</td>\n",
       "      <td>[https://pubmed.ncbi.nlm.nih.gov/30782829, htt...</td>\n",
       "      <td>https://www.ncbi.nlm.nih.gov/pubmed/?term=Chen...</td>\n",
       "      <td>Chen L[Author]</td>\n",
       "    </tr>\n",
       "  </tbody>\n",
       "</table>\n",
       "</div>"
      ]
     },
     "metadata": {},
     "execution_count": 14
    }
   ],
   "metadata": {}
  },
  {
   "cell_type": "code",
   "execution_count": 15,
   "source": [
    "remaining_editor_parsed_pubmed_links_df = pd.concat([new_added_editors_df, editors_with_changed_pubmed_url_df])\n",
    "\n",
    "print(\"remaining_editor_parsed_pubmed_links_df length: \",len(remaining_editor_parsed_pubmed_links_df))\n",
    "remaining_editor_parsed_pubmed_links_df.head(3)"
   ],
   "outputs": [
    {
     "output_type": "stream",
     "name": "stdout",
     "text": [
      "remaining_editor_parsed_pubmed_links_df length:  285\n"
     ]
    },
    {
     "output_type": "execute_result",
     "data": {
      "text/plain": [
       "      is_ncbi_bibliography_url         name  \\\n",
       "168                      False      Lu Chen   \n",
       "1681                     False  Andrew King   \n",
       "4702                     False  Yibing Shan   \n",
       "\n",
       "                                     parsed_search_term person_id  \\\n",
       "168   {'exclude': None, 'include': {'author': ['Chen...     90633   \n",
       "1681  {'exclude': None, 'include': {'author': ['King...     14601   \n",
       "4702  {'exclude': None, 'include': {'author': ['Shan...      4398   \n",
       "\n",
       "                                             pubmed_url  \\\n",
       "168   https://www.ncbi.nlm.nih.gov/pubmed/?term=Chen...   \n",
       "1681  http://www.ncbi.nlm.nih.gov/pubmed?term=King%2...   \n",
       "4702  http://www.ncbi.nlm.nih.gov/pubmed?term=Shan%2...   \n",
       "\n",
       "                                    relevant_pubmed_ids  \\\n",
       "168   [30782829, 30355624, 30068571, 29760176, 25843...   \n",
       "1681  [31949136, 31300665, 29136122, 31802997, 28891...   \n",
       "4702           [24918548, 23374350, 21545110, 20947758]   \n",
       "\n",
       "                                   relevant_pubmed_urls  \\\n",
       "168   [https://pubmed.ncbi.nlm.nih.gov/30782829, htt...   \n",
       "1681  [https://www.ncbi.nlm.nih.gov/pubmed/31949136,...   \n",
       "4702  [https://www.ncbi.nlm.nih.gov/pubmed/24918548,...   \n",
       "\n",
       "                                    resolved_pubmed_url     search_term  \n",
       "168   https://www.ncbi.nlm.nih.gov/pubmed/?term=Chen...  Chen L[Author]  \n",
       "1681  https://www.ncbi.nlm.nih.gov/pubmed?term=King%...    King A J[au]  \n",
       "4702  https://www.ncbi.nlm.nih.gov/pubmed?term=Shan%...      Shan Y[au]  "
      ],
      "text/html": [
       "<div>\n",
       "<style scoped>\n",
       "    .dataframe tbody tr th:only-of-type {\n",
       "        vertical-align: middle;\n",
       "    }\n",
       "\n",
       "    .dataframe tbody tr th {\n",
       "        vertical-align: top;\n",
       "    }\n",
       "\n",
       "    .dataframe thead th {\n",
       "        text-align: right;\n",
       "    }\n",
       "</style>\n",
       "<table border=\"1\" class=\"dataframe\">\n",
       "  <thead>\n",
       "    <tr style=\"text-align: right;\">\n",
       "      <th></th>\n",
       "      <th>is_ncbi_bibliography_url</th>\n",
       "      <th>name</th>\n",
       "      <th>parsed_search_term</th>\n",
       "      <th>person_id</th>\n",
       "      <th>pubmed_url</th>\n",
       "      <th>relevant_pubmed_ids</th>\n",
       "      <th>relevant_pubmed_urls</th>\n",
       "      <th>resolved_pubmed_url</th>\n",
       "      <th>search_term</th>\n",
       "    </tr>\n",
       "  </thead>\n",
       "  <tbody>\n",
       "    <tr>\n",
       "      <th>168</th>\n",
       "      <td>False</td>\n",
       "      <td>Lu Chen</td>\n",
       "      <td>{'exclude': None, 'include': {'author': ['Chen...</td>\n",
       "      <td>90633</td>\n",
       "      <td>https://www.ncbi.nlm.nih.gov/pubmed/?term=Chen...</td>\n",
       "      <td>[30782829, 30355624, 30068571, 29760176, 25843...</td>\n",
       "      <td>[https://pubmed.ncbi.nlm.nih.gov/30782829, htt...</td>\n",
       "      <td>https://www.ncbi.nlm.nih.gov/pubmed/?term=Chen...</td>\n",
       "      <td>Chen L[Author]</td>\n",
       "    </tr>\n",
       "    <tr>\n",
       "      <th>1681</th>\n",
       "      <td>False</td>\n",
       "      <td>Andrew King</td>\n",
       "      <td>{'exclude': None, 'include': {'author': ['King...</td>\n",
       "      <td>14601</td>\n",
       "      <td>http://www.ncbi.nlm.nih.gov/pubmed?term=King%2...</td>\n",
       "      <td>[31949136, 31300665, 29136122, 31802997, 28891...</td>\n",
       "      <td>[https://www.ncbi.nlm.nih.gov/pubmed/31949136,...</td>\n",
       "      <td>https://www.ncbi.nlm.nih.gov/pubmed?term=King%...</td>\n",
       "      <td>King A J[au]</td>\n",
       "    </tr>\n",
       "    <tr>\n",
       "      <th>4702</th>\n",
       "      <td>False</td>\n",
       "      <td>Yibing Shan</td>\n",
       "      <td>{'exclude': None, 'include': {'author': ['Shan...</td>\n",
       "      <td>4398</td>\n",
       "      <td>http://www.ncbi.nlm.nih.gov/pubmed?term=Shan%2...</td>\n",
       "      <td>[24918548, 23374350, 21545110, 20947758]</td>\n",
       "      <td>[https://www.ncbi.nlm.nih.gov/pubmed/24918548,...</td>\n",
       "      <td>https://www.ncbi.nlm.nih.gov/pubmed?term=Shan%...</td>\n",
       "      <td>Shan Y[au]</td>\n",
       "    </tr>\n",
       "  </tbody>\n",
       "</table>\n",
       "</div>"
      ]
     },
     "metadata": {},
     "execution_count": 15
    }
   ],
   "metadata": {}
  },
  {
   "cell_type": "code",
   "execution_count": null,
   "source": [
    "processing_editor_parsed_pubmed_links_df = remaining_editor_parsed_pubmed_links_df\n",
    "if max_editors:\n",
    "    processing_editor_parsed_pubmed_links_df = processing_editor_parsed_pubmed_links_df[:max_editors]\n",
    "len(processing_editor_parsed_pubmed_links_df)"
   ],
   "outputs": [],
   "metadata": {}
  },
  {
   "cell_type": "code",
   "execution_count": null,
   "source": [
    "def get_editor_pubmed_paper_ids(europepmc_api: EuropePMCApi, row) -> List[str]:\n",
    "    parsed_search_term = row.parsed_search_term\n",
    "    if not parsed_search_term:\n",
    "        return None\n",
    "    author_names = parsed_search_term.get('include', {}).get('author')\n",
    "    try:\n",
    "        author_names = parsed_search_term.get('include', {}).get('author')\n",
    "        return europepmc_api.get_author_pmids(author_names)\n",
    "    except:  # pylint: disable=bare-except\n",
    "        LOGGER.error('failed to retrieve pubmed ids for author names: %s', author_names, exc_info=1)\n",
    "        return None\n",
    "\n",
    "\n",
    "editor_pubmed_links_result_df = processing_editor_parsed_pubmed_links_df[:max_editors].copy()\n",
    "\n",
    "with europepmc_requests_retry_session() as session:\n",
    "    europepmc_api = EuropePMCApi(\n",
    "        session,\n",
    "        params={'email': email}\n",
    "    )\n",
    "    with ThreadPoolExecutor(max_workers=max_workers) as executor:\n",
    "        editor_pubmed_links_result_df['pubmed_ids'] = list(tqdm(\n",
    "            executor.map(\n",
    "                lambda row: get_editor_pubmed_paper_ids(europepmc_api, row),\n",
    "                editor_pubmed_links_result_df.itertuples()\n",
    "            ),\n",
    "            total=len(editor_pubmed_links_result_df),\n",
    "            leave=False\n",
    "        ))"
   ],
   "outputs": [],
   "metadata": {}
  },
  {
   "cell_type": "code",
   "execution_count": null,
   "source": [
    "non_empty_editor_pubmed_links_result_df = editor_pubmed_links_result_df[\n",
    "    ~pd.isnull(editor_pubmed_links_result_df['pubmed_ids'])\n",
    "].copy()\n",
    "len(non_empty_editor_pubmed_links_result_df)\n",
    "non_empty_editor_pubmed_links_result_df.head(3)"
   ],
   "outputs": [],
   "metadata": {}
  },
  {
   "cell_type": "code",
   "execution_count": null,
   "source": [
    "non_empty_editor_pubmed_links_result_df['provenance'] = [{\n",
    "    'source': 'europepmc',\n",
    "    'imported_timestamp': datetime.utcnow().isoformat()\n",
    "}] * len(non_empty_editor_pubmed_links_result_df)"
   ],
   "outputs": [],
   "metadata": {}
  },
  {
   "cell_type": "code",
   "execution_count": null,
   "source": [
    "if len(non_empty_editor_pubmed_links_result_df) == 0:\n",
    "    print('no data to upload')\n",
    "else:\n",
    "    print('writing to:', editor_parsed_pubmed_ids_table_name)\n",
    "    to_gbq(\n",
    "        non_empty_editor_pubmed_links_result_df,\n",
    "        project_id=project_id,\n",
    "        destination_table=editor_parsed_pubmed_ids_table_name,\n",
    "        if_exists='append'\n",
    "    )\n",
    "    print('done')"
   ],
   "outputs": [],
   "metadata": {}
  }
 ],
 "metadata": {
  "celltoolbar": "Tags",
  "kernelspec": {
   "name": "python3",
   "display_name": "Python 3.7.9 64-bit ('venv': venv)"
  },
  "language_info": {
   "codemirror_mode": {
    "name": "ipython",
    "version": 3
   },
   "file_extension": ".py",
   "mimetype": "text/x-python",
   "name": "python",
   "nbconvert_exporter": "python",
   "pygments_lexer": "ipython3",
   "version": "3.7.9"
  },
  "interpreter": {
   "hash": "fa0e558d19a230636e19ac4c9ade870c2c276d3dbc1e90e338dc45db7288d529"
  }
 },
 "nbformat": 4,
 "nbformat_minor": 4
}