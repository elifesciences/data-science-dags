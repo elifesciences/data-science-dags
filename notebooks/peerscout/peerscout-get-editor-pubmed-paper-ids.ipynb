{
 "cells": [
  {
   "cell_type": "code",
   "execution_count": 1,
   "metadata": {},
   "outputs": [],
   "source": [
    "project_id = 'elife-data-pipeline'\n",
    "source_dataset = 'de_dev'\n",
    "output_dataset = 'de_dev'\n",
    "output_table_prefix = 'data_science_'\n",
    "state_path = 's3://ci-elife-data-pipeline/airflow-config/data-science/state-dev'\n",
    "max_workers = 10\n",
    "max_editors = 10"
   ]
  },
  {
   "cell_type": "code",
   "execution_count": 2,
   "metadata": {},
   "outputs": [],
   "source": [
    "import json\n",
    "import re\n",
    "import os\n",
    "import logging\n",
    "from functools import partial\n",
    "from concurrent.futures import ThreadPoolExecutor \n",
    "from typing import List\n",
    "\n",
    "import numpy as np\n",
    "import pandas as pd\n",
    "import requests\n",
    "from tqdm.auto import tqdm\n",
    "\n",
    "import data_science_pipeline.configure_warnings\n",
    "\n",
    "from data_science_pipeline.sql import get_sql\n",
    "from data_science_pipeline.utils.pubmed import (\n",
    "    normalize_url,\n",
    "    resolve_url_if_not_ncbi_domain,\n",
    "    is_ncbi_search_url,\n",
    "    get_ncbi_search_term,\n",
    "    parse_term_query\n",
    ")\n",
    "from data_science_pipeline.utils.europepmc import (\n",
    "    EuropePMCApi,\n",
    "    europepmc_requests_retry_session\n",
    ")\n",
    "# from data_science_pipeline.utils.io import serialize_object_to\n",
    "from data_science_pipeline.utils.pandas import to_csv\n",
    "from data_science_pipeline.utils.jupyter import (\n",
    "    read_big_query as _read_big_query,\n",
    ")"
   ]
  },
  {
   "cell_type": "code",
   "execution_count": 3,
   "metadata": {},
   "outputs": [],
   "source": [
    "LOGGER = logging.getLogger(__name__)"
   ]
  },
  {
   "cell_type": "code",
   "execution_count": 4,
   "metadata": {},
   "outputs": [],
   "source": [
    "editor_pubmed_ids_path = os.path.join(state_path, 'editor_pubmed_ids.tsv.gz')"
   ]
  },
  {
   "cell_type": "code",
   "execution_count": 5,
   "metadata": {},
   "outputs": [],
   "source": [
    "read_big_query = partial(_read_big_query, project_id=project_id)"
   ]
  },
  {
   "cell_type": "code",
   "execution_count": 6,
   "metadata": {},
   "outputs": [],
   "source": [
    "default_query_props = dict(project=project_id, dataset=source_dataset)"
   ]
  },
  {
   "cell_type": "code",
   "execution_count": 7,
   "metadata": {},
   "outputs": [
    {
     "data": {
      "text/markdown": [
       "> ```sql\n",
       "> SELECT\n",
       ">   Person_ID AS person_id,\n",
       ">   Name AS name,\n",
       ">   Pubmed_URL AS pubmed_url\n",
       "> FROM `elife-data-pipeline.de_dev.mv_Editorial_Editor_Profile` AS Editor\n",
       "> ```"
      ],
      "text/plain": [
       "<IPython.core.display.Markdown object>"
      ]
     },
     "metadata": {},
     "output_type": "display_data"
    },
    {
     "name": "stderr",
     "output_type": "stream",
     "text": [
      "Downloading: 100%|██████████| 616/616 [00:00<00:00, 753.46rows/s]"
     ]
    },
    {
     "name": "stdout",
     "output_type": "stream",
     "text": [
      "616\n"
     ]
    },
    {
     "name": "stderr",
     "output_type": "stream",
     "text": [
      "\n"
     ]
    },
    {
     "data": {
      "text/html": [
       "<div>\n",
       "<style scoped>\n",
       "    .dataframe tbody tr th:only-of-type {\n",
       "        vertical-align: middle;\n",
       "    }\n",
       "\n",
       "    .dataframe tbody tr th {\n",
       "        vertical-align: top;\n",
       "    }\n",
       "\n",
       "    .dataframe thead th {\n",
       "        text-align: right;\n",
       "    }\n",
       "</style>\n",
       "<table border=\"1\" class=\"dataframe\">\n",
       "  <thead>\n",
       "    <tr style=\"text-align: right;\">\n",
       "      <th></th>\n",
       "      <th>person_id</th>\n",
       "      <th>name</th>\n",
       "      <th>pubmed_url</th>\n",
       "    </tr>\n",
       "  </thead>\n",
       "  <tbody>\n",
       "    <tr>\n",
       "      <th>0</th>\n",
       "      <td>126873</td>\n",
       "      <td>Yuuki Watanabe</td>\n",
       "      <td>https://www.ncbi.nlm.nih.gov/pubmed/?term=Wata...</td>\n",
       "    </tr>\n",
       "    <tr>\n",
       "      <th>1</th>\n",
       "      <td>178962</td>\n",
       "      <td>Chima Nwaogu</td>\n",
       "      <td>https://www.ncbi.nlm.nih.gov/pubmed/?term=Nwao...</td>\n",
       "    </tr>\n",
       "    <tr>\n",
       "      <th>2</th>\n",
       "      <td>70207</td>\n",
       "      <td>Bernhard Schmid</td>\n",
       "      <td>https://www.ncbi.nlm.nih.gov/pubmed/?term=Schm...</td>\n",
       "    </tr>\n",
       "    <tr>\n",
       "      <th>3</th>\n",
       "      <td>14193</td>\n",
       "      <td>Merijn Kant</td>\n",
       "      <td>http://www.ncbi.nlm.nih.gov/pubmed?term=Kant%2...</td>\n",
       "    </tr>\n",
       "    <tr>\n",
       "      <th>4</th>\n",
       "      <td>7970</td>\n",
       "      <td>Laurent Keller</td>\n",
       "      <td>http://www.ncbi.nlm.nih.gov/pubmed/?term=Kelle...</td>\n",
       "    </tr>\n",
       "  </tbody>\n",
       "</table>\n",
       "</div>"
      ],
      "text/plain": [
       "  person_id             name  \\\n",
       "0    126873   Yuuki Watanabe   \n",
       "1    178962     Chima Nwaogu   \n",
       "2     70207  Bernhard Schmid   \n",
       "3     14193      Merijn Kant   \n",
       "4      7970   Laurent Keller   \n",
       "\n",
       "                                          pubmed_url  \n",
       "0  https://www.ncbi.nlm.nih.gov/pubmed/?term=Wata...  \n",
       "1  https://www.ncbi.nlm.nih.gov/pubmed/?term=Nwao...  \n",
       "2  https://www.ncbi.nlm.nih.gov/pubmed/?term=Schm...  \n",
       "3  http://www.ncbi.nlm.nih.gov/pubmed?term=Kant%2...  \n",
       "4  http://www.ncbi.nlm.nih.gov/pubmed/?term=Kelle...  "
      ]
     },
     "execution_count": 7,
     "metadata": {},
     "output_type": "execute_result"
    }
   ],
   "source": [
    "editor_pubmed_links_df = read_big_query(\n",
    "    get_sql('editor-pubmed-links.sql').format(\n",
    "        **default_query_props\n",
    "    )\n",
    ")\n",
    "print(len(editor_pubmed_links_df))\n",
    "editor_pubmed_links_df.head()"
   ]
  },
  {
   "cell_type": "code",
   "execution_count": 8,
   "metadata": {},
   "outputs": [
    {
     "data": {
      "text/html": [
       "<div>\n",
       "<style scoped>\n",
       "    .dataframe tbody tr th:only-of-type {\n",
       "        vertical-align: middle;\n",
       "    }\n",
       "\n",
       "    .dataframe tbody tr th {\n",
       "        vertical-align: top;\n",
       "    }\n",
       "\n",
       "    .dataframe thead th {\n",
       "        text-align: right;\n",
       "    }\n",
       "</style>\n",
       "<table border=\"1\" class=\"dataframe\">\n",
       "  <thead>\n",
       "    <tr style=\"text-align: right;\">\n",
       "      <th></th>\n",
       "      <th>person_id</th>\n",
       "      <th>name</th>\n",
       "      <th>pubmed_url</th>\n",
       "    </tr>\n",
       "  </thead>\n",
       "  <tbody>\n",
       "    <tr>\n",
       "      <th>0</th>\n",
       "      <td>126873</td>\n",
       "      <td>Yuuki Watanabe</td>\n",
       "      <td>https://www.ncbi.nlm.nih.gov/pubmed/?term=Wata...</td>\n",
       "    </tr>\n",
       "    <tr>\n",
       "      <th>1</th>\n",
       "      <td>178962</td>\n",
       "      <td>Chima Nwaogu</td>\n",
       "      <td>https://www.ncbi.nlm.nih.gov/pubmed/?term=Nwao...</td>\n",
       "    </tr>\n",
       "    <tr>\n",
       "      <th>2</th>\n",
       "      <td>70207</td>\n",
       "      <td>Bernhard Schmid</td>\n",
       "      <td>https://www.ncbi.nlm.nih.gov/pubmed/?term=Schm...</td>\n",
       "    </tr>\n",
       "    <tr>\n",
       "      <th>3</th>\n",
       "      <td>14193</td>\n",
       "      <td>Merijn Kant</td>\n",
       "      <td>https://www.ncbi.nlm.nih.gov/pubmed?term=Kant%...</td>\n",
       "    </tr>\n",
       "    <tr>\n",
       "      <th>4</th>\n",
       "      <td>7970</td>\n",
       "      <td>Laurent Keller</td>\n",
       "      <td>https://www.ncbi.nlm.nih.gov/pubmed/?term=Kell...</td>\n",
       "    </tr>\n",
       "  </tbody>\n",
       "</table>\n",
       "</div>"
      ],
      "text/plain": [
       "  person_id             name  \\\n",
       "0    126873   Yuuki Watanabe   \n",
       "1    178962     Chima Nwaogu   \n",
       "2     70207  Bernhard Schmid   \n",
       "3     14193      Merijn Kant   \n",
       "4      7970   Laurent Keller   \n",
       "\n",
       "                                          pubmed_url  \n",
       "0  https://www.ncbi.nlm.nih.gov/pubmed/?term=Wata...  \n",
       "1  https://www.ncbi.nlm.nih.gov/pubmed/?term=Nwao...  \n",
       "2  https://www.ncbi.nlm.nih.gov/pubmed/?term=Schm...  \n",
       "3  https://www.ncbi.nlm.nih.gov/pubmed?term=Kant%...  \n",
       "4  https://www.ncbi.nlm.nih.gov/pubmed/?term=Kell...  "
      ]
     },
     "execution_count": 8,
     "metadata": {},
     "output_type": "execute_result"
    }
   ],
   "source": [
    "editor_pubmed_links_df['pubmed_url'] = editor_pubmed_links_df['pubmed_url'].apply(\n",
    "    lambda pubmed_url: resolve_url_if_not_ncbi_domain(normalize_url(pubmed_url))\n",
    ")\n",
    "editor_pubmed_links_df.head()"
   ]
  },
  {
   "cell_type": "code",
   "execution_count": 9,
   "metadata": {},
   "outputs": [
    {
     "data": {
      "application/vnd.jupyter.widget-view+json": {
       "model_id": "",
       "version_major": 2,
       "version_minor": 0
      },
      "text/plain": [
       "HBox(children=(FloatProgress(value=0.0, max=10.0), HTML(value='')))"
      ]
     },
     "metadata": {},
     "output_type": "display_data"
    }
   ],
   "source": [
    "def get_editor_pubmed_paper_ids(europepmc_api: EuropePMCApi, pubmed_url: str) -> List[str]:\n",
    "    if not is_ncbi_search_url(pubmed_url):\n",
    "        return None\n",
    "    try:\n",
    "        search_term = get_ncbi_search_term(pubmed_url)\n",
    "        parsed_term_query = parse_term_query(search_term)\n",
    "        author_names = parsed_term_query.get('include', {}).get('author')\n",
    "        return europepmc_api.get_author_pmids(author_names)\n",
    "    except:\n",
    "        LOGGER.error('failed to convert pubmed_url: %s', pubmed_url, exc_info=1)\n",
    "        return None\n",
    "\n",
    "\n",
    "if max_editors:\n",
    "    editor_pubmed_links_result_df = editor_pubmed_links_df[:max_editors].copy()\n",
    "else:\n",
    "    editor_pubmed_links_result_df = editor_pubmed_links_df\n",
    "\n",
    "with europepmc_requests_retry_session() as session:\n",
    "    europepmc_api = EuropePMCApi(session)\n",
    "    with ThreadPoolExecutor(max_workers=max_workers) as executor:\n",
    "        editor_pubmed_links_result_df['pubmed_ids'] = list(tqdm(\n",
    "            executor.map(\n",
    "                lambda pubmed_url: get_editor_pubmed_paper_ids(europepmc_api, pubmed_url),\n",
    "                editor_pubmed_links_result_df['pubmed_url'].values\n",
    "            ),\n",
    "            total=len(editor_pubmed_links_result_df),\n",
    "            leave=False\n",
    "        ))"
   ]
  },
  {
   "cell_type": "code",
   "execution_count": 10,
   "metadata": {},
   "outputs": [
    {
     "data": {
      "text/html": [
       "<div>\n",
       "<style scoped>\n",
       "    .dataframe tbody tr th:only-of-type {\n",
       "        vertical-align: middle;\n",
       "    }\n",
       "\n",
       "    .dataframe tbody tr th {\n",
       "        vertical-align: top;\n",
       "    }\n",
       "\n",
       "    .dataframe thead th {\n",
       "        text-align: right;\n",
       "    }\n",
       "</style>\n",
       "<table border=\"1\" class=\"dataframe\">\n",
       "  <thead>\n",
       "    <tr style=\"text-align: right;\">\n",
       "      <th></th>\n",
       "      <th>person_id</th>\n",
       "      <th>name</th>\n",
       "      <th>pubmed_url</th>\n",
       "      <th>pubmed_ids</th>\n",
       "    </tr>\n",
       "  </thead>\n",
       "  <tbody>\n",
       "    <tr>\n",
       "      <th>0</th>\n",
       "      <td>126873</td>\n",
       "      <td>Yuuki Watanabe</td>\n",
       "      <td>https://www.ncbi.nlm.nih.gov/pubmed/?term=Wata...</td>\n",
       "      <td>[31778207, 31187501, 31340216, 30777873, 30232...</td>\n",
       "    </tr>\n",
       "    <tr>\n",
       "      <th>1</th>\n",
       "      <td>178962</td>\n",
       "      <td>Chima Nwaogu</td>\n",
       "      <td>https://www.ncbi.nlm.nih.gov/pubmed/?term=Nwao...</td>\n",
       "      <td>[32246110, 31764994, 30659607, 30956931]</td>\n",
       "    </tr>\n",
       "    <tr>\n",
       "      <th>2</th>\n",
       "      <td>70207</td>\n",
       "      <td>Bernhard Schmid</td>\n",
       "      <td>https://www.ncbi.nlm.nih.gov/pubmed/?term=Schm...</td>\n",
       "      <td>[32486982, 32504789, 32427483, 32407371, 32333...</td>\n",
       "    </tr>\n",
       "    <tr>\n",
       "      <th>3</th>\n",
       "      <td>14193</td>\n",
       "      <td>Merijn Kant</td>\n",
       "      <td>https://www.ncbi.nlm.nih.gov/pubmed?term=Kant%...</td>\n",
       "      <td>[26019168, 23238958, 11256409]</td>\n",
       "    </tr>\n",
       "    <tr>\n",
       "      <th>4</th>\n",
       "      <td>7970</td>\n",
       "      <td>Laurent Keller</td>\n",
       "      <td>https://www.ncbi.nlm.nih.gov/pubmed/?term=Kell...</td>\n",
       "      <td>[32353492, 32415359, 32271631, 32298574, 32244...</td>\n",
       "    </tr>\n",
       "  </tbody>\n",
       "</table>\n",
       "</div>"
      ],
      "text/plain": [
       "  person_id             name  \\\n",
       "0    126873   Yuuki Watanabe   \n",
       "1    178962     Chima Nwaogu   \n",
       "2     70207  Bernhard Schmid   \n",
       "3     14193      Merijn Kant   \n",
       "4      7970   Laurent Keller   \n",
       "\n",
       "                                          pubmed_url  \\\n",
       "0  https://www.ncbi.nlm.nih.gov/pubmed/?term=Wata...   \n",
       "1  https://www.ncbi.nlm.nih.gov/pubmed/?term=Nwao...   \n",
       "2  https://www.ncbi.nlm.nih.gov/pubmed/?term=Schm...   \n",
       "3  https://www.ncbi.nlm.nih.gov/pubmed?term=Kant%...   \n",
       "4  https://www.ncbi.nlm.nih.gov/pubmed/?term=Kell...   \n",
       "\n",
       "                                          pubmed_ids  \n",
       "0  [31778207, 31187501, 31340216, 30777873, 30232...  \n",
       "1           [32246110, 31764994, 30659607, 30956931]  \n",
       "2  [32486982, 32504789, 32427483, 32407371, 32333...  \n",
       "3                     [26019168, 23238958, 11256409]  \n",
       "4  [32353492, 32415359, 32271631, 32298574, 32244...  "
      ]
     },
     "execution_count": 10,
     "metadata": {},
     "output_type": "execute_result"
    }
   ],
   "source": [
    "editor_pubmed_links_result_df.head()"
   ]
  },
  {
   "cell_type": "code",
   "execution_count": 11,
   "metadata": {},
   "outputs": [
    {
     "name": "stdout",
     "output_type": "stream",
     "text": [
      "saving to: s3://ci-elife-data-pipeline/airflow-config/data-science/state-dev/editor_pubmed_ids.tsv.gz\n",
      "done\n"
     ]
    }
   ],
   "source": [
    "print('saving to: %s' % editor_pubmed_ids_path)\n",
    "to_csv(editor_pubmed_links_result_df, editor_pubmed_ids_path)\n",
    "print('done')"
   ]
  }
 ],
 "metadata": {
  "kernelspec": {
   "display_name": "Python 3",
   "language": "python",
   "name": "python3"
  },
  "language_info": {
   "codemirror_mode": {
    "name": "ipython",
    "version": 3
   },
   "file_extension": ".py",
   "mimetype": "text/x-python",
   "name": "python",
   "nbconvert_exporter": "python",
   "pygments_lexer": "ipython3",
   "version": "3.7.6"
  }
 },
 "nbformat": 4,
 "nbformat_minor": 4
}
