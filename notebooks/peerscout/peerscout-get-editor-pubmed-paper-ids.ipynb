{
 "cells": [
  {
   "cell_type": "code",
   "execution_count": 1,
   "metadata": {},
   "outputs": [],
   "source": [
    "project_id = 'elife-data-pipeline'\n",
    "source_dataset = 'de_dev'\n",
    "output_dataset = 'de_dev'\n",
    "output_table_prefix = 'data_science_'\n",
    "state_path = 's3://ci-elife-data-pipeline/airflow-config/data-science/state-dev'\n",
    "max_workers = 10\n",
    "max_editors = 100\n",
    "email = 'd.ecer@elifesciences.org'"
   ]
  },
  {
   "cell_type": "code",
   "execution_count": 2,
   "metadata": {},
   "outputs": [],
   "source": [
    "import os\n",
    "import logging\n",
    "from datetime import datetime\n",
    "from functools import partial\n",
    "from concurrent.futures import ThreadPoolExecutor \n",
    "from typing import List\n",
    "\n",
    "import numpy as np\n",
    "import pandas as pd\n",
    "from tqdm.auto import tqdm\n",
    "\n",
    "import data_science_pipeline.configure_warnings\n",
    "\n",
    "from data_science_pipeline.sql import get_sql\n",
    "from data_science_pipeline.utils.europepmc import (\n",
    "    EuropePMCApi,\n",
    "    europepmc_requests_retry_session\n",
    ")\n",
    "from data_science_pipeline.utils.bq import to_gbq, is_bq_not_found_exception\n",
    "from data_science_pipeline.utils.jupyter import (\n",
    "    read_big_query as _read_big_query,\n",
    ")"
   ]
  },
  {
   "cell_type": "code",
   "execution_count": 3,
   "metadata": {},
   "outputs": [],
   "source": [
    "LOGGER = logging.getLogger(__name__)\n",
    "\n",
    "logging.basicConfig(level='INFO')\n",
    "logging.getLogger('data_science_pipeline').setLevel(logging.INFO)"
   ]
  },
  {
   "cell_type": "code",
   "execution_count": 4,
   "metadata": {},
   "outputs": [],
   "source": [
    "editor_parsed_pubmed_links_table_name = '{output_dataset}.{prefix}{suffix}'.format(\n",
    "    output_dataset=output_dataset,\n",
    "    prefix=output_table_prefix,\n",
    "    suffix='editor_pubmed_links'\n",
    ")\n",
    "\n",
    "editor_parsed_pubmed_ids_table_name = '{output_dataset}.{prefix}{suffix}'.format(\n",
    "    output_dataset=output_dataset,\n",
    "    prefix=output_table_prefix,\n",
    "    suffix='editor_pubmed_ids'\n",
    ")\n",
    "\n",
    "editor_pubmed_ids_path = os.path.join(state_path, 'editor_pubmed_ids.tsv.gz')"
   ]
  },
  {
   "cell_type": "code",
   "execution_count": 5,
   "metadata": {},
   "outputs": [],
   "source": [
    "read_big_query = partial(_read_big_query, project_id=project_id)"
   ]
  },
  {
   "cell_type": "code",
   "execution_count": 6,
   "metadata": {},
   "outputs": [],
   "source": [
    "default_query_props = dict(project=project_id, dataset=source_dataset)"
   ]
  },
  {
   "cell_type": "code",
   "execution_count": 7,
   "metadata": {},
   "outputs": [
    {
     "data": {
      "text/markdown": [
       "> ```sql\n",
       "> SELECT person_id FROM `de_dev.data_science_editor_pubmed_ids`\n",
       "> ```"
      ],
      "text/plain": [
       "<IPython.core.display.Markdown object>"
      ]
     },
     "metadata": {},
     "output_type": "display_data"
    },
    {
     "name": "stdout",
     "output_type": "stream",
     "text": [
      "table not found: de_dev.data_science_editor_pubmed_ids\n",
      "0\n"
     ]
    },
    {
     "data": {
      "text/html": [
       "<div>\n",
       "<style scoped>\n",
       "    .dataframe tbody tr th:only-of-type {\n",
       "        vertical-align: middle;\n",
       "    }\n",
       "\n",
       "    .dataframe tbody tr th {\n",
       "        vertical-align: top;\n",
       "    }\n",
       "\n",
       "    .dataframe thead th {\n",
       "        text-align: right;\n",
       "    }\n",
       "</style>\n",
       "<table border=\"1\" class=\"dataframe\">\n",
       "  <thead>\n",
       "    <tr style=\"text-align: right;\">\n",
       "      <th></th>\n",
       "      <th>person_id</th>\n",
       "    </tr>\n",
       "  </thead>\n",
       "  <tbody>\n",
       "  </tbody>\n",
       "</table>\n",
       "</div>"
      ],
      "text/plain": [
       "Empty DataFrame\n",
       "Columns: [person_id]\n",
       "Index: []"
      ]
     },
     "execution_count": 7,
     "metadata": {},
     "output_type": "execute_result"
    }
   ],
   "source": [
    "_sql = (\n",
    "    'SELECT person_id FROM `{table}`'\n",
    ").format(table=editor_parsed_pubmed_ids_table_name)\n",
    "\n",
    "try:\n",
    "    existing_editor_ids_df = read_big_query(_sql)\n",
    "except Exception as e:\n",
    "    if not is_bq_not_found_exception(e):\n",
    "        raise\n",
    "    print('table not found: %s' % editor_parsed_pubmed_ids_table_name)\n",
    "    existing_editor_ids_df = pd.DataFrame(columns=['person_id'])\n",
    "print(len(existing_editor_ids_df))\n",
    "existing_editor_ids_df.head()"
   ]
  },
  {
   "cell_type": "code",
   "execution_count": 8,
   "metadata": {},
   "outputs": [
    {
     "data": {
      "text/plain": [
       "0"
      ]
     },
     "execution_count": 8,
     "metadata": {},
     "output_type": "execute_result"
    }
   ],
   "source": [
    "existing_editor_ids_set = set(existing_editor_ids_df['person_id'])\n",
    "len(existing_editor_ids_set)"
   ]
  },
  {
   "cell_type": "code",
   "execution_count": 9,
   "metadata": {},
   "outputs": [
    {
     "data": {
      "text/markdown": [
       "> ```sql\n",
       "> SELECT * FROM `de_dev.data_science_editor_pubmed_links`\n",
       "> ```"
      ],
      "text/plain": [
       "<IPython.core.display.Markdown object>"
      ]
     },
     "metadata": {},
     "output_type": "display_data"
    },
    {
     "name": "stderr",
     "output_type": "stream",
     "text": [
      "Downloading: 100%|██████████| 616/616 [00:00<00:00, 636.68rows/s]"
     ]
    },
    {
     "name": "stdout",
     "output_type": "stream",
     "text": [
      "616\n"
     ]
    },
    {
     "name": "stderr",
     "output_type": "stream",
     "text": [
      "\n"
     ]
    },
    {
     "data": {
      "text/html": [
       "<div>\n",
       "<style scoped>\n",
       "    .dataframe tbody tr th:only-of-type {\n",
       "        vertical-align: middle;\n",
       "    }\n",
       "\n",
       "    .dataframe tbody tr th {\n",
       "        vertical-align: top;\n",
       "    }\n",
       "\n",
       "    .dataframe thead th {\n",
       "        text-align: right;\n",
       "    }\n",
       "</style>\n",
       "<table border=\"1\" class=\"dataframe\">\n",
       "  <thead>\n",
       "    <tr style=\"text-align: right;\">\n",
       "      <th></th>\n",
       "      <th>name</th>\n",
       "      <th>parsed_search_term</th>\n",
       "      <th>person_id</th>\n",
       "      <th>pubmed_url</th>\n",
       "      <th>resolved_pubmed_url</th>\n",
       "      <th>search_term</th>\n",
       "    </tr>\n",
       "  </thead>\n",
       "  <tbody>\n",
       "    <tr>\n",
       "      <th>0</th>\n",
       "      <td>Rebecca Seal</td>\n",
       "      <td>None</td>\n",
       "      <td>12445</td>\n",
       "      <td>http://seallab.neurobio.pitt.edu/https://www.n...</td>\n",
       "      <td>https://seallab.neurobio.pitt.edu/https://www....</td>\n",
       "      <td>None</td>\n",
       "    </tr>\n",
       "    <tr>\n",
       "      <th>1</th>\n",
       "      <td>Phillip Newmark</td>\n",
       "      <td>None</td>\n",
       "      <td>4633</td>\n",
       "      <td>https://www.ncbi.nlm.nih.gov/myncbi/browse/col...</td>\n",
       "      <td>https://www.ncbi.nlm.nih.gov/myncbi/browse/col...</td>\n",
       "      <td>None</td>\n",
       "    </tr>\n",
       "    <tr>\n",
       "      <th>2</th>\n",
       "      <td>Ashish Lal</td>\n",
       "      <td>None</td>\n",
       "      <td>73888</td>\n",
       "      <td>https://www.ncbi.nlm.nih.gov/sites/myncbi/1lgr...</td>\n",
       "      <td>https://www.ncbi.nlm.nih.gov/sites/myncbi/1lgr...</td>\n",
       "      <td>None</td>\n",
       "    </tr>\n",
       "    <tr>\n",
       "      <th>3</th>\n",
       "      <td>Cynthia Wolberger</td>\n",
       "      <td>None</td>\n",
       "      <td>5005</td>\n",
       "      <td>https://www.ncbi.nlm.nih.gov/myncbi/cynthia.wo...</td>\n",
       "      <td>https://www.ncbi.nlm.nih.gov/myncbi/cynthia.wo...</td>\n",
       "      <td>None</td>\n",
       "    </tr>\n",
       "    <tr>\n",
       "      <th>4</th>\n",
       "      <td>Anna Diehl</td>\n",
       "      <td>None</td>\n",
       "      <td>143521</td>\n",
       "      <td>https://www.google.com/search?safe=vss&amp;sa=Goog...</td>\n",
       "      <td>https://www.google.com/search?safe=vss&amp;sa=Goog...</td>\n",
       "      <td>None</td>\n",
       "    </tr>\n",
       "  </tbody>\n",
       "</table>\n",
       "</div>"
      ],
      "text/plain": [
       "                name parsed_search_term person_id  \\\n",
       "0       Rebecca Seal               None     12445   \n",
       "1    Phillip Newmark               None      4633   \n",
       "2         Ashish Lal               None     73888   \n",
       "3  Cynthia Wolberger               None      5005   \n",
       "4         Anna Diehl               None    143521   \n",
       "\n",
       "                                          pubmed_url  \\\n",
       "0  http://seallab.neurobio.pitt.edu/https://www.n...   \n",
       "1  https://www.ncbi.nlm.nih.gov/myncbi/browse/col...   \n",
       "2  https://www.ncbi.nlm.nih.gov/sites/myncbi/1lgr...   \n",
       "3  https://www.ncbi.nlm.nih.gov/myncbi/cynthia.wo...   \n",
       "4  https://www.google.com/search?safe=vss&sa=Goog...   \n",
       "\n",
       "                                 resolved_pubmed_url search_term  \n",
       "0  https://seallab.neurobio.pitt.edu/https://www....        None  \n",
       "1  https://www.ncbi.nlm.nih.gov/myncbi/browse/col...        None  \n",
       "2  https://www.ncbi.nlm.nih.gov/sites/myncbi/1lgr...        None  \n",
       "3  https://www.ncbi.nlm.nih.gov/myncbi/cynthia.wo...        None  \n",
       "4  https://www.google.com/search?safe=vss&sa=Goog...        None  "
      ]
     },
     "execution_count": 9,
     "metadata": {},
     "output_type": "execute_result"
    }
   ],
   "source": [
    "editor_parsed_pubmed_links_df = read_big_query(\n",
    "    'SELECT * FROM `{table_name}`'.format(\n",
    "        table_name=editor_parsed_pubmed_links_table_name\n",
    "    )\n",
    ")\n",
    "print(len(editor_parsed_pubmed_links_df))\n",
    "editor_parsed_pubmed_links_df.head()"
   ]
  },
  {
   "cell_type": "code",
   "execution_count": 10,
   "metadata": {},
   "outputs": [
    {
     "name": "stdout",
     "output_type": "stream",
     "text": [
      "616\n"
     ]
    },
    {
     "data": {
      "text/html": [
       "<div>\n",
       "<style scoped>\n",
       "    .dataframe tbody tr th:only-of-type {\n",
       "        vertical-align: middle;\n",
       "    }\n",
       "\n",
       "    .dataframe tbody tr th {\n",
       "        vertical-align: top;\n",
       "    }\n",
       "\n",
       "    .dataframe thead th {\n",
       "        text-align: right;\n",
       "    }\n",
       "</style>\n",
       "<table border=\"1\" class=\"dataframe\">\n",
       "  <thead>\n",
       "    <tr style=\"text-align: right;\">\n",
       "      <th></th>\n",
       "      <th>name</th>\n",
       "      <th>parsed_search_term</th>\n",
       "      <th>person_id</th>\n",
       "      <th>pubmed_url</th>\n",
       "      <th>resolved_pubmed_url</th>\n",
       "      <th>search_term</th>\n",
       "    </tr>\n",
       "  </thead>\n",
       "  <tbody>\n",
       "    <tr>\n",
       "      <th>0</th>\n",
       "      <td>Rebecca Seal</td>\n",
       "      <td>None</td>\n",
       "      <td>12445</td>\n",
       "      <td>http://seallab.neurobio.pitt.edu/https://www.n...</td>\n",
       "      <td>https://seallab.neurobio.pitt.edu/https://www....</td>\n",
       "      <td>None</td>\n",
       "    </tr>\n",
       "    <tr>\n",
       "      <th>1</th>\n",
       "      <td>Phillip Newmark</td>\n",
       "      <td>None</td>\n",
       "      <td>4633</td>\n",
       "      <td>https://www.ncbi.nlm.nih.gov/myncbi/browse/col...</td>\n",
       "      <td>https://www.ncbi.nlm.nih.gov/myncbi/browse/col...</td>\n",
       "      <td>None</td>\n",
       "    </tr>\n",
       "    <tr>\n",
       "      <th>2</th>\n",
       "      <td>Ashish Lal</td>\n",
       "      <td>None</td>\n",
       "      <td>73888</td>\n",
       "      <td>https://www.ncbi.nlm.nih.gov/sites/myncbi/1lgr...</td>\n",
       "      <td>https://www.ncbi.nlm.nih.gov/sites/myncbi/1lgr...</td>\n",
       "      <td>None</td>\n",
       "    </tr>\n",
       "  </tbody>\n",
       "</table>\n",
       "</div>"
      ],
      "text/plain": [
       "              name parsed_search_term person_id  \\\n",
       "0     Rebecca Seal               None     12445   \n",
       "1  Phillip Newmark               None      4633   \n",
       "2       Ashish Lal               None     73888   \n",
       "\n",
       "                                          pubmed_url  \\\n",
       "0  http://seallab.neurobio.pitt.edu/https://www.n...   \n",
       "1  https://www.ncbi.nlm.nih.gov/myncbi/browse/col...   \n",
       "2  https://www.ncbi.nlm.nih.gov/sites/myncbi/1lgr...   \n",
       "\n",
       "                                 resolved_pubmed_url search_term  \n",
       "0  https://seallab.neurobio.pitt.edu/https://www....        None  \n",
       "1  https://www.ncbi.nlm.nih.gov/myncbi/browse/col...        None  \n",
       "2  https://www.ncbi.nlm.nih.gov/sites/myncbi/1lgr...        None  "
      ]
     },
     "execution_count": 10,
     "metadata": {},
     "output_type": "execute_result"
    }
   ],
   "source": [
    "remaining_editor_parsed_pubmed_links_df = editor_parsed_pubmed_links_df[\n",
    "    ~editor_parsed_pubmed_links_df['person_id'].isin(existing_editor_ids_set)\n",
    "]\n",
    "print(len(remaining_editor_parsed_pubmed_links_df))\n",
    "remaining_editor_parsed_pubmed_links_df.head(3)"
   ]
  },
  {
   "cell_type": "code",
   "execution_count": 11,
   "metadata": {},
   "outputs": [
    {
     "data": {
      "text/plain": [
       "100"
      ]
     },
     "execution_count": 11,
     "metadata": {},
     "output_type": "execute_result"
    }
   ],
   "source": [
    "processing_editor_parsed_pubmed_links_df = remaining_editor_parsed_pubmed_links_df\n",
    "if max_editors:\n",
    "    processing_editor_parsed_pubmed_links_df = processing_editor_parsed_pubmed_links_df[:max_editors]\n",
    "len(processing_editor_parsed_pubmed_links_df)"
   ]
  },
  {
   "cell_type": "code",
   "execution_count": 12,
   "metadata": {},
   "outputs": [
    {
     "data": {
      "application/vnd.jupyter.widget-view+json": {
       "model_id": "",
       "version_major": 2,
       "version_minor": 0
      },
      "text/plain": [
       "HBox(children=(FloatProgress(value=0.0), HTML(value='')))"
      ]
     },
     "metadata": {},
     "output_type": "display_data"
    }
   ],
   "source": [
    "def handle_http_error(error: BaseException, data: dict = None):\n",
    "    LOGGER.warning('error: %s, data=%s', error, data)\n",
    "\n",
    "\n",
    "def get_editor_pubmed_paper_ids(europepmc_api: EuropePMCApi, row) -> List[str]:\n",
    "    parsed_search_term = row.parsed_search_term\n",
    "    if not parsed_search_term:\n",
    "        return None\n",
    "    try:\n",
    "        author_names = parsed_search_term.get('include', {}).get('author')\n",
    "        return europepmc_api.get_author_pmids(author_names)\n",
    "    except:\n",
    "        LOGGER.error('failed to convert pubmed_url: %s', pubmed_url, exc_info=1)\n",
    "        return None\n",
    "\n",
    "\n",
    "editor_pubmed_links_result_df = processing_editor_parsed_pubmed_links_df[:max_editors].copy()\n",
    "\n",
    "with europepmc_requests_retry_session() as session:\n",
    "    europepmc_api = EuropePMCApi(\n",
    "        session,\n",
    "        on_error=handle_http_error,\n",
    "        params={'email': email}\n",
    "    )\n",
    "    with ThreadPoolExecutor(max_workers=max_workers) as executor:\n",
    "        editor_pubmed_links_result_df['pubmed_ids'] = list(tqdm(\n",
    "            executor.map(\n",
    "                lambda row: get_editor_pubmed_paper_ids(europepmc_api, row),\n",
    "                editor_pubmed_links_result_df.itertuples()\n",
    "            ),\n",
    "            total=len(editor_pubmed_links_result_df),\n",
    "            leave=False\n",
    "        ))"
   ]
  },
  {
   "cell_type": "code",
   "execution_count": 14,
   "metadata": {},
   "outputs": [],
   "source": [
    "editor_pubmed_links_result_df['provenance'] = [{\n",
    "    'source': 'europepmc',\n",
    "    'imported_timestamp': datetime.utcnow().isoformat()\n",
    "}] * len(editor_pubmed_links_result_df)"
   ]
  },
  {
   "cell_type": "code",
   "execution_count": 15,
   "metadata": {},
   "outputs": [
    {
     "name": "stderr",
     "output_type": "stream",
     "text": [
      "INFO:root:Processed 100 lines\n"
     ]
    },
    {
     "name": "stdout",
     "output_type": "stream",
     "text": [
      "writing to: de_dev.data_science_editor_pubmed_ids\n"
     ]
    },
    {
     "name": "stderr",
     "output_type": "stream",
     "text": [
      "INFO:data_science_pipeline.utils.bq_schema:Created table elife-data-pipeline.de_dev.data_science_editor_pubmed_ids\n",
      "INFO:data_science_pipeline.utils.bq:loading from /tmp/tmpuk655bsn/data.jsonl\n",
      "INFO:data_science_pipeline.utils.bq:Loaded 100 rows into de_dev:data_science_editor_pubmed_ids.\n"
     ]
    },
    {
     "name": "stdout",
     "output_type": "stream",
     "text": [
      "done\n"
     ]
    }
   ],
   "source": [
    "if len(editor_pubmed_links_result_df) == 0:\n",
    "    print('no data to upload')\n",
    "else:\n",
    "    print('writing to:', editor_parsed_pubmed_ids_table_name)\n",
    "    to_gbq(\n",
    "        editor_pubmed_links_result_df,\n",
    "        project_id=project_id,\n",
    "        destination_table=editor_parsed_pubmed_ids_table_name,\n",
    "        if_exists='append'\n",
    "    )\n",
    "    print('done')"
   ]
  }
 ],
 "metadata": {
  "kernelspec": {
   "display_name": "Python 3",
   "language": "python",
   "name": "python3"
  },
  "language_info": {
   "codemirror_mode": {
    "name": "ipython",
    "version": 3
   },
   "file_extension": ".py",
   "mimetype": "text/x-python",
   "name": "python",
   "nbconvert_exporter": "python",
   "pygments_lexer": "ipython3",
   "version": "3.7.6"
  }
 },
 "nbformat": 4,
 "nbformat_minor": 4
}
