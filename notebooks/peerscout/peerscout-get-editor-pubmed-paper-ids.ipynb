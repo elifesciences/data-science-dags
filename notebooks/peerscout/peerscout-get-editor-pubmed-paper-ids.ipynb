{
 "cells": [
  {
   "cell_type": "code",
   "execution_count": 1,
   "metadata": {
    "tags": [
     "parameters"
    ]
   },
   "outputs": [],
   "source": [
    "project_id = 'elife-data-pipeline'\n",
    "source_dataset = 'de_dev'\n",
    "output_dataset = 'de_dev'\n",
    "output_table_prefix = 'data_science_'\n",
    "\n",
    "max_workers = 10\n",
    "max_editors = 100\n",
    "email = 'd.ecer@elifesciences.org'"
   ]
  },
  {
   "cell_type": "code",
   "execution_count": 2,
   "metadata": {},
   "outputs": [],
   "source": [
    "import logging\n",
    "from datetime import datetime\n",
    "from functools import partial\n",
    "from concurrent.futures import ThreadPoolExecutor\n",
    "from typing import List\n",
    "\n",
    "import pandas as pd\n",
    "from tqdm.auto import tqdm\n",
    "\n",
    "import data_science_pipeline.configure_warnings  # pylint: disable=unused-import\n",
    "\n",
    "from data_science_pipeline.utils.europepmc import (\n",
    "    EuropePMCApi,\n",
    "    europepmc_requests_retry_session\n",
    ")\n",
    "from data_science_pipeline.utils.bq import to_gbq, is_bq_not_found_exception\n",
    "from data_science_pipeline.utils.jupyter import (\n",
    "    read_big_query as _read_big_query,\n",
    ")"
   ]
  },
  {
   "cell_type": "code",
   "execution_count": 3,
   "metadata": {},
   "outputs": [],
   "source": [
    "LOGGER = logging.getLogger(__name__)\n",
    "\n",
    "logging.basicConfig(level='INFO')\n",
    "logging.getLogger('data_science_pipeline').setLevel(logging.INFO)"
   ]
  },
  {
   "cell_type": "code",
   "execution_count": 4,
   "metadata": {},
   "outputs": [],
   "source": [
    "editor_parsed_pubmed_links_table_name = '{output_dataset}.{prefix}{suffix}'.format(\n",
    "    output_dataset=output_dataset,\n",
    "    prefix=output_table_prefix,\n",
    "    suffix='editor_pubmed_links'\n",
    ")\n",
    "\n",
    "editor_parsed_pubmed_ids_table_name = '{output_dataset}.{prefix}{suffix}'.format(\n",
    "    output_dataset=output_dataset,\n",
    "    prefix=output_table_prefix,\n",
    "    suffix='editor_pubmed_ids'\n",
    ")"
   ]
  },
  {
   "cell_type": "code",
   "execution_count": 5,
   "metadata": {},
   "outputs": [],
   "source": [
    "read_big_query = partial(_read_big_query, project_id=project_id)"
   ]
  },
  {
   "cell_type": "code",
   "execution_count": 6,
   "metadata": {},
   "outputs": [],
   "source": [
    "default_query_props = dict(project=project_id, dataset=source_dataset)"
   ]
  },
  {
   "cell_type": "code",
   "execution_count": 7,
   "metadata": {},
   "outputs": [
    {
     "data": {
      "text/markdown": [
       "> ```sql\n",
       "> SELECT person_id FROM `de_dev.data_science_editor_pubmed_ids`\n",
       "> ```"
      ],
      "text/plain": [
       "<IPython.core.display.Markdown object>"
      ]
     },
     "metadata": {},
     "output_type": "display_data"
    },
    {
     "name": "stderr",
     "output_type": "stream",
     "text": [
      "Downloading: 100%|██████████| 609/609 [00:00<00:00, 2241.40rows/s]"
     ]
    },
    {
     "name": "stdout",
     "output_type": "stream",
     "text": [
      "609\n"
     ]
    },
    {
     "name": "stderr",
     "output_type": "stream",
     "text": [
      "\n"
     ]
    },
    {
     "data": {
      "text/html": [
       "<div>\n",
       "<style scoped>\n",
       "    .dataframe tbody tr th:only-of-type {\n",
       "        vertical-align: middle;\n",
       "    }\n",
       "\n",
       "    .dataframe tbody tr th {\n",
       "        vertical-align: top;\n",
       "    }\n",
       "\n",
       "    .dataframe thead th {\n",
       "        text-align: right;\n",
       "    }\n",
       "</style>\n",
       "<table border=\"1\" class=\"dataframe\">\n",
       "  <thead>\n",
       "    <tr style=\"text-align: right;\">\n",
       "      <th></th>\n",
       "      <th>person_id</th>\n",
       "    </tr>\n",
       "  </thead>\n",
       "  <tbody>\n",
       "    <tr>\n",
       "      <th>0</th>\n",
       "      <td>16148</td>\n",
       "    </tr>\n",
       "    <tr>\n",
       "      <th>1</th>\n",
       "      <td>31785</td>\n",
       "    </tr>\n",
       "    <tr>\n",
       "      <th>2</th>\n",
       "      <td>174689</td>\n",
       "    </tr>\n",
       "    <tr>\n",
       "      <th>3</th>\n",
       "      <td>1097</td>\n",
       "    </tr>\n",
       "    <tr>\n",
       "      <th>4</th>\n",
       "      <td>1160</td>\n",
       "    </tr>\n",
       "  </tbody>\n",
       "</table>\n",
       "</div>"
      ],
      "text/plain": [
       "  person_id\n",
       "0     16148\n",
       "1     31785\n",
       "2    174689\n",
       "3      1097\n",
       "4      1160"
      ]
     },
     "execution_count": 7,
     "metadata": {},
     "output_type": "execute_result"
    }
   ],
   "source": [
    "_sql = (\n",
    "    'SELECT person_id FROM `{table}`'\n",
    ").format(table=editor_parsed_pubmed_ids_table_name)\n",
    "\n",
    "try:\n",
    "    existing_editor_ids_df = read_big_query(_sql)\n",
    "except Exception as e:  # pylint: disable=broad-except\n",
    "    if not is_bq_not_found_exception(e):\n",
    "        raise\n",
    "    print('table not found: %s' % editor_parsed_pubmed_ids_table_name)\n",
    "    existing_editor_ids_df = pd.DataFrame(columns=['person_id'])\n",
    "print(len(existing_editor_ids_df))\n",
    "existing_editor_ids_df.head()"
   ]
  },
  {
   "cell_type": "code",
   "execution_count": 8,
   "metadata": {},
   "outputs": [
    {
     "data": {
      "text/plain": [
       "609"
      ]
     },
     "execution_count": 8,
     "metadata": {},
     "output_type": "execute_result"
    }
   ],
   "source": [
    "existing_editor_ids_set = set(existing_editor_ids_df['person_id'])\n",
    "len(existing_editor_ids_set)"
   ]
  },
  {
   "cell_type": "code",
   "execution_count": 9,
   "metadata": {},
   "outputs": [
    {
     "data": {
      "text/markdown": [
       "> ```sql\n",
       "> SELECT * FROM `de_dev.data_science_editor_pubmed_links`\n",
       "> WHERE parsed_search_term IS NOT NULL\n",
       "> ```"
      ],
      "text/plain": [
       "<IPython.core.display.Markdown object>"
      ]
     },
     "metadata": {},
     "output_type": "display_data"
    },
    {
     "name": "stderr",
     "output_type": "stream",
     "text": [
      "Downloading: 100%|██████████| 611/611 [00:00<00:00, 1154.69rows/s]"
     ]
    },
    {
     "name": "stdout",
     "output_type": "stream",
     "text": [
      "611\n"
     ]
    },
    {
     "name": "stderr",
     "output_type": "stream",
     "text": [
      "\n"
     ]
    },
    {
     "data": {
      "text/html": [
       "<div>\n",
       "<style scoped>\n",
       "    .dataframe tbody tr th:only-of-type {\n",
       "        vertical-align: middle;\n",
       "    }\n",
       "\n",
       "    .dataframe tbody tr th {\n",
       "        vertical-align: top;\n",
       "    }\n",
       "\n",
       "    .dataframe thead th {\n",
       "        text-align: right;\n",
       "    }\n",
       "</style>\n",
       "<table border=\"1\" class=\"dataframe\">\n",
       "  <thead>\n",
       "    <tr style=\"text-align: right;\">\n",
       "      <th></th>\n",
       "      <th>name</th>\n",
       "      <th>parsed_search_term</th>\n",
       "      <th>person_id</th>\n",
       "      <th>pubmed_url</th>\n",
       "      <th>resolved_pubmed_url</th>\n",
       "      <th>search_term</th>\n",
       "    </tr>\n",
       "  </thead>\n",
       "  <tbody>\n",
       "    <tr>\n",
       "      <th>0</th>\n",
       "      <td>Yuuki Watanabe</td>\n",
       "      <td>{'exclude': None, 'include': {'author': ['Wata...</td>\n",
       "      <td>126873</td>\n",
       "      <td>https://www.ncbi.nlm.nih.gov/pubmed/?term=Wata...</td>\n",
       "      <td>https://www.ncbi.nlm.nih.gov/pubmed/?term=Wata...</td>\n",
       "      <td>Watanabe YY[Author]</td>\n",
       "    </tr>\n",
       "    <tr>\n",
       "      <th>1</th>\n",
       "      <td>Chima Nwaogu</td>\n",
       "      <td>{'exclude': None, 'include': {'author': ['Nwao...</td>\n",
       "      <td>178962</td>\n",
       "      <td>https://www.ncbi.nlm.nih.gov/pubmed/?term=Nwao...</td>\n",
       "      <td>https://www.ncbi.nlm.nih.gov/pubmed/?term=Nwao...</td>\n",
       "      <td>Nwaogu CJ[Author]</td>\n",
       "    </tr>\n",
       "    <tr>\n",
       "      <th>2</th>\n",
       "      <td>Bernhard Schmid</td>\n",
       "      <td>{'exclude': None, 'include': {'author': ['Schm...</td>\n",
       "      <td>70207</td>\n",
       "      <td>https://www.ncbi.nlm.nih.gov/pubmed/?term=Schm...</td>\n",
       "      <td>https://www.ncbi.nlm.nih.gov/pubmed/?term=Schm...</td>\n",
       "      <td>Schmid B[Author]</td>\n",
       "    </tr>\n",
       "    <tr>\n",
       "      <th>3</th>\n",
       "      <td>Merijn Kant</td>\n",
       "      <td>{'exclude': None, 'include': {'author': ['Kant...</td>\n",
       "      <td>14193</td>\n",
       "      <td>http://www.ncbi.nlm.nih.gov/pubmed?term=Kant%2...</td>\n",
       "      <td>https://www.ncbi.nlm.nih.gov/pubmed?term=Kant%...</td>\n",
       "      <td>Kant M R[au]</td>\n",
       "    </tr>\n",
       "    <tr>\n",
       "      <th>4</th>\n",
       "      <td>Laurent Keller</td>\n",
       "      <td>{'exclude': None, 'include': {'author': ['Kell...</td>\n",
       "      <td>7970</td>\n",
       "      <td>http://www.ncbi.nlm.nih.gov/pubmed/?term=Kelle...</td>\n",
       "      <td>https://www.ncbi.nlm.nih.gov/pubmed/?term=Kell...</td>\n",
       "      <td>Keller L[Author]</td>\n",
       "    </tr>\n",
       "  </tbody>\n",
       "</table>\n",
       "</div>"
      ],
      "text/plain": [
       "              name                                 parsed_search_term  \\\n",
       "0   Yuuki Watanabe  {'exclude': None, 'include': {'author': ['Wata...   \n",
       "1     Chima Nwaogu  {'exclude': None, 'include': {'author': ['Nwao...   \n",
       "2  Bernhard Schmid  {'exclude': None, 'include': {'author': ['Schm...   \n",
       "3      Merijn Kant  {'exclude': None, 'include': {'author': ['Kant...   \n",
       "4   Laurent Keller  {'exclude': None, 'include': {'author': ['Kell...   \n",
       "\n",
       "  person_id                                         pubmed_url  \\\n",
       "0    126873  https://www.ncbi.nlm.nih.gov/pubmed/?term=Wata...   \n",
       "1    178962  https://www.ncbi.nlm.nih.gov/pubmed/?term=Nwao...   \n",
       "2     70207  https://www.ncbi.nlm.nih.gov/pubmed/?term=Schm...   \n",
       "3     14193  http://www.ncbi.nlm.nih.gov/pubmed?term=Kant%2...   \n",
       "4      7970  http://www.ncbi.nlm.nih.gov/pubmed/?term=Kelle...   \n",
       "\n",
       "                                 resolved_pubmed_url          search_term  \n",
       "0  https://www.ncbi.nlm.nih.gov/pubmed/?term=Wata...  Watanabe YY[Author]  \n",
       "1  https://www.ncbi.nlm.nih.gov/pubmed/?term=Nwao...    Nwaogu CJ[Author]  \n",
       "2  https://www.ncbi.nlm.nih.gov/pubmed/?term=Schm...     Schmid B[Author]  \n",
       "3  https://www.ncbi.nlm.nih.gov/pubmed?term=Kant%...         Kant M R[au]  \n",
       "4  https://www.ncbi.nlm.nih.gov/pubmed/?term=Kell...     Keller L[Author]  "
      ]
     },
     "execution_count": 9,
     "metadata": {},
     "output_type": "execute_result"
    }
   ],
   "source": [
    "editor_parsed_pubmed_links_df = read_big_query(\n",
    "    'SELECT * FROM `{table_name}`\\nWHERE parsed_search_term IS NOT NULL'.format(\n",
    "        table_name=editor_parsed_pubmed_links_table_name\n",
    "    )\n",
    ")\n",
    "print(len(editor_parsed_pubmed_links_df))\n",
    "editor_parsed_pubmed_links_df.head()"
   ]
  },
  {
   "cell_type": "code",
   "execution_count": 10,
   "metadata": {},
   "outputs": [
    {
     "name": "stdout",
     "output_type": "stream",
     "text": [
      "0\n"
     ]
    },
    {
     "data": {
      "text/html": [
       "<div>\n",
       "<style scoped>\n",
       "    .dataframe tbody tr th:only-of-type {\n",
       "        vertical-align: middle;\n",
       "    }\n",
       "\n",
       "    .dataframe tbody tr th {\n",
       "        vertical-align: top;\n",
       "    }\n",
       "\n",
       "    .dataframe thead th {\n",
       "        text-align: right;\n",
       "    }\n",
       "</style>\n",
       "<table border=\"1\" class=\"dataframe\">\n",
       "  <thead>\n",
       "    <tr style=\"text-align: right;\">\n",
       "      <th></th>\n",
       "      <th>name</th>\n",
       "      <th>parsed_search_term</th>\n",
       "      <th>person_id</th>\n",
       "      <th>pubmed_url</th>\n",
       "      <th>resolved_pubmed_url</th>\n",
       "      <th>search_term</th>\n",
       "    </tr>\n",
       "  </thead>\n",
       "  <tbody>\n",
       "  </tbody>\n",
       "</table>\n",
       "</div>"
      ],
      "text/plain": [
       "Empty DataFrame\n",
       "Columns: [name, parsed_search_term, person_id, pubmed_url, resolved_pubmed_url, search_term]\n",
       "Index: []"
      ]
     },
     "execution_count": 10,
     "metadata": {},
     "output_type": "execute_result"
    }
   ],
   "source": [
    "remaining_editor_parsed_pubmed_links_df = editor_parsed_pubmed_links_df[\n",
    "    ~editor_parsed_pubmed_links_df['person_id'].isin(existing_editor_ids_set)\n",
    "]\n",
    "print(len(remaining_editor_parsed_pubmed_links_df))\n",
    "remaining_editor_parsed_pubmed_links_df.head(3)"
   ]
  },
  {
   "cell_type": "code",
   "execution_count": 11,
   "metadata": {},
   "outputs": [
    {
     "data": {
      "text/plain": [
       "0"
      ]
     },
     "execution_count": 11,
     "metadata": {},
     "output_type": "execute_result"
    }
   ],
   "source": [
    "processing_editor_parsed_pubmed_links_df = remaining_editor_parsed_pubmed_links_df\n",
    "if max_editors:\n",
    "    processing_editor_parsed_pubmed_links_df = processing_editor_parsed_pubmed_links_df[:max_editors]\n",
    "len(processing_editor_parsed_pubmed_links_df)"
   ]
  },
  {
   "cell_type": "code",
   "execution_count": 12,
   "metadata": {
    "scrolled": false
   },
   "outputs": [
    {
     "data": {
      "application/vnd.jupyter.widget-view+json": {
       "model_id": "",
       "version_major": 2,
       "version_minor": 0
      },
      "text/plain": [
       "HBox(children=(FloatProgress(value=1.0, bar_style='info', max=1.0), HTML(value='')))"
      ]
     },
     "metadata": {},
     "output_type": "display_data"
    }
   ],
   "source": [
    "def get_editor_pubmed_paper_ids(europepmc_api: EuropePMCApi, row) -> List[str]:\n",
    "    parsed_search_term = row.parsed_search_term\n",
    "    if not parsed_search_term:\n",
    "        return None\n",
    "    author_names = parsed_search_term.get('include', {}).get('author')\n",
    "    try:\n",
    "        author_names = parsed_search_term.get('include', {}).get('author')\n",
    "        return europepmc_api.get_author_pmids(author_names)\n",
    "    except:  # pylint: disable=bare-except\n",
    "        LOGGER.error('failed to retrieve pubmed ids for author names: %s', author_names, exc_info=1)\n",
    "        return None\n",
    "\n",
    "\n",
    "editor_pubmed_links_result_df = processing_editor_parsed_pubmed_links_df[:max_editors].copy()\n",
    "\n",
    "with europepmc_requests_retry_session() as session:\n",
    "    europepmc_api = EuropePMCApi(\n",
    "        session,\n",
    "        params={'email': email}\n",
    "    )\n",
    "    with ThreadPoolExecutor(max_workers=max_workers) as executor:\n",
    "        editor_pubmed_links_result_df['pubmed_ids'] = list(tqdm(\n",
    "            executor.map(\n",
    "                lambda row: get_editor_pubmed_paper_ids(europepmc_api, row),\n",
    "                editor_pubmed_links_result_df.itertuples()\n",
    "            ),\n",
    "            total=len(editor_pubmed_links_result_df),\n",
    "            leave=False\n",
    "        ))"
   ]
  },
  {
   "cell_type": "code",
   "execution_count": 13,
   "metadata": {},
   "outputs": [
    {
     "data": {
      "text/plain": [
       "0"
      ]
     },
     "execution_count": 13,
     "metadata": {},
     "output_type": "execute_result"
    }
   ],
   "source": [
    "non_empty_editor_pubmed_links_result_df = editor_pubmed_links_result_df[\n",
    "    ~pd.isnull(editor_pubmed_links_result_df['pubmed_ids'])\n",
    "].copy()\n",
    "len(non_empty_editor_pubmed_links_result_df)"
   ]
  },
  {
   "cell_type": "code",
   "execution_count": 14,
   "metadata": {},
   "outputs": [],
   "source": [
    "non_empty_editor_pubmed_links_result_df['provenance'] = [{\n",
    "    'source': 'europepmc',\n",
    "    'imported_timestamp': datetime.utcnow().isoformat()\n",
    "}] * len(non_empty_editor_pubmed_links_result_df)"
   ]
  },
  {
   "cell_type": "code",
   "execution_count": 15,
   "metadata": {},
   "outputs": [
    {
     "name": "stdout",
     "output_type": "stream",
     "text": [
      "no data to upload\n"
     ]
    }
   ],
   "source": [
    "if len(non_empty_editor_pubmed_links_result_df) == 0:\n",
    "    print('no data to upload')\n",
    "else:\n",
    "    print('writing to:', editor_parsed_pubmed_ids_table_name)\n",
    "    to_gbq(\n",
    "        non_empty_editor_pubmed_links_result_df,\n",
    "        project_id=project_id,\n",
    "        destination_table=editor_parsed_pubmed_ids_table_name,\n",
    "        if_exists='append'\n",
    "    )\n",
    "    print('done')"
   ]
  }
 ],
 "metadata": {
  "celltoolbar": "Tags",
  "kernelspec": {
   "display_name": "Python 3",
   "language": "python",
   "name": "python3"
  },
  "language_info": {
   "codemirror_mode": {
    "name": "ipython",
    "version": 3
   },
   "file_extension": ".py",
   "mimetype": "text/x-python",
   "name": "python",
   "nbconvert_exporter": "python",
   "pygments_lexer": "ipython3",
   "version": "3.7.6"
  }
 },
 "nbformat": 4,
 "nbformat_minor": 4
}
