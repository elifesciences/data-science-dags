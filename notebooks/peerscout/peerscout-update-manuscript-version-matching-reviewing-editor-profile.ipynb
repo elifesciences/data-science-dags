{
 "cells": [
  {
   "cell_type": "code",
   "execution_count": null,
   "metadata": {
    "tags": [
     "parameters"
    ]
   },
   "outputs": [],
   "source": [
    "project_id = 'elife-data-pipeline'\n",
    "output_dataset = 'de_dev'\n",
    "output_table_prefix = 'data_science_'"
   ]
  },
  {
   "cell_type": "code",
   "execution_count": null,
   "metadata": {},
   "outputs": [],
   "source": [
    "import logging\n",
    "import sys\n",
    "\n",
    "import data_science_pipeline.configure_warnings  # pylint: disable=unused-import\n",
    "import data_science_pipeline.configure_notebook_logging  # pylint: disable=unused-import\n",
    "\n",
    "from data_science_pipeline.sql import get_sql\n",
    "from data_science_pipeline.utils.bq import run_query_and_save_to_table, get_client\n",
    "from data_science_pipeline.utils.jupyter import printmd, to_markdown_sql"
   ]
  },
  {
   "cell_type": "code",
   "execution_count": null,
   "metadata": {},
   "outputs": [],
   "source": [
    "destination_table_name = ''.join([output_table_prefix, 'Manuscript_Version_Matching_Reviewing_Editor_Profile'])"
   ]
  },
  {
   "cell_type": "code",
   "execution_count": null,
   "metadata": {},
   "outputs": [],
   "source": [
    "logging.basicConfig(level='INFO', stream=sys.stdout)"
   ]
  },
  {
   "cell_type": "code",
   "execution_count": null,
   "metadata": {},
   "outputs": [],
   "source": [
    "print('processing Manuscript_Version_Matching_Reviewing_Editor_Profile')\n",
    "_sql = get_sql('Manuscript_Version_Matching_Reviewing_Editor_Profile.sql').format(\n",
    "    project=project_id,\n",
    "    dataset=output_dataset\n",
    ")\n",
    "printmd(to_markdown_sql(_sql))\n",
    "run_query_and_save_to_table(\n",
    "    client=get_client(project_id=project_id),\n",
    "    query=_sql,\n",
    "    destination_dataset=output_dataset,\n",
    "    destination_table_name=destination_table_name\n",
    ")\n",
    "print('done')"
   ]
  }
 ],
 "metadata": {
  "kernelspec": {
   "display_name": "Python 3",
   "language": "python",
   "name": "python3"
  },
  "language_info": {
   "codemirror_mode": {
    "name": "ipython",
    "version": 3
   },
   "file_extension": ".py",
   "mimetype": "text/x-python",
   "name": "python",
   "nbconvert_exporter": "python",
   "pygments_lexer": "ipython3",
   "version": "3.7.6"
  }
 },
 "nbformat": 4,
 "nbformat_minor": 4
}
