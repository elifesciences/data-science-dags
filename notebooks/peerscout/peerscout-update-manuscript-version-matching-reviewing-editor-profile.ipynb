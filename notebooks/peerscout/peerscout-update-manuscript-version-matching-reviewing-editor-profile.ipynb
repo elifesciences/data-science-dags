{
 "cells": [
  {
   "cell_type": "code",
   "execution_count": 1,
   "metadata": {
    "tags": [
     "parameters"
    ]
   },
   "outputs": [],
   "source": [
    "project_id = 'elife-data-pipeline'\n",
    "output_dataset = 'de_dev'\n",
    "output_table_prefix = 'data_science_'"
   ]
  },
  {
   "cell_type": "code",
   "execution_count": 2,
   "metadata": {},
   "outputs": [],
   "source": [
    "import logging\n",
    "import sys\n",
    "\n",
    "import data_science_pipeline.configure_warnings\n",
    "\n",
    "from data_science_pipeline.sql import get_sql\n",
    "from data_science_pipeline.utils.bq import run_query_and_save_to_table, get_client\n",
    "from data_science_pipeline.utils.jupyter import printmd, to_markdown_sql"
   ]
  },
  {
   "cell_type": "code",
   "execution_count": 3,
   "metadata": {},
   "outputs": [],
   "source": [
    "destination_table_name = ''.join([output_table_prefix, 'Manuscript_Version_Matching_Reviewing_Editor_Profile'])"
   ]
  },
  {
   "cell_type": "code",
   "execution_count": 4,
   "metadata": {},
   "outputs": [],
   "source": [
    "logging.basicConfig(level='INFO', stream=sys.stdout)"
   ]
  },
  {
   "cell_type": "code",
   "execution_count": 5,
   "metadata": {
    "scrolled": false
   },
   "outputs": [
    {
     "name": "stdout",
     "output_type": "stream",
     "text": [
      "processing Manuscript_Version_Matching_Reviewing_Editor_Profile\n"
     ]
    },
    {
     "data": {
      "text/markdown": [
       "> ```sql\n",
       "> WITH t_full_submission_version_id_including_null AS (\n",
       ">   -- add NULL to also have one entry for the general editor search (\"no manuscript selected\")\n",
       ">   SELECT NULL AS version_id\n",
       ">   \n",
       ">   UNION ALL\n",
       "> \n",
       ">   SELECT version_id\n",
       ">   FROM `elife-data-pipeline.de_dev.v_manuscript_version_last_editor_assigned_timestamp` AS manuscript_version\n",
       ">   WHERE manuscript_version.overall_stage = 'Full Submission'\n",
       ">   AND TIMESTAMP_DIFF(CURRENT_TIMESTAMP(), manuscript_version.stages[SAFE_OFFSET(0)].stage_timestamp, DAY) <= 90\n",
       ">   AND (\n",
       ">     TIMESTAMP_DIFF(CURRENT_TIMESTAMP(), manuscript_version.stages[SAFE_OFFSET(0)].stage_timestamp, DAY) <= 30\n",
       ">     OR NOT EXISTS (SELECT 1 FROM UNNEST(manuscript_version.stages) WHERE stage_name = 'Reviewing Editor Assigned')\n",
       ">   )\n",
       ">   AND NOT is_withdrawn\n",
       ">   AND NOT is_deleted\n",
       "> ),\n",
       "> \n",
       "> t_recommendations AS (\n",
       ">   SELECT\n",
       ">     Editor.*,\n",
       ">     manuscript_version.manuscript_id AS Manuscript_ID,\n",
       ">     manuscript_version.version_id AS Version_ID,\n",
       ">     manuscript_version.long_manuscript_identifier AS Long_Manuscript_Identifier,\n",
       ">     COALESCE(\n",
       ">       CONCAT(manuscript_version.long_manuscript_identifier, ' - ', manuscript_version.manuscript_title),\n",
       ">       '~ No Manuscript Selected ~'\n",
       ">     ) AS Display_Manuscript_Identifier,\n",
       ">     manuscript_version.overall_stage AS Overall_Stage,\n",
       ">     manuscript_version.manuscript_title AS Manuscript_Title,\n",
       ">     manuscript_version.abstract AS Abstract,\n",
       ">     ARRAY_TO_STRING(\n",
       ">       ARRAY(\n",
       ">         SELECT keyword\n",
       ">         FROM UNNEST(matching_keywords)\n",
       ">       ),\n",
       ">       ', '\n",
       ">     ) AS Matching_Keywords_CSV,\n",
       ">     editor_recommendation.score AS Matching_Score,\n",
       ">     (\n",
       ">       MAX(editor_recommendation.score) OVER(\n",
       ">         PARTITION BY manuscript_version.version_id\n",
       ">       ) IS NOT NULL\n",
       ">     ) AS Has_Recommendation,\n",
       ">     manuscript_version.stages[SAFE_OFFSET(0)].stage_name AS Last_Stage_Name,\n",
       ">     (\n",
       ">       SELECT stage_timestamp\n",
       ">       FROM UNNEST(stages)\n",
       ">       WHERE stage_name = 'Reviewing Editor Assigned'\n",
       ">       ORDER BY stage_timestamp DESC\n",
       ">       LIMIT 1\n",
       ">     ) AS Reviewing_Editor_Assigned_Timestamp\n",
       ">   FROM `elife-data-pipeline.de_dev.mv_Editorial_Editor_Profile` AS Editor\n",
       ">   CROSS JOIN t_full_submission_version_id_including_null AS version_ids\n",
       ">   LEFT JOIN `elife-data-pipeline.de_dev.v_manuscript_version_last_editor_assigned_timestamp` AS manuscript_version\n",
       ">     ON manuscript_version.version_id = version_ids.version_id\n",
       ">   LEFT JOIN `elife-data-pipeline.de_dev.data_science_reviewing_editor_recommendation` AS editor_recommendation\n",
       ">     ON editor_recommendation.person_id = Editor.Person_ID\n",
       ">     AND editor_recommendation.version_id = version_ids.version_id\n",
       ">   WHERE Editor.Role_Name = 'Reviewing Editor'\n",
       "> )\n",
       "> \n",
       "> SELECT\n",
       ">   *,\n",
       ">   IF(\n",
       ">     Version_ID IS NULL,\n",
       ">     Display_Manuscript_Identifier,\n",
       ">     CONCAT(\n",
       ">       Long_Manuscript_Identifier,\n",
       ">       IF(Reviewing_Editor_Assigned_Timestamp IS NOT NULL, ' (RE assigned)', ''),\n",
       ">       IF(\n",
       ">         NOT Has_Recommendation,\n",
       ">         ' (no recommendation yet)',\n",
       ">         ''\n",
       ">       ),\n",
       ">       ' - ',\n",
       ">       Manuscript_Title\n",
       ">     )\n",
       ">   ) AS Display_Manuscript_Identifier_With_State\n",
       "> FROM t_recommendations\n",
       "> ```"
      ],
      "text/plain": [
       "<IPython.core.display.Markdown object>"
      ]
     },
     "metadata": {},
     "output_type": "display_data"
    },
    {
     "name": "stdout",
     "output_type": "stream",
     "text": [
      "INFO:data_science_pipeline.utils.bq:ran query and saved to: de_dev.data_science_Manuscript_Version_Matching_Reviewing_Editor_Profile, total rows: 370512, took: 23.207s\n",
      "done\n"
     ]
    }
   ],
   "source": [
    "print('processing Manuscript_Version_Matching_Reviewing_Editor_Profile')\n",
    "_sql = get_sql('Manuscript_Version_Matching_Reviewing_Editor_Profile.sql').format(\n",
    "    project=project_id,\n",
    "    dataset=output_dataset\n",
    ")\n",
    "printmd(to_markdown_sql(_sql))\n",
    "run_query_and_save_to_table(\n",
    "    client=get_client(project_id=project_id),\n",
    "    query=_sql,\n",
    "    destination_dataset=output_dataset,\n",
    "    destination_table_name=destination_table_name\n",
    ")\n",
    "print('done')"
   ]
  }
 ],
 "metadata": {
  "kernelspec": {
   "display_name": "Python 3",
   "language": "python",
   "name": "python3"
  },
  "language_info": {
   "codemirror_mode": {
    "name": "ipython",
    "version": 3
   },
   "file_extension": ".py",
   "mimetype": "text/x-python",
   "name": "python",
   "nbconvert_exporter": "python",
   "pygments_lexer": "ipython3",
   "version": "3.7.6"
  }
 },
 "nbformat": 4,
 "nbformat_minor": 4
}
