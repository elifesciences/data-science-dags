{
 "cells": [
  {
   "cell_type": "code",
   "execution_count": null,
   "metadata": {
    "tags": [
     "parameters"
    ]
   },
   "outputs": [],
   "source": [
    "project_id = 'elife-data-pipeline'\n",
    "output_dataset = 'de_dev'\n",
    "output_table_prefix = 'data_science_'\n",
    "target_paper_count = 50\n",
    "# max_paper_count is ignore if it is a good match\n",
    "max_paper_count = 2000"
   ]
  },
  {
   "cell_type": "code",
   "execution_count": null,
   "metadata": {},
   "outputs": [],
   "source": [
    "import logging\n",
    "import sys\n",
    "\n",
    "import pandas as pd\n",
    "\n",
    "import data_science_pipeline.configure_warnings  # pylint: disable=unused-import\n",
    "\n",
    "from data_science_pipeline.sql import get_sql\n",
    "from data_science_pipeline.utils.bq import run_query_and_save_to_table, get_client\n",
    "from data_science_pipeline.utils.jupyter import printmd, to_markdown_sql, read_big_query"
   ]
  },
  {
   "cell_type": "code",
   "execution_count": null,
   "metadata": {},
   "outputs": [],
   "source": [
    "query_name = 'disambiguated_editor_papers'\n",
    "destination_table_name = ''.join([output_table_prefix, query_name])"
   ]
  },
  {
   "cell_type": "code",
   "execution_count": null,
   "metadata": {},
   "outputs": [],
   "source": [
    "logging.basicConfig(level='INFO', stream=sys.stdout)"
   ]
  },
  {
   "cell_type": "code",
   "execution_count": null,
   "metadata": {},
   "outputs": [],
   "source": [
    "print('processing %s' % query_name)\n",
    "_sql = get_sql('%s.sql' % query_name).format(\n",
    "    project=project_id,\n",
    "    dataset=output_dataset,\n",
    "    target_paper_count=target_paper_count,\n",
    "    max_paper_count=max_paper_count\n",
    ")\n",
    "printmd(to_markdown_sql(_sql))\n",
    "run_query_and_save_to_table(\n",
    "    client=get_client(project_id=project_id),\n",
    "    query=_sql,\n",
    "    destination_dataset=output_dataset,\n",
    "    destination_table_name=destination_table_name\n",
    ")\n",
    "print('done')"
   ]
  },
  {
   "cell_type": "code",
   "execution_count": null,
   "metadata": {},
   "outputs": [],
   "source": [
    "_sql = get_sql('disambiguated_editor_papers_count.sql').format(\n",
    "    project=project_id,\n",
    "    dataset=output_dataset\n",
    ")\n",
    "editor_pubmed_count_df = read_big_query(_sql)\n",
    "print(len(editor_pubmed_count_df))\n",
    "editor_pubmed_count_df.head(3)"
   ]
  },
  {
   "cell_type": "code",
   "execution_count": null,
   "metadata": {},
   "outputs": [],
   "source": [
    "with pd.option_context(\"display.max_rows\", 1000):\n",
    "    print(editor_pubmed_count_df.drop(columns={'relevant_pubmed_url_count'}).to_string(index=False))"
   ]
  },
  {
   "cell_type": "code",
   "execution_count": null,
   "metadata": {},
   "outputs": [],
   "source": [
    "print('editors with pubmed urls without parsed pubmed id:\\n%s' % editor_pubmed_count_df[\n",
    "    editor_pubmed_count_df['relevant_pubmed_url_count'] > editor_pubmed_count_df['relevant_pubmed_id_count']\n",
    "][['person_id', 'name', 'relevant_pubmed_url_count', 'relevant_pubmed_id_count']].to_string(index=False))"
   ]
  },
  {
   "cell_type": "code",
   "execution_count": null,
   "metadata": {},
   "outputs": [],
   "source": [
    "print(\n",
    "    'editors without disambiguated pubmed papers despite having relevant pubmed ids:\\n%s' % (\n",
    "        editor_pubmed_count_df[\n",
    "            (editor_pubmed_count_df['pubmed_count'] == 0)\n",
    "            & (editor_pubmed_count_df['relevant_pubmed_id_count'] > 0)\n",
    "        ]\n",
    "        [['person_id', 'name', 'pubmed_count', 'relevant_pubmed_id_count', 'total_pubmed_id_count']]\n",
    "        .to_string(index=False)\n",
    "    )\n",
    ")"
   ]
  },
  {
   "cell_type": "code",
   "execution_count": null,
   "metadata": {},
   "outputs": [],
   "source": [
    "print(\n",
    "    'editors with less than five disambiguated pubmed papers:\\n%s' % (\n",
    "        editor_pubmed_count_df[\n",
    "            (editor_pubmed_count_df['pubmed_count'] > 0)\n",
    "            & (editor_pubmed_count_df['pubmed_count'] < 5)\n",
    "        ]\n",
    "        [['person_id', 'name', 'pubmed_count', 'relevant_pubmed_id_count', 'total_pubmed_id_count']]\n",
    "        .to_string(index=False)\n",
    "    )\n",
    ")"
   ]
  },
  {
   "cell_type": "code",
   "execution_count": null,
   "metadata": {},
   "outputs": [],
   "source": [
    "print(\n",
    "    'editors without additional disambiguated pubmed papers (apart from relevant pubmed ids):\\n%s' % (\n",
    "        editor_pubmed_count_df[\n",
    "            (editor_pubmed_count_df['pubmed_count'] <= editor_pubmed_count_df['relevant_pubmed_id_count'])\n",
    "            & (\n",
    "                editor_pubmed_count_df['total_pubmed_id_count']\n",
    "                > editor_pubmed_count_df['relevant_pubmed_id_count']\n",
    "            )\n",
    "        ]\n",
    "        [['person_id', 'name', 'relevant_pubmed_id_count', 'total_pubmed_id_count', 'search_term']]\n",
    "        .to_string(index=False)\n",
    "    )\n",
    ")"
   ]
  },
  {
   "cell_type": "code",
   "execution_count": null,
   "metadata": {},
   "outputs": [],
   "source": [
    "print(\n",
    "    'editors with only relevant pubmed papers:\\n%s' % (\n",
    "        editor_pubmed_count_df[\n",
    "            (editor_pubmed_count_df['pubmed_count'] > 0)\n",
    "            & (\n",
    "                editor_pubmed_count_df['total_pubmed_id_count']\n",
    "                <= editor_pubmed_count_df['relevant_pubmed_id_count']\n",
    "            )\n",
    "        ]\n",
    "        [['person_id', 'name', 'relevant_pubmed_id_count', 'total_pubmed_id_count', 'search_term']]\n",
    "        .to_string(index=False)\n",
    "    )\n",
    ")"
   ]
  },
  {
   "cell_type": "code",
   "execution_count": null,
   "metadata": {},
   "outputs": [],
   "source": [
    "print(\n",
    "    'editors without any disambiguated pubmed papers:\\n%s' % (\n",
    "        editor_pubmed_count_df[\n",
    "            editor_pubmed_count_df['pubmed_count'] == 0\n",
    "        ]\n",
    "        [['person_id', 'name', 'relevant_pubmed_id_count', 'total_pubmed_id_count', 'search_term']]\n",
    "        .to_string(index=False)\n",
    "    )\n",
    ")"
   ]
  }
 ],
 "metadata": {
  "kernelspec": {
   "display_name": "Python 3",
   "language": "python",
   "name": "python3"
  },
  "language_info": {
   "codemirror_mode": {
    "name": "ipython",
    "version": 3
   },
   "file_extension": ".py",
   "mimetype": "text/x-python",
   "name": "python",
   "nbconvert_exporter": "python",
   "pygments_lexer": "ipython3",
   "version": "3.7.6"
  }
 },
 "nbformat": 4,
 "nbformat_minor": 4
}
