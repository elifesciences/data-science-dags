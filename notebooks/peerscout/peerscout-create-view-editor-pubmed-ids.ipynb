{
 "cells": [
  {
   "cell_type": "code",
   "execution_count": null,
   "source": [
    "project_id = 'elife-data-pipeline'\n",
    "dataset = 'de_dev'\n",
    "view_name='v_data_science_editor_pubmed_ids'\n",
    "query_name ='v_data_science_editor_pubmed_ids.sql'"
   ],
   "outputs": [],
   "metadata": {}
  },
  {
   "cell_type": "code",
   "execution_count": null,
   "source": [
    "import logging\n",
    "\n",
    "from data_science_pipeline.utils.bq import (\n",
    "    create_or_replace_bq_view,\n",
    "    materialize_given_view\n",
    ")\n",
    "from data_science_pipeline.sql import get_sql"
   ],
   "outputs": [],
   "metadata": {}
  },
  {
   "cell_type": "code",
   "execution_count": null,
   "source": [
    "LOGGER = logging.getLogger(__name__)\n",
    "logging.basicConfig(level='INFO')"
   ],
   "outputs": [],
   "metadata": {}
  },
  {
   "cell_type": "code",
   "execution_count": null,
   "source": [
    "LOGGER.info('processing: %s', query_name)\n",
    "query = get_sql(query_name).format(\n",
    "    project=project_id,\n",
    "    dataset=dataset\n",
    ")\n",
    "\n",
    "create_or_replace_bq_view(\n",
    "    query=query,\n",
    "    project=project_id,\n",
    "    dataset=dataset,\n",
    "    view_name=view_name\n",
    ")"
   ],
   "outputs": [],
   "metadata": {}
  },
  {
   "cell_type": "code",
   "execution_count": null,
   "source": [
    "materialize_given_view(\n",
    "    project=project_id,\n",
    "    dataset=dataset,\n",
    "    source_view_name=view_name,\n",
    "    mview_prefix='m'\n",
    ")\n",
    "\n",
    "LOGGER.info(\"done\")"
   ],
   "outputs": [],
   "metadata": {}
  }
 ],
 "metadata": {
  "orig_nbformat": 4,
  "language_info": {
   "name": "python",
   "version": "3.7.9",
   "mimetype": "text/x-python",
   "codemirror_mode": {
    "name": "ipython",
    "version": 3
   },
   "pygments_lexer": "ipython3",
   "nbconvert_exporter": "python",
   "file_extension": ".py"
  },
  "kernelspec": {
   "name": "python3",
   "display_name": "Python 3.7.9 64-bit ('venv': venv)"
  },
  "interpreter": {
   "hash": "fa0e558d19a230636e19ac4c9ade870c2c276d3dbc1e90e338dc45db7288d529"
  }
 },
 "nbformat": 4,
 "nbformat_minor": 2
}