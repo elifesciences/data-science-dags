{
 "cells": [
  {
   "cell_type": "code",
   "execution_count": null,
   "metadata": {
    "tags": [
     "parameters"
    ]
   },
   "source": [
    "project_id = 'elife-data-pipeline'\n",
    "source_dataset = 'de_dev'\n",
    "output_dataset = 'de_dev'\n",
    "view_name='v_data_science_editor_pubmed_ids'\n",
    "mview_name='mv_data_science_editor_pubmed_ids'\n",
    "query_name ='v_data_science_editor_pubmed_ids.sql'"
   ],
   "outputs": []
  },
  {
   "cell_type": "code",
   "execution_count": null,
   "source": [
    "import logging\n",
    "\n",
    "from bigquery_views_manager.update_views import update_or_create_view\n",
    "from bigquery_views_manager.materialize_views import materialize_view\n",
    "\n",
    "from data_science_pipeline.utils.bq import get_client\n",
    "from data_science_pipeline.sql import get_sql"
   ],
   "outputs": [],
   "metadata": {}
  },
  {
   "cell_type": "code",
   "execution_count": null,
   "source": [
    "LOGGER = logging.getLogger(__name__)\n",
    "logging.basicConfig(level='INFO')"
   ],
   "outputs": [],
   "metadata": {}
  },
  {
   "cell_type": "code",
   "execution_count": null,
   "source": [
    "client = get_client(project_id=project_id)"
   ],
   "outputs": [],
   "metadata": {}
  },
  {
   "cell_type": "code",
   "execution_count": null,
   "source": [
    "LOGGER.info('processing: %s', query_name)\n",
    "view_query = get_sql(query_name).format(\n",
    "        project=project_id,\n",
    "        dataset=output_dataset)\n",
    "\n",
    "LOGGER.info('view_query: \\n%s', view_query)\n",
    "\n",
    "update_or_create_view(\n",
    "        client=client,\n",
    "        view_name=view_name,\n",
    "        view_query=view_query,\n",
    "        dataset=output_dataset\n",
    ")"
   ],
   "outputs": [],
   "metadata": {}
  },
  {
   "cell_type": "code",
   "execution_count": null,
   "source": [
    "materialize_view(\n",
    "    client=client,\n",
    "    source_view_name=view_name,\n",
    "    destination_table_name=mview_name,\n",
    "    project=project_id,\n",
    "    source_dataset=source_dataset,\n",
    "    destination_dataset=output_dataset\n",
    ")"
   ],
   "outputs": [],
   "metadata": {}
  }
 ],
 "metadata": {
  "orig_nbformat": 4,
  "language_info": {
   "name": "python",
   "version": "3.7.9",
   "mimetype": "text/x-python",
   "codemirror_mode": {
    "name": "ipython",
    "version": 3
   },
   "pygments_lexer": "ipython3",
   "nbconvert_exporter": "python",
   "file_extension": ".py"
  },
  "kernelspec": {
   "name": "python3",
   "display_name": "Python 3.7.9 64-bit ('venv': venv)"
  },
  "interpreter": {
   "hash": "fa0e558d19a230636e19ac4c9ade870c2c276d3dbc1e90e338dc45db7288d529"
  }
 },
 "nbformat": 4,
 "nbformat_minor": 2
}