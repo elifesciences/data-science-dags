{
 "cells": [
  {
   "cell_type": "code",
   "execution_count": 18,
   "source": [
    "project_id = 'elife-data-pipeline'\n",
    "dataset = 'de_dev'\n",
    "view_name='v_data_science_editor_pubmed_ids'\n",
    "mview_name='mv_data_science_editor_pubmed_ids'\n",
    "query_name ='v_data_science_editor_pubmed_ids.sql'"
   ],
   "outputs": [],
   "metadata": {}
  },
  {
   "cell_type": "code",
   "execution_count": 19,
   "source": [
    "import logging\n",
    "\n",
    "from data_science_pipeline.utils.bq import (\n",
    "    get_client,\n",
    "    materialize_given_view\n",
    ")\n",
    "from data_science_pipeline.sql import get_sql\n",
    "from bigquery_views_manager.update_views import update_or_create_view\n",
    "from bigquery_views_manager.materialize_views import materialize_view\n"
   ],
   "outputs": [],
   "metadata": {}
  },
  {
   "cell_type": "code",
   "execution_count": 3,
   "source": [
    "LOGGER = logging.getLogger(__name__)\n",
    "logging.basicConfig(level='INFO')"
   ],
   "outputs": [],
   "metadata": {}
  },
  {
   "cell_type": "code",
   "execution_count": 7,
   "source": [
    "client = get_client(project_id=project_id)"
   ],
   "outputs": [],
   "metadata": {}
  },
  {
   "cell_type": "code",
   "execution_count": 20,
   "source": [
    "LOGGER.info('processing: %s', query_name)\n",
    "view_query = get_sql(query_name).format(\n",
    "        project=project_id,\n",
    "        dataset=dataset\n",
    ")\n",
    "update_or_create_view(\n",
    "        client=client,\n",
    "        view_name=view_name,\n",
    "        view_query=view_query,\n",
    "        dataset=dataset\n",
    ")    "
   ],
   "outputs": [
    {
     "output_type": "stream",
     "name": "stderr",
     "text": [
      "INFO:__main__:processing: v_data_science_editor_pubmed_ids.sql\n"
     ]
    }
   ],
   "metadata": {}
  },
  {
   "cell_type": "code",
   "execution_count": 17,
   "source": [
    "materialize_view(\n",
    "    client=client,\n",
    "    source_view_name=view_name,\n",
    "    destination_table_name=mview_name,\n",
    "    project=project_id,\n",
    "    source_dataset=dataset,\n",
    "    destination_dataset=dataset\n",
    ")"
   ],
   "outputs": [
    {
     "output_type": "error",
     "ename": "NameError",
     "evalue": "name 'mview_name' is not defined",
     "traceback": [
      "\u001b[0;31m---------------------------------------------------------------------------\u001b[0m",
      "\u001b[0;31mNameError\u001b[0m                                 Traceback (most recent call last)",
      "\u001b[0;32m/var/folders/gz/3b4st4q56pd1983txrbt2yyw0000gn/T/ipykernel_10923/2986548480.py\u001b[0m in \u001b[0;36m<module>\u001b[0;34m\u001b[0m\n\u001b[1;32m      2\u001b[0m     \u001b[0mclient\u001b[0m\u001b[0;34m=\u001b[0m\u001b[0mclient\u001b[0m\u001b[0;34m,\u001b[0m\u001b[0;34m\u001b[0m\u001b[0;34m\u001b[0m\u001b[0m\n\u001b[1;32m      3\u001b[0m     \u001b[0msource_view_name\u001b[0m\u001b[0;34m=\u001b[0m\u001b[0mview_name\u001b[0m\u001b[0;34m,\u001b[0m\u001b[0;34m\u001b[0m\u001b[0;34m\u001b[0m\u001b[0m\n\u001b[0;32m----> 4\u001b[0;31m     \u001b[0mdestination_table_name\u001b[0m\u001b[0;34m=\u001b[0m\u001b[0mmview_name\u001b[0m\u001b[0;34m,\u001b[0m\u001b[0;34m\u001b[0m\u001b[0;34m\u001b[0m\u001b[0m\n\u001b[0m\u001b[1;32m      5\u001b[0m     \u001b[0mproject\u001b[0m\u001b[0;34m=\u001b[0m\u001b[0mproject_id\u001b[0m\u001b[0;34m,\u001b[0m\u001b[0;34m\u001b[0m\u001b[0;34m\u001b[0m\u001b[0m\n\u001b[1;32m      6\u001b[0m     \u001b[0msource_dataset\u001b[0m\u001b[0;34m=\u001b[0m\u001b[0mdataset\u001b[0m\u001b[0;34m,\u001b[0m\u001b[0;34m\u001b[0m\u001b[0;34m\u001b[0m\u001b[0m\n",
      "\u001b[0;31mNameError\u001b[0m: name 'mview_name' is not defined"
     ]
    }
   ],
   "metadata": {}
  },
  {
   "cell_type": "code",
   "execution_count": 15,
   "source": [
    "materialize_given_view(\n",
    "    project=project_id,\n",
    "    dataset=dataset,\n",
    "    source_view_name=view_name,\n",
    "    mview_prefix='m'\n",
    ")\n",
    "\n",
    "LOGGER.info(\"done\")"
   ],
   "outputs": [
    {
     "output_type": "stream",
     "name": "stderr",
     "text": [
      "INFO:data_science_pipeline.utils.bq:view elife-data-pipeline.de_dev.v_data_science_editor_pubmed_ids is been materializing\n",
      "INFO:data_science_pipeline.utils.bq:mv elife-data-pipeline.de_dev.mv_data_science_editor_pubmed_ids has been created\n",
      "INFO:__main__:done\n"
     ]
    }
   ],
   "metadata": {}
  }
 ],
 "metadata": {
  "orig_nbformat": 4,
  "language_info": {
   "name": "python",
   "version": "3.7.9",
   "mimetype": "text/x-python",
   "codemirror_mode": {
    "name": "ipython",
    "version": 3
   },
   "pygments_lexer": "ipython3",
   "nbconvert_exporter": "python",
   "file_extension": ".py"
  },
  "kernelspec": {
   "name": "python3",
   "display_name": "Python 3.7.9 64-bit ('venv': venv)"
  },
  "interpreter": {
   "hash": "fa0e558d19a230636e19ac4c9ade870c2c276d3dbc1e90e338dc45db7288d529"
  }
 },
 "nbformat": 4,
 "nbformat_minor": 2
}