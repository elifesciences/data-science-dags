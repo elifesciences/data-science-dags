{
 "cells": [
  {
   "cell_type": "code",
   "execution_count": 1,
   "source": [
    "project_id = 'elife-data-pipeline'\n",
    "source_dataset = 'de_dev'\n",
    "output_dataset = 'de_dev'\n",
    "output_table_prefix = 'data_science_'\n",
    "manuscript_min_tf = 10\n",
    "manuscript_max_tf = 0.9\n",
    "state_path = 's3://ci-elife-data-pipeline/airflow-config/data-science/state-dev'"
   ],
   "outputs": [],
   "metadata": {
    "tags": [
     "parameters"
    ]
   }
  },
  {
   "cell_type": "code",
   "execution_count": 2,
   "source": [
    "import os\n",
    "from functools import partial\n",
    "from typing import List, Tuple, TypeVar\n",
    "\n",
    "import pandas as pd\n",
    "\n",
    "from sklearn.metrics.pairwise import cosine_similarity\n",
    "\n",
    "import data_science_pipeline.configure_warnings  # pylint: disable=unused-import\n",
    "import data_science_pipeline.configure_notebook_logging  # pylint: disable=unused-import\n",
    "\n",
    "from data_science_pipeline.sql import get_sql\n",
    "from data_science_pipeline.utils.bq import (to_gbq, delete_bq_table)\n",
    "from data_science_pipeline.utils.io import load_object_from\n",
    "from data_science_pipeline.utils.jupyter import (\n",
    "    read_big_query as _read_big_query\n",
    ")\n",
    "from data_science_pipeline.peerscout.models import (\n",
    "    WeightedKeywordModel\n",
    ")"
   ],
   "outputs": [
    {
     "output_type": "stream",
     "name": "stderr",
     "text": [
      "INFO:botocore.credentials:Found credentials in shared credentials file: ~/.aws/credentials\n"
     ]
    }
   ],
   "metadata": {}
  },
  {
   "cell_type": "code",
   "execution_count": 3,
   "source": [
    "model_path = os.path.join(state_path, 'reviewing_editor_model.joblib')\n",
    "recommendation_output_table_name = '{output_dataset}.{prefix}{suffix}'.format(\n",
    "    output_dataset=output_dataset,\n",
    "    prefix=output_table_prefix,\n",
    "    suffix='reviewing_editor_recommendation'\n",
    ")"
   ],
   "outputs": [],
   "metadata": {}
  },
  {
   "cell_type": "code",
   "execution_count": 4,
   "source": [
    "print('loading model from:', model_path)\n",
    "model_dict = load_object_from(model_path)\n",
    "model_dict.keys()"
   ],
   "outputs": [
    {
     "output_type": "stream",
     "name": "stdout",
     "text": [
      "loading model from: s3://ci-elife-data-pipeline/airflow-config/data-science/state-dev/reviewing_editor_model.joblib\n"
     ]
    },
    {
     "output_type": "stream",
     "name": "stderr",
     "text": [
      "/Users/hazal/elife_repo/data-science-dags/venv/lib/python3.7/site-packages/sklearn/base.py:315: UserWarning: Trying to unpickle estimator TfidfTransformer from version 0.23.2 when using version 0.24.2. This might lead to breaking code or invalid results. Use at your own risk.\n",
      "  UserWarning)\n",
      "/Users/hazal/elife_repo/data-science-dags/venv/lib/python3.7/site-packages/sklearn/base.py:315: UserWarning: Trying to unpickle estimator TfidfVectorizer from version 0.23.2 when using version 0.24.2. This might lead to breaking code or invalid results. Use at your own risk.\n",
      "  UserWarning)\n"
     ]
    },
    {
     "output_type": "execute_result",
     "data": {
      "text/plain": [
       "dict_keys(['editor_tf_idf_vectorizer', 'editor_tf_idf', 'editor_names', 'editor_person_ids'])"
      ]
     },
     "metadata": {},
     "execution_count": 4
    }
   ],
   "metadata": {}
  },
  {
   "cell_type": "code",
   "execution_count": 6,
   "source": [
    "editor_tf_idf_vectorizer = model_dict['editor_tf_idf_vectorizer']\n",
    "editor_tf_idf_vectorizer"
   ],
   "outputs": [
    {
     "output_type": "execute_result",
     "data": {
      "text/plain": [
       "TfidfVectorizer(lowercase=False, smooth_idf=False, token_pattern=None,\n",
       "                tokenizer=<function identity_fn at 0x12a19dd40>)"
      ]
     },
     "metadata": {},
     "execution_count": 6
    }
   ],
   "metadata": {}
  },
  {
   "cell_type": "code",
   "execution_count": 7,
   "source": [
    "editor_tf_idf = model_dict['editor_tf_idf']\n",
    "editor_tf_idf"
   ],
   "outputs": [
    {
     "output_type": "execute_result",
     "data": {
      "text/plain": [
       "<566x32650 sparse matrix of type '<class 'numpy.float64'>'\n",
       "\twith 1083800 stored elements in Compressed Sparse Row format>"
      ]
     },
     "metadata": {},
     "execution_count": 7
    }
   ],
   "metadata": {}
  },
  {
   "cell_type": "code",
   "execution_count": 8,
   "source": [
    "editor_names = model_dict['editor_names']\n",
    "# editor_names"
   ],
   "outputs": [],
   "metadata": {}
  },
  {
   "cell_type": "code",
   "execution_count": 9,
   "source": [
    "editor_person_ids = model_dict['editor_person_ids']\n",
    "# editor_person_ids"
   ],
   "outputs": [],
   "metadata": {}
  },
  {
   "cell_type": "code",
   "execution_count": 10,
   "source": [
    "editor_person_id_by_name_map = dict(zip(editor_names, editor_person_ids))\n",
    "# editor_person_id_by_name_map"
   ],
   "outputs": [],
   "metadata": {}
  },
  {
   "cell_type": "code",
   "execution_count": 11,
   "source": [
    "weighted_keyword_valid_model = WeightedKeywordModel.from_tf_matrix(\n",
    "    editor_tf_idf.todense(),\n",
    "    vectorizer=editor_tf_idf_vectorizer,\n",
    "    choices=editor_names\n",
    ")\n",
    "# weighted_keyword_valid_model"
   ],
   "outputs": [],
   "metadata": {}
  },
  {
   "cell_type": "code",
   "execution_count": 12,
   "source": [
    "read_big_query = partial(_read_big_query, project_id=project_id)"
   ],
   "outputs": [],
   "metadata": {}
  },
  {
   "cell_type": "code",
   "execution_count": 13,
   "source": [
    "default_query_props = dict(project=project_id, dataset=source_dataset)"
   ],
   "outputs": [],
   "metadata": {}
  },
  {
   "cell_type": "code",
   "execution_count": 14,
   "source": [
    "# we are using the same manuscript list used for senior editor recommendation\n",
    "# this is because we want to recommend reviewing editors to consult with (not for assignment)\n",
    "manuscript_version_for_recommendation_df = read_big_query(\n",
    "    get_sql('manuscript-version-initial-submissions-for-senior-editor-recommendation.sql').format(\n",
    "        **default_query_props\n",
    "    )\n",
    ")\n",
    "# print(len(manuscript_version_for_recommendation_df))\n",
    "# manuscript_version_for_recommendation_df.head()"
   ],
   "outputs": [
    {
     "output_type": "display_data",
     "data": {
      "text/plain": [
       "<IPython.core.display.Markdown object>"
      ],
      "text/markdown": [
       "> ```sql\n",
       "> -- Main features:\n",
       "> --    - Returns Initial Submissions for the purpose of Senior Editor recommendation\n",
       "> --    - No older than a year\n",
       "> --    - Not have Senior Editor assigned for more than 30 days\n",
       "> \n",
       "> WITH t_manuscript_version_abstract_keywords AS (\n",
       ">   SELECT\n",
       ">     manuscript_abstract_keywords.manuscript_id AS manuscript_id,\n",
       ">     manuscript_abstract_keywords.version_id,\n",
       ">     manuscript_abstract_keywords.extracted_keywords,\n",
       ">     ROW_NUMBER() OVER (\n",
       ">       PARTITION BY version_id\n",
       ">       ORDER BY data_hub_imported_timestamp DESC\n",
       ">     ) AS version_id_row_number\n",
       ">   FROM `elife-data-pipeline.de_dev.manuscript_abstract_keywords` AS manuscript_abstract_keywords\n",
       ">   WHERE ARRAY_LENGTH(extracted_keywords) > 0\n",
       "> ),\n",
       "> \n",
       "> t_last_manuscript_version_abstract_keywords AS (\n",
       ">   SELECT\n",
       ">     * EXCEPT(version_id_row_number)\n",
       ">   FROM t_manuscript_version_abstract_keywords\n",
       ">   WHERE version_id_row_number = 1\n",
       ">   ORDER BY version_id\n",
       "> )\n",
       "> \n",
       "> SELECT version.version_id, manuscript_version_abstract_keywords.extracted_keywords\n",
       "> FROM `elife-data-pipeline.de_dev.mv_manuscript_version` AS version\n",
       "> JOIN t_last_manuscript_version_abstract_keywords AS manuscript_version_abstract_keywords\n",
       ">   ON manuscript_version_abstract_keywords.version_id = version.version_id\n",
       "> WHERE version.overall_stage = 'Initial Submission'\n",
       ">   AND (\n",
       ">     ARRAY_LENGTH(version.senior_editors) = 0\n",
       ">     OR TIMESTAMP_DIFF(\n",
       ">       CURRENT_TIMESTAMP,\n",
       ">       (SELECT MAX(last_assigned_timestamp) FROM UNNEST(version.senior_editors)),\n",
       ">       DAY\n",
       ">     ) < 30\n",
       ">   )\n",
       ">   AND TIMESTAMP_DIFF(CURRENT_TIMESTAMP, version.created_timestamp, DAY) < 365\n",
       ">   AND NOT is_withdrawn\n",
       ">   AND NOT is_deleted\n",
       "> ```"
      ]
     },
     "metadata": {}
    }
   ],
   "metadata": {}
  },
  {
   "cell_type": "code",
   "execution_count": 15,
   "source": [
    "keyword_similarity = cosine_similarity(\n",
    "    editor_tf_idf_vectorizer.transform(\n",
    "        manuscript_version_for_recommendation_df\n",
    "        ['extracted_keywords']\n",
    "    ),\n",
    "    editor_tf_idf\n",
    ")\n",
    "# print(keyword_similarity.max())\n",
    "# keyword_similarity"
   ],
   "outputs": [],
   "metadata": {}
  },
  {
   "cell_type": "code",
   "execution_count": 16,
   "source": [
    "weighted_keyword_valid_model.predict_ranking(\n",
    "    manuscript_version_for_recommendation_df['extracted_keywords'][:1],\n",
    ").proba_matrix"
   ],
   "outputs": [
    {
     "output_type": "execute_result",
     "data": {
      "text/plain": [
       "matrix([[0.00306093, 0.03067246, 0.02202923, 0.03464895, 0.02292322,\n",
       "         0.04318502, 0.01557829, 0.04572065, 0.02411131, 0.0636179 ,\n",
       "         0.02718654, 0.02783322, 0.05677565, 0.04470987, 0.02780778,\n",
       "         0.04683665, 0.03755486, 0.07712596, 0.05994866, 0.04184636,\n",
       "         0.02608116, 0.02119183, 0.02246005, 0.01006581, 0.02860591,\n",
       "         0.0247516 , 0.02459215, 0.0387984 , 0.03914576, 0.08070278,\n",
       "         0.01312075, 0.03024609, 0.03918477, 0.02318454, 0.02459989,\n",
       "         0.02824739, 0.02562608, 0.0281173 , 0.04466105, 0.07205303,\n",
       "         0.03342014, 0.03264087, 0.0406232 , 0.03518264, 0.05317832,\n",
       "         0.04831648, 0.02740609, 0.05606851, 0.05640841, 0.01890196,\n",
       "         0.03520664, 0.02618198, 0.02233196, 0.01749824, 0.02164606,\n",
       "         0.01927998, 0.04079578, 0.00774869, 0.02227654, 0.02929645,\n",
       "         0.04469836, 0.062376  , 0.02947312, 0.02456284, 0.02504775,\n",
       "         0.02447775, 0.01636786, 0.04771955, 0.01538938, 0.07255144,\n",
       "         0.01448441, 0.03626193, 0.04144793, 0.04586182, 0.02668271,\n",
       "         0.03023614, 0.03103784, 0.08905579, 0.01427229, 0.03071897,\n",
       "         0.01726884, 0.02873258, 0.04510067, 0.02027577, 0.0195593 ,\n",
       "         0.03125433, 0.06711823, 0.02985681, 0.03597784, 0.0209776 ,\n",
       "         0.04986265, 0.03884066, 0.02824081, 0.01469139, 0.04208871,\n",
       "         0.01960689, 0.01832519, 0.06279111, 0.02695984, 0.02931164,\n",
       "         0.0404088 , 0.02400133, 0.0158705 , 0.03078209, 0.09148524,\n",
       "         0.0232341 , 0.00994814, 0.03879903, 0.05396113, 0.06511887,\n",
       "         0.03850332, 0.01349617, 0.03880256, 0.03063296, 0.02961931,\n",
       "         0.02999858, 0.02466158, 0.02653135, 0.027545  , 0.05228525,\n",
       "         0.02337139, 0.02758623, 0.06280954, 0.03847259, 0.02381806,\n",
       "         0.00439618, 0.03456047, 0.0363888 , 0.03201573, 0.02346013,\n",
       "         0.02133062, 0.04685034, 0.04639945, 0.04908992, 0.0217106 ,\n",
       "         0.03741494, 0.0234669 , 0.01750138, 0.01709593, 0.02200338,\n",
       "         0.07565289, 0.05011648, 0.01816151, 0.04597397, 0.06034607,\n",
       "         0.05736616, 0.01590841, 0.05779815, 0.02974787, 0.03866063,\n",
       "         0.0222227 , 0.02870901, 0.01629527, 0.02843372, 0.04502235,\n",
       "         0.03349015, 0.04847928, 0.02416637, 0.04403293, 0.05381446,\n",
       "         0.02570089, 0.02639541, 0.0629159 , 0.02518002, 0.0322493 ,\n",
       "         0.06621854, 0.02479013, 0.04387648, 0.02738055, 0.03131772,\n",
       "         0.05143185, 0.03625596, 0.01186712, 0.03909852, 0.02987937,\n",
       "         0.01985461, 0.03325436, 0.01620594, 0.01549053, 0.02780094,\n",
       "         0.0225666 , 0.01212156, 0.01427704, 0.02719657, 0.04116278,\n",
       "         0.04170109, 0.03746554, 0.04221015, 0.04321434, 0.03142789,\n",
       "         0.01650933, 0.05643344, 0.03523046, 0.03915657, 0.04926407,\n",
       "         0.02702988, 0.03272823, 0.02430742, 0.02660801, 0.02271378,\n",
       "         0.05785351, 0.047405  , 0.05377111, 0.04472207, 0.02390665,\n",
       "         0.02572364, 0.03522437, 0.02539583, 0.05400119, 0.02945109,\n",
       "         0.03290898, 0.03287503, 0.02674174, 0.04375098, 0.04203571,\n",
       "         0.03240426, 0.0246477 , 0.04757311, 0.03772424, 0.01943555,\n",
       "         0.03200293, 0.05273306, 0.06476969, 0.03509888, 0.01559649,\n",
       "         0.06530011, 0.05681126, 0.0255965 , 0.04083645, 0.03031625,\n",
       "         0.06499328, 0.02538729, 0.07011403, 0.03227904, 0.04498945,\n",
       "         0.031002  , 0.02881581, 0.01391726, 0.03412327, 0.07210323,\n",
       "         0.05962765, 0.04198604, 0.06931854, 0.01722704, 0.03203768,\n",
       "         0.03000547, 0.03640775, 0.01951428, 0.02976513, 0.04145451,\n",
       "         0.03994661, 0.02810943, 0.01846509, 0.04313095, 0.01572718,\n",
       "         0.01219847, 0.04374959, 0.02021992, 0.03514297, 0.03302848,\n",
       "         0.01968792, 0.02519985, 0.02159435, 0.03558328, 0.0343399 ,\n",
       "         0.02864636, 0.02664784, 0.07297421, 0.04360231, 0.01927128,\n",
       "         0.02442581, 0.03883541, 0.02673441, 0.02449296, 0.01920171,\n",
       "         0.03324087, 0.03587242, 0.03198642, 0.08151045, 0.05383836,\n",
       "         0.01271853, 0.03669553, 0.03541103, 0.04415604, 0.03585718,\n",
       "         0.03480391, 0.03972478, 0.02359844, 0.02975311, 0.03539943,\n",
       "         0.02013061, 0.03764685, 0.02055472, 0.01842088, 0.02184928,\n",
       "         0.02962254, 0.02924153, 0.02649452, 0.01913938, 0.03135878,\n",
       "         0.03484201, 0.03198846, 0.01652341, 0.0270539 , 0.02169031,\n",
       "         0.02678615, 0.02014876, 0.07506267, 0.03672788, 0.02330686,\n",
       "         0.03673948, 0.02220434, 0.03537398, 0.03262042, 0.03325019,\n",
       "         0.07265204, 0.05379752, 0.0313618 , 0.01304738, 0.0203876 ,\n",
       "         0.03216443, 0.02357413, 0.04707414, 0.03335828, 0.03553644,\n",
       "         0.03583862, 0.00839079, 0.0407248 , 0.03884539, 0.09438956,\n",
       "         0.0275256 , 0.0198953 , 0.05116479, 0.03063882, 0.0177674 ,\n",
       "         0.03243485, 0.02747993, 0.03210538, 0.03933858, 0.02336712,\n",
       "         0.02162933, 0.01769625, 0.04621996, 0.05261432, 0.03108402,\n",
       "         0.02802177, 0.03819705, 0.03767684, 0.03917335, 0.016573  ,\n",
       "         0.02667582, 0.0214973 , 0.02436392, 0.02076946, 0.02247496,\n",
       "         0.03356855, 0.05340362, 0.02706799, 0.04797099, 0.05577038,\n",
       "         0.02383157, 0.05098725, 0.06317   , 0.04658758, 0.01497016,\n",
       "         0.01739345, 0.02410069, 0.03147661, 0.02238673, 0.09117482,\n",
       "         0.03322214, 0.05630568, 0.02597782, 0.02648272, 0.01855111,\n",
       "         0.04923798, 0.04021155, 0.03598007, 0.0178752 , 0.01697859,\n",
       "         0.03064184, 0.05157544, 0.03174611, 0.02550601, 0.03530398,\n",
       "         0.01799782, 0.03007164, 0.0722085 , 0.02889866, 0.03284996,\n",
       "         0.02561863, 0.04630451, 0.03697487, 0.02086148, 0.03493569,\n",
       "         0.02892753, 0.0359907 , 0.02264599, 0.02696015, 0.01667719,\n",
       "         0.02151577, 0.02771682, 0.01653367, 0.02743358, 0.04695468,\n",
       "         0.03435463, 0.02742121, 0.05616041, 0.03154522, 0.03988733,\n",
       "         0.03167905, 0.05590451, 0.0669967 , 0.0252483 , 0.02514298,\n",
       "         0.02676901, 0.0334035 , 0.0428991 , 0.02750282, 0.03673018,\n",
       "         0.01917361, 0.0261905 , 0.01832497, 0.04292411, 0.04798363,\n",
       "         0.02928075, 0.02746576, 0.03388366, 0.02805586, 0.00329761,\n",
       "         0.03045255, 0.05532676, 0.04072732, 0.04400261, 0.02227993,\n",
       "         0.02958569, 0.06564487, 0.02464414, 0.01576808, 0.03424215,\n",
       "         0.05499082, 0.0480102 , 0.03226441, 0.03918985, 0.04500404,\n",
       "         0.01514151, 0.02609881, 0.04055559, 0.03087793, 0.02887517,\n",
       "         0.0191978 , 0.02149198, 0.03812064, 0.028025  , 0.04716002,\n",
       "         0.04205801, 0.01894105, 0.03271218, 0.03901574, 0.01575629,\n",
       "         0.02749517, 0.04138206, 0.0499253 , 0.02950964, 0.03338881,\n",
       "         0.04136988, 0.03637321, 0.02569342, 0.02066679, 0.02991743,\n",
       "         0.01847708, 0.0248197 , 0.02444393, 0.02295956, 0.02043863,\n",
       "         0.01850242, 0.02906146, 0.02837443, 0.02400037, 0.02948681,\n",
       "         0.03152299, 0.01023602, 0.01551339, 0.03911917, 0.06652631,\n",
       "         0.02753673, 0.01980589, 0.03564755, 0.05411536, 0.02971937,\n",
       "         0.01882013, 0.09669494, 0.04640705, 0.03103077, 0.05583901,\n",
       "         0.03117506, 0.02710071, 0.05130847, 0.03879045, 0.0224    ,\n",
       "         0.03520983, 0.02186297, 0.04611175, 0.03608522, 0.04341825,\n",
       "         0.02482263, 0.04102483, 0.02082857, 0.03046284, 0.05108296,\n",
       "         0.05859751, 0.01760976, 0.07402952, 0.02604596, 0.0422692 ,\n",
       "         0.04336103, 0.06163226, 0.07614979, 0.04896698, 0.097233  ,\n",
       "         0.04334258, 0.03696629, 0.0249653 , 0.03433119, 0.03118992,\n",
       "         0.02738208, 0.02776893, 0.04907194, 0.01976431, 0.08339242,\n",
       "         0.0303456 , 0.02649424, 0.04508333, 0.02163637, 0.0365241 ,\n",
       "         0.02898966, 0.02277418, 0.04106294, 0.03968955, 0.04281847,\n",
       "         0.04518438, 0.03944798, 0.02200349, 0.02456716, 0.03329979,\n",
       "         0.07262336, 0.02596869, 0.03299513, 0.03127418, 0.02714071,\n",
       "         0.03370361, 0.02096651, 0.05962117, 0.02273557, 0.01967427,\n",
       "         0.02428383, 0.02560243, 0.03818571, 0.08109747, 0.02178111,\n",
       "         0.03735742, 0.0195612 , 0.03207717, 0.02354685, 0.02968686,\n",
       "         0.05040279]])"
      ]
     },
     "metadata": {},
     "execution_count": 16
    }
   ],
   "metadata": {}
  },
  {
   "cell_type": "code",
   "execution_count": 17,
   "source": [
    "manuscript_matching_keywords_list = weighted_keyword_valid_model.predict_ranking(\n",
    "    manuscript_version_for_recommendation_df['extracted_keywords']\n",
    ").matching_keywords_list\n",
    "pd.Series(manuscript_matching_keywords_list[:5])"
   ],
   "outputs": [
    {
     "output_type": "execute_result",
     "data": {
      "text/plain": [
       "0    [[(0.003060927201726417, effect)], [(0.0039074...\n",
       "1    [[], [(0.0017674070553020792, desire), (0.0017...\n",
       "2    [[(0.0024388841791769863, role), (0.0024131594...\n",
       "3    [[(0.0029117909512956955, network), (0.0023704...\n",
       "4    [[(0.0029346145927124736, receptor), (0.002182...\n",
       "dtype: object"
      ]
     },
     "metadata": {},
     "execution_count": 17
    }
   ],
   "metadata": {}
  },
  {
   "cell_type": "code",
   "execution_count": 18,
   "source": [
    "T = TypeVar('T')\n",
    "\n",
    "\n",
    "def get_recommended_editors_with_probability(\n",
    "        proba_matrix: List[List[float]],\n",
    "        manuscript_matching_keywords_list: List[List[Tuple[float, str]]],\n",
    "        indices: List[T],\n",
    "        threshold: float = 0.5) -> List[List[Tuple[float, T]]]:\n",
    "    return [\n",
    "        sorted([\n",
    "            (\n",
    "                p,\n",
    "                key,\n",
    "                sum(\n",
    "                    s for s, _ in editor_matching_keywords\n",
    "                ),\n",
    "                editor_matching_keywords\n",
    "            )\n",
    "            for p, key, editor_matching_keywords in zip(\n",
    "                row,\n",
    "                indices,\n",
    "                editors_matching_keywords\n",
    "            ) if p >= threshold\n",
    "        ], reverse=True)\n",
    "        for row, editors_matching_keywords in zip(proba_matrix, manuscript_matching_keywords_list)\n",
    "    ]\n",
    "\n",
    "\n",
    "prediction_results_with_similarity = pd.Series(\n",
    "    get_recommended_editors_with_probability(\n",
    "        keyword_similarity,\n",
    "        manuscript_matching_keywords_list,\n",
    "        editor_names,\n",
    "        threshold=0.001\n",
    "    ),\n",
    "    index=manuscript_version_for_recommendation_df.index\n",
    ")\n",
    "# prediction_results_with_similarity[:5]"
   ],
   "outputs": [],
   "metadata": {}
  },
  {
   "cell_type": "code",
   "execution_count": 19,
   "source": [
    "prediction_results_df = pd.concat([\n",
    "    manuscript_version_for_recommendation_df['version_id'],\n",
    "    prediction_results_with_similarity.to_frame('prediction'),\n",
    "], axis=1)\n",
    "# print(len(prediction_results_df))\n",
    "# prediction_results_df.head()"
   ],
   "outputs": [],
   "metadata": {}
  },
  {
   "cell_type": "code",
   "execution_count": 20,
   "source": [
    "# prediction_results_df['prediction'][0]"
   ],
   "outputs": [],
   "metadata": {}
  },
  {
   "cell_type": "code",
   "execution_count": 21,
   "source": [
    "prediction_results_flat_df = pd.DataFrame([\n",
    "    {\n",
    "        'version_id': row.version_id,\n",
    "        'score': predicted_editor[0],\n",
    "        'name': predicted_editor[1],\n",
    "        'person_id': editor_person_id_by_name_map[predicted_editor[1]],\n",
    "        'matching_keyword_score': predicted_editor[2],\n",
    "        'matching_keywords': [{\n",
    "            'score': keyword_score,\n",
    "            'keyword': keyword\n",
    "        } for keyword_score, keyword in predicted_editor[3]],\n",
    "    }\n",
    "    for row in prediction_results_df.itertuples()\n",
    "    for predicted_editor in row.prediction\n",
    "])\n",
    "# print(len(prediction_results_flat_df))\n",
    "# prediction_results_flat_df.head()"
   ],
   "outputs": [],
   "metadata": {}
  },
  {
   "cell_type": "code",
   "execution_count": 22,
   "source": [
    "prediction_results_flat_df['version_id'].nunique()"
   ],
   "outputs": [
    {
     "output_type": "execute_result",
     "data": {
      "text/plain": [
       "24"
      ]
     },
     "metadata": {},
     "execution_count": 22
    }
   ],
   "metadata": {}
  },
  {
   "cell_type": "code",
   "execution_count": 29,
   "source": [
    "# prediction_results_flat_df.max()"
   ],
   "outputs": [],
   "metadata": {}
  },
  {
   "cell_type": "code",
   "execution_count": 24,
   "source": [
    "prediction_results_flat_df.head()"
   ],
   "outputs": [
    {
     "output_type": "execute_result",
     "data": {
      "text/plain": [
       "                   version_id     score              name person_id  \\\n",
       "0  72259/2021-07-16T11:10:42Z  0.097233     Tobias Donner     74960   \n",
       "1  72259/2021-07-16T11:10:42Z  0.096695  Stephanie Palmer     68611   \n",
       "2  72259/2021-07-16T11:10:42Z  0.094390          Mark Jit      1708   \n",
       "3  72259/2021-07-16T11:10:42Z  0.091485       Daeyeol Lee     10628   \n",
       "4  72259/2021-07-16T11:10:42Z  0.091175    Mimi Liljeholm     97220   \n",
       "\n",
       "   matching_keyword_score                                  matching_keywords  \n",
       "0                0.097233  [{'score': 0.017253928935734276, 'keyword': 'd...  \n",
       "1                0.096695  [{'score': 0.011549650065095047, 'keyword': 'p...  \n",
       "2                0.094390  [{'score': 0.02352193620930551, 'keyword': 'ec...  \n",
       "3                0.091485  [{'score': 0.02025661665082472, 'keyword': 'ch...  \n",
       "4                0.091175  [{'score': 0.009398746892334683, 'keyword': 'd...  "
      ],
      "text/html": [
       "<div>\n",
       "<style scoped>\n",
       "    .dataframe tbody tr th:only-of-type {\n",
       "        vertical-align: middle;\n",
       "    }\n",
       "\n",
       "    .dataframe tbody tr th {\n",
       "        vertical-align: top;\n",
       "    }\n",
       "\n",
       "    .dataframe thead th {\n",
       "        text-align: right;\n",
       "    }\n",
       "</style>\n",
       "<table border=\"1\" class=\"dataframe\">\n",
       "  <thead>\n",
       "    <tr style=\"text-align: right;\">\n",
       "      <th></th>\n",
       "      <th>version_id</th>\n",
       "      <th>score</th>\n",
       "      <th>name</th>\n",
       "      <th>person_id</th>\n",
       "      <th>matching_keyword_score</th>\n",
       "      <th>matching_keywords</th>\n",
       "    </tr>\n",
       "  </thead>\n",
       "  <tbody>\n",
       "    <tr>\n",
       "      <th>0</th>\n",
       "      <td>72259/2021-07-16T11:10:42Z</td>\n",
       "      <td>0.097233</td>\n",
       "      <td>Tobias Donner</td>\n",
       "      <td>74960</td>\n",
       "      <td>0.097233</td>\n",
       "      <td>[{'score': 0.017253928935734276, 'keyword': 'd...</td>\n",
       "    </tr>\n",
       "    <tr>\n",
       "      <th>1</th>\n",
       "      <td>72259/2021-07-16T11:10:42Z</td>\n",
       "      <td>0.096695</td>\n",
       "      <td>Stephanie Palmer</td>\n",
       "      <td>68611</td>\n",
       "      <td>0.096695</td>\n",
       "      <td>[{'score': 0.011549650065095047, 'keyword': 'p...</td>\n",
       "    </tr>\n",
       "    <tr>\n",
       "      <th>2</th>\n",
       "      <td>72259/2021-07-16T11:10:42Z</td>\n",
       "      <td>0.094390</td>\n",
       "      <td>Mark Jit</td>\n",
       "      <td>1708</td>\n",
       "      <td>0.094390</td>\n",
       "      <td>[{'score': 0.02352193620930551, 'keyword': 'ec...</td>\n",
       "    </tr>\n",
       "    <tr>\n",
       "      <th>3</th>\n",
       "      <td>72259/2021-07-16T11:10:42Z</td>\n",
       "      <td>0.091485</td>\n",
       "      <td>Daeyeol Lee</td>\n",
       "      <td>10628</td>\n",
       "      <td>0.091485</td>\n",
       "      <td>[{'score': 0.02025661665082472, 'keyword': 'ch...</td>\n",
       "    </tr>\n",
       "    <tr>\n",
       "      <th>4</th>\n",
       "      <td>72259/2021-07-16T11:10:42Z</td>\n",
       "      <td>0.091175</td>\n",
       "      <td>Mimi Liljeholm</td>\n",
       "      <td>97220</td>\n",
       "      <td>0.091175</td>\n",
       "      <td>[{'score': 0.009398746892334683, 'keyword': 'd...</td>\n",
       "    </tr>\n",
       "  </tbody>\n",
       "</table>\n",
       "</div>"
      ]
     },
     "metadata": {},
     "execution_count": 24
    }
   ],
   "metadata": {}
  },
  {
   "cell_type": "code",
   "execution_count": 25,
   "source": [
    "def dataframe_chunk(seq, size):\n",
    "    for pos in range(0, len(seq), size):\n",
    "        yield seq.iloc[pos:pos + size]\n"
   ],
   "outputs": [],
   "metadata": {}
  },
  {
   "cell_type": "code",
   "execution_count": 30,
   "source": [
    "CHUNK_SIZE = 3000\n",
    "delete_bq_table(project_id=project_id, table_name=recommendation_output_table_name)"
   ],
   "outputs": [
    {
     "output_type": "stream",
     "name": "stderr",
     "text": [
      "INFO:data_science_pipeline.utils.bq:Deleted table 'elife-data-pipeline.de_dev.data_science_reviewing_editor_recommendation'.\n"
     ]
    }
   ],
   "metadata": {}
  },
  {
   "cell_type": "code",
   "execution_count": 28,
   "source": [
    "print('writing to:', recommendation_output_table_name)\n",
    "# added chunk while loading bq to reduce memory allocation\n",
    "for part_of_prediction_results in dataframe_chunk(prediction_results_flat_df, CHUNK_SIZE):\n",
    "    print('Last record of the df chunk: ', part_of_prediction_results.tail(1))\n",
    "    to_gbq(\n",
    "        part_of_prediction_results,\n",
    "        recommendation_output_table_name,\n",
    "        project_id=project_id,\n",
    "        if_exists='append'\n",
    "    )\n"
   ],
   "outputs": [
    {
     "output_type": "stream",
     "name": "stdout",
     "text": [
      "writing to: de_dev.data_science_reviewing_editor_recommendation\n",
      "Last record of the df chunk:                        version_id    score           name person_id  \\\n",
      "2999  72257/2021-07-16T10:15:30Z  0.03467  Noriaki Emoto    184943   \n",
      "\n",
      "      matching_keyword_score  \\\n",
      "2999                 0.03467   \n",
      "\n",
      "                                      matching_keywords  \n",
      "2999  [{'score': 0.003957430614840587, 'keyword': 'd...  \n"
     ]
    },
    {
     "output_type": "stream",
     "name": "stderr",
     "text": [
      "INFO:root:Processing line 1000\n",
      "INFO:root:Processing line 2000\n",
      "INFO:root:Processing line 3000\n",
      "INFO:root:Processed 3000 lines\n",
      "INFO:data_science_pipeline.utils.bq_schema:Created table elife-data-pipeline.de_dev.data_science_reviewing_editor_recommendation\n",
      "INFO:data_science_pipeline.utils.bq:loading from /var/folders/gz/3b4st4q56pd1983txrbt2yyw0000gn/T/tmpro_3xrt8/data.jsonl.gz\n",
      "INFO:data_science_pipeline.utils.bq:Loaded 3000 rows into de_dev:data_science_reviewing_editor_recommendation.\n"
     ]
    },
    {
     "output_type": "stream",
     "name": "stdout",
     "text": [
      "Last record of the df chunk:                        version_id     score            name person_id  \\\n",
      "5999  72263/2021-07-16T13:45:27Z  0.022918  Michael Dustin      7917   \n",
      "\n",
      "      matching_keyword_score  \\\n",
      "5999                0.022918   \n",
      "\n",
      "                                      matching_keywords  \n",
      "5999  [{'score': 0.004109232155294465, 'keyword': 'p...  \n"
     ]
    },
    {
     "output_type": "stream",
     "name": "stderr",
     "text": [
      "INFO:root:Processing line 1000\n",
      "INFO:root:Processing line 2000\n",
      "INFO:root:Processing line 3000\n",
      "INFO:root:Processed 3000 lines\n",
      "INFO:data_science_pipeline.utils.bq:loading from /var/folders/gz/3b4st4q56pd1983txrbt2yyw0000gn/T/tmpl1cor601/data.jsonl.gz\n",
      "INFO:data_science_pipeline.utils.bq:Loaded 3000 rows into de_dev:data_science_reviewing_editor_recommendation.\n"
     ]
    },
    {
     "output_type": "stream",
     "name": "stdout",
     "text": [
      "Last record of the df chunk:                        version_id    score      name person_id  \\\n",
      "8999  72268/2021-07-16T19:01:37Z  0.02862  Demba Ba    196287   \n",
      "\n",
      "      matching_keyword_score  \\\n",
      "8999                 0.02862   \n",
      "\n",
      "                                      matching_keywords  \n",
      "8999  [{'score': 0.0043731123001550425, 'keyword': '...  \n"
     ]
    },
    {
     "output_type": "stream",
     "name": "stderr",
     "text": [
      "INFO:root:Processing line 1000\n",
      "INFO:root:Processing line 2000\n",
      "INFO:root:Processing line 3000\n",
      "INFO:root:Processed 3000 lines\n",
      "INFO:data_science_pipeline.utils.bq:loading from /var/folders/gz/3b4st4q56pd1983txrbt2yyw0000gn/T/tmp0666vd5m/data.jsonl.gz\n",
      "INFO:data_science_pipeline.utils.bq:Loaded 3000 rows into de_dev:data_science_reviewing_editor_recommendation.\n"
     ]
    },
    {
     "output_type": "stream",
     "name": "stdout",
     "text": [
      "Last record of the df chunk:                         version_id     score               name person_id  \\\n",
      "11999  72264/2021-07-16T13:50:25Z  0.039605  Pekka Lappalainen     19580   \n",
      "\n",
      "       matching_keyword_score  \\\n",
      "11999                0.039605   \n",
      "\n",
      "                                       matching_keywords  \n",
      "11999  [{'score': 0.0071757418678202525, 'keyword': '...  \n"
     ]
    },
    {
     "output_type": "stream",
     "name": "stderr",
     "text": [
      "INFO:root:Processing line 1000\n",
      "INFO:root:Processing line 2000\n",
      "INFO:root:Processing line 3000\n",
      "INFO:root:Processed 3000 lines\n",
      "INFO:data_science_pipeline.utils.bq:loading from /var/folders/gz/3b4st4q56pd1983txrbt2yyw0000gn/T/tmp_s9f99rz/data.jsonl.gz\n",
      "INFO:data_science_pipeline.utils.bq:Loaded 3000 rows into de_dev:data_science_reviewing_editor_recommendation.\n"
     ]
    },
    {
     "output_type": "stream",
     "name": "stdout",
     "text": [
      "Last record of the df chunk:                         version_id     score              name person_id  \\\n",
      "13576  72256/2021-07-16T09:45:26Z  0.001896  Donald Hamelberg    206904   \n",
      "\n",
      "       matching_keyword_score  \\\n",
      "13576                0.001896   \n",
      "\n",
      "                                       matching_keywords  \n",
      "13576  [{'score': 0.001895878097495363, 'keyword': 'p...  \n"
     ]
    },
    {
     "output_type": "stream",
     "name": "stderr",
     "text": [
      "INFO:root:Processing line 1000\n",
      "INFO:root:Processed 1577 lines\n",
      "INFO:data_science_pipeline.utils.bq:loading from /var/folders/gz/3b4st4q56pd1983txrbt2yyw0000gn/T/tmpqy2yryun/data.jsonl.gz\n",
      "INFO:data_science_pipeline.utils.bq:Loaded 1577 rows into de_dev:data_science_reviewing_editor_recommendation.\n"
     ]
    }
   ],
   "metadata": {}
  }
 ],
 "metadata": {
  "interpreter": {
   "hash": "fa0e558d19a230636e19ac4c9ade870c2c276d3dbc1e90e338dc45db7288d529"
  },
  "kernelspec": {
   "name": "python3",
   "display_name": "Python 3.7.9 64-bit ('venv': venv)"
  },
  "language_info": {
   "codemirror_mode": {
    "name": "ipython",
    "version": 3
   },
   "file_extension": ".py",
   "mimetype": "text/x-python",
   "name": "python",
   "nbconvert_exporter": "python",
   "pygments_lexer": "ipython3",
   "version": "3.7.9"
  }
 },
 "nbformat": 4,
 "nbformat_minor": 4
}