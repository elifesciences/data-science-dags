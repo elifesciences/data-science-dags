{
 "cells": [
  {
   "cell_type": "code",
   "execution_count": 1,
   "metadata": {},
   "outputs": [],
   "source": [
    "project_id = 'elife-data-pipeline'\n",
    "source_dataset = 'de_dev'\n",
    "output_dataset = 'de_dev'\n",
    "output_table_prefix = 'data_science_'\n",
    "\n",
    "max_workers = 10\n",
    "max_manuscripts = 50000\n",
    "email = 'd.ecer@elifesciences.org'"
   ]
  },
  {
   "cell_type": "code",
   "execution_count": 2,
   "metadata": {},
   "outputs": [],
   "source": [
    "import json\n",
    "import re\n",
    "import os\n",
    "import logging\n",
    "from datetime import datetime\n",
    "from functools import partial\n",
    "from concurrent.futures import ThreadPoolExecutor \n",
    "from typing import List\n",
    "\n",
    "import numpy as np\n",
    "import pandas as pd\n",
    "import requests\n",
    "from tqdm.auto import tqdm\n",
    "\n",
    "import google.cloud.exceptions\n",
    "\n",
    "import data_science_pipeline.configure_warnings\n",
    "\n",
    "from data_science_pipeline.sql import get_sql\n",
    "from data_science_pipeline.utils.europepmc import (\n",
    "    EUROPEPMC_MAX_PAGE_SIZE,\n",
    "    EuropePMCApi,\n",
    "    europepmc_requests_retry_session\n",
    ")\n",
    "from data_science_pipeline.utils.misc import iter_batches\n",
    "from data_science_pipeline.utils.bq import (\n",
    "    is_bq_not_found_exception,\n",
    "    load_json_list_and_append_to_bq_table_with_auto_schema\n",
    ")\n",
    "from data_science_pipeline.utils.pandas import read_csv\n",
    "from data_science_pipeline.utils.jupyter import (\n",
    "    read_big_query as _read_big_query,\n",
    ")"
   ]
  },
  {
   "cell_type": "code",
   "execution_count": 3,
   "metadata": {},
   "outputs": [],
   "source": [
    "LOGGER = logging.getLogger(__name__)\n",
    "\n",
    "logging.basicConfig(level='INFO')\n",
    "# logging.getLogger('data_science_pipeline.utils.bq').setLevel(logging.DEBUG)"
   ]
  },
  {
   "cell_type": "code",
   "execution_count": 4,
   "metadata": {},
   "outputs": [],
   "source": [
    "editor_parsed_pubmed_ids_table_name = '{output_dataset}.{prefix}{suffix}'.format(\n",
    "    output_dataset=output_dataset,\n",
    "    prefix=output_table_prefix,\n",
    "    suffix='editor_pubmed_ids'\n",
    ")\n",
    "\n",
    "external_manuscript_summary_output_table_name = '{output_dataset}.{prefix}{suffix}'.format(\n",
    "    output_dataset=output_dataset,\n",
    "    prefix=output_table_prefix,\n",
    "    suffix='external_manuscript_summary'\n",
    ")"
   ]
  },
  {
   "cell_type": "code",
   "execution_count": 5,
   "metadata": {},
   "outputs": [],
   "source": [
    "read_big_query = partial(_read_big_query, project_id=project_id)"
   ]
  },
  {
   "cell_type": "code",
   "execution_count": 6,
   "metadata": {},
   "outputs": [
    {
     "data": {
      "text/markdown": [
       "> ```sql\n",
       "> SELECT pmid FROM `de_dev.data_science_external_manuscript_summary`\n",
       "> ```"
      ],
      "text/plain": [
       "<IPython.core.display.Markdown object>"
      ]
     },
     "metadata": {},
     "output_type": "display_data"
    },
    {
     "name": "stderr",
     "output_type": "stream",
     "text": [
      "Downloading: 100%|██████████| 92907/92907 [00:02<00:00, 42264.19rows/s]"
     ]
    },
    {
     "name": "stdout",
     "output_type": "stream",
     "text": [
      "92907\n"
     ]
    },
    {
     "name": "stderr",
     "output_type": "stream",
     "text": [
      "\n"
     ]
    },
    {
     "data": {
      "text/html": [
       "<div>\n",
       "<style scoped>\n",
       "    .dataframe tbody tr th:only-of-type {\n",
       "        vertical-align: middle;\n",
       "    }\n",
       "\n",
       "    .dataframe tbody tr th {\n",
       "        vertical-align: top;\n",
       "    }\n",
       "\n",
       "    .dataframe thead th {\n",
       "        text-align: right;\n",
       "    }\n",
       "</style>\n",
       "<table border=\"1\" class=\"dataframe\">\n",
       "  <thead>\n",
       "    <tr style=\"text-align: right;\">\n",
       "      <th></th>\n",
       "      <th>pmid</th>\n",
       "    </tr>\n",
       "  </thead>\n",
       "  <tbody>\n",
       "    <tr>\n",
       "      <th>0</th>\n",
       "      <td>20967591</td>\n",
       "    </tr>\n",
       "    <tr>\n",
       "      <th>1</th>\n",
       "      <td>23159048</td>\n",
       "    </tr>\n",
       "    <tr>\n",
       "      <th>2</th>\n",
       "      <td>15974877</td>\n",
       "    </tr>\n",
       "    <tr>\n",
       "      <th>3</th>\n",
       "      <td>15974877</td>\n",
       "    </tr>\n",
       "    <tr>\n",
       "      <th>4</th>\n",
       "      <td>15974877</td>\n",
       "    </tr>\n",
       "  </tbody>\n",
       "</table>\n",
       "</div>"
      ],
      "text/plain": [
       "       pmid\n",
       "0  20967591\n",
       "1  23159048\n",
       "2  15974877\n",
       "3  15974877\n",
       "4  15974877"
      ]
     },
     "execution_count": 6,
     "metadata": {},
     "output_type": "execute_result"
    }
   ],
   "source": [
    "_sql = (\n",
    "    'SELECT pmid FROM `{table}`'\n",
    ").format(table=external_manuscript_summary_output_table_name)\n",
    "\n",
    "try:\n",
    "    existing_pmids_df = read_big_query(_sql)\n",
    "except Exception as e:\n",
    "    if not is_bq_not_found_exception(e):\n",
    "        raise\n",
    "    print('table not found: %s', external_manuscript_summary_output_table_name)\n",
    "    existing_pmids_df = pd.DataFrame(columns=['pmid'])\n",
    "print(len(existing_pmids_df))\n",
    "existing_pmids_df.head()"
   ]
  },
  {
   "cell_type": "code",
   "execution_count": 7,
   "metadata": {},
   "outputs": [
    {
     "data": {
      "text/plain": [
       "pmid    object\n",
       "dtype: object"
      ]
     },
     "execution_count": 7,
     "metadata": {},
     "output_type": "execute_result"
    }
   ],
   "source": [
    "existing_pmids_df.dtypes"
   ]
  },
  {
   "cell_type": "code",
   "execution_count": 8,
   "metadata": {},
   "outputs": [
    {
     "data": {
      "text/plain": [
       "89910"
      ]
     },
     "execution_count": 8,
     "metadata": {},
     "output_type": "execute_result"
    }
   ],
   "source": [
    "existing_pmids_set = set(existing_pmids_df['pmid'])\n",
    "len(existing_pmids_set)"
   ]
  },
  {
   "cell_type": "code",
   "execution_count": 9,
   "metadata": {},
   "outputs": [
    {
     "data": {
      "text/markdown": [
       "> ```sql\n",
       "> SELECT person_id, name, pubmed_url, pubmed_ids\n",
       "> FROM `de_dev.data_science_editor_pubmed_ids`\n",
       "> ```"
      ],
      "text/plain": [
       "<IPython.core.display.Markdown object>"
      ]
     },
     "metadata": {},
     "output_type": "display_data"
    },
    {
     "name": "stderr",
     "output_type": "stream",
     "text": [
      "Downloading: 100%|██████████| 609/609 [00:07<00:00, 76.13rows/s] \n",
      "INFO:pandas_gbq.gbq:Total time taken 9.47 s.\n",
      "Finished at 2020-06-17 12:45:42.\n"
     ]
    },
    {
     "name": "stdout",
     "output_type": "stream",
     "text": [
      "609\n"
     ]
    },
    {
     "data": {
      "text/html": [
       "<div>\n",
       "<style scoped>\n",
       "    .dataframe tbody tr th:only-of-type {\n",
       "        vertical-align: middle;\n",
       "    }\n",
       "\n",
       "    .dataframe tbody tr th {\n",
       "        vertical-align: top;\n",
       "    }\n",
       "\n",
       "    .dataframe thead th {\n",
       "        text-align: right;\n",
       "    }\n",
       "</style>\n",
       "<table border=\"1\" class=\"dataframe\">\n",
       "  <thead>\n",
       "    <tr style=\"text-align: right;\">\n",
       "      <th></th>\n",
       "      <th>person_id</th>\n",
       "      <th>name</th>\n",
       "      <th>pubmed_url</th>\n",
       "      <th>pubmed_ids</th>\n",
       "    </tr>\n",
       "  </thead>\n",
       "  <tbody>\n",
       "    <tr>\n",
       "      <th>0</th>\n",
       "      <td>9032</td>\n",
       "      <td>David Ginty</td>\n",
       "      <td>http://www.ncbi.nlm.nih.gov/pubmed?term=Ginty%...</td>\n",
       "      <td>[10900019, 11055433, 10493722, 11238898, 10600...</td>\n",
       "    </tr>\n",
       "    <tr>\n",
       "      <th>1</th>\n",
       "      <td>19576</td>\n",
       "      <td>Barbara Shinn-Cunningham</td>\n",
       "      <td>http://www.ncbi.nlm.nih.gov/pubmed?term=Shinn-...</td>\n",
       "      <td>[18164143, 11519579, 10738816, 11206163, 10573...</td>\n",
       "    </tr>\n",
       "    <tr>\n",
       "      <th>2</th>\n",
       "      <td>1054</td>\n",
       "      <td>Axel Brunger</td>\n",
       "      <td>http://www.ncbi.nlm.nih.gov/pubmed?term=Brunge...</td>\n",
       "      <td>[20448167, 20823553, 18425411, 11779506, 11226...</td>\n",
       "    </tr>\n",
       "    <tr>\n",
       "      <th>3</th>\n",
       "      <td>1045</td>\n",
       "      <td>Dominique Bergmann</td>\n",
       "      <td>http://www.ncbi.nlm.nih.gov/pubmed?term=Bergma...</td>\n",
       "      <td>[23444192, 11378445]</td>\n",
       "    </tr>\n",
       "    <tr>\n",
       "      <th>4</th>\n",
       "      <td>117606</td>\n",
       "      <td>Amita Sehgal</td>\n",
       "      <td>https://www.ncbi.nlm.nih.gov/pubmed?term=Segha...</td>\n",
       "      <td>[25294731, 17506830, 12827543]</td>\n",
       "    </tr>\n",
       "  </tbody>\n",
       "</table>\n",
       "</div>"
      ],
      "text/plain": [
       "  person_id                      name  \\\n",
       "0      9032               David Ginty   \n",
       "1     19576  Barbara Shinn-Cunningham   \n",
       "2      1054              Axel Brunger   \n",
       "3      1045        Dominique Bergmann   \n",
       "4    117606              Amita Sehgal   \n",
       "\n",
       "                                          pubmed_url  \\\n",
       "0  http://www.ncbi.nlm.nih.gov/pubmed?term=Ginty%...   \n",
       "1  http://www.ncbi.nlm.nih.gov/pubmed?term=Shinn-...   \n",
       "2  http://www.ncbi.nlm.nih.gov/pubmed?term=Brunge...   \n",
       "3  http://www.ncbi.nlm.nih.gov/pubmed?term=Bergma...   \n",
       "4  https://www.ncbi.nlm.nih.gov/pubmed?term=Segha...   \n",
       "\n",
       "                                          pubmed_ids  \n",
       "0  [10900019, 11055433, 10493722, 11238898, 10600...  \n",
       "1  [18164143, 11519579, 10738816, 11206163, 10573...  \n",
       "2  [20448167, 20823553, 18425411, 11779506, 11226...  \n",
       "3                               [23444192, 11378445]  \n",
       "4                     [25294731, 17506830, 12827543]  "
      ]
     },
     "execution_count": 9,
     "metadata": {},
     "output_type": "execute_result"
    }
   ],
   "source": [
    "_sql = '\\n'.join([\n",
    "    'SELECT person_id, name, pubmed_url, pubmed_ids',\n",
    "    'FROM `{table}`'\n",
    "]).format(table=editor_parsed_pubmed_ids_table_name)\n",
    "\n",
    "editor_pubmed_ids_df = read_big_query(_sql)\n",
    "print(len(editor_pubmed_ids_df))\n",
    "editor_pubmed_ids_df.head()"
   ]
  },
  {
   "cell_type": "code",
   "execution_count": 10,
   "metadata": {},
   "outputs": [
    {
     "data": {
      "text/plain": [
       "609"
      ]
     },
     "execution_count": 10,
     "metadata": {},
     "output_type": "execute_result"
    }
   ],
   "source": [
    "len(editor_pubmed_ids_df)"
   ]
  },
  {
   "cell_type": "code",
   "execution_count": 11,
   "metadata": {
    "scrolled": false
   },
   "outputs": [
    {
     "data": {
      "text/plain": [
       "['10900019',\n",
       " '11055433',\n",
       " '10493722',\n",
       " '11238898',\n",
       " '10600750',\n",
       " '10433267',\n",
       " '10707970',\n",
       " '9856463',\n",
       " '9836643',\n",
       " '9856475']"
      ]
     },
     "execution_count": 11,
     "metadata": {},
     "output_type": "execute_result"
    }
   ],
   "source": [
    "# check that the type is a proper list\n",
    "editor_pubmed_ids_df['pubmed_ids'].values[0][:10]"
   ]
  },
  {
   "cell_type": "code",
   "execution_count": 12,
   "metadata": {},
   "outputs": [
    {
     "name": "stdout",
     "output_type": "stream",
     "text": [
      "62\n"
     ]
    },
    {
     "data": {
      "text/html": [
       "<div>\n",
       "<style scoped>\n",
       "    .dataframe tbody tr th:only-of-type {\n",
       "        vertical-align: middle;\n",
       "    }\n",
       "\n",
       "    .dataframe tbody tr th {\n",
       "        vertical-align: top;\n",
       "    }\n",
       "\n",
       "    .dataframe thead th {\n",
       "        text-align: right;\n",
       "    }\n",
       "</style>\n",
       "<table border=\"1\" class=\"dataframe\">\n",
       "  <thead>\n",
       "    <tr style=\"text-align: right;\">\n",
       "      <th></th>\n",
       "      <th>person_id</th>\n",
       "      <th>name</th>\n",
       "      <th>pubmed_url</th>\n",
       "      <th>pubmed_ids</th>\n",
       "      <th>pubmed_count</th>\n",
       "    </tr>\n",
       "  </thead>\n",
       "  <tbody>\n",
       "    <tr>\n",
       "      <th>569</th>\n",
       "      <td>62806</td>\n",
       "      <td>Yue Wang</td>\n",
       "      <td>http://www.ncbi.nlm.nih.gov/pubmed?term=Wang%2...</td>\n",
       "      <td>[32458900, 32441732, 32426795, 32426772, 32400...</td>\n",
       "      <td>154031</td>\n",
       "    </tr>\n",
       "    <tr>\n",
       "      <th>568</th>\n",
       "      <td>102717</td>\n",
       "      <td>Xiaochen Wang</td>\n",
       "      <td>https://www.ncbi.nlm.nih.gov/pubmed/?term=Wang...</td>\n",
       "      <td>[32458900, 32421136, 32406443, 32383726, 32364...</td>\n",
       "      <td>111246</td>\n",
       "    </tr>\n",
       "    <tr>\n",
       "      <th>275</th>\n",
       "      <td>46040</td>\n",
       "      <td>Hong Zhang</td>\n",
       "      <td>http://www.ncbi.nlm.nih.gov/pubmed/?term=Zhang...</td>\n",
       "      <td>[32462161, 32432257, 32412570, 32392273, 32400...</td>\n",
       "      <td>68973</td>\n",
       "    </tr>\n",
       "    <tr>\n",
       "      <th>470</th>\n",
       "      <td>90633</td>\n",
       "      <td>Lu Chen</td>\n",
       "      <td>https://www.ncbi.nlm.nih.gov/pubmed/?term=Chen...</td>\n",
       "      <td>[32459254, 32396585, 32377651, 32373815, 32364...</td>\n",
       "      <td>49662</td>\n",
       "    </tr>\n",
       "    <tr>\n",
       "      <th>157</th>\n",
       "      <td>1309</td>\n",
       "      <td>Wenhui Li</td>\n",
       "      <td>http://www.ncbi.nlm.nih.gov/pubmed?term=Li%20W...</td>\n",
       "      <td>[32459256, 32420568, 32390016, 32401260, 32400...</td>\n",
       "      <td>44206</td>\n",
       "    </tr>\n",
       "    <tr>\n",
       "      <th>366</th>\n",
       "      <td>90454</td>\n",
       "      <td>Jian Xu</td>\n",
       "      <td>https://www.ncbi.nlm.nih.gov/pubmed?term=Xu%20...</td>\n",
       "      <td>[32391821, 32369096, 32355941, 32352466, 32352...</td>\n",
       "      <td>36445</td>\n",
       "    </tr>\n",
       "    <tr>\n",
       "      <th>266</th>\n",
       "      <td>4727</td>\n",
       "      <td>Mingjie Zhang</td>\n",
       "      <td>https://www.ncbi.nlm.nih.gov/pubmed/?term=Zhan...</td>\n",
       "      <td>[32400829, 32400781, 32356536, 32373807, 32352...</td>\n",
       "      <td>30826</td>\n",
       "    </tr>\n",
       "    <tr>\n",
       "      <th>553</th>\n",
       "      <td>10628</td>\n",
       "      <td>Daeyeol Lee</td>\n",
       "      <td>https://www.ncbi.nlm.nih.gov/pubmed/?term=Lee%...</td>\n",
       "      <td>[32391824, 32370603, 32100613, 32050844, 31851...</td>\n",
       "      <td>27562</td>\n",
       "    </tr>\n",
       "    <tr>\n",
       "      <th>452</th>\n",
       "      <td>17103</td>\n",
       "      <td>Hao Yu</td>\n",
       "      <td>http://www.ncbi.nlm.nih.gov/pubmed?term=Yu%20H...</td>\n",
       "      <td>[32391528, 32390026, 32373889, 32364198, 32365...</td>\n",
       "      <td>22191</td>\n",
       "    </tr>\n",
       "    <tr>\n",
       "      <th>458</th>\n",
       "      <td>145793</td>\n",
       "      <td>Yuting Ma</td>\n",
       "      <td>https://www.ncbi.nlm.nih.gov/pubmed/?term=Ma%2...</td>\n",
       "      <td>[32406447, 32412558, 32374309, 32352105, 32285...</td>\n",
       "      <td>21949</td>\n",
       "    </tr>\n",
       "  </tbody>\n",
       "</table>\n",
       "</div>"
      ],
      "text/plain": [
       "    person_id           name  \\\n",
       "569     62806       Yue Wang   \n",
       "568    102717  Xiaochen Wang   \n",
       "275     46040     Hong Zhang   \n",
       "470     90633        Lu Chen   \n",
       "157      1309      Wenhui Li   \n",
       "366     90454        Jian Xu   \n",
       "266      4727  Mingjie Zhang   \n",
       "553     10628    Daeyeol Lee   \n",
       "452     17103         Hao Yu   \n",
       "458    145793      Yuting Ma   \n",
       "\n",
       "                                            pubmed_url  \\\n",
       "569  http://www.ncbi.nlm.nih.gov/pubmed?term=Wang%2...   \n",
       "568  https://www.ncbi.nlm.nih.gov/pubmed/?term=Wang...   \n",
       "275  http://www.ncbi.nlm.nih.gov/pubmed/?term=Zhang...   \n",
       "470  https://www.ncbi.nlm.nih.gov/pubmed/?term=Chen...   \n",
       "157  http://www.ncbi.nlm.nih.gov/pubmed?term=Li%20W...   \n",
       "366  https://www.ncbi.nlm.nih.gov/pubmed?term=Xu%20...   \n",
       "266  https://www.ncbi.nlm.nih.gov/pubmed/?term=Zhan...   \n",
       "553  https://www.ncbi.nlm.nih.gov/pubmed/?term=Lee%...   \n",
       "452  http://www.ncbi.nlm.nih.gov/pubmed?term=Yu%20H...   \n",
       "458  https://www.ncbi.nlm.nih.gov/pubmed/?term=Ma%2...   \n",
       "\n",
       "                                            pubmed_ids  pubmed_count  \n",
       "569  [32458900, 32441732, 32426795, 32426772, 32400...        154031  \n",
       "568  [32458900, 32421136, 32406443, 32383726, 32364...        111246  \n",
       "275  [32462161, 32432257, 32412570, 32392273, 32400...         68973  \n",
       "470  [32459254, 32396585, 32377651, 32373815, 32364...         49662  \n",
       "157  [32459256, 32420568, 32390016, 32401260, 32400...         44206  \n",
       "366  [32391821, 32369096, 32355941, 32352466, 32352...         36445  \n",
       "266  [32400829, 32400781, 32356536, 32373807, 32352...         30826  \n",
       "553  [32391824, 32370603, 32100613, 32050844, 31851...         27562  \n",
       "452  [32391528, 32390026, 32373889, 32364198, 32365...         22191  \n",
       "458  [32406447, 32412558, 32374309, 32352105, 32285...         21949  "
      ]
     },
     "execution_count": 12,
     "metadata": {},
     "output_type": "execute_result"
    }
   ],
   "source": [
    "editor_pubmed_ids_df['pubmed_count'] = editor_pubmed_ids_df['pubmed_ids'].apply(len)\n",
    "print((editor_pubmed_ids_df['pubmed_count'] >= 1000).sum())\n",
    "editor_pubmed_ids_df.sort_values('pubmed_count', ascending=False).head(10)"
   ]
  },
  {
   "cell_type": "code",
   "execution_count": 13,
   "metadata": {},
   "outputs": [
    {
     "name": "stdout",
     "output_type": "stream",
     "text": [
      "editors with >= 1000 pubmed ids:\n",
      "- Jiwon Shim: https://www.ncbi.nlm.nih.gov/pubmed/?term=Shim%20J%5BAuthor%5D&cauthor=true&cauthor_uid=29992947\n",
      "- Mathieu Wolff: https://www.ncbi.nlm.nih.gov/pubmed/?term=Wolff%20M%5BAuthor%5D&cauthor=true&cauthor_uid=26400947\n",
      "- Kunlin Wei: https://www.ncbi.nlm.nih.gov/pubmed/?term=Wei%20K%5BAuthor%5D&cauthor=true&cauthor_uid=25232107\n",
      "- Duojia Pan: http://www.ncbi.nlm.nih.gov/pubmed?term=Pan%20D%5Bau%5D&orig_db=PubMed&cmd=search\n",
      "- Xiaobing Shi: https://www.ncbi.nlm.nih.gov/pubmed?term=Shi%20X&orig_db=PubMed&cmd=search\n",
      "- Ming Meng: https://www.ncbi.nlm.nih.gov/pubmed/?term=Meng%20M%5BAuthor%5D&cauthor=true&cauthor_uid=26505302\n",
      "- Tony Hunter: http://www.ncbi.nlm.nih.gov/pubmed?term=Hunter%20T%5Bau%5D&orig_db=PubMed&cmd=search\n",
      "- Jeannie Lee: http://www.ncbi.nlm.nih.gov/pubmed/?term=Lee%20JT%5BAuthor%5D&cauthor=true&cauthor_uid=26489649\n",
      "- Wenhui Li: http://www.ncbi.nlm.nih.gov/pubmed?term=Li%20W%5Bau%5D&orig_db=PubMed&cmd=search\n",
      "- Andreas Martin: https://www.ncbi.nlm.nih.gov/pubmed/?term=Martin%20A%5BAuthor%5D&cauthor=true&cauthor_uid=26744777\n",
      "- Sandeep Krishna: https://www.ncbi.nlm.nih.gov/pubmed/?term=Krishna%20S%5BAuthor%5D&cauthor=true&cauthor_uid=30622249\n",
      "- Shimon Sakaguchi: http://www.ncbi.nlm.nih.gov/pubmed?term=Sakaguchi%20S%5Bau%5D&orig_db=PubMed&cmd=search\n",
      "- Job Dekker: http://www.ncbi.nlm.nih.gov/pubmed/?term=Dekker%20J%5BAuthor%5D&cauthor=true&cauthor_uid=27435934\n",
      "- Matthew Freeman: http://www.ncbi.nlm.nih.gov/pubmed?term=Freeman%20M%5Bau%5D&orig_db=PubMed&cmd=search\n",
      "- Eric Wagner: https://www.ncbi.nlm.nih.gov/pubmed/?term=Wagner%20E%5BAuthor%5D&cauthor=true&cauthor_uid=29471365\n",
      "- Kang Shen: http://www.ncbi.nlm.nih.gov/pubmed?term=Shen%20K[au]&orig_db=PubMed&cmd=search\n",
      "- Sang-Gyu Kim: https://www.ncbi.nlm.nih.gov/pubmed/?term=Kim%20SG%5BAuthor%5D&cauthor=true&cauthor_uid=31094274\n",
      "- Yibing Shan: http://www.ncbi.nlm.nih.gov/pubmed?term=Shan%20Y%5Bau%5D&orig_db=PubMed&cmd=search\n",
      "- Shaeri Mukherjee: https://www.ncbi.nlm.nih.gov/pubmed?term=Mukherjee%20S&orig_db=PubMed&cmd=search\n",
      "- Satyajit Mayor: https://www.ncbi.nlm.nih.gov/pubmed/?term=Mayor%20S%5BAuthor%5D&cauthor=true&cauthor_uid=30774931\n",
      "- Mingjie Zhang: https://www.ncbi.nlm.nih.gov/pubmed/?term=Zhang%20M%5BAuthor%5D&cauthor=true&cauthor_uid=26988743\n",
      "- Hong Zhang: http://www.ncbi.nlm.nih.gov/pubmed/?term=Zhang%20H%5BAuthor%5D&cauthor=true&cauthor_uid=26687600\n",
      "- Guangxia Gao: https://www.ncbi.nlm.nih.gov/pubmed/?term=Gao%20G%5BAuthor%5D&cauthor=true&cauthor_uid=30682371\n",
      "- Roger Davis: http://www.ncbi.nlm.nih.gov/pubmed?term=Davis%20R%5Bau%5D&orig_db=PubMed&cmd=search\n",
      "- Sriram Subramaniam: http://www.ncbi.nlm.nih.gov/pubmed?term=Subramaniam%20S%5Bau%5D&orig_db=PubMed&cmd=search\n",
      "- Koichi Kawakami: https://www.ncbi.nlm.nih.gov/pubmed/?term=Kawakami%20K%5BAuthor%5D&cauthor=true&cauthor_uid=20950494\n",
      "- Eunjoon Kim: http://www.ncbi.nlm.nih.gov/pubmed?term=Kim%20E%5Bau%5D&orig_db=PubMed&cmd=search\n",
      "- Subburaman Mohan: https://www.ncbi.nlm.nih.gov/pubmed/?term=Mohan%20S%5BAuthor%5D&cauthor=true&cauthor_uid=31831786\n",
      "- Elaine Fuchs: http://www.ncbi.nlm.nih.gov/pubmed?term=Fuchs%20E%5Bau%5D&orig_db=PubMed&cmd=search\n",
      "- Xiaoyu Hu: https://www.ncbi.nlm.nih.gov/pubmed/?term=Hu%20X%5BAuthor%5D&cauthor=true&cauthor_uid=26936847\n",
      "- Tadatsugu Taniguchi: http://www.ncbi.nlm.nih.gov/pubmed?term=Taniguchi%20T%5Bau%5D&orig_db=PubMed&cmd=search\n",
      "- Jian Xu: https://www.ncbi.nlm.nih.gov/pubmed?term=Xu%20J&orig_db=PubMed&cmd=search\n",
      "- Rachel Green: http://www.ncbi.nlm.nih.gov/pubmed?term=Green%20R%5Bau%5D&orig_db=PubMed&cmd=search\n",
      "- Anita Bhattacharyya: https://www.ncbi.nlm.nih.gov/pubmed?term=Bhattacharyya%20A&orig_db=PubMed&cmd=search\n",
      "- Anurag Agrawal: https://www.ncbi.nlm.nih.gov/pubmed/?term=Agrawal%20A%5BAuthor%5D&cauthor=true&cauthor_uid=31548090\n",
      "- Hao Zhu: https://www.ncbi.nlm.nih.gov/pubmed?term=Zhu%20H&orig_db=PubMed&cmd=search\n",
      "- Martin McMahon: http://www.ncbi.nlm.nih.gov/pubmed?term=McMahon%20M&orig_db=PubMed&cmd=search\n",
      "- Xuetao Cao: http://www.ncbi.nlm.nih.gov/pubmed?term=Cao%20X%5Bau%5D&orig_db=PubMed&cmd=search\n",
      "- Wenwei Hu: https://www.ncbi.nlm.nih.gov/pubmed/?term=Hu%20W%5BAuthor%5D&cauthor=true&cauthor_uid=26161442\n",
      "- Hao Yu: http://www.ncbi.nlm.nih.gov/pubmed?term=Yu%20H[au]&orig_db=PubMed&cmd=search\n",
      "- Yuting Ma: https://www.ncbi.nlm.nih.gov/pubmed/?term=Ma%20Y%5BAuthor%5D&cauthor=true&cauthor_uid=27057456\n",
      "- Lu Chen: https://www.ncbi.nlm.nih.gov/pubmed/?term=Chen%20L%5BAuthor%5D&cauthor=true&cauthor_uid=31118285\n",
      "- Peggy Mason: http://www.ncbi.nlm.nih.gov/pubmed?term=Mason%20P%5Bau%5D&orig_db=PubMed&cmd=search\n",
      "- Matthias Barton: https://www.ncbi.nlm.nih.gov/pubmed?term=Barton%20M&orig_db=PubMed&cmd=search\n",
      "- Naoshige Uchida: http://www.ncbi.nlm.nih.gov/pubmed?term=Uchida%20N[au]&orig_db=PubMed&cmd=search\n",
      "- Pascal Martin: https://www.ncbi.nlm.nih.gov/pubmed/?term=Martin%20P%5BAuthor%5D&cauthor=true&cauthor_uid=30932811\n",
      "- Elizabeth Robertson: http://www.ncbi.nlm.nih.gov/pubmed?term=Robertson%20E%5Bau%5D&orig_db=PubMed&cmd=search\n",
      "- Taraz Lee: https://www.ncbi.nlm.nih.gov/pubmed/?term=Lee%20T%5BAuthor%5D&cauthor=true&cauthor_uid=31705631\n",
      "- J Paul Taylor: http://www.ncbi.nlm.nih.gov/pubmed?term=Taylor%20J[au]&orig_db=PubMed&cmd=search\n",
      "- Mahak Sharma: https://www.ncbi.nlm.nih.gov/pubmed/?term=Sharma%20M%5BAuthor%5D&cauthor=true&cauthor_uid=31010854\n",
      "- Huan Luo: https://www.ncbi.nlm.nih.gov/pubmed?term=Luo%20H&orig_db=PubMed&cmd=search\n",
      "- Min Zhu: https://www.ncbi.nlm.nih.gov/pubmed/?term=Zhu%20M%5BAuthor%5D&cauthor=true&cauthor_uid=29185516\n",
      "- Jie Xiao: https://www.ncbi.nlm.nih.gov/pubmed/?term=Xiao%20J%5BAuthor%5D&cauthor=true&cauthor_uid=27782138\n",
      "- Junmin Pan: https://www.ncbi.nlm.nih.gov/pubmed/?term=Pan%20J%5BAuthor%5D&cauthor=true&cauthor_uid=30057303\n",
      "- Daeyeol Lee: https://www.ncbi.nlm.nih.gov/pubmed/?term=Lee%20D%5BAuthor%5D&cauthor=true&cauthor_uid=28426971\n",
      "- Jessica Thompson: https://www.ncbi.nlm.nih.gov/pubmed/?term=Thompson%20J%5BAuthor%5D&cauthor=true&cauthor_uid=28778462\n",
      "- Jeffrey Smith: https://www.ncbi.nlm.nih.gov/pubmed/?term=Smith%20JC%5BAuthor%5D&cauthor=true&cauthor_uid=19193773\n",
      "- Maddy Parsons: http://www.ncbi.nlm.nih.gov/pubmed/?term=Parsons%20M%5Bauth%5D\n",
      "- Li Yu: https://www.ncbi.nlm.nih.gov/pubmed/?term=Yu%20L%5BAuthor%5D&cauthor=true&cauthor_uid=31371827\n",
      "- Xiaochen Wang: https://www.ncbi.nlm.nih.gov/pubmed/?term=Wang%20X%5BAuthor%5D&cauthor=true&cauthor_uid=30102152\n",
      "- Yue Wang: http://www.ncbi.nlm.nih.gov/pubmed?term=Wang%20Y&orig_db=PubMed&cmd=search\n",
      "- Kristin Scott: http://www.ncbi.nlm.nih.gov/pubmed?term=Scott%20K%5Bau%5D&orig_db=PubMed&cmd=search\n"
     ]
    }
   ],
   "source": [
    "print('editors with >= 1000 pubmed ids:\\n%s' % '\\n'.join(\n",
    "    '- %s: %s' % (row['name'], row['pubmed_url'])\n",
    "    for row in editor_pubmed_ids_df[editor_pubmed_ids_df['pubmed_count'] >= 1000].to_dict(orient='records')\n",
    "))"
   ]
  },
  {
   "cell_type": "code",
   "execution_count": 14,
   "metadata": {},
   "outputs": [
    {
     "data": {
      "text/plain": [
       "166.77148080438758"
      ]
     },
     "execution_count": 14,
     "metadata": {},
     "output_type": "execute_result"
    }
   ],
   "source": [
    "editor_pubmed_ids_df[editor_pubmed_ids_df['pubmed_count'] < 1000]['pubmed_count'].mean()"
   ]
  },
  {
   "cell_type": "code",
   "execution_count": 15,
   "metadata": {},
   "outputs": [
    {
     "data": {
      "text/plain": [
       "90.0"
      ]
     },
     "execution_count": 15,
     "metadata": {},
     "output_type": "execute_result"
    }
   ],
   "source": [
    "editor_pubmed_ids_df[editor_pubmed_ids_df['pubmed_count'] < 1000]['pubmed_count'].median()"
   ]
  },
  {
   "cell_type": "code",
   "execution_count": 16,
   "metadata": {},
   "outputs": [
    {
     "data": {
      "image/png": "[encoded data removed]",
      "text/plain": [
       "<Figure size 1440x720 with 1 Axes>"
      ]
     },
     "metadata": {
      "needs_background": "light"
     },
     "output_type": "display_data"
    }
   ],
   "source": [
    "editor_pubmed_ids_df[editor_pubmed_ids_df['pubmed_count'] < 1000]['pubmed_count'].plot.hist(\n",
    "    bins=50,\n",
    "    figsize=(20, 10)\n",
    ")\n",
    "None"
   ]
  },
  {
   "cell_type": "code",
   "execution_count": 17,
   "metadata": {},
   "outputs": [
    {
     "name": "stdout",
     "output_type": "stream",
     "text": [
      "547\n"
     ]
    },
    {
     "data": {
      "text/html": [
       "<div>\n",
       "<style scoped>\n",
       "    .dataframe tbody tr th:only-of-type {\n",
       "        vertical-align: middle;\n",
       "    }\n",
       "\n",
       "    .dataframe tbody tr th {\n",
       "        vertical-align: top;\n",
       "    }\n",
       "\n",
       "    .dataframe thead th {\n",
       "        text-align: right;\n",
       "    }\n",
       "</style>\n",
       "<table border=\"1\" class=\"dataframe\">\n",
       "  <thead>\n",
       "    <tr style=\"text-align: right;\">\n",
       "      <th></th>\n",
       "      <th>person_id</th>\n",
       "      <th>name</th>\n",
       "      <th>pubmed_url</th>\n",
       "      <th>pubmed_ids</th>\n",
       "      <th>pubmed_count</th>\n",
       "    </tr>\n",
       "  </thead>\n",
       "  <tbody>\n",
       "    <tr>\n",
       "      <th>290</th>\n",
       "      <td>53174</td>\n",
       "      <td>Katalin Toth</td>\n",
       "      <td>https://www.ncbi.nlm.nih.gov/pubmed/?term=T%C3...</td>\n",
       "      <td>[32513869, 32470395, 32329040, 32222134, 32223...</td>\n",
       "      <td>999</td>\n",
       "    </tr>\n",
       "    <tr>\n",
       "      <th>476</th>\n",
       "      <td>145041</td>\n",
       "      <td>Margaret Stanley</td>\n",
       "      <td>https://www.ncbi.nlm.nih.gov/pubmed?term=Stanl...</td>\n",
       "      <td>[32484911, 32445245, 32442096, 32222299, 32359...</td>\n",
       "      <td>990</td>\n",
       "    </tr>\n",
       "    <tr>\n",
       "      <th>177</th>\n",
       "      <td>4853</td>\n",
       "      <td>Satyajit Rath</td>\n",
       "      <td>http://www.ncbi.nlm.nih.gov/pubmed?term=Rath%2...</td>\n",
       "      <td>[32513863, 32415095, 32416088, 32434405, 32383...</td>\n",
       "      <td>935</td>\n",
       "    </tr>\n",
       "    <tr>\n",
       "      <th>184</th>\n",
       "      <td>110082</td>\n",
       "      <td>Ranjan Sen</td>\n",
       "      <td>https://www.ncbi.nlm.nih.gov/pubmed/?term=Sen%...</td>\n",
       "      <td>[32525572, 32524736, 32505862, 32464231, 32405...</td>\n",
       "      <td>910</td>\n",
       "    </tr>\n",
       "    <tr>\n",
       "      <th>340</th>\n",
       "      <td>11670</td>\n",
       "      <td>Beth Stevens</td>\n",
       "      <td>http://www.ncbi.nlm.nih.gov/entrez/query.fcgi?...</td>\n",
       "      <td>[32533741, 32506118, 32530469, 32461285, 32460...</td>\n",
       "      <td>905</td>\n",
       "    </tr>\n",
       "    <tr>\n",
       "      <th>572</th>\n",
       "      <td>1139</td>\n",
       "      <td>Sheila McCormick</td>\n",
       "      <td>http://www.ncbi.nlm.nih.gov/pubmed?term=McCorm...</td>\n",
       "      <td>[32473516, 32388249, 32407107, 32328680, 32237...</td>\n",
       "      <td>877</td>\n",
       "    </tr>\n",
       "    <tr>\n",
       "      <th>169</th>\n",
       "      <td>1095</td>\n",
       "      <td>E Peter Greenberg</td>\n",
       "      <td>http://www.ncbi.nlm.nih.gov/pubmed?term=Greenb...</td>\n",
       "      <td>[32491160, 32543932, 32534421, 32439724, 32412...</td>\n",
       "      <td>852</td>\n",
       "    </tr>\n",
       "    <tr>\n",
       "      <th>510</th>\n",
       "      <td>8364</td>\n",
       "      <td>Piali Sengupta</td>\n",
       "      <td>https://www.ncbi.nlm.nih.gov/pubmed/?term=Seng...</td>\n",
       "      <td>[31298670, 32496225, 32529205, 32399992, 32492...</td>\n",
       "      <td>815</td>\n",
       "    </tr>\n",
       "    <tr>\n",
       "      <th>548</th>\n",
       "      <td>7970</td>\n",
       "      <td>Laurent Keller</td>\n",
       "      <td>http://www.ncbi.nlm.nih.gov/pubmed/?term=Kelle...</td>\n",
       "      <td>[32353492, 32415359, 32271631, 32298574, 32244...</td>\n",
       "      <td>809</td>\n",
       "    </tr>\n",
       "    <tr>\n",
       "      <th>302</th>\n",
       "      <td>3258</td>\n",
       "      <td>Ahmet Yildiz</td>\n",
       "      <td>https://pubmed.ncbi.nlm.nih.gov/?term=Yildiz+A...</td>\n",
       "      <td>[32536571, 32507098, 32452237, 32462563, 32479...</td>\n",
       "      <td>805</td>\n",
       "    </tr>\n",
       "  </tbody>\n",
       "</table>\n",
       "</div>"
      ],
      "text/plain": [
       "    person_id               name  \\\n",
       "290     53174       Katalin Toth   \n",
       "476    145041   Margaret Stanley   \n",
       "177      4853      Satyajit Rath   \n",
       "184    110082         Ranjan Sen   \n",
       "340     11670       Beth Stevens   \n",
       "572      1139   Sheila McCormick   \n",
       "169      1095  E Peter Greenberg   \n",
       "510      8364     Piali Sengupta   \n",
       "548      7970     Laurent Keller   \n",
       "302      3258       Ahmet Yildiz   \n",
       "\n",
       "                                            pubmed_url  \\\n",
       "290  https://www.ncbi.nlm.nih.gov/pubmed/?term=T%C3...   \n",
       "476  https://www.ncbi.nlm.nih.gov/pubmed?term=Stanl...   \n",
       "177  http://www.ncbi.nlm.nih.gov/pubmed?term=Rath%2...   \n",
       "184  https://www.ncbi.nlm.nih.gov/pubmed/?term=Sen%...   \n",
       "340  http://www.ncbi.nlm.nih.gov/entrez/query.fcgi?...   \n",
       "572  http://www.ncbi.nlm.nih.gov/pubmed?term=McCorm...   \n",
       "169  http://www.ncbi.nlm.nih.gov/pubmed?term=Greenb...   \n",
       "510  https://www.ncbi.nlm.nih.gov/pubmed/?term=Seng...   \n",
       "548  http://www.ncbi.nlm.nih.gov/pubmed/?term=Kelle...   \n",
       "302  https://pubmed.ncbi.nlm.nih.gov/?term=Yildiz+A...   \n",
       "\n",
       "                                            pubmed_ids  pubmed_count  \n",
       "290  [32513869, 32470395, 32329040, 32222134, 32223...           999  \n",
       "476  [32484911, 32445245, 32442096, 32222299, 32359...           990  \n",
       "177  [32513863, 32415095, 32416088, 32434405, 32383...           935  \n",
       "184  [32525572, 32524736, 32505862, 32464231, 32405...           910  \n",
       "340  [32533741, 32506118, 32530469, 32461285, 32460...           905  \n",
       "572  [32473516, 32388249, 32407107, 32328680, 32237...           877  \n",
       "169  [32491160, 32543932, 32534421, 32439724, 32412...           852  \n",
       "510  [31298670, 32496225, 32529205, 32399992, 32492...           815  \n",
       "548  [32353492, 32415359, 32271631, 32298574, 32244...           809  \n",
       "302  [32536571, 32507098, 32452237, 32462563, 32479...           805  "
      ]
     },
     "execution_count": 17,
     "metadata": {},
     "output_type": "execute_result"
    }
   ],
   "source": [
    "editor_clean_pubmed_ids_df = editor_pubmed_ids_df[editor_pubmed_ids_df['pubmed_count'] < 1000]\n",
    "print(len(editor_clean_pubmed_ids_df))\n",
    "editor_clean_pubmed_ids_df.sort_values('pubmed_count', ascending=False).head(10)"
   ]
  },
  {
   "cell_type": "code",
   "execution_count": 18,
   "metadata": {},
   "outputs": [
    {
     "data": {
      "text/plain": [
       "91224"
      ]
     },
     "execution_count": 18,
     "metadata": {},
     "output_type": "execute_result"
    }
   ],
   "source": [
    "all_pubmed_ids = [\n",
    "    pubmed_id\n",
    "    for pubmed_ids in editor_clean_pubmed_ids_df.sort_values('pubmed_count')['pubmed_ids'].values\n",
    "    for pubmed_id in pubmed_ids\n",
    "    if pubmed_id\n",
    "]\n",
    "len(all_pubmed_ids)"
   ]
  },
  {
   "cell_type": "code",
   "execution_count": 19,
   "metadata": {},
   "outputs": [
    {
     "data": {
      "text/plain": [
       "89865"
      ]
     },
     "execution_count": 19,
     "metadata": {},
     "output_type": "execute_result"
    }
   ],
   "source": [
    "unique_pubmed_ids = list(pd.Series(all_pubmed_ids).drop_duplicates().values)\n",
    "len(unique_pubmed_ids)"
   ]
  },
  {
   "cell_type": "code",
   "execution_count": 20,
   "metadata": {},
   "outputs": [
    {
     "data": {
      "text/plain": [
       "0"
      ]
     },
     "execution_count": 20,
     "metadata": {},
     "output_type": "execute_result"
    }
   ],
   "source": [
    "_ser = pd.Series(unique_pubmed_ids)\n",
    "remaining_pubmed_ids = list(_ser[~_ser.isin(existing_pmids_set)].values)\n",
    "len(remaining_pubmed_ids)"
   ]
  },
  {
   "cell_type": "code",
   "execution_count": 21,
   "metadata": {},
   "outputs": [
    {
     "data": {
      "text/plain": [
       "0"
      ]
     },
     "execution_count": 21,
     "metadata": {},
     "output_type": "execute_result"
    }
   ],
   "source": [
    "query_pubmed_ids = remaining_pubmed_ids\n",
    "if max_manuscripts:\n",
    "    query_pubmed_ids = query_pubmed_ids[:max_manuscripts]\n",
    "len(query_pubmed_ids)"
   ]
  },
  {
   "cell_type": "code",
   "execution_count": 22,
   "metadata": {
    "scrolled": false
   },
   "outputs": [
    {
     "name": "stdout",
     "output_type": "stream",
     "text": [
      "number of batches: 0\n"
     ]
    }
   ],
   "source": [
    "query_pubmed_ids_batches = list(iter_batches(query_pubmed_ids, EUROPEPMC_MAX_PAGE_SIZE))\n",
    "print('number of batches:', len(query_pubmed_ids_batches))\n",
    "if query_pubmed_ids_batches:\n",
    "    print('first batch:', len(query_pubmed_ids_batches[0]))"
   ]
  },
  {
   "cell_type": "code",
   "execution_count": 23,
   "metadata": {},
   "outputs": [],
   "source": [
    "def handle_http_error(error: BaseException, data: dict = None):\n",
    "    LOGGER.warning('error: %s, data=%s', error, data)"
   ]
  },
  {
   "cell_type": "code",
   "execution_count": 24,
   "metadata": {},
   "outputs": [
    {
     "data": {
      "application/vnd.jupyter.widget-view+json": {
       "model_id": "",
       "version_major": 2,
       "version_minor": 0
      },
      "text/plain": [
       "HBox(children=(FloatProgress(value=1.0, bar_style='info', max=1.0), HTML(value='')))"
      ]
     },
     "metadata": {},
     "output_type": "display_data"
    }
   ],
   "source": [
    "with europepmc_requests_retry_session() as session:\n",
    "    europepmc_api = EuropePMCApi(\n",
    "        session,\n",
    "        on_error=handle_http_error,\n",
    "        params={'email': email}\n",
    "    )\n",
    "    with ThreadPoolExecutor(max_workers=max_workers) as executor:\n",
    "        manuscript_summary_list_batches = list(tqdm(\n",
    "            executor.map(\n",
    "                europepmc_api.get_summary_by_page_pmids,\n",
    "                query_pubmed_ids_batches\n",
    "            ),\n",
    "            total=len(query_pubmed_ids_batches),\n",
    "            leave=False\n",
    "        ))"
   ]
  },
  {
   "cell_type": "code",
   "execution_count": 25,
   "metadata": {},
   "outputs": [
    {
     "data": {
      "text/plain": [
       "0"
      ]
     },
     "execution_count": 25,
     "metadata": {},
     "output_type": "execute_result"
    }
   ],
   "source": [
    "len(manuscript_summary_list_batches)"
   ]
  },
  {
   "cell_type": "code",
   "execution_count": 26,
   "metadata": {},
   "outputs": [
    {
     "data": {
      "text/plain": [
       "0"
      ]
     },
     "execution_count": 26,
     "metadata": {},
     "output_type": "execute_result"
    }
   ],
   "source": [
    "manuscript_summary_flattened = [\n",
    "    manuscript_summary\n",
    "    for manuscript_summary_list in manuscript_summary_list_batches\n",
    "    for manuscript_summary in manuscript_summary_list\n",
    "]\n",
    "len(manuscript_summary_flattened)"
   ]
  },
  {
   "cell_type": "code",
   "execution_count": 27,
   "metadata": {},
   "outputs": [],
   "source": [
    "for manuscript_summary in manuscript_summary_flattened:\n",
    "    manuscript_summary['provenance'] = {\n",
    "        'source': 'europepmc',\n",
    "        'imported_timestamp': datetime.utcnow().isoformat()\n",
    "    }"
   ]
  },
  {
   "cell_type": "code",
   "execution_count": 28,
   "metadata": {
    "scrolled": false
   },
   "outputs": [],
   "source": [
    "if manuscript_summary_flattened:\n",
    "    manuscript_summary_flattened[0]"
   ]
  },
  {
   "cell_type": "code",
   "execution_count": 29,
   "metadata": {},
   "outputs": [
    {
     "name": "stdout",
     "output_type": "stream",
     "text": [
      "no data to upload\n"
     ]
    }
   ],
   "source": [
    "if not manuscript_summary_flattened:\n",
    "    print('no data to upload')\n",
    "else:\n",
    "    print('writing to:', external_manuscript_summary_output_table_name)\n",
    "    load_json_list_and_append_to_bq_table_with_auto_schema(\n",
    "        manuscript_summary_flattened,\n",
    "        project_id=project_id,\n",
    "        table_name=external_manuscript_summary_output_table_name\n",
    "    )\n",
    "    print('done')"
   ]
  }
 ],
 "metadata": {
  "kernelspec": {
   "display_name": "Python 3",
   "language": "python",
   "name": "python3"
  },
  "language_info": {
   "codemirror_mode": {
    "name": "ipython",
    "version": 3
   },
   "file_extension": ".py",
   "mimetype": "text/x-python",
   "name": "python",
   "nbconvert_exporter": "python",
   "pygments_lexer": "ipython3",
   "version": "3.7.6"
  }
 },
 "nbformat": 4,
 "nbformat_minor": 4
}
