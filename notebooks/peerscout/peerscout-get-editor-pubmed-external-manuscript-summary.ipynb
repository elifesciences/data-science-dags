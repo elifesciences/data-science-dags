{
 "cells": [
  {
   "cell_type": "code",
   "execution_count": null,
   "metadata": {
    "tags": [
     "parameters"
    ]
   },
   "outputs": [],
   "source": [
    "project_id = 'elife-data-pipeline'\n",
    "source_dataset = 'de_dev'\n",
    "output_dataset = 'de_dev'\n",
    "output_table_prefix = 'data_science_'\n",
    "mv_prefix = 'mv_'\n",
    "\n",
    "max_workers = 10\n",
    "max_manuscripts = 100000\n",
    "manuscript_upload_batch_size = 10000\n",
    "email = 'd.ecer@elifesciences.org'"
   ]
  },
  {
   "cell_type": "code",
   "execution_count": null,
   "metadata": {},
   "outputs": [],
   "source": [
    "import logging\n",
    "from datetime import datetime\n",
    "from functools import partial\n",
    "from concurrent.futures import ThreadPoolExecutor\n",
    "from typing import List, Optional, Sized, cast\n",
    "\n",
    "from tqdm.auto import tqdm\n",
    "\n",
    "import data_science_pipeline.configure_warnings  # pylint: disable=unused-import\n",
    "import data_science_pipeline.configure_notebook_logging  # pylint: disable=unused-import\n",
    "\n",
    "from data_science_pipeline.utils.europepmc import (\n",
    "    EUROPEPMC_MAX_PAGE_SIZE,\n",
    "    EuropePMCApi,\n",
    "    europepmc_requests_retry_session\n",
    ")\n",
    "from data_science_pipeline.utils.misc import iter_batches\n",
    "from data_science_pipeline.utils.bq import (\n",
    "    with_limit_sql,\n",
    "    is_bq_not_found_exception,\n",
    "    load_json_list_and_append_to_bq_table_with_auto_schema\n",
    ")\n",
    "from data_science_pipeline.utils.jupyter import (\n",
    "    read_big_query as _read_big_query,\n",
    ")"
   ]
  },
  {
   "cell_type": "code",
   "execution_count": null,
   "metadata": {},
   "outputs": [],
   "source": [
    "LOGGER = logging.getLogger(__name__)\n",
    "\n",
    "logging.basicConfig(level='INFO')\n",
    "# logging.getLogger('data_science_pipeline.utils.bq').setLevel(logging.DEBUG)"
   ]
  },
  {
   "cell_type": "code",
   "execution_count": null,
   "metadata": {},
   "outputs": [],
   "source": [
    "editor_parsed_pubmed_links_table_name = '{output_dataset}.{prefix}{suffix}'.format(\n",
    "    output_dataset=output_dataset,\n",
    "    prefix=output_table_prefix,\n",
    "    suffix='editor_pubmed_links'\n",
    ")\n",
    "\n",
    "editor_parsed_pubmed_ids_table_name = '{output_dataset}.{mv_prefix}{prefix}{suffix}'.format(\n",
    "    output_dataset=output_dataset,\n",
    "    mv_prefix=mv_prefix,\n",
    "    prefix=output_table_prefix,\n",
    "    suffix='editor_pubmed_ids'\n",
    ")\n",
    "\n",
    "external_manuscript_summary_output_table_name = '{prefix}{suffix}'.format(\n",
    "    prefix=output_table_prefix,\n",
    "    suffix='external_manuscript_summary'\n",
    ")"
   ]
  },
  {
   "cell_type": "code",
   "execution_count": null,
   "metadata": {},
   "outputs": [],
   "source": [
    "read_big_query = partial(_read_big_query, project_id=project_id)"
   ]
  },
  {
   "cell_type": "code",
   "execution_count": null,
   "metadata": {},
   "outputs": [],
   "source": [
    "existing_pmids_sql = (\n",
    "    'SELECT pmid FROM `{dataset}.{table}`'\n",
    ").format(table=external_manuscript_summary_output_table_name, dataset=output_dataset)\n",
    "\n",
    "all_pmids_sql = '\\n'.join([\n",
    "    'SELECT DISTINCT pubmed_id',\n",
    "    'FROM `{editor_parsed_pubmed_ids_table_name}`',\n",
    "    'JOIN UNNEST(pubmed_ids) AS pubmed_id',\n",
    "    '',\n",
    "    'UNION DISTINCT',\n",
    "    '',\n",
    "    'SELECT DISTINCT pubmed_id',\n",
    "    'FROM `{editor_parsed_pubmed_links_table_name}`',\n",
    "    'JOIN UNNEST(relevant_pubmed_ids) AS pubmed_id',\n",
    "    '',\n",
    "    'UNION DISTINCT',\n",
    "    '',\n",
    "    'SELECT DISTINCT pubmed_id',\n",
    "    'FROM `{editor_parsed_pubmed_links_table_name}`',\n",
    "    'JOIN UNNEST(parsed_search_term.include.pmid) AS pubmed_id'\n",
    "]).format(\n",
    "    editor_parsed_pubmed_ids_table_name=editor_parsed_pubmed_ids_table_name,\n",
    "    editor_parsed_pubmed_links_table_name=editor_parsed_pubmed_links_table_name\n",
    ")\n",
    "\n",
    "remaining_pmids_sql = '\\n'.join([\n",
    "    'SELECT DISTINCT pubmed_id',\n",
    "    'FROM ({all_pmids_sql})',\n",
    "    'WHERE pubmed_id NOT IN ({existing_pmids_sql})'\n",
    "]).format(\n",
    "    all_pmids_sql=all_pmids_sql,\n",
    "    existing_pmids_sql=existing_pmids_sql\n",
    ")\n",
    "\n",
    "try:\n",
    "    remaining_pmids_df = read_big_query(with_limit_sql(\n",
    "        remaining_pmids_sql,\n",
    "        limit=max_manuscripts\n",
    "    ))\n",
    "except Exception as e:  # pylint: disable=broad-except\n",
    "    if not is_bq_not_found_exception(e):\n",
    "        raise\n",
    "    print('table not found: %s', external_manuscript_summary_output_table_name)\n",
    "    remaining_pmids_df = read_big_query(with_limit_sql(\n",
    "        all_pmids_sql,\n",
    "        limit=max_manuscripts\n",
    "    ))\n",
    "print(len(remaining_pmids_df))\n",
    "remaining_pmids_df.head()"
   ]
  },
  {
   "cell_type": "code",
   "execution_count": null,
   "metadata": {},
   "outputs": [],
   "source": [
    "remaining_pmids_df.dtypes"
   ]
  },
  {
   "cell_type": "code",
   "execution_count": null,
   "metadata": {},
   "outputs": [],
   "source": [
    "query_pubmed_ids = remaining_pmids_df['pubmed_id'].values\n",
    "len(query_pubmed_ids)"
   ]
  },
  {
   "cell_type": "code",
   "execution_count": null,
   "metadata": {},
   "outputs": [],
   "source": [
    "query_pubmed_ids_batches = list(iter_batches(query_pubmed_ids, EUROPEPMC_MAX_PAGE_SIZE))\n",
    "print('number of batches:', len(query_pubmed_ids_batches))\n",
    "if query_pubmed_ids_batches:\n",
    "    print('first batch:', len(cast(Sized,query_pubmed_ids_batches[0])))"
   ]
  },
  {
   "cell_type": "code",
   "execution_count": null,
   "metadata": {},
   "outputs": [],
   "source": [
    "def handle_http_error(error: BaseException, data: Optional[dict] = None):\n",
    "    LOGGER.warning('error: %s, data=%s', error, data)"
   ]
  },
  {
   "cell_type": "code",
   "execution_count": null,
   "metadata": {},
   "outputs": [],
   "source": [
    "def add_provenance(manuscript_summary_list: List[dict]) -> List[dict]:\n",
    "    imported_timestamp = datetime.utcnow().isoformat()\n",
    "    provenance = {\n",
    "        'source': 'europepmc',\n",
    "        'imported_timestamp': imported_timestamp\n",
    "    }\n",
    "    return [\n",
    "        {\n",
    "            **manuscript_summary,\n",
    "            'provenance': provenance\n",
    "        }\n",
    "        for manuscript_summary in manuscript_summary_list\n",
    "    ]"
   ]
  },
  {
   "cell_type": "code",
   "execution_count": null,
   "metadata": {},
   "outputs": [],
   "source": [
    "with europepmc_requests_retry_session() as session:\n",
    "    europepmc_api = EuropePMCApi(\n",
    "        session,\n",
    "        on_error=handle_http_error,\n",
    "        params={'email': email}\n",
    "    )\n",
    "    with ThreadPoolExecutor(max_workers=max_workers) as executor:\n",
    "        try:\n",
    "            retrieved_editor_manuscript_list_batches_it = tqdm(\n",
    "                executor.map(\n",
    "                    europepmc_api.get_summary_by_page_pmids,\n",
    "                    query_pubmed_ids_batches\n",
    "                ),\n",
    "                total=len(query_pubmed_ids_batches),\n",
    "                leave=False\n",
    "            )\n",
    "            retrieved_flattened_manuscript_list_it = (\n",
    "                manuscript_summary\n",
    "                for manuscript_summary_list in retrieved_editor_manuscript_list_batches_it\n",
    "                for manuscript_summary in manuscript_summary_list\n",
    "            )\n",
    "            manuscript_upload_batch_list_it = iter_batches(\n",
    "                retrieved_flattened_manuscript_list_it,\n",
    "                manuscript_upload_batch_size\n",
    "            )\n",
    "            for manuscript_upload_list in manuscript_upload_batch_list_it:\n",
    "                manuscript_upload_list = list(manuscript_upload_list)\n",
    "                LOGGER.info('writing to: %s (%d rows)',\n",
    "                    external_manuscript_summary_output_table_name,\n",
    "                    len(manuscript_upload_list)\n",
    "                )\n",
    "                load_json_list_and_append_to_bq_table_with_auto_schema(\n",
    "                    add_provenance(manuscript_upload_list),\n",
    "                    project_id=project_id,\n",
    "                    dataset_name=output_dataset,\n",
    "                    table_name=external_manuscript_summary_output_table_name\n",
    "                )\n",
    "        except Exception as e:\n",
    "            LOGGER.error(\"Error processing manuscript: %s\", e)\n",
    "            raise e\n",
    "print('done')"
   ]
  }
 ],
 "metadata": {
  "celltoolbar": "Tags",
  "kernelspec": {
   "display_name": "Python 3",
   "language": "python",
   "name": "python3"
  },
  "language_info": {
   "codemirror_mode": {
    "name": "ipython",
    "version": 3
   },
   "file_extension": ".py",
   "mimetype": "text/x-python",
   "name": "python",
   "nbconvert_exporter": "python",
   "pygments_lexer": "ipython3",
   "version": "3.8.7"
  }
 },
 "nbformat": 4,
 "nbformat_minor": 4
}
