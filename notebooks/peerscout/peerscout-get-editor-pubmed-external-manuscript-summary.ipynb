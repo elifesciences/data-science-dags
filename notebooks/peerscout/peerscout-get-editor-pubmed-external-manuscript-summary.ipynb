{
 "cells": [
  {
   "cell_type": "code",
   "execution_count": 1,
   "metadata": {},
   "outputs": [],
   "source": [
    "project_id = 'elife-data-pipeline'\n",
    "source_dataset = 'de_dev'\n",
    "output_dataset = 'de_dev'\n",
    "output_table_prefix = 'data_science_'\n",
    "state_path = 's3://ci-elife-data-pipeline/airflow-config/data-science/state-dev'\n",
    "max_workers = 10\n",
    "max_manuscripts = 1000"
   ]
  },
  {
   "cell_type": "code",
   "execution_count": 2,
   "metadata": {},
   "outputs": [],
   "source": [
    "import json\n",
    "import re\n",
    "import os\n",
    "import sys\n",
    "import logging\n",
    "from datetime import datetime\n",
    "from functools import partial\n",
    "from concurrent.futures import ThreadPoolExecutor \n",
    "from typing import List\n",
    "\n",
    "import numpy as np\n",
    "import pandas as pd\n",
    "import requests\n",
    "from tqdm.auto import tqdm\n",
    "\n",
    "import google.cloud.exceptions\n",
    "\n",
    "import data_science_pipeline.configure_warnings\n",
    "\n",
    "from data_science_pipeline.sql import get_sql\n",
    "from data_science_pipeline.utils.europepmc import (\n",
    "    EUROPEPMC_MAX_PAGE_SIZE,\n",
    "    EuropePMCApi,\n",
    "    europepmc_requests_retry_session\n",
    ")\n",
    "from data_science_pipeline.utils.misc import iter_batches\n",
    "from data_science_pipeline.utils.bq import (\n",
    "    is_bq_not_found_exception,\n",
    "    load_json_list_and_append_to_bq_table_with_auto_schema\n",
    ")\n",
    "from data_science_pipeline.utils.pandas import read_csv\n",
    "from data_science_pipeline.utils.jupyter import (\n",
    "    read_big_query as _read_big_query,\n",
    ")"
   ]
  },
  {
   "cell_type": "code",
   "execution_count": 3,
   "metadata": {},
   "outputs": [],
   "source": [
    "logging.basicConfig(level='INFO')\n",
    "# logging.getLogger('data_science_pipeline.utils.bq').setLevel(logging.DEBUG)"
   ]
  },
  {
   "cell_type": "code",
   "execution_count": 4,
   "metadata": {},
   "outputs": [],
   "source": [
    "LOGGER = logging.getLogger(__name__)"
   ]
  },
  {
   "cell_type": "code",
   "execution_count": 5,
   "metadata": {},
   "outputs": [],
   "source": [
    "editor_pubmed_ids_path = os.path.join(state_path, 'editor_pubmed_ids.tsv.gz')\n",
    "external_manuscript_summary_output_table_name = '{output_dataset}.{prefix}{suffix}'.format(\n",
    "    output_dataset=output_dataset,\n",
    "    prefix=output_table_prefix,\n",
    "    suffix='external_manuscript_summary'\n",
    ")"
   ]
  },
  {
   "cell_type": "code",
   "execution_count": 6,
   "metadata": {},
   "outputs": [],
   "source": [
    "read_big_query = partial(_read_big_query, project_id=project_id)"
   ]
  },
  {
   "cell_type": "code",
   "execution_count": 7,
   "metadata": {},
   "outputs": [
    {
     "data": {
      "text/markdown": [
       "> ```sql\n",
       "> SELECT pmid FROM `de_dev.data_science_external_manuscript_summary`\n",
       "> ```"
      ],
      "text/plain": [
       "<IPython.core.display.Markdown object>"
      ]
     },
     "metadata": {},
     "output_type": "display_data"
    },
    {
     "name": "stderr",
     "output_type": "stream",
     "text": [
      "Downloading: 100%|██████████| 1998/1998 [00:00<00:00, 2450.15rows/s]"
     ]
    },
    {
     "name": "stdout",
     "output_type": "stream",
     "text": [
      "1998\n"
     ]
    },
    {
     "name": "stderr",
     "output_type": "stream",
     "text": [
      "\n"
     ]
    },
    {
     "data": {
      "text/html": [
       "<div>\n",
       "<style scoped>\n",
       "    .dataframe tbody tr th:only-of-type {\n",
       "        vertical-align: middle;\n",
       "    }\n",
       "\n",
       "    .dataframe tbody tr th {\n",
       "        vertical-align: top;\n",
       "    }\n",
       "\n",
       "    .dataframe thead th {\n",
       "        text-align: right;\n",
       "    }\n",
       "</style>\n",
       "<table border=\"1\" class=\"dataframe\">\n",
       "  <thead>\n",
       "    <tr style=\"text-align: right;\">\n",
       "      <th></th>\n",
       "      <th>pmid</th>\n",
       "    </tr>\n",
       "  </thead>\n",
       "  <tbody>\n",
       "    <tr>\n",
       "      <th>0</th>\n",
       "      <td>31628140</td>\n",
       "    </tr>\n",
       "    <tr>\n",
       "      <th>1</th>\n",
       "      <td>31493833</td>\n",
       "    </tr>\n",
       "    <tr>\n",
       "      <th>2</th>\n",
       "      <td>31335853</td>\n",
       "    </tr>\n",
       "    <tr>\n",
       "      <th>3</th>\n",
       "      <td>30571938</td>\n",
       "    </tr>\n",
       "    <tr>\n",
       "      <th>4</th>\n",
       "      <td>29475451</td>\n",
       "    </tr>\n",
       "  </tbody>\n",
       "</table>\n",
       "</div>"
      ],
      "text/plain": [
       "       pmid\n",
       "0  31628140\n",
       "1  31493833\n",
       "2  31335853\n",
       "3  30571938\n",
       "4  29475451"
      ]
     },
     "execution_count": 7,
     "metadata": {},
     "output_type": "execute_result"
    }
   ],
   "source": [
    "_sql = (\n",
    "    'SELECT pmid FROM `{table}`'\n",
    ").format(table=external_manuscript_summary_output_table_name)\n",
    "\n",
    "try:\n",
    "    existing_pmids_df = read_big_query(_sql)\n",
    "except Exception as e:\n",
    "    if not is_bq_not_found_exception(e):\n",
    "        raise\n",
    "    print('table not found: %s', external_manuscript_summary_output_table_name)\n",
    "    existing_pmids_df = pd.DataFrame(columns=['pmid'])\n",
    "print(len(existing_pmids_df))\n",
    "existing_pmids_df.head()"
   ]
  },
  {
   "cell_type": "code",
   "execution_count": 8,
   "metadata": {},
   "outputs": [
    {
     "data": {
      "text/plain": [
       "pmid    object\n",
       "dtype: object"
      ]
     },
     "execution_count": 8,
     "metadata": {},
     "output_type": "execute_result"
    }
   ],
   "source": [
    "existing_pmids_df.dtypes"
   ]
  },
  {
   "cell_type": "code",
   "execution_count": 9,
   "metadata": {},
   "outputs": [
    {
     "data": {
      "text/plain": [
       "999"
      ]
     },
     "execution_count": 9,
     "metadata": {},
     "output_type": "execute_result"
    }
   ],
   "source": [
    "existing_pmids_set = set(existing_pmids_df['pmid'])\n",
    "len(existing_pmids_set)"
   ]
  },
  {
   "cell_type": "code",
   "execution_count": 10,
   "metadata": {},
   "outputs": [
    {
     "data": {
      "text/html": [
       "<div>\n",
       "<style scoped>\n",
       "    .dataframe tbody tr th:only-of-type {\n",
       "        vertical-align: middle;\n",
       "    }\n",
       "\n",
       "    .dataframe tbody tr th {\n",
       "        vertical-align: top;\n",
       "    }\n",
       "\n",
       "    .dataframe thead th {\n",
       "        text-align: right;\n",
       "    }\n",
       "</style>\n",
       "<table border=\"1\" class=\"dataframe\">\n",
       "  <thead>\n",
       "    <tr style=\"text-align: right;\">\n",
       "      <th></th>\n",
       "      <th>person_id</th>\n",
       "      <th>name</th>\n",
       "      <th>pubmed_url</th>\n",
       "      <th>pubmed_ids</th>\n",
       "    </tr>\n",
       "  </thead>\n",
       "  <tbody>\n",
       "    <tr>\n",
       "      <th>0</th>\n",
       "      <td>126873</td>\n",
       "      <td>Yuuki Watanabe</td>\n",
       "      <td>https://www.ncbi.nlm.nih.gov/pubmed/?term=Wata...</td>\n",
       "      <td>[31778207, 31187501, 31340216, 30777873, 30232...</td>\n",
       "    </tr>\n",
       "    <tr>\n",
       "      <th>1</th>\n",
       "      <td>178962</td>\n",
       "      <td>Chima Nwaogu</td>\n",
       "      <td>https://www.ncbi.nlm.nih.gov/pubmed/?term=Nwao...</td>\n",
       "      <td>[32246110, 31764994, 30659607, 30956931]</td>\n",
       "    </tr>\n",
       "    <tr>\n",
       "      <th>2</th>\n",
       "      <td>70207</td>\n",
       "      <td>Bernhard Schmid</td>\n",
       "      <td>https://www.ncbi.nlm.nih.gov/pubmed/?term=Schm...</td>\n",
       "      <td>[32504789, 32486982, 32427483, 32407371, 32333...</td>\n",
       "    </tr>\n",
       "    <tr>\n",
       "      <th>3</th>\n",
       "      <td>14193</td>\n",
       "      <td>Merijn Kant</td>\n",
       "      <td>https://www.ncbi.nlm.nih.gov/pubmed?term=Kant%...</td>\n",
       "      <td>[26019168, 23238958, 11256409]</td>\n",
       "    </tr>\n",
       "    <tr>\n",
       "      <th>4</th>\n",
       "      <td>7970</td>\n",
       "      <td>Laurent Keller</td>\n",
       "      <td>https://www.ncbi.nlm.nih.gov/pubmed/?term=Kell...</td>\n",
       "      <td>[32353492, 32415359, 32271631, 32298574, 32244...</td>\n",
       "    </tr>\n",
       "  </tbody>\n",
       "</table>\n",
       "</div>"
      ],
      "text/plain": [
       "  person_id             name  \\\n",
       "0    126873   Yuuki Watanabe   \n",
       "1    178962     Chima Nwaogu   \n",
       "2     70207  Bernhard Schmid   \n",
       "3     14193      Merijn Kant   \n",
       "4      7970   Laurent Keller   \n",
       "\n",
       "                                          pubmed_url  \\\n",
       "0  https://www.ncbi.nlm.nih.gov/pubmed/?term=Wata...   \n",
       "1  https://www.ncbi.nlm.nih.gov/pubmed/?term=Nwao...   \n",
       "2  https://www.ncbi.nlm.nih.gov/pubmed/?term=Schm...   \n",
       "3  https://www.ncbi.nlm.nih.gov/pubmed?term=Kant%...   \n",
       "4  https://www.ncbi.nlm.nih.gov/pubmed/?term=Kell...   \n",
       "\n",
       "                                          pubmed_ids  \n",
       "0  [31778207, 31187501, 31340216, 30777873, 30232...  \n",
       "1           [32246110, 31764994, 30659607, 30956931]  \n",
       "2  [32504789, 32486982, 32427483, 32407371, 32333...  \n",
       "3                     [26019168, 23238958, 11256409]  \n",
       "4  [32353492, 32415359, 32271631, 32298574, 32244...  "
      ]
     },
     "execution_count": 10,
     "metadata": {},
     "output_type": "execute_result"
    }
   ],
   "source": [
    "editor_pubmed_ids_df = read_csv(\n",
    "    editor_pubmed_ids_path,\n",
    "    dtype={'person_id': 'str'},\n",
    "    converters={\n",
    "        'pubmed_ids': lambda s: s.split('|')\n",
    "    }\n",
    ")\n",
    "editor_pubmed_ids_df.head()"
   ]
  },
  {
   "cell_type": "code",
   "execution_count": 11,
   "metadata": {},
   "outputs": [
    {
     "data": {
      "text/plain": [
       "616"
      ]
     },
     "execution_count": 11,
     "metadata": {},
     "output_type": "execute_result"
    }
   ],
   "source": [
    "len(editor_pubmed_ids_df)"
   ]
  },
  {
   "cell_type": "code",
   "execution_count": 12,
   "metadata": {},
   "outputs": [
    {
     "data": {
      "text/plain": [
       "['31778207',\n",
       " '31187501',\n",
       " '31340216',\n",
       " '30777873',\n",
       " '30232531',\n",
       " '29951206',\n",
       " '29780593',\n",
       " '29444848',\n",
       " '29323131',\n",
       " '27551383',\n",
       " '27457414',\n",
       " '27305867',\n",
       " '26139663',\n",
       " '26061229',\n",
       " '25377461',\n",
       " '25902489',\n",
       " '24478293',\n",
       " '24477606',\n",
       " '23341596',\n",
       " '23857645',\n",
       " '23014571',\n",
       " '21832140',\n",
       " '21270312',\n",
       " '21228200',\n",
       " '20946384']"
      ]
     },
     "execution_count": 12,
     "metadata": {},
     "output_type": "execute_result"
    }
   ],
   "source": [
    "# check that the type is a proper list\n",
    "editor_pubmed_ids_df['pubmed_ids'].values[0]"
   ]
  },
  {
   "cell_type": "code",
   "execution_count": 13,
   "metadata": {},
   "outputs": [
    {
     "name": "stdout",
     "output_type": "stream",
     "text": [
      "62\n"
     ]
    },
    {
     "data": {
      "text/html": [
       "<div>\n",
       "<style scoped>\n",
       "    .dataframe tbody tr th:only-of-type {\n",
       "        vertical-align: middle;\n",
       "    }\n",
       "\n",
       "    .dataframe tbody tr th {\n",
       "        vertical-align: top;\n",
       "    }\n",
       "\n",
       "    .dataframe thead th {\n",
       "        text-align: right;\n",
       "    }\n",
       "</style>\n",
       "<table border=\"1\" class=\"dataframe\">\n",
       "  <thead>\n",
       "    <tr style=\"text-align: right;\">\n",
       "      <th></th>\n",
       "      <th>person_id</th>\n",
       "      <th>name</th>\n",
       "      <th>pubmed_url</th>\n",
       "      <th>pubmed_ids</th>\n",
       "      <th>pubmed_count</th>\n",
       "    </tr>\n",
       "  </thead>\n",
       "  <tbody>\n",
       "    <tr>\n",
       "      <th>437</th>\n",
       "      <td>33159</td>\n",
       "      <td>Wenwei Hu</td>\n",
       "      <td>https://www.ncbi.nlm.nih.gov/pubmed/?term=Hu%2...</td>\n",
       "      <td>[32390016, 32373871, 32215387, 32026907, 31960...</td>\n",
       "      <td>1000</td>\n",
       "    </tr>\n",
       "    <tr>\n",
       "      <th>553</th>\n",
       "      <td>63487</td>\n",
       "      <td>Eric Wagner</td>\n",
       "      <td>https://www.ncbi.nlm.nih.gov/pubmed/?term=Wagn...</td>\n",
       "      <td>[32475206, 32498278, 32486855, 32463457, 32474...</td>\n",
       "      <td>1000</td>\n",
       "    </tr>\n",
       "    <tr>\n",
       "      <th>354</th>\n",
       "      <td>1880</td>\n",
       "      <td>Kang Shen</td>\n",
       "      <td>https://www.ncbi.nlm.nih.gov/pubmed?term=Shen%...</td>\n",
       "      <td>[31165134, 30968914, 32517787, 32516341, 32483...</td>\n",
       "      <td>1000</td>\n",
       "    </tr>\n",
       "    <tr>\n",
       "      <th>91</th>\n",
       "      <td>164440</td>\n",
       "      <td>Taraz Lee</td>\n",
       "      <td>https://www.ncbi.nlm.nih.gov/pubmed/?term=Lee%...</td>\n",
       "      <td>[31490468, 32126634, 32531466, 32532809, 32526...</td>\n",
       "      <td>1000</td>\n",
       "    </tr>\n",
       "    <tr>\n",
       "      <th>353</th>\n",
       "      <td>7755</td>\n",
       "      <td>Satyajit Mayor</td>\n",
       "      <td>https://www.ncbi.nlm.nih.gov/pubmed/?term=Mayo...</td>\n",
       "      <td>[32325021, 32297381, 32291260, 32220898, 32175...</td>\n",
       "      <td>1000</td>\n",
       "    </tr>\n",
       "    <tr>\n",
       "      <th>498</th>\n",
       "      <td>97155</td>\n",
       "      <td>Matthias Barton</td>\n",
       "      <td>https://www.ncbi.nlm.nih.gov/pubmed?term=Barto...</td>\n",
       "      <td>[32505478, 32456669, 32492811, 32482884, 32282...</td>\n",
       "      <td>1000</td>\n",
       "    </tr>\n",
       "    <tr>\n",
       "      <th>80</th>\n",
       "      <td>19516</td>\n",
       "      <td>Huan Luo</td>\n",
       "      <td>https://www.ncbi.nlm.nih.gov/pubmed?term=Luo%2...</td>\n",
       "      <td>[32207492, 32129360, 32025673, 32228103, 31746...</td>\n",
       "      <td>1000</td>\n",
       "    </tr>\n",
       "    <tr>\n",
       "      <th>507</th>\n",
       "      <td>1178</td>\n",
       "      <td>Shimon Sakaguchi</td>\n",
       "      <td>https://www.ncbi.nlm.nih.gov/pubmed?term=Sakag...</td>\n",
       "      <td>[32522901, 32414925, 32530645, 32310734, 32367...</td>\n",
       "      <td>1000</td>\n",
       "    </tr>\n",
       "    <tr>\n",
       "      <th>77</th>\n",
       "      <td>72659</td>\n",
       "      <td>Jeffrey Smith</td>\n",
       "      <td>https://www.ncbi.nlm.nih.gov/pubmed/?term=Smit...</td>\n",
       "      <td>[32432296, 31065643, 32528015, 32433861, 32533...</td>\n",
       "      <td>1000</td>\n",
       "    </tr>\n",
       "    <tr>\n",
       "      <th>336</th>\n",
       "      <td>170567</td>\n",
       "      <td>Sang-Gyu Kim</td>\n",
       "      <td>https://www.ncbi.nlm.nih.gov/pubmed/?term=Kim%...</td>\n",
       "      <td>[31334742, 30706934, 31106317, 32520523, 32520...</td>\n",
       "      <td>1000</td>\n",
       "    </tr>\n",
       "  </tbody>\n",
       "</table>\n",
       "</div>"
      ],
      "text/plain": [
       "    person_id              name  \\\n",
       "437     33159         Wenwei Hu   \n",
       "553     63487       Eric Wagner   \n",
       "354      1880         Kang Shen   \n",
       "91     164440         Taraz Lee   \n",
       "353      7755    Satyajit Mayor   \n",
       "498     97155   Matthias Barton   \n",
       "80      19516          Huan Luo   \n",
       "507      1178  Shimon Sakaguchi   \n",
       "77      72659     Jeffrey Smith   \n",
       "336    170567      Sang-Gyu Kim   \n",
       "\n",
       "                                            pubmed_url  \\\n",
       "437  https://www.ncbi.nlm.nih.gov/pubmed/?term=Hu%2...   \n",
       "553  https://www.ncbi.nlm.nih.gov/pubmed/?term=Wagn...   \n",
       "354  https://www.ncbi.nlm.nih.gov/pubmed?term=Shen%...   \n",
       "91   https://www.ncbi.nlm.nih.gov/pubmed/?term=Lee%...   \n",
       "353  https://www.ncbi.nlm.nih.gov/pubmed/?term=Mayo...   \n",
       "498  https://www.ncbi.nlm.nih.gov/pubmed?term=Barto...   \n",
       "80   https://www.ncbi.nlm.nih.gov/pubmed?term=Luo%2...   \n",
       "507  https://www.ncbi.nlm.nih.gov/pubmed?term=Sakag...   \n",
       "77   https://www.ncbi.nlm.nih.gov/pubmed/?term=Smit...   \n",
       "336  https://www.ncbi.nlm.nih.gov/pubmed/?term=Kim%...   \n",
       "\n",
       "                                            pubmed_ids  pubmed_count  \n",
       "437  [32390016, 32373871, 32215387, 32026907, 31960...          1000  \n",
       "553  [32475206, 32498278, 32486855, 32463457, 32474...          1000  \n",
       "354  [31165134, 30968914, 32517787, 32516341, 32483...          1000  \n",
       "91   [31490468, 32126634, 32531466, 32532809, 32526...          1000  \n",
       "353  [32325021, 32297381, 32291260, 32220898, 32175...          1000  \n",
       "498  [32505478, 32456669, 32492811, 32482884, 32282...          1000  \n",
       "80   [32207492, 32129360, 32025673, 32228103, 31746...          1000  \n",
       "507  [32522901, 32414925, 32530645, 32310734, 32367...          1000  \n",
       "77   [32432296, 31065643, 32528015, 32433861, 32533...          1000  \n",
       "336  [31334742, 30706934, 31106317, 32520523, 32520...          1000  "
      ]
     },
     "execution_count": 13,
     "metadata": {},
     "output_type": "execute_result"
    }
   ],
   "source": [
    "editor_pubmed_ids_df['pubmed_count'] = editor_pubmed_ids_df['pubmed_ids'].apply(len)\n",
    "print((editor_pubmed_ids_df['pubmed_count'] >= 1000).sum())\n",
    "editor_pubmed_ids_df.sort_values('pubmed_count', ascending=False).head(10)"
   ]
  },
  {
   "cell_type": "code",
   "execution_count": 14,
   "metadata": {},
   "outputs": [
    {
     "name": "stdout",
     "output_type": "stream",
     "text": [
      "editors with >= 1000 pubmed ids:\n",
      "- Jessica Thompson: https://www.ncbi.nlm.nih.gov/pubmed/?term=Thompson%20J%5BAuthor%5D&cauthor=true&cauthor_uid=28778462\n",
      "- Min Zhu: https://www.ncbi.nlm.nih.gov/pubmed/?term=Zhu%20M%5BAuthor%5D&cauthor=true&cauthor_uid=29185516\n",
      "- Xiaochen Wang: https://www.ncbi.nlm.nih.gov/pubmed/?term=Wang%20X%5BAuthor%5D&cauthor=true&cauthor_uid=30102152\n",
      "- Li Yu: https://www.ncbi.nlm.nih.gov/pubmed/?term=Yu%20L%5BAuthor%5D&cauthor=true&cauthor_uid=31371827\n",
      "- Junmin Pan: https://www.ncbi.nlm.nih.gov/pubmed/?term=Pan%20J%5BAuthor%5D&cauthor=true&cauthor_uid=30057303\n",
      "- Mahak Sharma: https://www.ncbi.nlm.nih.gov/pubmed/?term=Sharma%20M%5BAuthor%5D&cauthor=true&cauthor_uid=31010854\n",
      "- Maddy Parsons: https://www.ncbi.nlm.nih.gov/pubmed/?term=Parsons%20M%5Bauth%5D\n",
      "- Yue Wang: https://www.ncbi.nlm.nih.gov/pubmed?term=Wang%20Y&orig_db=PubMed&cmd=search\n",
      "- J Paul Taylor: https://www.ncbi.nlm.nih.gov/pubmed?term=Taylor%20J[au]&orig_db=PubMed&cmd=search\n",
      "- Jie Xiao: https://www.ncbi.nlm.nih.gov/pubmed/?term=Xiao%20J%5BAuthor%5D&cauthor=true&cauthor_uid=27782138\n",
      "- Daeyeol Lee: https://www.ncbi.nlm.nih.gov/pubmed/?term=Lee%20D%5BAuthor%5D&cauthor=true&cauthor_uid=28426971\n",
      "- Kristin Scott: https://www.ncbi.nlm.nih.gov/pubmed?term=Scott%20K%5Bau%5D&orig_db=PubMed&cmd=search\n",
      "- Jeffrey Smith: https://www.ncbi.nlm.nih.gov/pubmed/?term=Smith%20JC%5BAuthor%5D&cauthor=true&cauthor_uid=19193773\n",
      "- Huan Luo: https://www.ncbi.nlm.nih.gov/pubmed?term=Luo%20H&orig_db=PubMed&cmd=search\n",
      "- Taraz Lee: https://www.ncbi.nlm.nih.gov/pubmed/?term=Lee%20T%5BAuthor%5D&cauthor=true&cauthor_uid=31705631\n",
      "- Ming Meng: https://www.ncbi.nlm.nih.gov/pubmed/?term=Meng%20M%5BAuthor%5D&cauthor=true&cauthor_uid=26505302\n",
      "- Mathieu Wolff: https://www.ncbi.nlm.nih.gov/pubmed/?term=Wolff%20M%5BAuthor%5D&cauthor=true&cauthor_uid=26400947\n",
      "- Kunlin Wei: https://www.ncbi.nlm.nih.gov/pubmed/?term=Wei%20K%5BAuthor%5D&cauthor=true&cauthor_uid=25232107\n",
      "- Tony Hunter: https://www.ncbi.nlm.nih.gov/pubmed?term=Hunter%20T%5Bau%5D&orig_db=PubMed&cmd=search\n",
      "- Duojia Pan: https://www.ncbi.nlm.nih.gov/pubmed?term=Pan%20D%5Bau%5D&orig_db=PubMed&cmd=search\n",
      "- Xiaobing Shi: https://www.ncbi.nlm.nih.gov/pubmed?term=Shi%20X&orig_db=PubMed&cmd=search\n",
      "- Jiwon Shim: https://www.ncbi.nlm.nih.gov/pubmed/?term=Shim%20J%5BAuthor%5D&cauthor=true&cauthor_uid=29992947\n",
      "- Koichi Kawakami: https://www.ncbi.nlm.nih.gov/pubmed/?term=Kawakami%20K%5BAuthor%5D&cauthor=true&cauthor_uid=20950494\n",
      "- Eunjoon Kim: https://www.ncbi.nlm.nih.gov/pubmed?term=Kim%20E%5Bau%5D&orig_db=PubMed&cmd=search\n",
      "- Subburaman Mohan: https://www.ncbi.nlm.nih.gov/pubmed/?term=Mohan%20S%5BAuthor%5D&cauthor=true&cauthor_uid=31831786\n",
      "- Elaine Fuchs: https://www.ncbi.nlm.nih.gov/pubmed?term=Fuchs%20E%5Bau%5D&orig_db=PubMed&cmd=search\n",
      "- Xiaoyu Hu: https://www.ncbi.nlm.nih.gov/pubmed/?term=Hu%20X%5BAuthor%5D&cauthor=true&cauthor_uid=26936847\n",
      "- Tadatsugu Taniguchi: https://www.ncbi.nlm.nih.gov/pubmed?term=Taniguchi%20T%5Bau%5D&orig_db=PubMed&cmd=search\n",
      "- Jian Xu: https://www.ncbi.nlm.nih.gov/pubmed?term=Xu%20J&orig_db=PubMed&cmd=search\n",
      "- Rachel Green: https://www.ncbi.nlm.nih.gov/pubmed?term=Green%20R%5Bau%5D&orig_db=PubMed&cmd=search\n",
      "- Mingjie Zhang: https://www.ncbi.nlm.nih.gov/pubmed/?term=Zhang%20M%5BAuthor%5D&cauthor=true&cauthor_uid=26988743\n",
      "- Guangxia Gao: https://www.ncbi.nlm.nih.gov/pubmed/?term=Gao%20G%5BAuthor%5D&cauthor=true&cauthor_uid=30682371\n",
      "- Sriram Subramaniam: https://www.ncbi.nlm.nih.gov/pubmed?term=Subramaniam%20S%5Bau%5D&orig_db=PubMed&cmd=search\n",
      "- Yibing Shan: https://www.ncbi.nlm.nih.gov/pubmed?term=Shan%20Y%5Bau%5D&orig_db=PubMed&cmd=search\n",
      "- Sang-Gyu Kim: https://www.ncbi.nlm.nih.gov/pubmed/?term=Kim%20SG%5BAuthor%5D&cauthor=true&cauthor_uid=31094274\n",
      "- Satyajit Mayor: https://www.ncbi.nlm.nih.gov/pubmed/?term=Mayor%20S%5BAuthor%5D&cauthor=true&cauthor_uid=30774931\n",
      "- Kang Shen: https://www.ncbi.nlm.nih.gov/pubmed?term=Shen%20K[au]&orig_db=PubMed&cmd=search\n",
      "- Hong Zhang: https://www.ncbi.nlm.nih.gov/pubmed/?term=Zhang%20H%5BAuthor%5D&cauthor=true&cauthor_uid=26687600\n",
      "- Roger Davis: https://www.ncbi.nlm.nih.gov/pubmed?term=Davis%20R%5Bau%5D&orig_db=PubMed&cmd=search\n",
      "- Shaeri Mukherjee: https://www.ncbi.nlm.nih.gov/pubmed?term=Mukherjee%20S&orig_db=PubMed&cmd=search\n",
      "- Peggy Mason: https://www.ncbi.nlm.nih.gov/pubmed?term=Mason%20P%5Bau%5D&orig_db=PubMed&cmd=search\n",
      "- Naoshige Uchida: https://www.ncbi.nlm.nih.gov/pubmed?term=Uchida%20N[au]&orig_db=PubMed&cmd=search\n",
      "- Lu Chen: https://www.ncbi.nlm.nih.gov/pubmed/?term=Chen%20L%5BAuthor%5D&cauthor=true&cauthor_uid=31118285\n",
      "- Pascal Martin: https://www.ncbi.nlm.nih.gov/pubmed/?term=Martin%20P%5BAuthor%5D&cauthor=true&cauthor_uid=30932811\n",
      "- Martin McMahon: https://www.ncbi.nlm.nih.gov/pubmed?term=McMahon%20M&orig_db=PubMed&cmd=search\n",
      "- Wenwei Hu: https://www.ncbi.nlm.nih.gov/pubmed/?term=Hu%20W%5BAuthor%5D&cauthor=true&cauthor_uid=26161442\n",
      "- Yuting Ma: https://www.ncbi.nlm.nih.gov/pubmed/?term=Ma%20Y%5BAuthor%5D&cauthor=true&cauthor_uid=27057456\n",
      "- Hao Zhu: https://www.ncbi.nlm.nih.gov/pubmed?term=Zhu%20H&orig_db=PubMed&cmd=search\n",
      "- Xuetao Cao: https://www.ncbi.nlm.nih.gov/pubmed?term=Cao%20X%5Bau%5D&orig_db=PubMed&cmd=search\n",
      "- Anita Bhattacharyya: https://www.ncbi.nlm.nih.gov/pubmed?term=Bhattacharyya%20A&orig_db=PubMed&cmd=search\n",
      "- Elizabeth Robertson: https://www.ncbi.nlm.nih.gov/pubmed?term=Robertson%20E%5Bau%5D&orig_db=PubMed&cmd=search\n",
      "- Hao Yu: https://www.ncbi.nlm.nih.gov/pubmed?term=Yu%20H[au]&orig_db=PubMed&cmd=search\n",
      "- Anurag Agrawal: https://www.ncbi.nlm.nih.gov/pubmed/?term=Agrawal%20A%5BAuthor%5D&cauthor=true&cauthor_uid=31548090\n",
      "- Matthias Barton: https://www.ncbi.nlm.nih.gov/pubmed?term=Barton%20M&orig_db=PubMed&cmd=search\n",
      "- Shimon Sakaguchi: https://www.ncbi.nlm.nih.gov/pubmed?term=Sakaguchi%20S%5Bau%5D&orig_db=PubMed&cmd=search\n",
      "- Jeannie Lee: https://www.ncbi.nlm.nih.gov/pubmed/?term=Lee%20JT%5BAuthor%5D&cauthor=true&cauthor_uid=26489649\n",
      "- Matthew Freeman: https://www.ncbi.nlm.nih.gov/pubmed?term=Freeman%20M%5Bau%5D&orig_db=PubMed&cmd=search\n",
      "- Eric Wagner: https://www.ncbi.nlm.nih.gov/pubmed/?term=Wagner%20E%5BAuthor%5D&cauthor=true&cauthor_uid=29471365\n",
      "- Andreas Martin: https://www.ncbi.nlm.nih.gov/pubmed/?term=Martin%20A%5BAuthor%5D&cauthor=true&cauthor_uid=26744777\n",
      "- Sandeep Krishna: https://www.ncbi.nlm.nih.gov/pubmed/?term=Krishna%20S%5BAuthor%5D&cauthor=true&cauthor_uid=30622249\n",
      "- Job Dekker: https://www.ncbi.nlm.nih.gov/pubmed/?term=Dekker%20J%5BAuthor%5D&cauthor=true&cauthor_uid=27435934\n",
      "- Wenhui Li: https://www.ncbi.nlm.nih.gov/pubmed?term=Li%20W%5Bau%5D&orig_db=PubMed&cmd=search\n"
     ]
    }
   ],
   "source": [
    "print('editors with >= 1000 pubmed ids:\\n%s' % '\\n'.join(\n",
    "    '- %s: %s' % (row['name'], row['pubmed_url'])\n",
    "    for row in editor_pubmed_ids_df[editor_pubmed_ids_df['pubmed_count'] >= 1000].to_dict(orient='records')\n",
    "))"
   ]
  },
  {
   "cell_type": "code",
   "execution_count": 15,
   "metadata": {},
   "outputs": [
    {
     "data": {
      "text/plain": [
       "164.73646209386283"
      ]
     },
     "execution_count": 15,
     "metadata": {},
     "output_type": "execute_result"
    }
   ],
   "source": [
    "editor_pubmed_ids_df[editor_pubmed_ids_df['pubmed_count'] < 1000]['pubmed_count'].mean()"
   ]
  },
  {
   "cell_type": "code",
   "execution_count": 16,
   "metadata": {},
   "outputs": [
    {
     "data": {
      "text/plain": [
       "89.0"
      ]
     },
     "execution_count": 16,
     "metadata": {},
     "output_type": "execute_result"
    }
   ],
   "source": [
    "editor_pubmed_ids_df[editor_pubmed_ids_df['pubmed_count'] < 1000]['pubmed_count'].median()"
   ]
  },
  {
   "cell_type": "code",
   "execution_count": 17,
   "metadata": {},
   "outputs": [
    {
     "data": {
      "image/png": "[encoded data removed]",
      "text/plain": [
       "<Figure size 1440x720 with 1 Axes>"
      ]
     },
     "metadata": {
      "needs_background": "light"
     },
     "output_type": "display_data"
    }
   ],
   "source": [
    "editor_pubmed_ids_df[editor_pubmed_ids_df['pubmed_count'] < 1000]['pubmed_count'].plot.hist(\n",
    "    bins=50,\n",
    "    figsize=(20, 10)\n",
    ")\n",
    "None"
   ]
  },
  {
   "cell_type": "code",
   "execution_count": 18,
   "metadata": {},
   "outputs": [
    {
     "name": "stdout",
     "output_type": "stream",
     "text": [
      "554\n"
     ]
    },
    {
     "data": {
      "text/html": [
       "<div>\n",
       "<style scoped>\n",
       "    .dataframe tbody tr th:only-of-type {\n",
       "        vertical-align: middle;\n",
       "    }\n",
       "\n",
       "    .dataframe tbody tr th {\n",
       "        vertical-align: top;\n",
       "    }\n",
       "\n",
       "    .dataframe thead th {\n",
       "        text-align: right;\n",
       "    }\n",
       "</style>\n",
       "<table border=\"1\" class=\"dataframe\">\n",
       "  <thead>\n",
       "    <tr style=\"text-align: right;\">\n",
       "      <th></th>\n",
       "      <th>person_id</th>\n",
       "      <th>name</th>\n",
       "      <th>pubmed_url</th>\n",
       "      <th>pubmed_ids</th>\n",
       "      <th>pubmed_count</th>\n",
       "    </tr>\n",
       "  </thead>\n",
       "  <tbody>\n",
       "    <tr>\n",
       "      <th>386</th>\n",
       "      <td>53174</td>\n",
       "      <td>Katalin Toth</td>\n",
       "      <td>https://www.ncbi.nlm.nih.gov/pubmed/?term=T%C3...</td>\n",
       "      <td>[32513869, 32470395, 32329040, 32222134, 32223...</td>\n",
       "      <td>999</td>\n",
       "    </tr>\n",
       "    <tr>\n",
       "      <th>453</th>\n",
       "      <td>145041</td>\n",
       "      <td>Margaret Stanley</td>\n",
       "      <td>https://www.ncbi.nlm.nih.gov/pubmed?term=Stanl...</td>\n",
       "      <td>[32484911, 32445245, 32442096, 32222299, 32359...</td>\n",
       "      <td>990</td>\n",
       "    </tr>\n",
       "    <tr>\n",
       "      <th>508</th>\n",
       "      <td>4853</td>\n",
       "      <td>Satyajit Rath</td>\n",
       "      <td>https://www.ncbi.nlm.nih.gov/pubmed?term=Rath%...</td>\n",
       "      <td>[32513863, 32415095, 32416088, 32434405, 32383...</td>\n",
       "      <td>935</td>\n",
       "    </tr>\n",
       "    <tr>\n",
       "      <th>509</th>\n",
       "      <td>110082</td>\n",
       "      <td>Ranjan Sen</td>\n",
       "      <td>https://www.ncbi.nlm.nih.gov/pubmed/?term=Sen%...</td>\n",
       "      <td>[32525572, 32524736, 32505862, 32464231, 32405...</td>\n",
       "      <td>910</td>\n",
       "    </tr>\n",
       "    <tr>\n",
       "      <th>233</th>\n",
       "      <td>11670</td>\n",
       "      <td>Beth Stevens</td>\n",
       "      <td>https://www.ncbi.nlm.nih.gov/entrez/query.fcgi...</td>\n",
       "      <td>[32533741, 32506118, 32530469, 32461285, 32460...</td>\n",
       "      <td>904</td>\n",
       "    </tr>\n",
       "    <tr>\n",
       "      <th>31</th>\n",
       "      <td>1139</td>\n",
       "      <td>Sheila McCormick</td>\n",
       "      <td>https://www.ncbi.nlm.nih.gov/pubmed?term=McCor...</td>\n",
       "      <td>[32473516, 32388249, 32407107, 32328680, 32237...</td>\n",
       "      <td>877</td>\n",
       "    </tr>\n",
       "    <tr>\n",
       "      <th>597</th>\n",
       "      <td>1095</td>\n",
       "      <td>E Peter Greenberg</td>\n",
       "      <td>https://www.ncbi.nlm.nih.gov/pubmed?term=Green...</td>\n",
       "      <td>[32491160, 32534421, 32439724, 32412083, 32347...</td>\n",
       "      <td>851</td>\n",
       "    </tr>\n",
       "    <tr>\n",
       "      <th>27</th>\n",
       "      <td>8364</td>\n",
       "      <td>Piali Sengupta</td>\n",
       "      <td>https://www.ncbi.nlm.nih.gov/pubmed/?term=Seng...</td>\n",
       "      <td>[31298670, 32496225, 32529205, 32399992, 32492...</td>\n",
       "      <td>815</td>\n",
       "    </tr>\n",
       "    <tr>\n",
       "      <th>4</th>\n",
       "      <td>7970</td>\n",
       "      <td>Laurent Keller</td>\n",
       "      <td>https://www.ncbi.nlm.nih.gov/pubmed/?term=Kell...</td>\n",
       "      <td>[32353492, 32415359, 32271631, 32298574, 32244...</td>\n",
       "      <td>809</td>\n",
       "    </tr>\n",
       "    <tr>\n",
       "      <th>333</th>\n",
       "      <td>3258</td>\n",
       "      <td>Ahmet Yildiz</td>\n",
       "      <td>https://pubmed.ncbi.nlm.nih.gov/?term=Yildiz+A...</td>\n",
       "      <td>[32507098, 32462563, 32452237, 32479829, 32341...</td>\n",
       "      <td>804</td>\n",
       "    </tr>\n",
       "  </tbody>\n",
       "</table>\n",
       "</div>"
      ],
      "text/plain": [
       "    person_id               name  \\\n",
       "386     53174       Katalin Toth   \n",
       "453    145041   Margaret Stanley   \n",
       "508      4853      Satyajit Rath   \n",
       "509    110082         Ranjan Sen   \n",
       "233     11670       Beth Stevens   \n",
       "31       1139   Sheila McCormick   \n",
       "597      1095  E Peter Greenberg   \n",
       "27       8364     Piali Sengupta   \n",
       "4        7970     Laurent Keller   \n",
       "333      3258       Ahmet Yildiz   \n",
       "\n",
       "                                            pubmed_url  \\\n",
       "386  https://www.ncbi.nlm.nih.gov/pubmed/?term=T%C3...   \n",
       "453  https://www.ncbi.nlm.nih.gov/pubmed?term=Stanl...   \n",
       "508  https://www.ncbi.nlm.nih.gov/pubmed?term=Rath%...   \n",
       "509  https://www.ncbi.nlm.nih.gov/pubmed/?term=Sen%...   \n",
       "233  https://www.ncbi.nlm.nih.gov/entrez/query.fcgi...   \n",
       "31   https://www.ncbi.nlm.nih.gov/pubmed?term=McCor...   \n",
       "597  https://www.ncbi.nlm.nih.gov/pubmed?term=Green...   \n",
       "27   https://www.ncbi.nlm.nih.gov/pubmed/?term=Seng...   \n",
       "4    https://www.ncbi.nlm.nih.gov/pubmed/?term=Kell...   \n",
       "333  https://pubmed.ncbi.nlm.nih.gov/?term=Yildiz+A...   \n",
       "\n",
       "                                            pubmed_ids  pubmed_count  \n",
       "386  [32513869, 32470395, 32329040, 32222134, 32223...           999  \n",
       "453  [32484911, 32445245, 32442096, 32222299, 32359...           990  \n",
       "508  [32513863, 32415095, 32416088, 32434405, 32383...           935  \n",
       "509  [32525572, 32524736, 32505862, 32464231, 32405...           910  \n",
       "233  [32533741, 32506118, 32530469, 32461285, 32460...           904  \n",
       "31   [32473516, 32388249, 32407107, 32328680, 32237...           877  \n",
       "597  [32491160, 32534421, 32439724, 32412083, 32347...           851  \n",
       "27   [31298670, 32496225, 32529205, 32399992, 32492...           815  \n",
       "4    [32353492, 32415359, 32271631, 32298574, 32244...           809  \n",
       "333  [32507098, 32462563, 32452237, 32479829, 32341...           804  "
      ]
     },
     "execution_count": 18,
     "metadata": {},
     "output_type": "execute_result"
    }
   ],
   "source": [
    "editor_clean_pubmed_ids_df = editor_pubmed_ids_df[editor_pubmed_ids_df['pubmed_count'] < 1000]\n",
    "print(len(editor_clean_pubmed_ids_df))\n",
    "editor_clean_pubmed_ids_df.sort_values('pubmed_count', ascending=False).head(10)"
   ]
  },
  {
   "cell_type": "code",
   "execution_count": 19,
   "metadata": {},
   "outputs": [
    {
     "data": {
      "text/plain": [
       "91264"
      ]
     },
     "execution_count": 19,
     "metadata": {},
     "output_type": "execute_result"
    }
   ],
   "source": [
    "all_pubmed_ids = [\n",
    "    pubmed_id\n",
    "    for pubmed_ids in editor_clean_pubmed_ids_df.sort_values('pubmed_count')['pubmed_ids'].values\n",
    "    for pubmed_id in pubmed_ids\n",
    "]\n",
    "len(all_pubmed_ids)"
   ]
  },
  {
   "cell_type": "code",
   "execution_count": 20,
   "metadata": {},
   "outputs": [
    {
     "data": {
      "text/plain": [
       "89884"
      ]
     },
     "execution_count": 20,
     "metadata": {},
     "output_type": "execute_result"
    }
   ],
   "source": [
    "unique_pubmed_ids = list(pd.Series(all_pubmed_ids).drop_duplicates().values)\n",
    "len(unique_pubmed_ids)"
   ]
  },
  {
   "cell_type": "code",
   "execution_count": 21,
   "metadata": {},
   "outputs": [
    {
     "name": "stdout",
     "output_type": "stream",
     "text": [
      "0            \n",
      "1    27149616\n",
      "2    23675971\n",
      "3    17976052\n",
      "4    27572726\n",
      "5    11717494\n",
      "6    23444192\n",
      "7    11378445\n",
      "8     2985408\n",
      "9     6099704\n",
      "dtype: object\n",
      "['10037483', '10085354', '10090773', '10102825', '10198053', '10200977', '10203789', '10220424', '10331976', '10340509']\n",
      "True\n",
      "999\n"
     ]
    },
    {
     "data": {
      "text/plain": [
       "88885"
      ]
     },
     "execution_count": 21,
     "metadata": {},
     "output_type": "execute_result"
    }
   ],
   "source": [
    "_ser = pd.Series(unique_pubmed_ids)\n",
    "print(_ser[:10])\n",
    "print(sorted(existing_pmids_set)[:10])\n",
    "print('287025' in existing_pmids_set)\n",
    "print(_ser.isin(existing_pmids_set).sum())\n",
    "remaining_pubmed_ids = list(_ser[~_ser.isin(existing_pmids_set)].values)\n",
    "len(remaining_pubmed_ids)"
   ]
  },
  {
   "cell_type": "code",
   "execution_count": 22,
   "metadata": {},
   "outputs": [
    {
     "data": {
      "text/plain": [
       "1000"
      ]
     },
     "execution_count": 22,
     "metadata": {},
     "output_type": "execute_result"
    }
   ],
   "source": [
    "query_pubmed_ids = [\n",
    "    unique_pubmed_ids\n",
    "]\n",
    "if max_manuscripts:\n",
    "    query_pubmed_ids = unique_pubmed_ids[:max_manuscripts]\n",
    "len(query_pubmed_ids)"
   ]
  },
  {
   "cell_type": "code",
   "execution_count": 23,
   "metadata": {},
   "outputs": [
    {
     "name": "stdout",
     "output_type": "stream",
     "text": [
      "first batch: 1000\n",
      "number of batches: 1\n"
     ]
    }
   ],
   "source": [
    "query_pubmed_ids_batches = list(iter_batches(query_pubmed_ids, EUROPEPMC_MAX_PAGE_SIZE))\n",
    "print('first batch:', len(query_pubmed_ids_batches[0]))\n",
    "print('number of batches:', len(query_pubmed_ids_batches))"
   ]
  },
  {
   "cell_type": "code",
   "execution_count": 24,
   "metadata": {},
   "outputs": [
    {
     "data": {
      "application/vnd.jupyter.widget-view+json": {
       "model_id": "",
       "version_major": 2,
       "version_minor": 0
      },
      "text/plain": [
       "HBox(children=(FloatProgress(value=0.0, max=1.0), HTML(value='')))"
      ]
     },
     "metadata": {},
     "output_type": "display_data"
    }
   ],
   "source": [
    "with europepmc_requests_retry_session() as session:\n",
    "    europepmc_api = EuropePMCApi(session)\n",
    "    with ThreadPoolExecutor(max_workers=max_workers) as executor:\n",
    "        manuscript_summary_list_batches = list(tqdm(\n",
    "            executor.map(\n",
    "                europepmc_api.get_summary_by_page_pmids,\n",
    "                query_pubmed_ids_batches\n",
    "            ),\n",
    "            total=len(query_pubmed_ids_batches),\n",
    "            leave=False\n",
    "        ))"
   ]
  },
  {
   "cell_type": "code",
   "execution_count": 25,
   "metadata": {},
   "outputs": [
    {
     "data": {
      "text/plain": [
       "1"
      ]
     },
     "execution_count": 25,
     "metadata": {},
     "output_type": "execute_result"
    }
   ],
   "source": [
    "len(manuscript_summary_list_batches)"
   ]
  },
  {
   "cell_type": "code",
   "execution_count": 26,
   "metadata": {},
   "outputs": [
    {
     "data": {
      "text/plain": [
       "999"
      ]
     },
     "execution_count": 26,
     "metadata": {},
     "output_type": "execute_result"
    }
   ],
   "source": [
    "manuscript_summary_flattened = [\n",
    "    manuscript_summary\n",
    "    for manuscript_summary_list in manuscript_summary_list_batches\n",
    "    for manuscript_summary in manuscript_summary_list\n",
    "]\n",
    "len(manuscript_summary_flattened)"
   ]
  },
  {
   "cell_type": "code",
   "execution_count": 27,
   "metadata": {},
   "outputs": [],
   "source": [
    "for manuscript_summary in manuscript_summary_flattened:\n",
    "    manuscript_summary['provenance'] = {\n",
    "        'source': 'europepmc',\n",
    "        'imported_timestamp': datetime.utcnow().isoformat()\n",
    "    }"
   ]
  },
  {
   "cell_type": "code",
   "execution_count": 28,
   "metadata": {},
   "outputs": [
    {
     "data": {
      "text/plain": [
       "{'source': 'MED',\n",
       " 'pmid': '32523985',\n",
       " 'pmcid': 'PMC7259943',\n",
       " 'doi': '10.1126/sciadv.aaz1949',\n",
       " 'title': 'Single-molecule transport kinetics of a glutamate transporter homolog shows static disorder.',\n",
       " 'authorString': 'Ciftci D, Huysmans GHM, Wang X, He C, Terry D, Zhou Z, Fitzgerald G, Blanchard SC, Boudker O.',\n",
       " 'authorList': {'author': [{'fullName': 'Ciftci D',\n",
       "    'firstName': 'Didar',\n",
       "    'lastName': 'Ciftci',\n",
       "    'initials': 'D',\n",
       "    'authorId': {'type': 'ORCID', 'value': '0000-0001-8079-1022'},\n",
       "    'authorAffiliationsList': {'authorAffiliation': ['Department of Physiology and Biophysics, Weill Cornell Medicine, 1300 York Avenue, New York, NY 10065, USA.',\n",
       "      'Tri-Institutional Training Program in Chemical Biology, New York, NY 10065, USA.']}},\n",
       "   {'fullName': 'Huysmans GHM',\n",
       "    'firstName': 'Gerard H M',\n",
       "    'lastName': 'Huysmans',\n",
       "    'initials': 'GHM',\n",
       "    'authorAffiliationsList': {'authorAffiliation': ['Department of Physiology and Biophysics, Weill Cornell Medicine, 1300 York Avenue, New York, NY 10065, USA.']}},\n",
       "   {'fullName': 'Wang X',\n",
       "    'firstName': 'Xiaoyu',\n",
       "    'lastName': 'Wang',\n",
       "    'initials': 'X',\n",
       "    'authorId': {'type': 'ORCID', 'value': '0000-0002-8745-8238'},\n",
       "    'authorAffiliationsList': {'authorAffiliation': ['Department of Physiology and Biophysics, Weill Cornell Medicine, 1300 York Avenue, New York, NY 10065, USA.']}},\n",
       "   {'fullName': 'He C',\n",
       "    'firstName': 'Changhao',\n",
       "    'lastName': 'He',\n",
       "    'initials': 'C',\n",
       "    'authorAffiliationsList': {'authorAffiliation': ['Department of Physiology and Biophysics, Weill Cornell Medicine, 1300 York Avenue, New York, NY 10065, USA.']}},\n",
       "   {'fullName': 'Terry D',\n",
       "    'firstName': 'Daniel',\n",
       "    'lastName': 'Terry',\n",
       "    'initials': 'D',\n",
       "    'authorId': {'type': 'ORCID', 'value': '0000-0001-9021-0084'},\n",
       "    'authorAffiliationsList': {'authorAffiliation': ['Department of Physiology and Biophysics, Weill Cornell Medicine, 1300 York Avenue, New York, NY 10065, USA.']}},\n",
       "   {'fullName': 'Zhou Z',\n",
       "    'firstName': 'Zhou',\n",
       "    'lastName': 'Zhou',\n",
       "    'initials': 'Z',\n",
       "    'authorId': {'type': 'ORCID', 'value': '0000-0003-3007-5786'},\n",
       "    'authorAffiliationsList': {'authorAffiliation': ['Department of Physiology and Biophysics, Weill Cornell Medicine, 1300 York Avenue, New York, NY 10065, USA.']}},\n",
       "   {'fullName': 'Fitzgerald G',\n",
       "    'firstName': 'Gabriel',\n",
       "    'lastName': 'Fitzgerald',\n",
       "    'initials': 'G',\n",
       "    'authorId': {'type': 'ORCID', 'value': '0000-0002-8235-0148'},\n",
       "    'authorAffiliationsList': {'authorAffiliation': ['Department of Physiology and Biophysics, Weill Cornell Medicine, 1300 York Avenue, New York, NY 10065, USA.']}},\n",
       "   {'fullName': 'Blanchard SC',\n",
       "    'firstName': 'Scott C',\n",
       "    'lastName': 'Blanchard',\n",
       "    'initials': 'SC',\n",
       "    'authorId': {'type': 'ORCID', 'value': '0000-0003-2717-9365'},\n",
       "    'authorAffiliationsList': {'authorAffiliation': ['Department of Physiology and Biophysics, Weill Cornell Medicine, 1300 York Avenue, New York, NY 10065, USA.',\n",
       "      'Tri-Institutional Training Program in Chemical Biology, New York, NY 10065, USA.']}},\n",
       "   {'fullName': 'Boudker O',\n",
       "    'firstName': 'Olga',\n",
       "    'lastName': 'Boudker',\n",
       "    'initials': 'O',\n",
       "    'authorId': {'type': 'ORCID', 'value': '0000-0001-6965-0851'},\n",
       "    'authorAffiliationsList': {'authorAffiliation': ['Department of Physiology and Biophysics, Weill Cornell Medicine, 1300 York Avenue, New York, NY 10065, USA.',\n",
       "      'Tri-Institutional Training Program in Chemical Biology, New York, NY 10065, USA.',\n",
       "      'Howard Hughes Medical Institute, Weill Cornell Medicine, New York, NY, 10065, USA.']}}]},\n",
       " 'abstractText': 'Kinetic properties of membrane transporters are typically poorly defined because high-resolution functional assays analogous to single-channel recordings are lacking. Here, we measure single-molecule transport kinetics of a glutamate transporter homolog from Pyrococcus horikoshii, GltPh, using fluorescently labeled periplasmic amino acid binding protein as a fluorescence resonance energy transfer-based sensor. We show that individual transporters can function at rates varying by at least two orders of magnitude that persist for multiple turnovers. A gain-of-function mutant shows increased population of the fast-acting transporters, leading to a 10-fold increase in the mean transport rate. These findings, which are broadly consistent with earlier single-molecule measurements of GltPh conformational dynamics, suggest that GltPh transport is defined by kinetically distinct populations that exhibit long-lasting \"molecular memory.\"',\n",
       " 'firstPublicationDate': '2020-05-29',\n",
       " 'provenance': {'source': 'europepmc',\n",
       "  'imported_timestamp': '2020-06-15T21:55:25.062472'}}"
      ]
     },
     "execution_count": 28,
     "metadata": {},
     "output_type": "execute_result"
    }
   ],
   "source": [
    "manuscript_summary_flattened[0]"
   ]
  },
  {
   "cell_type": "code",
   "execution_count": 29,
   "metadata": {},
   "outputs": [
    {
     "name": "stdout",
     "output_type": "stream",
     "text": [
      "writing to: de_dev.data_science_external_manuscript_summary\n"
     ]
    },
    {
     "name": "stderr",
     "output_type": "stream",
     "text": [
      "INFO:root:Processed 999 lines\n",
      "INFO:data_science_pipeline.utils.bq:Loaded 999 rows into de_dev:data_science_external_manuscript_summary.\n"
     ]
    },
    {
     "name": "stdout",
     "output_type": "stream",
     "text": [
      "done\n"
     ]
    }
   ],
   "source": [
    "print('writing to:', external_manuscript_summary_output_table_name)\n",
    "load_json_list_and_append_to_bq_table_with_auto_schema(\n",
    "    manuscript_summary_flattened,\n",
    "    project_id=project_id,\n",
    "    table_name=external_manuscript_summary_output_table_name\n",
    ")\n",
    "print('done')"
   ]
  }
 ],
 "metadata": {
  "kernelspec": {
   "display_name": "Python 3",
   "language": "python",
   "name": "python3"
  },
  "language_info": {
   "codemirror_mode": {
    "name": "ipython",
    "version": 3
   },
   "file_extension": ".py",
   "mimetype": "text/x-python",
   "name": "python",
   "nbconvert_exporter": "python",
   "pygments_lexer": "ipython3",
   "version": "3.7.6"
  }
 },
 "nbformat": 4,
 "nbformat_minor": 4
}
