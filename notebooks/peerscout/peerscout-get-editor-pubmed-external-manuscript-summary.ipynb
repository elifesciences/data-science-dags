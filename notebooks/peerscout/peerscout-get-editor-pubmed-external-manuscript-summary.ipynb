{
 "cells": [
  {
   "cell_type": "code",
   "execution_count": 1,
   "metadata": {},
   "outputs": [],
   "source": [
    "project_id = 'elife-data-pipeline'\n",
    "source_dataset = 'de_dev'\n",
    "output_dataset = 'de_dev'\n",
    "output_table_prefix = 'data_science_'\n",
    "\n",
    "max_workers = 10\n",
    "max_manuscripts = 100000\n",
    "email = 'd.ecer@elifesciences.org'"
   ]
  },
  {
   "cell_type": "code",
   "execution_count": 2,
   "metadata": {},
   "outputs": [],
   "source": [
    "import json\n",
    "import re\n",
    "import os\n",
    "import logging\n",
    "from datetime import datetime\n",
    "from functools import partial\n",
    "from concurrent.futures import ThreadPoolExecutor \n",
    "from typing import List\n",
    "\n",
    "import numpy as np\n",
    "import pandas as pd\n",
    "import requests\n",
    "from tqdm.auto import tqdm\n",
    "\n",
    "import google.cloud.exceptions\n",
    "\n",
    "import data_science_pipeline.configure_warnings\n",
    "\n",
    "from data_science_pipeline.sql import get_sql\n",
    "from data_science_pipeline.utils.europepmc import (\n",
    "    EUROPEPMC_MAX_PAGE_SIZE,\n",
    "    EuropePMCApi,\n",
    "    europepmc_requests_retry_session\n",
    ")\n",
    "from data_science_pipeline.utils.misc import iter_batches\n",
    "from data_science_pipeline.utils.bq import (\n",
    "    is_bq_not_found_exception,\n",
    "    load_json_list_and_append_to_bq_table_with_auto_schema\n",
    ")\n",
    "from data_science_pipeline.utils.pandas import read_csv\n",
    "from data_science_pipeline.utils.jupyter import (\n",
    "    read_big_query as _read_big_query,\n",
    ")"
   ]
  },
  {
   "cell_type": "code",
   "execution_count": 3,
   "metadata": {},
   "outputs": [],
   "source": [
    "LOGGER = logging.getLogger(__name__)\n",
    "\n",
    "logging.basicConfig(level='INFO')\n",
    "# logging.getLogger('data_science_pipeline.utils.bq').setLevel(logging.DEBUG)"
   ]
  },
  {
   "cell_type": "code",
   "execution_count": 4,
   "metadata": {},
   "outputs": [],
   "source": [
    "editor_parsed_pubmed_ids_table_name = '{output_dataset}.{prefix}{suffix}'.format(\n",
    "    output_dataset=output_dataset,\n",
    "    prefix=output_table_prefix,\n",
    "    suffix='editor_pubmed_ids'\n",
    ")\n",
    "\n",
    "external_manuscript_summary_output_table_name = '{output_dataset}.{prefix}{suffix}'.format(\n",
    "    output_dataset=output_dataset,\n",
    "    prefix=output_table_prefix,\n",
    "    suffix='external_manuscript_summary'\n",
    ")"
   ]
  },
  {
   "cell_type": "code",
   "execution_count": 5,
   "metadata": {},
   "outputs": [],
   "source": [
    "read_big_query = partial(_read_big_query, project_id=project_id)"
   ]
  },
  {
   "cell_type": "code",
   "execution_count": 6,
   "metadata": {},
   "outputs": [
    {
     "data": {
      "text/markdown": [
       "> ```sql\n",
       "> SELECT pmid FROM `de_dev.data_science_external_manuscript_summary`\n",
       "> ```"
      ],
      "text/plain": [
       "<IPython.core.display.Markdown object>"
      ]
     },
     "metadata": {},
     "output_type": "display_data"
    },
    {
     "name": "stderr",
     "output_type": "stream",
     "text": [
      "Downloading: 100%|██████████| 692907/692907 [00:21<00:00, 32050.26rows/s]\n",
      "INFO:pandas_gbq.gbq:Total time taken 25.37 s.\n",
      "Finished at 2020-06-18 07:24:08.\n"
     ]
    },
    {
     "name": "stdout",
     "output_type": "stream",
     "text": [
      "692907\n"
     ]
    },
    {
     "data": {
      "text/html": [
       "<div>\n",
       "<style scoped>\n",
       "    .dataframe tbody tr th:only-of-type {\n",
       "        vertical-align: middle;\n",
       "    }\n",
       "\n",
       "    .dataframe tbody tr th {\n",
       "        vertical-align: top;\n",
       "    }\n",
       "\n",
       "    .dataframe thead th {\n",
       "        text-align: right;\n",
       "    }\n",
       "</style>\n",
       "<table border=\"1\" class=\"dataframe\">\n",
       "  <thead>\n",
       "    <tr style=\"text-align: right;\">\n",
       "      <th></th>\n",
       "      <th>pmid</th>\n",
       "    </tr>\n",
       "  </thead>\n",
       "  <tbody>\n",
       "    <tr>\n",
       "      <th>0</th>\n",
       "      <td>20098489</td>\n",
       "    </tr>\n",
       "    <tr>\n",
       "      <th>1</th>\n",
       "      <td>25221700</td>\n",
       "    </tr>\n",
       "    <tr>\n",
       "      <th>2</th>\n",
       "      <td>24949300</td>\n",
       "    </tr>\n",
       "    <tr>\n",
       "      <th>3</th>\n",
       "      <td>24932386</td>\n",
       "    </tr>\n",
       "    <tr>\n",
       "      <th>4</th>\n",
       "      <td>24554985</td>\n",
       "    </tr>\n",
       "  </tbody>\n",
       "</table>\n",
       "</div>"
      ],
      "text/plain": [
       "       pmid\n",
       "0  20098489\n",
       "1  25221700\n",
       "2  24949300\n",
       "3  24932386\n",
       "4  24554985"
      ]
     },
     "execution_count": 6,
     "metadata": {},
     "output_type": "execute_result"
    }
   ],
   "source": [
    "_sql = (\n",
    "    'SELECT pmid FROM `{table}`'\n",
    ").format(table=external_manuscript_summary_output_table_name)\n",
    "\n",
    "try:\n",
    "    existing_pmids_df = read_big_query(_sql)\n",
    "except Exception as e:\n",
    "    if not is_bq_not_found_exception(e):\n",
    "        raise\n",
    "    print('table not found: %s', external_manuscript_summary_output_table_name)\n",
    "    existing_pmids_df = pd.DataFrame(columns=['pmid'])\n",
    "print(len(existing_pmids_df))\n",
    "existing_pmids_df.head()"
   ]
  },
  {
   "cell_type": "code",
   "execution_count": 7,
   "metadata": {},
   "outputs": [
    {
     "data": {
      "text/plain": [
       "pmid    object\n",
       "dtype: object"
      ]
     },
     "execution_count": 7,
     "metadata": {},
     "output_type": "execute_result"
    }
   ],
   "source": [
    "existing_pmids_df.dtypes"
   ]
  },
  {
   "cell_type": "code",
   "execution_count": 8,
   "metadata": {},
   "outputs": [
    {
     "data": {
      "text/plain": [
       "689910"
      ]
     },
     "execution_count": 8,
     "metadata": {},
     "output_type": "execute_result"
    }
   ],
   "source": [
    "existing_pmids_set = set(existing_pmids_df['pmid'])\n",
    "len(existing_pmids_set)"
   ]
  },
  {
   "cell_type": "code",
   "execution_count": 9,
   "metadata": {},
   "outputs": [
    {
     "data": {
      "text/markdown": [
       "> ```sql\n",
       "> SELECT person_id, name, pubmed_url, pubmed_ids\n",
       "> FROM `de_dev.data_science_editor_pubmed_ids`\n",
       "> ```"
      ],
      "text/plain": [
       "<IPython.core.display.Markdown object>"
      ]
     },
     "metadata": {},
     "output_type": "display_data"
    },
    {
     "name": "stderr",
     "output_type": "stream",
     "text": [
      "Downloading: 100%|██████████| 612/612 [00:07<00:00, 82.22rows/s]\n",
      "INFO:pandas_gbq.gbq:Total time taken 8.64 s.\n",
      "Finished at 2020-06-18 07:24:17.\n"
     ]
    },
    {
     "name": "stdout",
     "output_type": "stream",
     "text": [
      "612\n"
     ]
    },
    {
     "data": {
      "text/html": [
       "<div>\n",
       "<style scoped>\n",
       "    .dataframe tbody tr th:only-of-type {\n",
       "        vertical-align: middle;\n",
       "    }\n",
       "\n",
       "    .dataframe tbody tr th {\n",
       "        vertical-align: top;\n",
       "    }\n",
       "\n",
       "    .dataframe thead th {\n",
       "        text-align: right;\n",
       "    }\n",
       "</style>\n",
       "<table border=\"1\" class=\"dataframe\">\n",
       "  <thead>\n",
       "    <tr style=\"text-align: right;\">\n",
       "      <th></th>\n",
       "      <th>person_id</th>\n",
       "      <th>name</th>\n",
       "      <th>pubmed_url</th>\n",
       "      <th>pubmed_ids</th>\n",
       "    </tr>\n",
       "  </thead>\n",
       "  <tbody>\n",
       "    <tr>\n",
       "      <th>0</th>\n",
       "      <td>15520</td>\n",
       "      <td>Clare Blackburn</td>\n",
       "      <td>http://www.ncbi.nlm.nih.gov/pubmed?term=Blackb...</td>\n",
       "      <td>[32467237, 32431707, 32421568, 32180160, 32324...</td>\n",
       "    </tr>\n",
       "    <tr>\n",
       "      <th>1</th>\n",
       "      <td>15012</td>\n",
       "      <td>Andrew Brack</td>\n",
       "      <td>https://www.ncbi.nlm.nih.gov/pubmed/?term=Brac...</td>\n",
       "      <td>[32198156, 32234209, 31495781, 31006621, 29338...</td>\n",
       "    </tr>\n",
       "    <tr>\n",
       "      <th>2</th>\n",
       "      <td>7036</td>\n",
       "      <td>Lee Rubin</td>\n",
       "      <td>http://www.ncbi.nlm.nih.gov/pubmed/?term=Rubin...</td>\n",
       "      <td>[32413331, 31902706, 31644914, 31551601, 31284...</td>\n",
       "    </tr>\n",
       "    <tr>\n",
       "      <th>3</th>\n",
       "      <td>77872</td>\n",
       "      <td>Martin Pera</td>\n",
       "      <td>https://www.ncbi.nlm.nih.gov/pubmed/?term=Pera...</td>\n",
       "      <td>[32415101, 32404661, 32248834, 32224728, 32203...</td>\n",
       "    </tr>\n",
       "    <tr>\n",
       "      <th>4</th>\n",
       "      <td>134890</td>\n",
       "      <td>Melanie Königshoff</td>\n",
       "      <td>https://www.ncbi.nlm.nih.gov/pubmed/?term=K%C3...</td>\n",
       "      <td>[32526076, 32109549, 32023086, 32096543, 31991...</td>\n",
       "    </tr>\n",
       "  </tbody>\n",
       "</table>\n",
       "</div>"
      ],
      "text/plain": [
       "  person_id                name  \\\n",
       "0     15520     Clare Blackburn   \n",
       "1     15012        Andrew Brack   \n",
       "2      7036           Lee Rubin   \n",
       "3     77872         Martin Pera   \n",
       "4    134890  Melanie Königshoff   \n",
       "\n",
       "                                          pubmed_url  \\\n",
       "0  http://www.ncbi.nlm.nih.gov/pubmed?term=Blackb...   \n",
       "1  https://www.ncbi.nlm.nih.gov/pubmed/?term=Brac...   \n",
       "2  http://www.ncbi.nlm.nih.gov/pubmed/?term=Rubin...   \n",
       "3  https://www.ncbi.nlm.nih.gov/pubmed/?term=Pera...   \n",
       "4  https://www.ncbi.nlm.nih.gov/pubmed/?term=K%C3...   \n",
       "\n",
       "                                          pubmed_ids  \n",
       "0  [32467237, 32431707, 32421568, 32180160, 32324...  \n",
       "1  [32198156, 32234209, 31495781, 31006621, 29338...  \n",
       "2  [32413331, 31902706, 31644914, 31551601, 31284...  \n",
       "3  [32415101, 32404661, 32248834, 32224728, 32203...  \n",
       "4  [32526076, 32109549, 32023086, 32096543, 31991...  "
      ]
     },
     "execution_count": 9,
     "metadata": {},
     "output_type": "execute_result"
    }
   ],
   "source": [
    "_sql = '\\n'.join([\n",
    "    'SELECT person_id, name, pubmed_url, pubmed_ids',\n",
    "    'FROM `{table}`'\n",
    "]).format(table=editor_parsed_pubmed_ids_table_name)\n",
    "\n",
    "editor_pubmed_ids_df = read_big_query(_sql)\n",
    "print(len(editor_pubmed_ids_df))\n",
    "editor_pubmed_ids_df.head()"
   ]
  },
  {
   "cell_type": "code",
   "execution_count": 18,
   "metadata": {},
   "outputs": [
    {
     "data": {
      "text/plain": [
       "925382"
      ]
     },
     "execution_count": 18,
     "metadata": {},
     "output_type": "execute_result"
    }
   ],
   "source": [
    "all_pubmed_ids = [\n",
    "    pubmed_id\n",
    "    for pubmed_ids in editor_pubmed_ids_df.sort_values('pubmed_count')['pubmed_ids'].values\n",
    "    for pubmed_id in pubmed_ids\n",
    "    if pubmed_id\n",
    "]\n",
    "len(all_pubmed_ids)"
   ]
  },
  {
   "cell_type": "code",
   "execution_count": 19,
   "metadata": {},
   "outputs": [
    {
     "data": {
      "text/plain": [
       "838956"
      ]
     },
     "execution_count": 19,
     "metadata": {},
     "output_type": "execute_result"
    }
   ],
   "source": [
    "unique_pubmed_ids = list(pd.Series(all_pubmed_ids).drop_duplicates().values)\n",
    "len(unique_pubmed_ids)"
   ]
  },
  {
   "cell_type": "code",
   "execution_count": 20,
   "metadata": {},
   "outputs": [
    {
     "data": {
      "text/plain": [
       "149091"
      ]
     },
     "execution_count": 20,
     "metadata": {},
     "output_type": "execute_result"
    }
   ],
   "source": [
    "_ser = pd.Series(unique_pubmed_ids)\n",
    "remaining_pubmed_ids = list(_ser[~_ser.isin(existing_pmids_set)].values)\n",
    "len(remaining_pubmed_ids)"
   ]
  },
  {
   "cell_type": "code",
   "execution_count": 21,
   "metadata": {},
   "outputs": [
    {
     "data": {
      "text/plain": [
       "100000"
      ]
     },
     "execution_count": 21,
     "metadata": {},
     "output_type": "execute_result"
    }
   ],
   "source": [
    "query_pubmed_ids = remaining_pubmed_ids\n",
    "if max_manuscripts:\n",
    "    query_pubmed_ids = query_pubmed_ids[:max_manuscripts]\n",
    "len(query_pubmed_ids)"
   ]
  },
  {
   "cell_type": "code",
   "execution_count": 22,
   "metadata": {
    "scrolled": false
   },
   "outputs": [
    {
     "name": "stdout",
     "output_type": "stream",
     "text": [
      "number of batches: 100\n",
      "first batch: 1000\n"
     ]
    }
   ],
   "source": [
    "query_pubmed_ids_batches = list(iter_batches(query_pubmed_ids, EUROPEPMC_MAX_PAGE_SIZE))\n",
    "print('number of batches:', len(query_pubmed_ids_batches))\n",
    "if query_pubmed_ids_batches:\n",
    "    print('first batch:', len(query_pubmed_ids_batches[0]))"
   ]
  },
  {
   "cell_type": "code",
   "execution_count": 23,
   "metadata": {},
   "outputs": [],
   "source": [
    "def handle_http_error(error: BaseException, data: dict = None):\n",
    "    LOGGER.warning('error: %s, data=%s', error, data)"
   ]
  },
  {
   "cell_type": "code",
   "execution_count": 24,
   "metadata": {},
   "outputs": [
    {
     "data": {
      "application/vnd.jupyter.widget-view+json": {
       "model_id": "",
       "version_major": 2,
       "version_minor": 0
      },
      "text/plain": [
       "HBox(children=(FloatProgress(value=0.0), HTML(value='')))"
      ]
     },
     "metadata": {},
     "output_type": "display_data"
    }
   ],
   "source": [
    "with europepmc_requests_retry_session() as session:\n",
    "    europepmc_api = EuropePMCApi(\n",
    "        session,\n",
    "        on_error=handle_http_error,\n",
    "        params={'email': email}\n",
    "    )\n",
    "    with ThreadPoolExecutor(max_workers=max_workers) as executor:\n",
    "        manuscript_summary_list_batches = list(tqdm(\n",
    "            executor.map(\n",
    "                europepmc_api.get_summary_by_page_pmids,\n",
    "                query_pubmed_ids_batches\n",
    "            ),\n",
    "            total=len(query_pubmed_ids_batches),\n",
    "            leave=False\n",
    "        ))"
   ]
  },
  {
   "cell_type": "code",
   "execution_count": 25,
   "metadata": {},
   "outputs": [
    {
     "data": {
      "text/plain": [
       "100"
      ]
     },
     "execution_count": 25,
     "metadata": {},
     "output_type": "execute_result"
    }
   ],
   "source": [
    "len(manuscript_summary_list_batches)"
   ]
  },
  {
   "cell_type": "code",
   "execution_count": 26,
   "metadata": {},
   "outputs": [
    {
     "data": {
      "text/plain": [
       "100000"
      ]
     },
     "execution_count": 26,
     "metadata": {},
     "output_type": "execute_result"
    }
   ],
   "source": [
    "manuscript_summary_flattened = [\n",
    "    manuscript_summary\n",
    "    for manuscript_summary_list in manuscript_summary_list_batches\n",
    "    for manuscript_summary in manuscript_summary_list\n",
    "]\n",
    "len(manuscript_summary_flattened)"
   ]
  },
  {
   "cell_type": "code",
   "execution_count": 27,
   "metadata": {},
   "outputs": [],
   "source": [
    "for manuscript_summary in manuscript_summary_flattened:\n",
    "    manuscript_summary['provenance'] = {\n",
    "        'source': 'europepmc',\n",
    "        'imported_timestamp': datetime.utcnow().isoformat()\n",
    "    }"
   ]
  },
  {
   "cell_type": "code",
   "execution_count": 28,
   "metadata": {
    "scrolled": false
   },
   "outputs": [],
   "source": [
    "if manuscript_summary_flattened:\n",
    "    manuscript_summary_flattened[0]"
   ]
  },
  {
   "cell_type": "code",
   "execution_count": 29,
   "metadata": {
    "scrolled": false
   },
   "outputs": [
    {
     "name": "stdout",
     "output_type": "stream",
     "text": [
      "writing to: de_dev.data_science_external_manuscript_summary\n"
     ]
    },
    {
     "name": "stderr",
     "output_type": "stream",
     "text": [
      "INFO:root:Processing line 1000\n",
      "INFO:root:Processing line 2000\n",
      "INFO:root:Processing line 3000\n",
      "INFO:root:Processing line 4000\n",
      "INFO:root:Processing line 5000\n",
      "INFO:root:Processing line 6000\n",
      "INFO:root:Processing line 7000\n",
      "INFO:root:Processing line 8000\n",
      "INFO:root:Processing line 9000\n",
      "INFO:root:Processing line 10000\n",
      "INFO:root:Processing line 11000\n",
      "INFO:root:Processing line 12000\n",
      "INFO:root:Processing line 13000\n",
      "INFO:root:Processing line 14000\n",
      "INFO:root:Processing line 15000\n",
      "INFO:root:Processing line 16000\n",
      "INFO:root:Processing line 17000\n",
      "INFO:root:Processing line 18000\n",
      "INFO:root:Processing line 19000\n",
      "INFO:root:Processing line 20000\n",
      "INFO:root:Processing line 21000\n",
      "INFO:root:Processing line 22000\n",
      "INFO:root:Processing line 23000\n",
      "INFO:root:Processing line 24000\n",
      "INFO:root:Processing line 25000\n",
      "INFO:root:Processing line 26000\n",
      "INFO:root:Processing line 27000\n",
      "INFO:root:Processing line 28000\n",
      "INFO:root:Processing line 29000\n",
      "INFO:root:Processing line 30000\n",
      "INFO:root:Processing line 31000\n",
      "INFO:root:Processing line 32000\n",
      "INFO:root:Processing line 33000\n",
      "INFO:root:Processing line 34000\n",
      "INFO:root:Processing line 35000\n",
      "INFO:root:Processing line 36000\n",
      "INFO:root:Processing line 37000\n",
      "INFO:root:Processing line 38000\n",
      "INFO:root:Processing line 39000\n",
      "INFO:root:Processing line 40000\n",
      "INFO:root:Processing line 41000\n",
      "INFO:root:Processing line 42000\n",
      "INFO:root:Processing line 43000\n",
      "INFO:root:Processing line 44000\n",
      "INFO:root:Processing line 45000\n",
      "INFO:root:Processing line 46000\n",
      "INFO:root:Processing line 47000\n",
      "INFO:root:Processing line 48000\n",
      "INFO:root:Processing line 49000\n",
      "INFO:root:Processing line 50000\n",
      "INFO:root:Processing line 51000\n",
      "INFO:root:Processing line 52000\n",
      "INFO:root:Processing line 53000\n",
      "INFO:root:Processing line 54000\n",
      "INFO:root:Processing line 55000\n",
      "INFO:root:Processing line 56000\n",
      "INFO:root:Processing line 57000\n",
      "INFO:root:Processing line 58000\n",
      "INFO:root:Processing line 59000\n",
      "INFO:root:Processing line 60000\n",
      "INFO:root:Processing line 61000\n",
      "INFO:root:Processing line 62000\n",
      "INFO:root:Processing line 63000\n",
      "INFO:root:Processing line 64000\n",
      "INFO:root:Processing line 65000\n",
      "INFO:root:Processing line 66000\n",
      "INFO:root:Processing line 67000\n",
      "INFO:root:Processing line 68000\n",
      "INFO:root:Processing line 69000\n",
      "INFO:root:Processing line 70000\n",
      "INFO:root:Processing line 71000\n",
      "INFO:root:Processing line 72000\n",
      "INFO:root:Processing line 73000\n",
      "INFO:root:Processing line 74000\n",
      "INFO:root:Processing line 75000\n",
      "INFO:root:Processing line 76000\n",
      "INFO:root:Processing line 77000\n",
      "INFO:root:Processing line 78000\n",
      "INFO:root:Processing line 79000\n",
      "INFO:root:Processing line 80000\n",
      "INFO:root:Processing line 81000\n",
      "INFO:root:Processing line 82000\n",
      "INFO:root:Processing line 83000\n",
      "INFO:root:Processing line 84000\n",
      "INFO:root:Processing line 85000\n",
      "INFO:root:Processing line 86000\n",
      "INFO:root:Processing line 87000\n",
      "INFO:root:Processing line 88000\n",
      "INFO:root:Processing line 89000\n",
      "INFO:root:Processing line 90000\n",
      "INFO:root:Processing line 91000\n",
      "INFO:root:Processing line 92000\n",
      "INFO:root:Processing line 93000\n",
      "INFO:root:Processing line 94000\n",
      "INFO:root:Processing line 95000\n",
      "INFO:root:Processing line 96000\n",
      "INFO:root:Processing line 97000\n",
      "INFO:root:Processing line 98000\n",
      "INFO:root:Processing line 99000\n",
      "INFO:root:Processing line 100000\n",
      "INFO:root:Processed 100000 lines\n",
      "INFO:data_science_pipeline.utils.bq:loading from /tmp/tmp4f8w9wig/data.jsonl.gz\n",
      "INFO:data_science_pipeline.utils.bq:Loaded 100000 rows into de_dev:data_science_external_manuscript_summary.\n"
     ]
    },
    {
     "name": "stdout",
     "output_type": "stream",
     "text": [
      "done\n"
     ]
    }
   ],
   "source": [
    "if not manuscript_summary_flattened:\n",
    "    print('no data to upload')\n",
    "else:\n",
    "    print('writing to:', external_manuscript_summary_output_table_name)\n",
    "    load_json_list_and_append_to_bq_table_with_auto_schema(\n",
    "        manuscript_summary_flattened,\n",
    "        project_id=project_id,\n",
    "        table_name=external_manuscript_summary_output_table_name\n",
    "    )\n",
    "    print('done')"
   ]
  }
 ],
 "metadata": {
  "kernelspec": {
   "display_name": "Python 3",
   "language": "python",
   "name": "python3"
  },
  "language_info": {
   "codemirror_mode": {
    "name": "ipython",
    "version": 3
   },
   "file_extension": ".py",
   "mimetype": "text/x-python",
   "name": "python",
   "nbconvert_exporter": "python",
   "pygments_lexer": "ipython3",
   "version": "3.7.6"
  }
 },
 "nbformat": 4,
 "nbformat_minor": 4
}
