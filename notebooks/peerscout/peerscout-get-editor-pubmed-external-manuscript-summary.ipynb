{
 "cells": [
  {
   "cell_type": "code",
   "execution_count": 1,
   "metadata": {},
   "outputs": [],
   "source": [
    "project_id = 'elife-data-pipeline'\n",
    "source_dataset = 'de_dev'\n",
    "output_dataset = 'de_dev'\n",
    "output_table_prefix = 'data_science_'\n",
    "\n",
    "max_workers = 10\n",
    "max_manuscripts = 100000\n",
    "manuscript_upload_batch_size = 10000\n",
    "email = 'd.ecer@elifesciences.org'"
   ]
  },
  {
   "cell_type": "code",
   "execution_count": 2,
   "metadata": {},
   "outputs": [],
   "source": [
    "import json\n",
    "import re\n",
    "import os\n",
    "import logging\n",
    "from datetime import datetime\n",
    "from functools import partial\n",
    "from concurrent.futures import ThreadPoolExecutor \n",
    "from typing import List\n",
    "\n",
    "import numpy as np\n",
    "import pandas as pd\n",
    "import requests\n",
    "from tqdm.auto import tqdm\n",
    "\n",
    "import google.cloud.exceptions\n",
    "\n",
    "import data_science_pipeline.configure_warnings\n",
    "\n",
    "from data_science_pipeline.sql import get_sql\n",
    "from data_science_pipeline.utils.europepmc import (\n",
    "    EUROPEPMC_MAX_PAGE_SIZE,\n",
    "    EuropePMCApi,\n",
    "    europepmc_requests_retry_session\n",
    ")\n",
    "from data_science_pipeline.utils.misc import iter_batches\n",
    "from data_science_pipeline.utils.bq import (\n",
    "    is_bq_not_found_exception,\n",
    "    load_json_list_and_append_to_bq_table_with_auto_schema\n",
    ")\n",
    "from data_science_pipeline.utils.pandas import read_csv\n",
    "from data_science_pipeline.utils.jupyter import (\n",
    "    read_big_query as _read_big_query,\n",
    ")"
   ]
  },
  {
   "cell_type": "code",
   "execution_count": 3,
   "metadata": {},
   "outputs": [],
   "source": [
    "LOGGER = logging.getLogger(__name__)\n",
    "\n",
    "logging.basicConfig(level='INFO')\n",
    "# logging.getLogger('data_science_pipeline.utils.bq').setLevel(logging.DEBUG)"
   ]
  },
  {
   "cell_type": "code",
   "execution_count": 4,
   "metadata": {},
   "outputs": [],
   "source": [
    "editor_parsed_pubmed_ids_table_name = '{output_dataset}.{prefix}{suffix}'.format(\n",
    "    output_dataset=output_dataset,\n",
    "    prefix=output_table_prefix,\n",
    "    suffix='editor_pubmed_ids'\n",
    ")\n",
    "\n",
    "external_manuscript_summary_output_table_name = '{output_dataset}.{prefix}{suffix}'.format(\n",
    "    output_dataset=output_dataset,\n",
    "    prefix=output_table_prefix,\n",
    "    suffix='external_manuscript_summary'\n",
    ")"
   ]
  },
  {
   "cell_type": "code",
   "execution_count": 5,
   "metadata": {},
   "outputs": [],
   "source": [
    "read_big_query = partial(_read_big_query, project_id=project_id)"
   ]
  },
  {
   "cell_type": "code",
   "execution_count": 6,
   "metadata": {},
   "outputs": [
    {
     "data": {
      "text/markdown": [
       "> ```sql\n",
       "> SELECT pmid FROM `de_dev.data_science_external_manuscript_summary`\n",
       "> ```"
      ],
      "text/plain": [
       "<IPython.core.display.Markdown object>"
      ]
     },
     "metadata": {},
     "output_type": "display_data"
    },
    {
     "name": "stderr",
     "output_type": "stream",
     "text": [
      "Downloading: 100%|██████████| 841998/841998 [00:24<00:00, 33761.49rows/s]\n",
      "INFO:pandas_gbq.gbq:Total time taken 28.46 s.\n",
      "Finished at 2020-06-18 10:02:20.\n"
     ]
    },
    {
     "name": "stdout",
     "output_type": "stream",
     "text": [
      "841998\n"
     ]
    },
    {
     "data": {
      "text/html": [
       "<div>\n",
       "<style scoped>\n",
       "    .dataframe tbody tr th:only-of-type {\n",
       "        vertical-align: middle;\n",
       "    }\n",
       "\n",
       "    .dataframe tbody tr th {\n",
       "        vertical-align: top;\n",
       "    }\n",
       "\n",
       "    .dataframe thead th {\n",
       "        text-align: right;\n",
       "    }\n",
       "</style>\n",
       "<table border=\"1\" class=\"dataframe\">\n",
       "  <thead>\n",
       "    <tr style=\"text-align: right;\">\n",
       "      <th></th>\n",
       "      <th>pmid</th>\n",
       "    </tr>\n",
       "  </thead>\n",
       "  <tbody>\n",
       "    <tr>\n",
       "      <th>0</th>\n",
       "      <td>31235916</td>\n",
       "    </tr>\n",
       "    <tr>\n",
       "      <th>1</th>\n",
       "      <td>29695790</td>\n",
       "    </tr>\n",
       "    <tr>\n",
       "      <th>2</th>\n",
       "      <td>27545067</td>\n",
       "    </tr>\n",
       "    <tr>\n",
       "      <th>3</th>\n",
       "      <td>25856482</td>\n",
       "    </tr>\n",
       "    <tr>\n",
       "      <th>4</th>\n",
       "      <td>25616211</td>\n",
       "    </tr>\n",
       "  </tbody>\n",
       "</table>\n",
       "</div>"
      ],
      "text/plain": [
       "       pmid\n",
       "0  31235916\n",
       "1  29695790\n",
       "2  27545067\n",
       "3  25856482\n",
       "4  25616211"
      ]
     },
     "execution_count": 6,
     "metadata": {},
     "output_type": "execute_result"
    }
   ],
   "source": [
    "_sql = (\n",
    "    'SELECT pmid FROM `{table}`'\n",
    ").format(table=external_manuscript_summary_output_table_name)\n",
    "\n",
    "try:\n",
    "    existing_pmids_df = read_big_query(_sql)\n",
    "except Exception as e:\n",
    "    if not is_bq_not_found_exception(e):\n",
    "        raise\n",
    "    print('table not found: %s', external_manuscript_summary_output_table_name)\n",
    "    existing_pmids_df = pd.DataFrame(columns=['pmid'])\n",
    "print(len(existing_pmids_df))\n",
    "existing_pmids_df.head()"
   ]
  },
  {
   "cell_type": "code",
   "execution_count": 7,
   "metadata": {},
   "outputs": [
    {
     "data": {
      "text/plain": [
       "pmid    object\n",
       "dtype: object"
      ]
     },
     "execution_count": 7,
     "metadata": {},
     "output_type": "execute_result"
    }
   ],
   "source": [
    "existing_pmids_df.dtypes"
   ]
  },
  {
   "cell_type": "code",
   "execution_count": 8,
   "metadata": {},
   "outputs": [
    {
     "data": {
      "text/plain": [
       "839001"
      ]
     },
     "execution_count": 8,
     "metadata": {},
     "output_type": "execute_result"
    }
   ],
   "source": [
    "existing_pmids_set = set(existing_pmids_df['pmid'])\n",
    "len(existing_pmids_set)"
   ]
  },
  {
   "cell_type": "code",
   "execution_count": 9,
   "metadata": {},
   "outputs": [
    {
     "data": {
      "text/markdown": [
       "> ```sql\n",
       "> SELECT person_id, name, pubmed_url, pubmed_ids\n",
       "> FROM `de_dev.data_science_editor_pubmed_ids`\n",
       "> ```"
      ],
      "text/plain": [
       "<IPython.core.display.Markdown object>"
      ]
     },
     "metadata": {},
     "output_type": "display_data"
    },
    {
     "name": "stderr",
     "output_type": "stream",
     "text": [
      "Downloading: 100%|██████████| 612/612 [00:13<00:00, 44.61rows/s]\n",
      "INFO:pandas_gbq.gbq:Total time taken 15.51 s.\n",
      "Finished at 2020-06-18 10:02:36.\n"
     ]
    },
    {
     "name": "stdout",
     "output_type": "stream",
     "text": [
      "612\n"
     ]
    },
    {
     "data": {
      "text/html": [
       "<div>\n",
       "<style scoped>\n",
       "    .dataframe tbody tr th:only-of-type {\n",
       "        vertical-align: middle;\n",
       "    }\n",
       "\n",
       "    .dataframe tbody tr th {\n",
       "        vertical-align: top;\n",
       "    }\n",
       "\n",
       "    .dataframe thead th {\n",
       "        text-align: right;\n",
       "    }\n",
       "</style>\n",
       "<table border=\"1\" class=\"dataframe\">\n",
       "  <thead>\n",
       "    <tr style=\"text-align: right;\">\n",
       "      <th></th>\n",
       "      <th>person_id</th>\n",
       "      <th>name</th>\n",
       "      <th>pubmed_url</th>\n",
       "      <th>pubmed_ids</th>\n",
       "    </tr>\n",
       "  </thead>\n",
       "  <tbody>\n",
       "    <tr>\n",
       "      <th>0</th>\n",
       "      <td>15520</td>\n",
       "      <td>Clare Blackburn</td>\n",
       "      <td>http://www.ncbi.nlm.nih.gov/pubmed?term=Blackb...</td>\n",
       "      <td>[32467237, 32431707, 32421568, 32180160, 32324...</td>\n",
       "    </tr>\n",
       "    <tr>\n",
       "      <th>1</th>\n",
       "      <td>15012</td>\n",
       "      <td>Andrew Brack</td>\n",
       "      <td>https://www.ncbi.nlm.nih.gov/pubmed/?term=Brac...</td>\n",
       "      <td>[32198156, 32234209, 31495781, 31006621, 29338...</td>\n",
       "    </tr>\n",
       "    <tr>\n",
       "      <th>2</th>\n",
       "      <td>7036</td>\n",
       "      <td>Lee Rubin</td>\n",
       "      <td>http://www.ncbi.nlm.nih.gov/pubmed/?term=Rubin...</td>\n",
       "      <td>[32413331, 31902706, 31644914, 31551601, 31284...</td>\n",
       "    </tr>\n",
       "    <tr>\n",
       "      <th>3</th>\n",
       "      <td>77872</td>\n",
       "      <td>Martin Pera</td>\n",
       "      <td>https://www.ncbi.nlm.nih.gov/pubmed/?term=Pera...</td>\n",
       "      <td>[32415101, 32404661, 32248834, 32224728, 32203...</td>\n",
       "    </tr>\n",
       "    <tr>\n",
       "      <th>4</th>\n",
       "      <td>134890</td>\n",
       "      <td>Melanie Königshoff</td>\n",
       "      <td>https://www.ncbi.nlm.nih.gov/pubmed/?term=K%C3...</td>\n",
       "      <td>[32526076, 32109549, 32023086, 32096543, 31991...</td>\n",
       "    </tr>\n",
       "  </tbody>\n",
       "</table>\n",
       "</div>"
      ],
      "text/plain": [
       "  person_id                name  \\\n",
       "0     15520     Clare Blackburn   \n",
       "1     15012        Andrew Brack   \n",
       "2      7036           Lee Rubin   \n",
       "3     77872         Martin Pera   \n",
       "4    134890  Melanie Königshoff   \n",
       "\n",
       "                                          pubmed_url  \\\n",
       "0  http://www.ncbi.nlm.nih.gov/pubmed?term=Blackb...   \n",
       "1  https://www.ncbi.nlm.nih.gov/pubmed/?term=Brac...   \n",
       "2  http://www.ncbi.nlm.nih.gov/pubmed/?term=Rubin...   \n",
       "3  https://www.ncbi.nlm.nih.gov/pubmed/?term=Pera...   \n",
       "4  https://www.ncbi.nlm.nih.gov/pubmed/?term=K%C3...   \n",
       "\n",
       "                                          pubmed_ids  \n",
       "0  [32467237, 32431707, 32421568, 32180160, 32324...  \n",
       "1  [32198156, 32234209, 31495781, 31006621, 29338...  \n",
       "2  [32413331, 31902706, 31644914, 31551601, 31284...  \n",
       "3  [32415101, 32404661, 32248834, 32224728, 32203...  \n",
       "4  [32526076, 32109549, 32023086, 32096543, 31991...  "
      ]
     },
     "execution_count": 9,
     "metadata": {},
     "output_type": "execute_result"
    }
   ],
   "source": [
    "_sql = '\\n'.join([\n",
    "    'SELECT person_id, name, pubmed_url, pubmed_ids',\n",
    "    'FROM `{table}`'\n",
    "]).format(table=editor_parsed_pubmed_ids_table_name)\n",
    "\n",
    "editor_pubmed_ids_df = read_big_query(_sql)\n",
    "print(len(editor_pubmed_ids_df))\n",
    "editor_pubmed_ids_df.head()"
   ]
  },
  {
   "cell_type": "code",
   "execution_count": 10,
   "metadata": {},
   "outputs": [
    {
     "data": {
      "text/plain": [
       "925382"
      ]
     },
     "execution_count": 10,
     "metadata": {},
     "output_type": "execute_result"
    }
   ],
   "source": [
    "all_pubmed_ids = [\n",
    "    pubmed_id\n",
    "    for pubmed_ids in editor_pubmed_ids_df['pubmed_ids'].values\n",
    "    for pubmed_id in pubmed_ids\n",
    "    if pubmed_id\n",
    "]\n",
    "len(all_pubmed_ids)"
   ]
  },
  {
   "cell_type": "code",
   "execution_count": 11,
   "metadata": {},
   "outputs": [
    {
     "data": {
      "text/plain": [
       "838956"
      ]
     },
     "execution_count": 11,
     "metadata": {},
     "output_type": "execute_result"
    }
   ],
   "source": [
    "unique_pubmed_ids = list(pd.Series(all_pubmed_ids).drop_duplicates().values)\n",
    "len(unique_pubmed_ids)"
   ]
  },
  {
   "cell_type": "code",
   "execution_count": 12,
   "metadata": {},
   "outputs": [
    {
     "data": {
      "text/plain": [
       "0"
      ]
     },
     "execution_count": 12,
     "metadata": {},
     "output_type": "execute_result"
    }
   ],
   "source": [
    "_ser = pd.Series(unique_pubmed_ids)\n",
    "remaining_pubmed_ids = list(_ser[~_ser.isin(existing_pmids_set)].values)\n",
    "len(remaining_pubmed_ids)"
   ]
  },
  {
   "cell_type": "code",
   "execution_count": 13,
   "metadata": {},
   "outputs": [
    {
     "data": {
      "text/plain": [
       "0"
      ]
     },
     "execution_count": 13,
     "metadata": {},
     "output_type": "execute_result"
    }
   ],
   "source": [
    "query_pubmed_ids = remaining_pubmed_ids\n",
    "if max_manuscripts:\n",
    "    query_pubmed_ids = query_pubmed_ids[:max_manuscripts]\n",
    "len(query_pubmed_ids)"
   ]
  },
  {
   "cell_type": "code",
   "execution_count": 14,
   "metadata": {
    "scrolled": false
   },
   "outputs": [
    {
     "name": "stdout",
     "output_type": "stream",
     "text": [
      "number of batches: 0\n"
     ]
    }
   ],
   "source": [
    "query_pubmed_ids_batches = list(iter_batches(query_pubmed_ids, EUROPEPMC_MAX_PAGE_SIZE))\n",
    "print('number of batches:', len(query_pubmed_ids_batches))\n",
    "if query_pubmed_ids_batches:\n",
    "    print('first batch:', len(query_pubmed_ids_batches[0]))"
   ]
  },
  {
   "cell_type": "code",
   "execution_count": 15,
   "metadata": {},
   "outputs": [],
   "source": [
    "def handle_http_error(error: BaseException, data: dict = None):\n",
    "    LOGGER.warning('error: %s, data=%s', error, data)"
   ]
  },
  {
   "cell_type": "code",
   "execution_count": 16,
   "metadata": {},
   "outputs": [],
   "source": [
    "def add_provenance(manuscript_summary_list: List[dict]) -> List[dict]:\n",
    "    imported_timestamp = datetime.utcnow().isoformat()\n",
    "    provenance = {\n",
    "        'source': 'europepmc',\n",
    "        'imported_timestamp': imported_timestamp\n",
    "    }\n",
    "    return [\n",
    "        {\n",
    "            **manuscript_summary,\n",
    "            'provenance': provenance\n",
    "        }\n",
    "        for manuscript_summary in manuscript_summary_list\n",
    "    ]"
   ]
  },
  {
   "cell_type": "code",
   "execution_count": 17,
   "metadata": {},
   "outputs": [
    {
     "data": {
      "application/vnd.jupyter.widget-view+json": {
       "model_id": "",
       "version_major": 2,
       "version_minor": 0
      },
      "text/plain": [
       "HBox(children=(FloatProgress(value=1.0, bar_style='info', max=1.0), HTML(value='')))"
      ]
     },
     "metadata": {},
     "output_type": "display_data"
    },
    {
     "name": "stdout",
     "output_type": "stream",
     "text": [
      "done\n"
     ]
    }
   ],
   "source": [
    "with europepmc_requests_retry_session() as session:\n",
    "    europepmc_api = EuropePMCApi(\n",
    "        session,\n",
    "        on_error=handle_http_error,\n",
    "        params={'email': email}\n",
    "    )\n",
    "    with ThreadPoolExecutor(max_workers=max_workers) as executor:\n",
    "        retrieved_editor_manuscript_list_batches_it = tqdm(\n",
    "            executor.map(\n",
    "                europepmc_api.get_summary_by_page_pmids,\n",
    "                query_pubmed_ids_batches\n",
    "            ),\n",
    "            total=len(query_pubmed_ids_batches),\n",
    "            leave=False\n",
    "        )\n",
    "        retrieved_flattened_manuscript_list_it = (\n",
    "            manuscript_summary\n",
    "            for manuscript_summary_list in retrieved_editor_manuscript_list_batches_it\n",
    "            for manuscript_summary in manuscript_summary_list\n",
    "        )\n",
    "        manuscript_upload_batch_list_it = iter_batches(\n",
    "            retrieved_flattened_manuscript_list_it,\n",
    "            manuscript_upload_batch_size\n",
    "        )\n",
    "        for manuscript_upload_list in manuscript_upload_batch_list_it:\n",
    "            manuscript_upload_list = list(manuscript_upload_list)\n",
    "            print('writing to: %s (%d rows)' % (\n",
    "                external_manuscript_summary_output_table_name,\n",
    "                len(manuscript_upload_list)\n",
    "            ))\n",
    "            load_json_list_and_append_to_bq_table_with_auto_schema(\n",
    "                add_provenance(manuscript_upload_list),\n",
    "                project_id=project_id,\n",
    "                table_name=external_manuscript_summary_output_table_name\n",
    "            )\n",
    "print('done')"
   ]
  }
 ],
 "metadata": {
  "kernelspec": {
   "display_name": "Python 3",
   "language": "python",
   "name": "python3"
  },
  "language_info": {
   "codemirror_mode": {
    "name": "ipython",
    "version": 3
   },
   "file_extension": ".py",
   "mimetype": "text/x-python",
   "name": "python",
   "nbconvert_exporter": "python",
   "pygments_lexer": "ipython3",
   "version": "3.7.6"
  }
 },
 "nbformat": 4,
 "nbformat_minor": 4
}
