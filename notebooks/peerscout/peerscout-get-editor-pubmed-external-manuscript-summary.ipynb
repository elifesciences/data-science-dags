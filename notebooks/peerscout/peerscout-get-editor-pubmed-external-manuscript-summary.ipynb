{
 "cells": [
  {
   "cell_type": "code",
   "execution_count": 1,
   "metadata": {
    "tags": [
     "parameters"
    ]
   },
   "outputs": [],
   "source": [
    "project_id = 'elife-data-pipeline'\n",
    "source_dataset = 'de_dev'\n",
    "output_dataset = 'de_dev'\n",
    "output_table_prefix = 'data_science_'\n",
    "\n",
    "max_workers = 10\n",
    "max_manuscripts = 100000\n",
    "manuscript_upload_batch_size = 10000\n",
    "email = 'd.ecer@elifesciences.org'"
   ]
  },
  {
   "cell_type": "code",
   "execution_count": 2,
   "metadata": {},
   "outputs": [],
   "source": [
    "import logging\n",
    "from datetime import datetime\n",
    "from functools import partial\n",
    "from concurrent.futures import ThreadPoolExecutor\n",
    "from typing import List\n",
    "\n",
    "from tqdm.auto import tqdm\n",
    "\n",
    "import data_science_pipeline.configure_warnings  # pylint: disable=unused-import\n",
    "import data_science_pipeline.configure_notebook_logging  # pylint: disable=unused-import\n",
    "\n",
    "from data_science_pipeline.utils.europepmc import (\n",
    "    EUROPEPMC_MAX_PAGE_SIZE,\n",
    "    EuropePMCApi,\n",
    "    europepmc_requests_retry_session\n",
    ")\n",
    "from data_science_pipeline.utils.misc import iter_batches\n",
    "from data_science_pipeline.utils.bq import (\n",
    "    with_limit_sql,\n",
    "    is_bq_not_found_exception,\n",
    "    load_json_list_and_append_to_bq_table_with_auto_schema\n",
    ")\n",
    "from data_science_pipeline.utils.jupyter import (\n",
    "    read_big_query as _read_big_query,\n",
    ")"
   ]
  },
  {
   "cell_type": "code",
   "execution_count": 3,
   "metadata": {},
   "outputs": [],
   "source": [
    "LOGGER = logging.getLogger(__name__)\n",
    "\n",
    "logging.basicConfig(level='INFO')\n",
    "# logging.getLogger('data_science_pipeline.utils.bq').setLevel(logging.DEBUG)"
   ]
  },
  {
   "cell_type": "code",
   "execution_count": 4,
   "metadata": {},
   "outputs": [],
   "source": [
    "editor_parsed_pubmed_links_table_name = '{output_dataset}.{prefix}{suffix}'.format(\n",
    "    output_dataset=output_dataset,\n",
    "    prefix=output_table_prefix,\n",
    "    suffix='editor_pubmed_links'\n",
    ")\n",
    "\n",
    "editor_parsed_pubmed_ids_table_name = '{output_dataset}.{prefix}{suffix}'.format(\n",
    "    output_dataset=output_dataset,\n",
    "    prefix=output_table_prefix,\n",
    "    suffix='editor_pubmed_ids'\n",
    ")\n",
    "\n",
    "external_manuscript_summary_output_table_name = '{output_dataset}.{prefix}{suffix}'.format(\n",
    "    output_dataset=output_dataset,\n",
    "    prefix=output_table_prefix,\n",
    "    suffix='external_manuscript_summary'\n",
    ")"
   ]
  },
  {
   "cell_type": "code",
   "execution_count": 5,
   "metadata": {},
   "outputs": [],
   "source": [
    "read_big_query = partial(_read_big_query, project_id=project_id)"
   ]
  },
  {
   "cell_type": "code",
   "execution_count": 6,
   "metadata": {
    "scrolled": false
   },
   "outputs": [
    {
     "data": {
      "text/markdown": [
       "> ```sql\n",
       "> SELECT DISTINCT pubmed_id\n",
       "> FROM (SELECT DISTINCT pubmed_id\n",
       "> FROM `de_dev.data_science_editor_pubmed_ids`\n",
       "> JOIN UNNEST(pubmed_ids) AS pubmed_id\n",
       "> \n",
       "> UNION DISTINCT\n",
       "> \n",
       "> SELECT DISTINCT pubmed_id\n",
       "> FROM `de_dev.data_science_editor_pubmed_links`\n",
       "> JOIN UNNEST(relevant_pubmed_ids) AS pubmed_id\n",
       "> \n",
       "> UNION DISTINCT\n",
       "> \n",
       "> SELECT DISTINCT pubmed_id\n",
       "> FROM `de_dev.data_science_editor_pubmed_links`\n",
       "> JOIN UNNEST(parsed_search_term.include.pmid) AS pubmed_id)\n",
       "> WHERE pubmed_id NOT IN (SELECT pmid FROM `de_dev.data_science_external_manuscript_summary`)\n",
       "> LIMIT 100000\n",
       "> ```"
      ],
      "text/plain": [
       "<IPython.core.display.Markdown object>"
      ]
     },
     "metadata": {},
     "output_type": "display_data"
    },
    {
     "name": "stderr",
     "output_type": "stream",
     "text": [
      "INFO:pandas_gbq.gbq:  Elapsed 6.93 s. Waiting...\n",
      "Downloading: 0rows [00:00, ?rows/s]\n",
      "INFO:pandas_gbq.gbq:Total time taken 8.68 s.\n",
      "Finished at 2020-06-22 10:57:03.\n"
     ]
    },
    {
     "name": "stdout",
     "output_type": "stream",
     "text": [
      "0\n"
     ]
    },
    {
     "data": {
      "text/html": [
       "<div>\n",
       "<style scoped>\n",
       "    .dataframe tbody tr th:only-of-type {\n",
       "        vertical-align: middle;\n",
       "    }\n",
       "\n",
       "    .dataframe tbody tr th {\n",
       "        vertical-align: top;\n",
       "    }\n",
       "\n",
       "    .dataframe thead th {\n",
       "        text-align: right;\n",
       "    }\n",
       "</style>\n",
       "<table border=\"1\" class=\"dataframe\">\n",
       "  <thead>\n",
       "    <tr style=\"text-align: right;\">\n",
       "      <th></th>\n",
       "      <th>pubmed_id</th>\n",
       "    </tr>\n",
       "  </thead>\n",
       "  <tbody>\n",
       "  </tbody>\n",
       "</table>\n",
       "</div>"
      ],
      "text/plain": [
       "Empty DataFrame\n",
       "Columns: [pubmed_id]\n",
       "Index: []"
      ]
     },
     "execution_count": 6,
     "metadata": {},
     "output_type": "execute_result"
    }
   ],
   "source": [
    "existing_pmids_sql = (\n",
    "    'SELECT pmid FROM `{table}`'\n",
    ").format(table=external_manuscript_summary_output_table_name)\n",
    "\n",
    "all_pmids_sql = '\\n'.join([\n",
    "    'SELECT DISTINCT pubmed_id',\n",
    "    'FROM `{editor_parsed_pubmed_ids_table_name}`',\n",
    "    'JOIN UNNEST(pubmed_ids) AS pubmed_id',\n",
    "    '',\n",
    "    'UNION DISTINCT',\n",
    "    '',\n",
    "    'SELECT DISTINCT pubmed_id',\n",
    "    'FROM `{editor_parsed_pubmed_links_table_name}`',\n",
    "    'JOIN UNNEST(relevant_pubmed_ids) AS pubmed_id',\n",
    "    '',\n",
    "    'UNION DISTINCT',\n",
    "    '',\n",
    "    'SELECT DISTINCT pubmed_id',\n",
    "    'FROM `{editor_parsed_pubmed_links_table_name}`',\n",
    "    'JOIN UNNEST(parsed_search_term.include.pmid) AS pubmed_id'\n",
    "]).format(\n",
    "    editor_parsed_pubmed_ids_table_name=editor_parsed_pubmed_ids_table_name,\n",
    "    editor_parsed_pubmed_links_table_name=editor_parsed_pubmed_links_table_name\n",
    ")\n",
    "\n",
    "remaining_pmids_sql = '\\n'.join([\n",
    "    'SELECT DISTINCT pubmed_id',\n",
    "    'FROM ({all_pmids_sql})',\n",
    "    'WHERE pubmed_id NOT IN ({existing_pmids_sql})'\n",
    "]).format(\n",
    "    all_pmids_sql=all_pmids_sql,\n",
    "    existing_pmids_sql=existing_pmids_sql\n",
    ")\n",
    "\n",
    "try:\n",
    "    remaining_pmids_df = read_big_query(with_limit_sql(\n",
    "        remaining_pmids_sql,\n",
    "        limit=max_manuscripts\n",
    "    ))\n",
    "except Exception as e:  # pylint: disable=broad-except\n",
    "    if not is_bq_not_found_exception(e):\n",
    "        raise\n",
    "    print('table not found: %s', external_manuscript_summary_output_table_name)\n",
    "    remaining_pmids_df = read_big_query(with_limit_sql(\n",
    "        all_pmids_sql,\n",
    "        limit=max_manuscripts\n",
    "    ))\n",
    "print(len(remaining_pmids_df))\n",
    "remaining_pmids_df.head()"
   ]
  },
  {
   "cell_type": "code",
   "execution_count": 7,
   "metadata": {},
   "outputs": [
    {
     "data": {
      "text/plain": [
       "pubmed_id    object\n",
       "dtype: object"
      ]
     },
     "execution_count": 7,
     "metadata": {},
     "output_type": "execute_result"
    }
   ],
   "source": [
    "remaining_pmids_df.dtypes"
   ]
  },
  {
   "cell_type": "code",
   "execution_count": 8,
   "metadata": {},
   "outputs": [
    {
     "data": {
      "text/plain": [
       "0"
      ]
     },
     "execution_count": 8,
     "metadata": {},
     "output_type": "execute_result"
    }
   ],
   "source": [
    "query_pubmed_ids = remaining_pmids_df['pubmed_id'].values\n",
    "len(query_pubmed_ids)"
   ]
  },
  {
   "cell_type": "code",
   "execution_count": 9,
   "metadata": {
    "scrolled": false
   },
   "outputs": [
    {
     "name": "stdout",
     "output_type": "stream",
     "text": [
      "number of batches: 0\n"
     ]
    }
   ],
   "source": [
    "query_pubmed_ids_batches = list(iter_batches(query_pubmed_ids, EUROPEPMC_MAX_PAGE_SIZE))\n",
    "print('number of batches:', len(query_pubmed_ids_batches))\n",
    "if query_pubmed_ids_batches:\n",
    "    print('first batch:', len(query_pubmed_ids_batches[0]))"
   ]
  },
  {
   "cell_type": "code",
   "execution_count": 10,
   "metadata": {},
   "outputs": [],
   "source": [
    "def handle_http_error(error: BaseException, data: dict = None):\n",
    "    LOGGER.warning('error: %s, data=%s', error, data)"
   ]
  },
  {
   "cell_type": "code",
   "execution_count": 11,
   "metadata": {},
   "outputs": [],
   "source": [
    "def add_provenance(manuscript_summary_list: List[dict]) -> List[dict]:\n",
    "    imported_timestamp = datetime.utcnow().isoformat()\n",
    "    provenance = {\n",
    "        'source': 'europepmc',\n",
    "        'imported_timestamp': imported_timestamp\n",
    "    }\n",
    "    return [\n",
    "        {\n",
    "            **manuscript_summary,\n",
    "            'provenance': provenance\n",
    "        }\n",
    "        for manuscript_summary in manuscript_summary_list\n",
    "    ]"
   ]
  },
  {
   "cell_type": "code",
   "execution_count": 12,
   "metadata": {},
   "outputs": [
    {
     "data": {
      "application/vnd.jupyter.widget-view+json": {
       "model_id": "",
       "version_major": 2,
       "version_minor": 0
      },
      "text/plain": [
       "HBox(children=(FloatProgress(value=1.0, bar_style='info', max=1.0), HTML(value='')))"
      ]
     },
     "metadata": {},
     "output_type": "display_data"
    },
    {
     "name": "stdout",
     "output_type": "stream",
     "text": [
      "done\n"
     ]
    }
   ],
   "source": [
    "with europepmc_requests_retry_session() as session:\n",
    "    europepmc_api = EuropePMCApi(\n",
    "        session,\n",
    "        on_error=handle_http_error,\n",
    "        params={'email': email}\n",
    "    )\n",
    "    with ThreadPoolExecutor(max_workers=max_workers) as executor:\n",
    "        retrieved_editor_manuscript_list_batches_it = tqdm(\n",
    "            executor.map(\n",
    "                europepmc_api.get_summary_by_page_pmids,\n",
    "                query_pubmed_ids_batches\n",
    "            ),\n",
    "            total=len(query_pubmed_ids_batches),\n",
    "            leave=False\n",
    "        )\n",
    "        retrieved_flattened_manuscript_list_it = (\n",
    "            manuscript_summary\n",
    "            for manuscript_summary_list in retrieved_editor_manuscript_list_batches_it\n",
    "            for manuscript_summary in manuscript_summary_list\n",
    "        )\n",
    "        manuscript_upload_batch_list_it = iter_batches(\n",
    "            retrieved_flattened_manuscript_list_it,\n",
    "            manuscript_upload_batch_size\n",
    "        )\n",
    "        for manuscript_upload_list in manuscript_upload_batch_list_it:\n",
    "            manuscript_upload_list = list(manuscript_upload_list)\n",
    "            print('writing to: %s (%d rows)' % (\n",
    "                external_manuscript_summary_output_table_name,\n",
    "                len(manuscript_upload_list)\n",
    "            ))\n",
    "            load_json_list_and_append_to_bq_table_with_auto_schema(\n",
    "                add_provenance(manuscript_upload_list),\n",
    "                project_id=project_id,\n",
    "                table_name=external_manuscript_summary_output_table_name\n",
    "            )\n",
    "print('done')"
   ]
  }
 ],
 "metadata": {
  "celltoolbar": "Tags",
  "kernelspec": {
   "display_name": "Python 3",
   "language": "python",
   "name": "python3"
  },
  "language_info": {
   "codemirror_mode": {
    "name": "ipython",
    "version": 3
   },
   "file_extension": ".py",
   "mimetype": "text/x-python",
   "name": "python",
   "nbconvert_exporter": "python",
   "pygments_lexer": "ipython3",
   "version": "3.7.6"
  }
 },
 "nbformat": 4,
 "nbformat_minor": 4
}
