{
 "cells": [
  {
   "cell_type": "code",
   "execution_count": null,
   "metadata": {
    "tags": [
     "parameters"
    ]
   },
   "outputs": [],
   "source": [
    "project_id = 'elife-data-pipeline'\n",
    "source_dataset = 'de_dev'\n",
    "output_dataset = 'de_dev'\n",
    "output_table_prefix = 'data_science_'"
   ]
  },
  {
   "cell_type": "code",
   "execution_count": null,
   "metadata": {},
   "outputs": [],
   "source": [
    "import logging\n",
    "from functools import partial\n",
    "\n",
    "import data_science_pipeline.configure_warnings  # pylint: disable=unused-import\n",
    "\n",
    "from data_science_pipeline.sql import get_sql\n",
    "from data_science_pipeline.utils.pubmed import (\n",
    "    normalize_url,\n",
    "    resolve_url_if_not_ncbi_domain,\n",
    "    get_ncbi_pubmed_article_ids,\n",
    "    is_ncbi_search_url,\n",
    "    is_ncbi_bibliography_url,\n",
    "    get_ncbi_search_term,\n",
    "    parse_term_query\n",
    ")\n",
    "from data_science_pipeline.utils.bq import to_gbq\n",
    "from data_science_pipeline.utils.pandas import apply_skip_null\n",
    "from data_science_pipeline.utils.jupyter import (\n",
    "    read_big_query as _read_big_query,\n",
    ")"
   ]
  },
  {
   "cell_type": "code",
   "execution_count": null,
   "metadata": {},
   "outputs": [],
   "source": [
    "LOGGER = logging.getLogger(__name__)"
   ]
  },
  {
   "cell_type": "code",
   "execution_count": null,
   "metadata": {},
   "outputs": [],
   "source": [
    "editor_parsed_pubmed_links_table_name = '{output_dataset}.{prefix}{suffix}'.format(\n",
    "    output_dataset=output_dataset,\n",
    "    prefix=output_table_prefix,\n",
    "    suffix='editor_pubmed_links'\n",
    ")"
   ]
  },
  {
   "cell_type": "code",
   "execution_count": null,
   "metadata": {},
   "outputs": [],
   "source": [
    "read_big_query = partial(_read_big_query, project_id=project_id)"
   ]
  },
  {
   "cell_type": "code",
   "execution_count": null,
   "metadata": {},
   "outputs": [],
   "source": [
    "default_query_props = dict(project=project_id, dataset=source_dataset)"
   ]
  },
  {
   "cell_type": "code",
   "execution_count": null,
   "metadata": {},
   "outputs": [],
   "source": [
    "editor_pubmed_links_df = read_big_query(\n",
    "    get_sql('editor-pubmed-links.sql').format(\n",
    "        **default_query_props\n",
    "    )\n",
    ")\n",
    "print(len(editor_pubmed_links_df))\n",
    "editor_pubmed_links_df.head()"
   ]
  },
  {
   "cell_type": "code",
   "execution_count": null,
   "metadata": {},
   "outputs": [],
   "source": [
    "editor_pubmed_links_df['relevant_pubmed_ids'] = apply_skip_null(\n",
    "    editor_pubmed_links_df['relevant_pubmed_urls'],\n",
    "    get_ncbi_pubmed_article_ids\n",
    ")\n",
    "editor_pubmed_links_df.head()"
   ]
  },
  {
   "cell_type": "code",
   "execution_count": null,
   "metadata": {},
   "outputs": [],
   "source": [
    "editor_pubmed_links_df['resolved_pubmed_url'] = apply_skip_null(\n",
    "    editor_pubmed_links_df['pubmed_url'],\n",
    "    lambda pubmed_url: resolve_url_if_not_ncbi_domain(normalize_url(pubmed_url))\n",
    ")\n",
    "editor_pubmed_links_df.head()"
   ]
  },
  {
   "cell_type": "code",
   "execution_count": null,
   "metadata": {},
   "outputs": [],
   "source": [
    "editor_pubmed_links_df['search_term'] = apply_skip_null(\n",
    "    editor_pubmed_links_df['resolved_pubmed_url'],\n",
    "    lambda pubmed_url: (\n",
    "        get_ncbi_search_term(pubmed_url)\n",
    "        if is_ncbi_search_url(pubmed_url)\n",
    "        else None\n",
    "    )\n",
    ")\n",
    "editor_pubmed_links_df.head()"
   ]
  },
  {
   "cell_type": "code",
   "execution_count": null,
   "metadata": {},
   "outputs": [],
   "source": [
    "editor_pubmed_links_df['parsed_search_term'] = apply_skip_null(\n",
    "    editor_pubmed_links_df['search_term'],\n",
    "    parse_term_query\n",
    ")\n",
    "editor_pubmed_links_df.head()"
   ]
  },
  {
   "cell_type": "code",
   "execution_count": null,
   "metadata": {},
   "outputs": [],
   "source": [
    "editor_pubmed_links_df['is_ncbi_bibliography_url'] = apply_skip_null(\n",
    "    editor_pubmed_links_df['resolved_pubmed_url'],\n",
    "    is_ncbi_bibliography_url\n",
    ")\n",
    "print('is_ncbi_bibliography_url:\\n%s' % editor_pubmed_links_df['is_ncbi_bibliography_url'].value_counts())\n",
    "editor_pubmed_links_df.head()"
   ]
  },
  {
   "cell_type": "code",
   "execution_count": null,
   "metadata": {},
   "outputs": [],
   "source": [
    "print('writing to:', editor_parsed_pubmed_links_table_name)\n",
    "to_gbq(\n",
    "    editor_pubmed_links_df,\n",
    "    project_id=project_id,\n",
    "    destination_table=editor_parsed_pubmed_links_table_name,\n",
    "    if_exists='replace'\n",
    ")\n",
    "print('done')"
   ]
  }
 ],
 "metadata": {
  "celltoolbar": "Tags",
  "kernelspec": {
   "display_name": "Python 3",
   "language": "python",
   "name": "python3"
  },
  "language_info": {
   "codemirror_mode": {
    "name": "ipython",
    "version": 3
   },
   "file_extension": ".py",
   "mimetype": "text/x-python",
   "name": "python",
   "nbconvert_exporter": "python",
   "pygments_lexer": "ipython3",
   "version": "3.7.6"
  }
 },
 "nbformat": 4,
 "nbformat_minor": 4
}
