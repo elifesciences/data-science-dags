{
 "cells": [
  {
   "cell_type": "code",
   "execution_count": 1,
   "metadata": {
    "tags": [
     "parameters"
    ]
   },
   "outputs": [],
   "source": [
    "project_id = 'elife-data-pipeline'\n",
    "source_dataset = 'prod'\n",
    "output_dataset = 'de_dev'\n",
    "output_table_prefix = 'data_science_'\n",
    "manuscript_min_tf = 10\n",
    "manuscript_max_tf = 0.9\n",
    "state_path = 's3://ci-elife-data-pipeline/airflow-config/keyword-extraction/state-dev'"
   ]
  },
  {
   "cell_type": "code",
   "execution_count": 2,
   "metadata": {},
   "outputs": [],
   "source": [
    "from functools import partial\n",
    "from typing import List, Tuple, TypeVar\n",
    "\n",
    "import joblib\n",
    "import os\n",
    "import numpy as np\n",
    "import pandas as pd\n",
    "\n",
    "from sklearn.feature_extraction.text import TfidfVectorizer\n",
    "from sklearn.metrics.pairwise import cosine_similarity\n",
    "\n",
    "import data_science_pipeline.configure_warnings\n",
    "\n",
    "from data_science_pipeline.sql import get_sql\n",
    "from data_science_pipeline.utils.io import load_object_from\n",
    "from data_science_pipeline.utils.misc import identity_fn\n",
    "from data_science_pipeline.utils.jupyter import (\n",
    "    read_big_query as _read_big_query,\n",
    ")"
   ]
  },
  {
   "cell_type": "code",
   "execution_count": 3,
   "metadata": {},
   "outputs": [],
   "source": [
    "model_path = os.path.join(state_path, 'senior_editor_model.joblib')\n",
    "recommendation_output_table_name = '{output_dataset}.{prefix}{suffix}'.format(\n",
    "    output_dataset=output_dataset,\n",
    "    prefix=output_table_prefix,\n",
    "    suffix='editor_recommendation'\n",
    ")"
   ]
  },
  {
   "cell_type": "code",
   "execution_count": 4,
   "metadata": {},
   "outputs": [
    {
     "name": "stdout",
     "output_type": "stream",
     "text": [
      "loading model from: s3://ci-elife-data-pipeline/airflow-config/keyword-extraction/state-dev/senior_editor_model.joblib\n"
     ]
    },
    {
     "data": {
      "text/plain": [
       "dict_keys(['editor_tf_idf_vectorizer', 'doc_length_weighted_editor_tf_idf', 'editor_names'])"
      ]
     },
     "execution_count": 4,
     "metadata": {},
     "output_type": "execute_result"
    }
   ],
   "source": [
    "print('loading model from:', model_path)\n",
    "model_dict = load_object_from(model_path)\n",
    "model_dict.keys()"
   ]
  },
  {
   "cell_type": "code",
   "execution_count": 5,
   "metadata": {},
   "outputs": [
    {
     "data": {
      "text/plain": [
       "TfidfVectorizer(lowercase=False, smooth_idf=False, token_pattern=None,\n",
       "                tokenizer=<function identity_fn at 0x7f1ca3d33c20>)"
      ]
     },
     "execution_count": 5,
     "metadata": {},
     "output_type": "execute_result"
    }
   ],
   "source": [
    "editor_tf_idf_vectorizer = model_dict['editor_tf_idf_vectorizer']\n",
    "editor_tf_idf_vectorizer"
   ]
  },
  {
   "cell_type": "code",
   "execution_count": 6,
   "metadata": {},
   "outputs": [
    {
     "data": {
      "text/plain": [
       "matrix([[0.        , 0.        , 0.        , ..., 0.        , 0.        ,\n",
       "         0.        ],\n",
       "        [0.00139181, 0.        , 0.        , ..., 0.        , 0.        ,\n",
       "         0.        ],\n",
       "        [0.00150984, 0.00109358, 0.        , ..., 0.        , 0.00292823,\n",
       "         0.        ],\n",
       "        ...,\n",
       "        [0.        , 0.        , 0.        , ..., 0.        , 0.0175357 ,\n",
       "         0.        ],\n",
       "        [0.        , 0.00100183, 0.        , ..., 0.00068434, 0.00076645,\n",
       "         0.        ],\n",
       "        [0.00065094, 0.00141444, 0.        , ..., 0.        , 0.00216421,\n",
       "         0.        ]])"
      ]
     },
     "execution_count": 6,
     "metadata": {},
     "output_type": "execute_result"
    }
   ],
   "source": [
    "doc_length_weighted_editor_tf_idf = model_dict['doc_length_weighted_editor_tf_idf']\n",
    "doc_length_weighted_editor_tf_idf"
   ]
  },
  {
   "cell_type": "code",
   "execution_count": 7,
   "metadata": {},
   "outputs": [
    {
     "data": {
      "text/plain": [
       "0           Aleksandra Walczak\n",
       "1                  Andrew King\n",
       "2               Anna Akhmanova\n",
       "3     Barbara Shinn-Cunningham\n",
       "4                Carla Rothlin\n",
       "                ...           \n",
       "60                 Tamar Makin\n",
       "61             Timothy Behrens\n",
       "62              Utpal Banerjee\n",
       "63              Vivek Malhotra\n",
       "64               Wendy Garrett\n",
       "Name: name, Length: 65, dtype: object"
      ]
     },
     "execution_count": 7,
     "metadata": {},
     "output_type": "execute_result"
    }
   ],
   "source": [
    "editor_names = model_dict['editor_names']\n",
    "editor_names"
   ]
  },
  {
   "cell_type": "code",
   "execution_count": 8,
   "metadata": {},
   "outputs": [],
   "source": [
    "read_big_query = partial(_read_big_query, project_id=project_id)"
   ]
  },
  {
   "cell_type": "code",
   "execution_count": 9,
   "metadata": {},
   "outputs": [],
   "source": [
    "default_query_props = dict(project=project_id, dataset=source_dataset)"
   ]
  },
  {
   "cell_type": "code",
   "execution_count": 10,
   "metadata": {},
   "outputs": [
    {
     "data": {
      "text/markdown": [
       "> ```sql\n",
       "> WITH t_manuscript_version_abstract_keywords AS (\n",
       ">   SELECT\n",
       ">     LPAD(CAST(manuscript_abstract_keywords.manuscript_id AS STRING), 5, '0') AS manuscript_id,\n",
       ">     manuscript_abstract_keywords.version_id,\n",
       ">     manuscript_abstract_keywords.extracted_keywords,\n",
       ">     ROW_NUMBER() OVER (\n",
       ">       PARTITION BY version_id\n",
       ">       ORDER BY data_hub_imported_timestamp DESC\n",
       ">     ) AS version_id_row_number\n",
       ">   FROM `elife-data-pipeline.prod.manuscript_abstract_keywords` AS manuscript_abstract_keywords\n",
       ">   WHERE ARRAY_LENGTH(extracted_keywords) > 0\n",
       "> ),\n",
       "> \n",
       "> t_last_manuscript_version_abstract_keywords AS (\n",
       ">   SELECT\n",
       ">     * EXCEPT(version_id_row_number)\n",
       ">   FROM t_manuscript_version_abstract_keywords\n",
       ">   WHERE version_id_row_number = 1\n",
       ">   ORDER BY version_id\n",
       "> )\n",
       "> \n",
       "> SELECT version.version_id, manuscript_version_abstract_keywords.extracted_keywords\n",
       "> FROM `elife-data-pipeline.prod.mv_manuscript_version` AS version\n",
       "> JOIN t_last_manuscript_version_abstract_keywords AS manuscript_version_abstract_keywords\n",
       ">   ON manuscript_version_abstract_keywords.version_id = version.version_id\n",
       "> WHERE version.overall_stage = 'Initial Submission'\n",
       ">   AND ARRAY_LENGTH(version.senior_editors) = 0\n",
       ">   AND TIMESTAMP_DIFF(CURRENT_TIMESTAMP, version.created_timestamp, DAY) < 365\n",
       "> ```"
      ],
      "text/plain": [
       "<IPython.core.display.Markdown object>"
      ]
     },
     "metadata": {},
     "output_type": "display_data"
    },
    {
     "name": "stderr",
     "output_type": "stream",
     "text": [
      "Downloading: 100%|██████████| 135/135 [00:00<00:00, 240.71rows/s]\n"
     ]
    },
    {
     "data": {
      "text/html": [
       "<div>\n",
       "<style scoped>\n",
       "    .dataframe tbody tr th:only-of-type {\n",
       "        vertical-align: middle;\n",
       "    }\n",
       "\n",
       "    .dataframe tbody tr th {\n",
       "        vertical-align: top;\n",
       "    }\n",
       "\n",
       "    .dataframe thead th {\n",
       "        text-align: right;\n",
       "    }\n",
       "</style>\n",
       "<table border=\"1\" class=\"dataframe\">\n",
       "  <thead>\n",
       "    <tr style=\"text-align: right;\">\n",
       "      <th></th>\n",
       "      <th>version_id</th>\n",
       "      <th>extracted_keywords</th>\n",
       "    </tr>\n",
       "  </thead>\n",
       "  <tbody>\n",
       "    <tr>\n",
       "      <th>0</th>\n",
       "      <td>49378/2019-06-15T23:34:46Z</td>\n",
       "      <td>[- wgs, 16s, 16s rrna gene sequencing, 16s seq...</td>\n",
       "    </tr>\n",
       "    <tr>\n",
       "      <th>1</th>\n",
       "      <td>49596/2019-06-23T05:30:37Z</td>\n",
       "      <td>[accurate, accurate localisation, auditory, au...</td>\n",
       "    </tr>\n",
       "    <tr>\n",
       "      <th>2</th>\n",
       "      <td>50466/2019-07-23T16:01:08Z</td>\n",
       "      <td>[-ward, \\textit{klebsiella, \\textit{klebsiella...</td>\n",
       "    </tr>\n",
       "    <tr>\n",
       "      <th>3</th>\n",
       "      <td>50710/2019-07-30T17:40:09Z</td>\n",
       "      <td>[activity, activity onset, avlpfc, avlpfc), av...</td>\n",
       "    </tr>\n",
       "    <tr>\n",
       "      <th>4</th>\n",
       "      <td>51092/2019-08-14T17:24:40Z</td>\n",
       "      <td>[ability, autism, autism spectrum, battery, br...</td>\n",
       "    </tr>\n",
       "  </tbody>\n",
       "</table>\n",
       "</div>"
      ],
      "text/plain": [
       "                   version_id  \\\n",
       "0  49378/2019-06-15T23:34:46Z   \n",
       "1  49596/2019-06-23T05:30:37Z   \n",
       "2  50466/2019-07-23T16:01:08Z   \n",
       "3  50710/2019-07-30T17:40:09Z   \n",
       "4  51092/2019-08-14T17:24:40Z   \n",
       "\n",
       "                                  extracted_keywords  \n",
       "0  [- wgs, 16s, 16s rrna gene sequencing, 16s seq...  \n",
       "1  [accurate, accurate localisation, auditory, au...  \n",
       "2  [-ward, \\textit{klebsiella, \\textit{klebsiella...  \n",
       "3  [activity, activity onset, avlpfc, avlpfc), av...  \n",
       "4  [ability, autism, autism spectrum, battery, br...  "
      ]
     },
     "execution_count": 10,
     "metadata": {},
     "output_type": "execute_result"
    }
   ],
   "source": [
    "manuscript_version_for_recommendation_df = read_big_query(\n",
    "    get_sql('manuscript-version-initial-submissions-for-senior-editor-recommendation.sql').format(\n",
    "        **default_query_props\n",
    "    )\n",
    ")\n",
    "manuscript_version_for_recommendation_df.head()"
   ]
  },
  {
   "cell_type": "code",
   "execution_count": 11,
   "metadata": {},
   "outputs": [
    {
     "name": "stdout",
     "output_type": "stream",
     "text": [
      "0.3355773628462569\n"
     ]
    },
    {
     "data": {
      "text/plain": [
       "array([[0.0816525 , 0.05653703, 0.06520036, ..., 0.06783907, 0.05629434,\n",
       "        0.25762246],\n",
       "       [0.0715818 , 0.25775286, 0.0803795 , ..., 0.06152131, 0.08123971,\n",
       "        0.05404424],\n",
       "       [0.13542505, 0.06842914, 0.08114764, ..., 0.06294691, 0.06878266,\n",
       "        0.12591147],\n",
       "       ...,\n",
       "       [0.07888089, 0.06324242, 0.12455613, ..., 0.09481188, 0.1221229 ,\n",
       "        0.09331774],\n",
       "       [0.0785239 , 0.06627219, 0.09322913, ..., 0.08578878, 0.0754884 ,\n",
       "        0.12426033],\n",
       "       [0.1157139 , 0.09222445, 0.10315648, ..., 0.0922783 , 0.07615232,\n",
       "        0.12924913]])"
      ]
     },
     "execution_count": 11,
     "metadata": {},
     "output_type": "execute_result"
    }
   ],
   "source": [
    "keyword_similarity = cosine_similarity(\n",
    "    editor_tf_idf_vectorizer.transform(\n",
    "        manuscript_version_for_recommendation_df\n",
    "        ['extracted_keywords']\n",
    "    ),\n",
    "    doc_length_weighted_editor_tf_idf\n",
    ")\n",
    "print(keyword_similarity.max())\n",
    "keyword_similarity"
   ]
  },
  {
   "cell_type": "code",
   "execution_count": 12,
   "metadata": {},
   "outputs": [
    {
     "data": {
      "text/plain": [
       "0    [(0.2576224636285809, Wendy Garrett), (0.12859...\n",
       "1    [(0.25775285504800116, Andrew King), (0.216688...\n",
       "2    [(0.3355773628462569, Miles Davenport), (0.218...\n",
       "3    [(0.3242674309862605, Laura Colgin), (0.278114...\n",
       "4    [(0.18513078658363272, Floris de Lange), (0.17...\n",
       "dtype: object"
      ]
     },
     "execution_count": 12,
     "metadata": {},
     "output_type": "execute_result"
    }
   ],
   "source": [
    "T = TypeVar('T')\n",
    "\n",
    "\n",
    "def get_recommended_editors_with_probability(\n",
    "        proba_matrix: List[List[float]],\n",
    "        indices: List[T],\n",
    "        threshold: float = 0.5) -> List[List[Tuple[float, T]]]:\n",
    "    return [\n",
    "        sorted([(p, key) for p, key in zip(row, indices) if p >= threshold], reverse=True)\n",
    "        for row in proba_matrix\n",
    "    ]\n",
    "\n",
    "\n",
    "prediction_results_with_similarity = pd.Series(\n",
    "    get_recommended_editors_with_probability(\n",
    "        keyword_similarity,\n",
    "        editor_names,\n",
    "        threshold=0.001\n",
    "    ),\n",
    "    index=manuscript_version_for_recommendation_df.index\n",
    ")\n",
    "prediction_results_with_similarity[:5]"
   ]
  },
  {
   "cell_type": "code",
   "execution_count": 13,
   "metadata": {},
   "outputs": [
    {
     "name": "stdout",
     "output_type": "stream",
     "text": [
      "135\n"
     ]
    },
    {
     "data": {
      "text/html": [
       "<div>\n",
       "<style scoped>\n",
       "    .dataframe tbody tr th:only-of-type {\n",
       "        vertical-align: middle;\n",
       "    }\n",
       "\n",
       "    .dataframe tbody tr th {\n",
       "        vertical-align: top;\n",
       "    }\n",
       "\n",
       "    .dataframe thead th {\n",
       "        text-align: right;\n",
       "    }\n",
       "</style>\n",
       "<table border=\"1\" class=\"dataframe\">\n",
       "  <thead>\n",
       "    <tr style=\"text-align: right;\">\n",
       "      <th></th>\n",
       "      <th>version_id</th>\n",
       "      <th>prediction</th>\n",
       "    </tr>\n",
       "  </thead>\n",
       "  <tbody>\n",
       "    <tr>\n",
       "      <th>0</th>\n",
       "      <td>49378/2019-06-15T23:34:46Z</td>\n",
       "      <td>[(0.2576224636285809, Wendy Garrett), (0.12859...</td>\n",
       "    </tr>\n",
       "    <tr>\n",
       "      <th>1</th>\n",
       "      <td>49596/2019-06-23T05:30:37Z</td>\n",
       "      <td>[(0.25775285504800116, Andrew King), (0.216688...</td>\n",
       "    </tr>\n",
       "    <tr>\n",
       "      <th>2</th>\n",
       "      <td>50466/2019-07-23T16:01:08Z</td>\n",
       "      <td>[(0.3355773628462569, Miles Davenport), (0.218...</td>\n",
       "    </tr>\n",
       "    <tr>\n",
       "      <th>3</th>\n",
       "      <td>50710/2019-07-30T17:40:09Z</td>\n",
       "      <td>[(0.3242674309862605, Laura Colgin), (0.278114...</td>\n",
       "    </tr>\n",
       "    <tr>\n",
       "      <th>4</th>\n",
       "      <td>51092/2019-08-14T17:24:40Z</td>\n",
       "      <td>[(0.18513078658363272, Floris de Lange), (0.17...</td>\n",
       "    </tr>\n",
       "  </tbody>\n",
       "</table>\n",
       "</div>"
      ],
      "text/plain": [
       "                   version_id  \\\n",
       "0  49378/2019-06-15T23:34:46Z   \n",
       "1  49596/2019-06-23T05:30:37Z   \n",
       "2  50466/2019-07-23T16:01:08Z   \n",
       "3  50710/2019-07-30T17:40:09Z   \n",
       "4  51092/2019-08-14T17:24:40Z   \n",
       "\n",
       "                                          prediction  \n",
       "0  [(0.2576224636285809, Wendy Garrett), (0.12859...  \n",
       "1  [(0.25775285504800116, Andrew King), (0.216688...  \n",
       "2  [(0.3355773628462569, Miles Davenport), (0.218...  \n",
       "3  [(0.3242674309862605, Laura Colgin), (0.278114...  \n",
       "4  [(0.18513078658363272, Floris de Lange), (0.17...  "
      ]
     },
     "execution_count": 13,
     "metadata": {},
     "output_type": "execute_result"
    }
   ],
   "source": [
    "prediction_results_df = pd.concat([\n",
    "    manuscript_version_for_recommendation_df['version_id'],\n",
    "    prediction_results_with_similarity.to_frame('prediction'),\n",
    "], axis=1)\n",
    "print(len(prediction_results_df))\n",
    "prediction_results_df.head()"
   ]
  },
  {
   "cell_type": "code",
   "execution_count": 14,
   "metadata": {},
   "outputs": [
    {
     "data": {
      "text/plain": [
       "[(0.2576224636285809, 'Wendy Garrett'),\n",
       " (0.12859540922753968, 'Eduardo Franco'),\n",
       " (0.1239735226507961, 'Detlef Weigel'),\n",
       " (0.12083610116492209, 'Tadatsugu Taniguchi'),\n",
       " (0.11690343142169272, 'Satyajit Rath'),\n",
       " (0.10780433478211955, 'Neil Ferguson'),\n",
       " (0.10633318208607495, 'Jos van der Meer'),\n",
       " (0.09788480964181845, 'Matthias Barton'),\n",
       " (0.09648800393877986, 'Gisela Storz'),\n",
       " (0.0903316076481428, 'Huda Zoghbi'),\n",
       " (0.0870382552375424, 'Naama Barkai'),\n",
       " (0.08536416496871513, 'Diethard Tautz'),\n",
       " (0.08454969300596514, 'Patricia Wittkopp'),\n",
       " (0.0816524968309963, 'Aleksandra Walczak'),\n",
       " (0.08013881731354638, 'Päivi Ojala'),\n",
       " (0.07984502063884127, 'Carla Rothlin'),\n",
       " (0.0794001345761173, 'Christian Büchel'),\n",
       " (0.07916325360513271, 'Maureen Murphy'),\n",
       " (0.07877346807192248, 'Michael Eisen'),\n",
       " (0.07827072752639062, 'Catherine Dulac'),\n",
       " (0.0762697990682644, 'Philip Cole'),\n",
       " (0.07589600781608948, 'Kathryn Cheah'),\n",
       " (0.0754383537608571, 'Didier Stainier'),\n",
       " (0.07175171987774549, 'Gary Westbrook'),\n",
       " (0.07082173955360678, 'Jessica Tyler'),\n",
       " (0.06974432474234679, 'Richard White'),\n",
       " (0.0696590049894864, 'Dominique Soldati-Favre'),\n",
       " (0.06906294663190717, 'Timothy Behrens'),\n",
       " (0.06855408233667483, 'Richard Ivry'),\n",
       " (0.06852346718646556, 'Jonathan Cooper'),\n",
       " (0.06842158010516093, 'Clifford Rosen'),\n",
       " (0.06814060947055108, 'Michael Marletta'),\n",
       " (0.0678390735982529, 'Utpal Banerjee'),\n",
       " (0.06706145288738782, 'Kevin Struhl'),\n",
       " (0.06520036358450541, 'Anna Akhmanova'),\n",
       " (0.06498238529815988, 'David Ron'),\n",
       " (0.06481957164628044, 'Miles Davenport'),\n",
       " (0.06477915930191874, 'James Manley'),\n",
       " (0.06318762542733669, 'Floris de Lange'),\n",
       " (0.0629886408870954, 'Michael Frank'),\n",
       " (0.06249713523752663, 'Kate Wassum'),\n",
       " (0.06195268204262938, 'Marianne Bronner'),\n",
       " (0.06022186029794294, 'Edward Morrisey'),\n",
       " (0.060215634300745884, 'Karla Kirkegaard'),\n",
       " (0.05990868444449942, 'Laura Colgin'),\n",
       " (0.05936751213616636, 'K VijayRaghavan'),\n",
       " (0.056931173766506436, 'Suzanne Pfeffer'),\n",
       " (0.056627732936513756, 'Richard Aldrich'),\n",
       " (0.056537026771451664, 'Andrew King'),\n",
       " (0.056294340130340285, 'Vivek Malhotra'),\n",
       " (0.05602389836487889, 'Joshua Gold'),\n",
       " (0.05561445445449079, 'Ronald Calabrese'),\n",
       " (0.053098265422369166, 'Chris Baker'),\n",
       " (0.05297808870038919, 'Cynthia Wolberger'),\n",
       " (0.05289017744040138, 'Christian Rutz'),\n",
       " (0.05257465886474788, 'John Kuriyan'),\n",
       " (0.052535128484667994, 'Barbara Shinn-Cunningham'),\n",
       " (0.05207410282637562, 'Christian Hardtke'),\n",
       " (0.04980839901526516, 'Tamar Makin'),\n",
       " (0.048809521602346216, 'Olga Boudker'),\n",
       " (0.0465904034116953, 'John Huguenard'),\n",
       " (0.044442080321822716, 'José Faraldo-Gómez'),\n",
       " (0.04363565740571141, 'George Perry'),\n",
       " (0.04268352163564005, 'Piali Sengupta'),\n",
       " (0.04101891687134079, 'Kenton Swartz')]"
      ]
     },
     "execution_count": 14,
     "metadata": {},
     "output_type": "execute_result"
    }
   ],
   "source": [
    "prediction_results_df['prediction'][0]"
   ]
  },
  {
   "cell_type": "code",
   "execution_count": 15,
   "metadata": {},
   "outputs": [
    {
     "name": "stdout",
     "output_type": "stream",
     "text": [
      "8639\n"
     ]
    },
    {
     "data": {
      "text/html": [
       "<div>\n",
       "<style scoped>\n",
       "    .dataframe tbody tr th:only-of-type {\n",
       "        vertical-align: middle;\n",
       "    }\n",
       "\n",
       "    .dataframe tbody tr th {\n",
       "        vertical-align: top;\n",
       "    }\n",
       "\n",
       "    .dataframe thead th {\n",
       "        text-align: right;\n",
       "    }\n",
       "</style>\n",
       "<table border=\"1\" class=\"dataframe\">\n",
       "  <thead>\n",
       "    <tr style=\"text-align: right;\">\n",
       "      <th></th>\n",
       "      <th>version_id</th>\n",
       "      <th>score</th>\n",
       "      <th>name</th>\n",
       "    </tr>\n",
       "  </thead>\n",
       "  <tbody>\n",
       "    <tr>\n",
       "      <th>0</th>\n",
       "      <td>49378/2019-06-15T23:34:46Z</td>\n",
       "      <td>0.257622</td>\n",
       "      <td>Wendy Garrett</td>\n",
       "    </tr>\n",
       "    <tr>\n",
       "      <th>1</th>\n",
       "      <td>49378/2019-06-15T23:34:46Z</td>\n",
       "      <td>0.128595</td>\n",
       "      <td>Eduardo Franco</td>\n",
       "    </tr>\n",
       "    <tr>\n",
       "      <th>2</th>\n",
       "      <td>49378/2019-06-15T23:34:46Z</td>\n",
       "      <td>0.123974</td>\n",
       "      <td>Detlef Weigel</td>\n",
       "    </tr>\n",
       "    <tr>\n",
       "      <th>3</th>\n",
       "      <td>49378/2019-06-15T23:34:46Z</td>\n",
       "      <td>0.120836</td>\n",
       "      <td>Tadatsugu Taniguchi</td>\n",
       "    </tr>\n",
       "    <tr>\n",
       "      <th>4</th>\n",
       "      <td>49378/2019-06-15T23:34:46Z</td>\n",
       "      <td>0.116903</td>\n",
       "      <td>Satyajit Rath</td>\n",
       "    </tr>\n",
       "  </tbody>\n",
       "</table>\n",
       "</div>"
      ],
      "text/plain": [
       "                   version_id     score                 name\n",
       "0  49378/2019-06-15T23:34:46Z  0.257622        Wendy Garrett\n",
       "1  49378/2019-06-15T23:34:46Z  0.128595       Eduardo Franco\n",
       "2  49378/2019-06-15T23:34:46Z  0.123974        Detlef Weigel\n",
       "3  49378/2019-06-15T23:34:46Z  0.120836  Tadatsugu Taniguchi\n",
       "4  49378/2019-06-15T23:34:46Z  0.116903        Satyajit Rath"
      ]
     },
     "execution_count": 15,
     "metadata": {},
     "output_type": "execute_result"
    }
   ],
   "source": [
    "prediction_results_flat_df = pd.DataFrame([\n",
    "    {\n",
    "        'version_id': row.version_id,\n",
    "        'score': predicted_editor[0],\n",
    "        'name': predicted_editor[1]\n",
    "    }\n",
    "    for row in prediction_results_df.itertuples()\n",
    "    for predicted_editor in row.prediction\n",
    "])\n",
    "print(len(prediction_results_flat_df))\n",
    "prediction_results_flat_df.head()"
   ]
  },
  {
   "cell_type": "code",
   "execution_count": 16,
   "metadata": {},
   "outputs": [
    {
     "name": "stdout",
     "output_type": "stream",
     "text": [
      "writing to: de_dev.data_science_editor_recommendation\n"
     ]
    },
    {
     "name": "stderr",
     "output_type": "stream",
     "text": [
      "1it [00:05,  5.08s/it]"
     ]
    },
    {
     "name": "stdout",
     "output_type": "stream",
     "text": [
      "done\n"
     ]
    },
    {
     "name": "stderr",
     "output_type": "stream",
     "text": [
      "\n"
     ]
    }
   ],
   "source": [
    "print('writing to:', recommendation_output_table_name)\n",
    "prediction_results_flat_df.to_gbq(\n",
    "    recommendation_output_table_name,\n",
    "    project_id=project_id,\n",
    "    if_exists='replace'\n",
    ")\n",
    "print('done')"
   ]
  }
 ],
 "metadata": {
  "kernelspec": {
   "display_name": "Python 3",
   "language": "python",
   "name": "python3"
  },
  "language_info": {
   "codemirror_mode": {
    "name": "ipython",
    "version": 3
   },
   "file_extension": ".py",
   "mimetype": "text/x-python",
   "name": "python",
   "nbconvert_exporter": "python",
   "pygments_lexer": "ipython3",
   "version": "3.7.6"
  }
 },
 "nbformat": 4,
 "nbformat_minor": 4
}
