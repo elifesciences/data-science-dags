{
 "cells": [
  {
   "cell_type": "code",
   "execution_count": 1,
   "metadata": {
    "tags": [
     "parameters"
    ]
   },
   "outputs": [],
   "source": [
    "project_id = 'elife-data-pipeline'\n",
    "source_dataset = 'prod'\n",
    "output_dataset = 'de_dev'\n",
    "output_table_prefix = 'data_science_'\n",
    "manuscript_min_tf = 10\n",
    "manuscript_max_tf = 0.9\n",
    "state_path = 's3://ci-elife-data-pipeline/airflow-config/keyword-extraction/state-dev'"
   ]
  },
  {
   "cell_type": "code",
   "execution_count": 2,
   "metadata": {},
   "outputs": [],
   "source": [
    "from functools import partial\n",
    "from typing import List, Tuple, TypeVar\n",
    "\n",
    "import joblib\n",
    "import os\n",
    "import numpy as np\n",
    "import pandas as pd\n",
    "\n",
    "from sklearn.feature_extraction.text import TfidfVectorizer\n",
    "from sklearn.metrics.pairwise import cosine_similarity\n",
    "\n",
    "import data_science_pipeline.configure_warnings\n",
    "\n",
    "from data_science_pipeline.sql import get_sql\n",
    "from data_science_pipeline.utils.io import load_object_from\n",
    "from data_science_pipeline.utils.misc import identity_fn\n",
    "from data_science_pipeline.utils.jupyter import (\n",
    "    read_big_query as _read_big_query,\n",
    ")"
   ]
  },
  {
   "cell_type": "code",
   "execution_count": 3,
   "metadata": {},
   "outputs": [],
   "source": [
    "model_path = os.path.join(state_path, 'senior_editor_model.joblib')\n",
    "recommendation_output_table_name = '{output_dataset}.{prefix}{suffix}'.format(\n",
    "    output_dataset=output_dataset,\n",
    "    prefix=output_table_prefix,\n",
    "    suffix='editor_recommendation'\n",
    ")"
   ]
  },
  {
   "cell_type": "code",
   "execution_count": 4,
   "metadata": {},
   "outputs": [
    {
     "name": "stdout",
     "output_type": "stream",
     "text": [
      "loading model from: s3://ci-elife-data-pipeline/airflow-config/keyword-extraction/state-dev/senior_editor_model.joblib\n"
     ]
    },
    {
     "data": {
      "text/plain": [
       "dict_keys(['editor_tf_idf_vectorizer', 'doc_length_weighted_editor_tf_idf', 'editor_names', 'editor_person_ids'])"
      ]
     },
     "execution_count": 4,
     "metadata": {},
     "output_type": "execute_result"
    }
   ],
   "source": [
    "print('loading model from:', model_path)\n",
    "model_dict = load_object_from(model_path)\n",
    "model_dict.keys()"
   ]
  },
  {
   "cell_type": "code",
   "execution_count": 5,
   "metadata": {},
   "outputs": [
    {
     "data": {
      "text/plain": [
       "TfidfVectorizer(lowercase=False, smooth_idf=False, token_pattern=None,\n",
       "                tokenizer=<function identity_fn at 0x7fbb35415cb0>)"
      ]
     },
     "execution_count": 5,
     "metadata": {},
     "output_type": "execute_result"
    }
   ],
   "source": [
    "editor_tf_idf_vectorizer = model_dict['editor_tf_idf_vectorizer']\n",
    "editor_tf_idf_vectorizer"
   ]
  },
  {
   "cell_type": "code",
   "execution_count": 6,
   "metadata": {},
   "outputs": [
    {
     "data": {
      "text/plain": [
       "matrix([[0.        , 0.        , 0.        , ..., 0.        , 0.        ,\n",
       "         0.        ],\n",
       "        [0.00139157, 0.        , 0.        , ..., 0.        , 0.        ,\n",
       "         0.        ],\n",
       "        [0.00150745, 0.00109185, 0.        , ..., 0.        , 0.00292359,\n",
       "         0.        ],\n",
       "        ...,\n",
       "        [0.        , 0.        , 0.        , ..., 0.        , 0.01753493,\n",
       "         0.        ],\n",
       "        [0.        , 0.0010018 , 0.        , ..., 0.00068432, 0.00076642,\n",
       "         0.        ],\n",
       "        [0.00065092, 0.00141439, 0.        , ..., 0.        , 0.00216414,\n",
       "         0.        ]])"
      ]
     },
     "execution_count": 6,
     "metadata": {},
     "output_type": "execute_result"
    }
   ],
   "source": [
    "doc_length_weighted_editor_tf_idf = model_dict['doc_length_weighted_editor_tf_idf']\n",
    "doc_length_weighted_editor_tf_idf"
   ]
  },
  {
   "cell_type": "code",
   "execution_count": 7,
   "metadata": {},
   "outputs": [
    {
     "data": {
      "text/plain": [
       "0           Aleksandra Walczak\n",
       "1                  Andrew King\n",
       "2               Anna Akhmanova\n",
       "3     Barbara Shinn-Cunningham\n",
       "4                Carla Rothlin\n",
       "                ...           \n",
       "60                 Tamar Makin\n",
       "61             Timothy Behrens\n",
       "62              Utpal Banerjee\n",
       "63              Vivek Malhotra\n",
       "64               Wendy Garrett\n",
       "Name: name, Length: 65, dtype: object"
      ]
     },
     "execution_count": 7,
     "metadata": {},
     "output_type": "execute_result"
    }
   ],
   "source": [
    "editor_names = model_dict['editor_names']\n",
    "editor_names"
   ]
  },
  {
   "cell_type": "code",
   "execution_count": 8,
   "metadata": {},
   "outputs": [
    {
     "data": {
      "text/plain": [
       "0     50904\n",
       "1     14601\n",
       "2      8518\n",
       "3     19576\n",
       "4     44396\n",
       "      ...  \n",
       "60    18331\n",
       "61     1044\n",
       "62     1042\n",
       "63     1133\n",
       "64    28627\n",
       "Name: person_id, Length: 65, dtype: object"
      ]
     },
     "execution_count": 8,
     "metadata": {},
     "output_type": "execute_result"
    }
   ],
   "source": [
    "editor_person_ids = model_dict['editor_person_ids']\n",
    "editor_person_ids"
   ]
  },
  {
   "cell_type": "code",
   "execution_count": 9,
   "metadata": {},
   "outputs": [
    {
     "data": {
      "text/plain": [
       "{'Aleksandra Walczak': '50904',\n",
       " 'Andrew King': '14601',\n",
       " 'Anna Akhmanova': '8518',\n",
       " 'Barbara Shinn-Cunningham': '19576',\n",
       " 'Carla Rothlin': '44396',\n",
       " 'Catherine Dulac': '1014',\n",
       " 'Chris Baker': '28129',\n",
       " 'Christian Büchel': '16197',\n",
       " 'Christian Hardtke': '1102',\n",
       " 'Christian Rutz': '15332',\n",
       " 'Clifford Rosen': '48282',\n",
       " 'Cynthia Wolberger': '5005',\n",
       " 'David Ron': '1174',\n",
       " 'Detlef Weigel': '1030',\n",
       " 'Didier Stainier': '7189',\n",
       " 'Diethard Tautz': '1191',\n",
       " 'Dominique Soldati-Favre': '41647',\n",
       " 'Eduardo Franco': '1086',\n",
       " 'Edward Morrisey': '55645',\n",
       " 'Floris de Lange': '28130',\n",
       " 'Gary Westbrook': '1202',\n",
       " 'George Perry': '42011',\n",
       " 'Gisela Storz': '1188',\n",
       " 'Huda Zoghbi': '1029',\n",
       " 'James Manley': '1020',\n",
       " 'Jessica Tyler': '1421',\n",
       " 'John Huguenard': '13947',\n",
       " 'John Kuriyan': '1018',\n",
       " 'Jonathan Cooper': '1062',\n",
       " 'Jos van der Meer': '41027',\n",
       " 'Joshua Gold': '17965',\n",
       " 'José Faraldo-Gómez': '13987',\n",
       " 'K VijayRaghavan': '1027',\n",
       " 'Karla Kirkegaard': '3645',\n",
       " 'Kate Wassum': '33127',\n",
       " 'Kathryn Cheah': '91149',\n",
       " 'Kenton Swartz': '5115',\n",
       " 'Kevin Struhl': '1189',\n",
       " 'Laura Colgin': '16452',\n",
       " 'Marianne Bronner': '1052',\n",
       " 'Matthias Barton': '97155',\n",
       " 'Maureen Murphy': '33764',\n",
       " 'Michael Eisen': '90400',\n",
       " 'Michael Frank': '24218',\n",
       " 'Michael Marletta': '1022',\n",
       " 'Miles Davenport': '10362',\n",
       " 'Naama Barkai': '1725',\n",
       " 'Neil Ferguson': '12065',\n",
       " 'Olga Boudker': '7380',\n",
       " 'Patricia Wittkopp': '42157',\n",
       " 'Philip Cole': '21020',\n",
       " 'Piali Sengupta': '8364',\n",
       " 'Päivi Ojala': '124135',\n",
       " 'Richard Aldrich': '1036',\n",
       " 'Richard Ivry': '30815',\n",
       " 'Richard White': '20435',\n",
       " 'Ronald Calabrese': '1056',\n",
       " 'Satyajit Rath': '4853',\n",
       " 'Suzanne Pfeffer': '1160',\n",
       " 'Tadatsugu Taniguchi': '1026',\n",
       " 'Tamar Makin': '18331',\n",
       " 'Timothy Behrens': '1044',\n",
       " 'Utpal Banerjee': '1042',\n",
       " 'Vivek Malhotra': '1133',\n",
       " 'Wendy Garrett': '28627'}"
      ]
     },
     "execution_count": 9,
     "metadata": {},
     "output_type": "execute_result"
    }
   ],
   "source": [
    "editor_person_id_by_name_map = dict(zip(editor_names, editor_person_ids))\n",
    "editor_person_id_by_name_map"
   ]
  },
  {
   "cell_type": "code",
   "execution_count": 10,
   "metadata": {},
   "outputs": [],
   "source": [
    "read_big_query = partial(_read_big_query, project_id=project_id)"
   ]
  },
  {
   "cell_type": "code",
   "execution_count": 11,
   "metadata": {},
   "outputs": [],
   "source": [
    "default_query_props = dict(project=project_id, dataset=source_dataset)"
   ]
  },
  {
   "cell_type": "code",
   "execution_count": 12,
   "metadata": {},
   "outputs": [
    {
     "data": {
      "text/markdown": [
       "> ```sql\n",
       "> WITH t_manuscript_version_abstract_keywords AS (\n",
       ">   SELECT\n",
       ">     LPAD(CAST(manuscript_abstract_keywords.manuscript_id AS STRING), 5, '0') AS manuscript_id,\n",
       ">     manuscript_abstract_keywords.version_id,\n",
       ">     manuscript_abstract_keywords.extracted_keywords,\n",
       ">     ROW_NUMBER() OVER (\n",
       ">       PARTITION BY version_id\n",
       ">       ORDER BY data_hub_imported_timestamp DESC\n",
       ">     ) AS version_id_row_number\n",
       ">   FROM `elife-data-pipeline.prod.manuscript_abstract_keywords` AS manuscript_abstract_keywords\n",
       ">   WHERE ARRAY_LENGTH(extracted_keywords) > 0\n",
       "> ),\n",
       "> \n",
       "> t_last_manuscript_version_abstract_keywords AS (\n",
       ">   SELECT\n",
       ">     * EXCEPT(version_id_row_number)\n",
       ">   FROM t_manuscript_version_abstract_keywords\n",
       ">   WHERE version_id_row_number = 1\n",
       ">   ORDER BY version_id\n",
       "> )\n",
       "> \n",
       "> SELECT version.version_id, manuscript_version_abstract_keywords.extracted_keywords\n",
       "> FROM `elife-data-pipeline.prod.mv_manuscript_version` AS version\n",
       "> JOIN t_last_manuscript_version_abstract_keywords AS manuscript_version_abstract_keywords\n",
       ">   ON manuscript_version_abstract_keywords.version_id = version.version_id\n",
       "> WHERE version.overall_stage = 'Initial Submission'\n",
       ">   AND ARRAY_LENGTH(version.senior_editors) = 0\n",
       ">   AND TIMESTAMP_DIFF(CURRENT_TIMESTAMP, version.created_timestamp, DAY) < 365\n",
       "> ```"
      ],
      "text/plain": [
       "<IPython.core.display.Markdown object>"
      ]
     },
     "metadata": {},
     "output_type": "display_data"
    },
    {
     "name": "stderr",
     "output_type": "stream",
     "text": [
      "Downloading: 100%|██████████| 135/135 [00:01<00:00, 118.61rows/s]\n"
     ]
    },
    {
     "data": {
      "text/html": [
       "<div>\n",
       "<style scoped>\n",
       "    .dataframe tbody tr th:only-of-type {\n",
       "        vertical-align: middle;\n",
       "    }\n",
       "\n",
       "    .dataframe tbody tr th {\n",
       "        vertical-align: top;\n",
       "    }\n",
       "\n",
       "    .dataframe thead th {\n",
       "        text-align: right;\n",
       "    }\n",
       "</style>\n",
       "<table border=\"1\" class=\"dataframe\">\n",
       "  <thead>\n",
       "    <tr style=\"text-align: right;\">\n",
       "      <th></th>\n",
       "      <th>version_id</th>\n",
       "      <th>extracted_keywords</th>\n",
       "    </tr>\n",
       "  </thead>\n",
       "  <tbody>\n",
       "    <tr>\n",
       "      <th>0</th>\n",
       "      <td>48817/2019-05-26T10:20:36Z</td>\n",
       "      <td>[-30, -30 high-quality somatic mutation, 2mg, ...</td>\n",
       "    </tr>\n",
       "    <tr>\n",
       "      <th>1</th>\n",
       "      <td>48944/2019-05-31T08:14:54Z</td>\n",
       "      <td>[-use, approach, aspect, assessment, benchmark...</td>\n",
       "    </tr>\n",
       "    <tr>\n",
       "      <th>2</th>\n",
       "      <td>49386/2019-06-16T17:54:43Z</td>\n",
       "      <td>[action, activation, activity, adrenergic, adr...</td>\n",
       "    </tr>\n",
       "    <tr>\n",
       "      <th>3</th>\n",
       "      <td>49454/2019-06-18T14:49:43Z</td>\n",
       "      <td>[activation, activation connectivity, adult, a...</td>\n",
       "    </tr>\n",
       "    <tr>\n",
       "      <th>4</th>\n",
       "      <td>49719/2019-06-26T19:20:19Z</td>\n",
       "      <td>[abrupt, abrupt transition, abundance, balance...</td>\n",
       "    </tr>\n",
       "  </tbody>\n",
       "</table>\n",
       "</div>"
      ],
      "text/plain": [
       "                   version_id  \\\n",
       "0  48817/2019-05-26T10:20:36Z   \n",
       "1  48944/2019-05-31T08:14:54Z   \n",
       "2  49386/2019-06-16T17:54:43Z   \n",
       "3  49454/2019-06-18T14:49:43Z   \n",
       "4  49719/2019-06-26T19:20:19Z   \n",
       "\n",
       "                                  extracted_keywords  \n",
       "0  [-30, -30 high-quality somatic mutation, 2mg, ...  \n",
       "1  [-use, approach, aspect, assessment, benchmark...  \n",
       "2  [action, activation, activity, adrenergic, adr...  \n",
       "3  [activation, activation connectivity, adult, a...  \n",
       "4  [abrupt, abrupt transition, abundance, balance...  "
      ]
     },
     "execution_count": 12,
     "metadata": {},
     "output_type": "execute_result"
    }
   ],
   "source": [
    "manuscript_version_for_recommendation_df = read_big_query(\n",
    "    get_sql('manuscript-version-initial-submissions-for-senior-editor-recommendation.sql').format(\n",
    "        **default_query_props\n",
    "    )\n",
    ")\n",
    "manuscript_version_for_recommendation_df.head()"
   ]
  },
  {
   "cell_type": "code",
   "execution_count": 13,
   "metadata": {},
   "outputs": [
    {
     "name": "stdout",
     "output_type": "stream",
     "text": [
      "0.3355734086321363\n"
     ]
    },
    {
     "data": {
      "text/plain": [
       "array([[0.08878421, 0.05283914, 0.09983064, ..., 0.11813633, 0.08211483,\n",
       "        0.11671405],\n",
       "       [0.05378891, 0.03104301, 0.04404304, ..., 0.02308523, 0.0342086 ,\n",
       "        0.03625382],\n",
       "       [0.07517379, 0.07506359, 0.13640605, ..., 0.11187638, 0.16645181,\n",
       "        0.08188081],\n",
       "       ...,\n",
       "       [0.0872426 , 0.05539434, 0.10876117, ..., 0.07425155, 0.10561886,\n",
       "        0.07420016],\n",
       "       [0.10689867, 0.07306304, 0.18234542, ..., 0.20835954, 0.16439594,\n",
       "        0.12621397],\n",
       "       [0.05188661, 0.0316176 , 0.03079543, ..., 0.02175103, 0.02470023,\n",
       "        0.02204759]])"
      ]
     },
     "execution_count": 13,
     "metadata": {},
     "output_type": "execute_result"
    }
   ],
   "source": [
    "keyword_similarity = cosine_similarity(\n",
    "    editor_tf_idf_vectorizer.transform(\n",
    "        manuscript_version_for_recommendation_df\n",
    "        ['extracted_keywords']\n",
    "    ),\n",
    "    doc_length_weighted_editor_tf_idf\n",
    ")\n",
    "print(keyword_similarity.max())\n",
    "keyword_similarity"
   ]
  },
  {
   "cell_type": "code",
   "execution_count": 14,
   "metadata": {},
   "outputs": [
    {
     "data": {
      "text/plain": [
       "0    [(0.16204785769215999, Detlef Weigel), (0.1547...\n",
       "1    [(0.06987810914346426, Naama Barkai), (0.06429...\n",
       "2    [(0.20862855278981354, Olga Boudker), (0.18494...\n",
       "3    [(0.19168306173307847, Richard Ivry), (0.18664...\n",
       "4    [(0.16059355415897233, Naama Barkai), (0.15650...\n",
       "dtype: object"
      ]
     },
     "execution_count": 14,
     "metadata": {},
     "output_type": "execute_result"
    }
   ],
   "source": [
    "T = TypeVar('T')\n",
    "\n",
    "\n",
    "def get_recommended_editors_with_probability(\n",
    "        proba_matrix: List[List[float]],\n",
    "        indices: List[T],\n",
    "        threshold: float = 0.5) -> List[List[Tuple[float, T]]]:\n",
    "    return [\n",
    "        sorted([(p, key) for p, key in zip(row, indices) if p >= threshold], reverse=True)\n",
    "        for row in proba_matrix\n",
    "    ]\n",
    "\n",
    "\n",
    "prediction_results_with_similarity = pd.Series(\n",
    "    get_recommended_editors_with_probability(\n",
    "        keyword_similarity,\n",
    "        editor_names,\n",
    "        threshold=0.001\n",
    "    ),\n",
    "    index=manuscript_version_for_recommendation_df.index\n",
    ")\n",
    "prediction_results_with_similarity[:5]"
   ]
  },
  {
   "cell_type": "code",
   "execution_count": 15,
   "metadata": {},
   "outputs": [
    {
     "name": "stdout",
     "output_type": "stream",
     "text": [
      "135\n"
     ]
    },
    {
     "data": {
      "text/html": [
       "<div>\n",
       "<style scoped>\n",
       "    .dataframe tbody tr th:only-of-type {\n",
       "        vertical-align: middle;\n",
       "    }\n",
       "\n",
       "    .dataframe tbody tr th {\n",
       "        vertical-align: top;\n",
       "    }\n",
       "\n",
       "    .dataframe thead th {\n",
       "        text-align: right;\n",
       "    }\n",
       "</style>\n",
       "<table border=\"1\" class=\"dataframe\">\n",
       "  <thead>\n",
       "    <tr style=\"text-align: right;\">\n",
       "      <th></th>\n",
       "      <th>version_id</th>\n",
       "      <th>prediction</th>\n",
       "    </tr>\n",
       "  </thead>\n",
       "  <tbody>\n",
       "    <tr>\n",
       "      <th>0</th>\n",
       "      <td>48817/2019-05-26T10:20:36Z</td>\n",
       "      <td>[(0.16204785769215999, Detlef Weigel), (0.1547...</td>\n",
       "    </tr>\n",
       "    <tr>\n",
       "      <th>1</th>\n",
       "      <td>48944/2019-05-31T08:14:54Z</td>\n",
       "      <td>[(0.06987810914346426, Naama Barkai), (0.06429...</td>\n",
       "    </tr>\n",
       "    <tr>\n",
       "      <th>2</th>\n",
       "      <td>49386/2019-06-16T17:54:43Z</td>\n",
       "      <td>[(0.20862855278981354, Olga Boudker), (0.18494...</td>\n",
       "    </tr>\n",
       "    <tr>\n",
       "      <th>3</th>\n",
       "      <td>49454/2019-06-18T14:49:43Z</td>\n",
       "      <td>[(0.19168306173307847, Richard Ivry), (0.18664...</td>\n",
       "    </tr>\n",
       "    <tr>\n",
       "      <th>4</th>\n",
       "      <td>49719/2019-06-26T19:20:19Z</td>\n",
       "      <td>[(0.16059355415897233, Naama Barkai), (0.15650...</td>\n",
       "    </tr>\n",
       "  </tbody>\n",
       "</table>\n",
       "</div>"
      ],
      "text/plain": [
       "                   version_id  \\\n",
       "0  48817/2019-05-26T10:20:36Z   \n",
       "1  48944/2019-05-31T08:14:54Z   \n",
       "2  49386/2019-06-16T17:54:43Z   \n",
       "3  49454/2019-06-18T14:49:43Z   \n",
       "4  49719/2019-06-26T19:20:19Z   \n",
       "\n",
       "                                          prediction  \n",
       "0  [(0.16204785769215999, Detlef Weigel), (0.1547...  \n",
       "1  [(0.06987810914346426, Naama Barkai), (0.06429...  \n",
       "2  [(0.20862855278981354, Olga Boudker), (0.18494...  \n",
       "3  [(0.19168306173307847, Richard Ivry), (0.18664...  \n",
       "4  [(0.16059355415897233, Naama Barkai), (0.15650...  "
      ]
     },
     "execution_count": 15,
     "metadata": {},
     "output_type": "execute_result"
    }
   ],
   "source": [
    "prediction_results_df = pd.concat([\n",
    "    manuscript_version_for_recommendation_df['version_id'],\n",
    "    prediction_results_with_similarity.to_frame('prediction'),\n",
    "], axis=1)\n",
    "print(len(prediction_results_df))\n",
    "prediction_results_df.head()"
   ]
  },
  {
   "cell_type": "code",
   "execution_count": 16,
   "metadata": {},
   "outputs": [
    {
     "data": {
      "text/plain": [
       "[(0.16204785769215999, 'Detlef Weigel'),\n",
       " (0.15472611005471554, 'Patricia Wittkopp'),\n",
       " (0.14920109988116995, 'Kevin Struhl'),\n",
       " (0.1478960311543259, 'Kathryn Cheah'),\n",
       " (0.14327516597743065, 'Päivi Ojala'),\n",
       " (0.14257917621506616, 'James Manley'),\n",
       " (0.14237075188197826, 'Maureen Murphy'),\n",
       " (0.14211589093427718, 'Diethard Tautz'),\n",
       " (0.14071926720906205, 'Jessica Tyler'),\n",
       " (0.13737272099320416, 'Richard White'),\n",
       " (0.13363492961563422, 'Michael Eisen'),\n",
       " (0.12922471460293097, 'Marianne Bronner'),\n",
       " (0.12921017934711362, 'Didier Stainier'),\n",
       " (0.12658971733858476, 'Naama Barkai'),\n",
       " (0.12536602773063374, 'Huda Zoghbi'),\n",
       " (0.12217071521975853, 'Edward Morrisey'),\n",
       " (0.11813632909597148, 'Utpal Banerjee'),\n",
       " (0.11671405412063869, 'Wendy Garrett'),\n",
       " (0.11496539757376192, 'Jonathan Cooper'),\n",
       " (0.11422921816993711, 'Satyajit Rath'),\n",
       " (0.11196901674892172, 'Tadatsugu Taniguchi'),\n",
       " (0.10656955986230698, 'Gisela Storz'),\n",
       " (0.10594847535409728, 'Clifford Rosen'),\n",
       " (0.10575156333079008, 'Jos van der Meer'),\n",
       " (0.10267509103030774, 'Neil Ferguson'),\n",
       " (0.10228279895774041, 'K VijayRaghavan'),\n",
       " (0.09983063900972929, 'Anna Akhmanova'),\n",
       " (0.09968260641067964, 'Catherine Dulac'),\n",
       " (0.09953868587349085, 'Philip Cole'),\n",
       " (0.09887608690893525, 'Karla Kirkegaard'),\n",
       " (0.09686547502565637, 'Eduardo Franco'),\n",
       " (0.08951801146902828, 'Dominique Soldati-Favre'),\n",
       " (0.08878420745206474, 'Aleksandra Walczak'),\n",
       " (0.08827171063019178, 'Christian Hardtke'),\n",
       " (0.0855436751402109, 'Matthias Barton'),\n",
       " (0.0849470861707042, 'David Ron'),\n",
       " (0.08211482862065543, 'Vivek Malhotra'),\n",
       " (0.08084368670553076, 'Cynthia Wolberger'),\n",
       " (0.08030820095216747, 'Gary Westbrook'),\n",
       " (0.07964809747245954, 'Suzanne Pfeffer'),\n",
       " (0.07931321166971202, 'Carla Rothlin'),\n",
       " (0.07615902480565011, 'Michael Marletta'),\n",
       " (0.06996744442214141, 'Piali Sengupta'),\n",
       " (0.0690708186227172, 'John Kuriyan'),\n",
       " (0.06780263735402911, 'Richard Aldrich'),\n",
       " (0.06609496997066579, 'George Perry'),\n",
       " (0.061477315684584845, 'Miles Davenport'),\n",
       " (0.060359773885885565, 'Ronald Calabrese'),\n",
       " (0.054693021872080985, 'Kate Wassum'),\n",
       " (0.052839140239232765, 'Andrew King'),\n",
       " (0.0523648282151825, 'Christian Rutz'),\n",
       " (0.05184544462115044, 'Christian Büchel'),\n",
       " (0.05164312532437168, 'Olga Boudker'),\n",
       " (0.05050445697673255, 'Laura Colgin'),\n",
       " (0.050289764172646745, 'John Huguenard'),\n",
       " (0.04676563574979836, 'Timothy Behrens'),\n",
       " (0.045460376772098306, 'Michael Frank'),\n",
       " (0.04544149480761597, 'José Faraldo-Gómez'),\n",
       " (0.04512025679626803, 'Chris Baker'),\n",
       " (0.04466681324382774, 'Richard Ivry'),\n",
       " (0.04433888610694842, 'Kenton Swartz'),\n",
       " (0.042531234942615376, 'Joshua Gold'),\n",
       " (0.03728748426939064, 'Floris de Lange'),\n",
       " (0.037168844917152145, 'Barbara Shinn-Cunningham'),\n",
       " (0.03300760585224636, 'Tamar Makin')]"
      ]
     },
     "execution_count": 16,
     "metadata": {},
     "output_type": "execute_result"
    }
   ],
   "source": [
    "prediction_results_df['prediction'][0]"
   ]
  },
  {
   "cell_type": "code",
   "execution_count": 17,
   "metadata": {},
   "outputs": [
    {
     "name": "stdout",
     "output_type": "stream",
     "text": [
      "8639\n"
     ]
    },
    {
     "data": {
      "text/html": [
       "<div>\n",
       "<style scoped>\n",
       "    .dataframe tbody tr th:only-of-type {\n",
       "        vertical-align: middle;\n",
       "    }\n",
       "\n",
       "    .dataframe tbody tr th {\n",
       "        vertical-align: top;\n",
       "    }\n",
       "\n",
       "    .dataframe thead th {\n",
       "        text-align: right;\n",
       "    }\n",
       "</style>\n",
       "<table border=\"1\" class=\"dataframe\">\n",
       "  <thead>\n",
       "    <tr style=\"text-align: right;\">\n",
       "      <th></th>\n",
       "      <th>version_id</th>\n",
       "      <th>score</th>\n",
       "      <th>name</th>\n",
       "      <th>person_id</th>\n",
       "    </tr>\n",
       "  </thead>\n",
       "  <tbody>\n",
       "    <tr>\n",
       "      <th>0</th>\n",
       "      <td>48817/2019-05-26T10:20:36Z</td>\n",
       "      <td>0.162048</td>\n",
       "      <td>Detlef Weigel</td>\n",
       "      <td>1030</td>\n",
       "    </tr>\n",
       "    <tr>\n",
       "      <th>1</th>\n",
       "      <td>48817/2019-05-26T10:20:36Z</td>\n",
       "      <td>0.154726</td>\n",
       "      <td>Patricia Wittkopp</td>\n",
       "      <td>42157</td>\n",
       "    </tr>\n",
       "    <tr>\n",
       "      <th>2</th>\n",
       "      <td>48817/2019-05-26T10:20:36Z</td>\n",
       "      <td>0.149201</td>\n",
       "      <td>Kevin Struhl</td>\n",
       "      <td>1189</td>\n",
       "    </tr>\n",
       "    <tr>\n",
       "      <th>3</th>\n",
       "      <td>48817/2019-05-26T10:20:36Z</td>\n",
       "      <td>0.147896</td>\n",
       "      <td>Kathryn Cheah</td>\n",
       "      <td>91149</td>\n",
       "    </tr>\n",
       "    <tr>\n",
       "      <th>4</th>\n",
       "      <td>48817/2019-05-26T10:20:36Z</td>\n",
       "      <td>0.143275</td>\n",
       "      <td>Päivi Ojala</td>\n",
       "      <td>124135</td>\n",
       "    </tr>\n",
       "  </tbody>\n",
       "</table>\n",
       "</div>"
      ],
      "text/plain": [
       "                   version_id     score               name person_id\n",
       "0  48817/2019-05-26T10:20:36Z  0.162048      Detlef Weigel      1030\n",
       "1  48817/2019-05-26T10:20:36Z  0.154726  Patricia Wittkopp     42157\n",
       "2  48817/2019-05-26T10:20:36Z  0.149201       Kevin Struhl      1189\n",
       "3  48817/2019-05-26T10:20:36Z  0.147896      Kathryn Cheah     91149\n",
       "4  48817/2019-05-26T10:20:36Z  0.143275        Päivi Ojala    124135"
      ]
     },
     "execution_count": 17,
     "metadata": {},
     "output_type": "execute_result"
    }
   ],
   "source": [
    "prediction_results_flat_df = pd.DataFrame([\n",
    "    {\n",
    "        'version_id': row.version_id,\n",
    "        'score': predicted_editor[0],\n",
    "        'name': predicted_editor[1],\n",
    "        'person_id': editor_person_id_by_name_map[predicted_editor[1]]\n",
    "    }\n",
    "    for row in prediction_results_df.itertuples()\n",
    "    for predicted_editor in row.prediction\n",
    "])\n",
    "print(len(prediction_results_flat_df))\n",
    "prediction_results_flat_df.head()"
   ]
  },
  {
   "cell_type": "code",
   "execution_count": 18,
   "metadata": {},
   "outputs": [
    {
     "name": "stdout",
     "output_type": "stream",
     "text": [
      "writing to: de_dev.data_science_editor_recommendation\n"
     ]
    },
    {
     "name": "stderr",
     "output_type": "stream",
     "text": [
      "1it [00:04,  4.77s/it]"
     ]
    },
    {
     "name": "stdout",
     "output_type": "stream",
     "text": [
      "done\n"
     ]
    },
    {
     "name": "stderr",
     "output_type": "stream",
     "text": [
      "\n"
     ]
    }
   ],
   "source": [
    "print('writing to:', recommendation_output_table_name)\n",
    "prediction_results_flat_df.to_gbq(\n",
    "    recommendation_output_table_name,\n",
    "    project_id=project_id,\n",
    "    if_exists='replace'\n",
    ")\n",
    "print('done')"
   ]
  }
 ],
 "metadata": {
  "kernelspec": {
   "display_name": "Python 3",
   "language": "python",
   "name": "python3"
  },
  "language_info": {
   "codemirror_mode": {
    "name": "ipython",
    "version": 3
   },
   "file_extension": ".py",
   "mimetype": "text/x-python",
   "name": "python",
   "nbconvert_exporter": "python",
   "pygments_lexer": "ipython3",
   "version": "3.7.6"
  }
 },
 "nbformat": 4,
 "nbformat_minor": 4
}
